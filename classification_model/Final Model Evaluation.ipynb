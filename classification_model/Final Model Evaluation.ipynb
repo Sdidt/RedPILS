{
 "cells": [
  {
   "cell_type": "code",
   "execution_count": 1,
   "id": "6dde45e0",
   "metadata": {},
   "outputs": [
    {
     "name": "stderr",
     "output_type": "stream",
     "text": [
      "[nltk_data] Downloading package vader_lexicon to\n",
      "[nltk_data]     C:\\Users\\iyeng\\AppData\\Roaming\\nltk_data...\n",
      "[nltk_data]   Package vader_lexicon is already up-to-date!\n"
     ]
    },
    {
     "data": {
      "text/plain": [
       "device(type='cuda')"
      ]
     },
     "execution_count": 1,
     "metadata": {},
     "output_type": "execute_result"
    }
   ],
   "source": [
    "import numpy as np\n",
    "import pandas as pd\n",
    "import matplotlib.pyplot as plt\n",
    "import re\n",
    "import json\n",
    "import requests\n",
    "import xgboost as xg\n",
    "from sklearn.model_selection import train_test_split\n",
    "from sklearn.metrics import mean_squared_error, r2_score, confusion_matrix, classification_report\n",
    "from sklearn.preprocessing import StandardScaler\n",
    "from sklearn import linear_model\n",
    "from sklearn.decomposition import PCA, TruncatedSVD\n",
    "from sklearn.feature_extraction.text import TfidfVectorizer\n",
    "from sklearn.compose import ColumnTransformer\n",
    "from sklearn.preprocessing import StandardScaler\n",
    "from sklearn.pipeline import Pipeline\n",
    "from collections import Counter\n",
    "from textblob import TextBlob\n",
    "import torch\n",
    "from torch import nn\n",
    "from transformers import AutoModelForSequenceClassification, AutoTokenizer, AutoModel\n",
    "import nltk\n",
    "from nltk.sentiment import SentimentIntensityAnalyzer\n",
    "nltk.download('vader_lexicon')\n",
    "device = torch.device('cuda' if torch.cuda.is_available() else 'cpu')\n",
    "device"
   ]
  },
  {
   "cell_type": "code",
   "execution_count": null,
   "id": "eaae82d7",
   "metadata": {},
   "outputs": [],
   "source": []
  },
  {
   "cell_type": "markdown",
   "id": "0719851a",
   "metadata": {},
   "source": [
    "## Cleaning and splitting\n",
    "Skip to bottom to read in final CSVs"
   ]
  },
  {
   "cell_type": "code",
   "execution_count": 2,
   "id": "ed629d45",
   "metadata": {},
   "outputs": [
    {
     "data": {
      "text/html": [
       "<div>\n",
       "<style scoped>\n",
       "    .dataframe tbody tr th:only-of-type {\n",
       "        vertical-align: middle;\n",
       "    }\n",
       "\n",
       "    .dataframe tbody tr th {\n",
       "        vertical-align: top;\n",
       "    }\n",
       "\n",
       "    .dataframe thead th {\n",
       "        text-align: right;\n",
       "    }\n",
       "</style>\n",
       "<table border=\"1\" class=\"dataframe\">\n",
       "  <thead>\n",
       "    <tr style=\"text-align: right;\">\n",
       "      <th></th>\n",
       "      <th>submission_title</th>\n",
       "      <th>comment</th>\n",
       "      <th>comment_id</th>\n",
       "      <th>url</th>\n",
       "      <th>subreddit_id</th>\n",
       "      <th>label1</th>\n",
       "      <th>label2</th>\n",
       "    </tr>\n",
       "  </thead>\n",
       "  <tbody>\n",
       "    <tr>\n",
       "      <th>0</th>\n",
       "      <td>Shashi Tharoor Set To Run For Congress Preside...</td>\n",
       "      <td>Extremely valid points but I believe he has th...</td>\n",
       "      <td>ip5g6vu</td>\n",
       "      <td>/r/india/comments/xif8wm/shashi_tharoor_set_to...</td>\n",
       "      <td>2qh1q</td>\n",
       "      <td>-1</td>\n",
       "      <td>-1</td>\n",
       "    </tr>\n",
       "    <tr>\n",
       "      <th>1</th>\n",
       "      <td>Yogi government puts Kolkata's image as part o...</td>\n",
       "      <td>Even if the ad was designed by the newspaper -...</td>\n",
       "      <td>hcontm8</td>\n",
       "      <td>/r/india/comments/pmn9o3/yogi_government_puts_...</td>\n",
       "      <td>2qh1q</td>\n",
       "      <td>-1</td>\n",
       "      <td>-1</td>\n",
       "    </tr>\n",
       "    <tr>\n",
       "      <th>2</th>\n",
       "      <td>An attempt to address the list of \"simplified\"...</td>\n",
       "      <td>Diverse population including Muslims. Welcomin...</td>\n",
       "      <td>fbhlv40</td>\n",
       "      <td>/r/india/comments/ebdeup/an_attempt_to_address...</td>\n",
       "      <td>2qh1q</td>\n",
       "      <td>-1</td>\n",
       "      <td>-2</td>\n",
       "    </tr>\n",
       "    <tr>\n",
       "      <th>3</th>\n",
       "      <td>You guys noticing what's happening in Sri Lanka?</td>\n",
       "      <td>&gt;The blockade was done by your own people.\\n\\n...</td>\n",
       "      <td>i2yrud3</td>\n",
       "      <td>/r/india/comments/tt1ryh/you_guys_noticing_wha...</td>\n",
       "      <td>2qh1q</td>\n",
       "      <td>0</td>\n",
       "      <td>0</td>\n",
       "    </tr>\n",
       "    <tr>\n",
       "      <th>4</th>\n",
       "      <td>Just got abused on the train by a hyper-nation...</td>\n",
       "      <td>Ohoo bahut bura laga ye sunke ki aap Undergarm...</td>\n",
       "      <td>hooi92k</td>\n",
       "      <td>/r/india/comments/rh2kcs/just_got_abused_on_th...</td>\n",
       "      <td>2qh1q</td>\n",
       "      <td>-2</td>\n",
       "      <td>-2</td>\n",
       "    </tr>\n",
       "  </tbody>\n",
       "</table>\n",
       "</div>"
      ],
      "text/plain": [
       "                                    submission_title  \\\n",
       "0  Shashi Tharoor Set To Run For Congress Preside...   \n",
       "1  Yogi government puts Kolkata's image as part o...   \n",
       "2  An attempt to address the list of \"simplified\"...   \n",
       "3   You guys noticing what's happening in Sri Lanka?   \n",
       "4  Just got abused on the train by a hyper-nation...   \n",
       "\n",
       "                                             comment comment_id  \\\n",
       "0  Extremely valid points but I believe he has th...    ip5g6vu   \n",
       "1  Even if the ad was designed by the newspaper -...    hcontm8   \n",
       "2  Diverse population including Muslims. Welcomin...    fbhlv40   \n",
       "3  >The blockade was done by your own people.\\n\\n...    i2yrud3   \n",
       "4  Ohoo bahut bura laga ye sunke ki aap Undergarm...    hooi92k   \n",
       "\n",
       "                                                 url subreddit_id  label1  \\\n",
       "0  /r/india/comments/xif8wm/shashi_tharoor_set_to...        2qh1q      -1   \n",
       "1  /r/india/comments/pmn9o3/yogi_government_puts_...        2qh1q      -1   \n",
       "2  /r/india/comments/ebdeup/an_attempt_to_address...        2qh1q      -1   \n",
       "3  /r/india/comments/tt1ryh/you_guys_noticing_wha...        2qh1q       0   \n",
       "4  /r/india/comments/rh2kcs/just_got_abused_on_th...        2qh1q      -2   \n",
       "\n",
       "   label2  \n",
       "0      -1  \n",
       "1      -1  \n",
       "2      -2  \n",
       "3       0  \n",
       "4      -2  "
      ]
     },
     "execution_count": 2,
     "metadata": {},
     "output_type": "execute_result"
    }
   ],
   "source": [
    "full_data = pd.read_csv('full_data.csv')\n",
    "full_data.head()"
   ]
  },
  {
   "cell_type": "code",
   "execution_count": 3,
   "id": "8e2e965d",
   "metadata": {},
   "outputs": [
    {
     "name": "stdout",
     "output_type": "stream",
     "text": [
      "<class 'pandas.core.frame.DataFrame'>\n",
      "RangeIndex: 3000 entries, 0 to 2999\n",
      "Data columns (total 7 columns):\n",
      " #   Column            Non-Null Count  Dtype \n",
      "---  ------            --------------  ----- \n",
      " 0   submission_title  3000 non-null   object\n",
      " 1   comment           3000 non-null   object\n",
      " 2   comment_id        3000 non-null   object\n",
      " 3   url               3000 non-null   object\n",
      " 4   subreddit_id      3000 non-null   object\n",
      " 5   label1            3000 non-null   int64 \n",
      " 6   label2            3000 non-null   int64 \n",
      "dtypes: int64(2), object(5)\n",
      "memory usage: 164.2+ KB\n"
     ]
    }
   ],
   "source": [
    "full_data.info()"
   ]
  },
  {
   "cell_type": "code",
   "execution_count": 4,
   "id": "7879cefc",
   "metadata": {},
   "outputs": [],
   "source": [
    "def clean_quotations(text):\n",
    "    temp = re.sub(r'>.*?\\n', '', text)\n",
    "    return temp\n",
    "def clean_url(text):\n",
    "    temp = re.sub(r'(http(s)?:\\/\\/.)?(www\\.)?[-a-zA-Z0-9@:%._\\+~#=]{2,256}\\.[a-z]{2,6}\\b([-a-zA-Z0-9@:%_\\+\\.~#?&\\/=]*)', '', text)\n",
    "    return temp\n",
    "def clean_text(text):\n",
    "    temp = clean_quotations(text)\n",
    "    temp = clean_url(temp)\n",
    "    temp = re.sub('\\’', \"\\'\", temp)  # apostrophe formatting is occasionally incorrect\n",
    "    temp = re.sub(r'[^a-zA-Z0-9\\s\\.,?!\\'\\\"]', ' ', temp)\n",
    "    temp = re.sub(r'\\s+', ' ', temp)  # replace multiple spaces with single space\n",
    "    return temp.strip()"
   ]
  },
  {
   "cell_type": "code",
   "execution_count": 5,
   "id": "c1a7dfdc",
   "metadata": {},
   "outputs": [
    {
     "data": {
      "text/html": [
       "<div>\n",
       "<style scoped>\n",
       "    .dataframe tbody tr th:only-of-type {\n",
       "        vertical-align: middle;\n",
       "    }\n",
       "\n",
       "    .dataframe tbody tr th {\n",
       "        vertical-align: top;\n",
       "    }\n",
       "\n",
       "    .dataframe thead th {\n",
       "        text-align: right;\n",
       "    }\n",
       "</style>\n",
       "<table border=\"1\" class=\"dataframe\">\n",
       "  <thead>\n",
       "    <tr style=\"text-align: right;\">\n",
       "      <th></th>\n",
       "      <th>clean_title</th>\n",
       "      <th>clean_comment</th>\n",
       "      <th>comment_id</th>\n",
       "      <th>url</th>\n",
       "      <th>target</th>\n",
       "    </tr>\n",
       "  </thead>\n",
       "  <tbody>\n",
       "    <tr>\n",
       "      <th>0</th>\n",
       "      <td>Shashi Tharoor Set To Run For Congress Preside...</td>\n",
       "      <td>Extremely valid points but I believe he has th...</td>\n",
       "      <td>ip5g6vu</td>\n",
       "      <td>/r/india/comments/xif8wm/shashi_tharoor_set_to...</td>\n",
       "      <td>-0.50</td>\n",
       "    </tr>\n",
       "    <tr>\n",
       "      <th>1</th>\n",
       "      <td>Yogi government puts Kolkata's image as part o...</td>\n",
       "      <td>Even if the ad was designed by the newspaper t...</td>\n",
       "      <td>hcontm8</td>\n",
       "      <td>/r/india/comments/pmn9o3/yogi_government_puts_...</td>\n",
       "      <td>-0.50</td>\n",
       "    </tr>\n",
       "    <tr>\n",
       "      <th>2</th>\n",
       "      <td>An attempt to address the list of \"simplified\"...</td>\n",
       "      <td>Diverse population including Muslims. Welcomin...</td>\n",
       "      <td>fbhlv40</td>\n",
       "      <td>/r/india/comments/ebdeup/an_attempt_to_address...</td>\n",
       "      <td>-0.75</td>\n",
       "    </tr>\n",
       "    <tr>\n",
       "      <th>3</th>\n",
       "      <td>You guys noticing what's happening in Sri Lanka?</td>\n",
       "      <td>What a joke. They didn't create any propaganda...</td>\n",
       "      <td>i2yrud3</td>\n",
       "      <td>/r/india/comments/tt1ryh/you_guys_noticing_wha...</td>\n",
       "      <td>0.00</td>\n",
       "    </tr>\n",
       "    <tr>\n",
       "      <th>4</th>\n",
       "      <td>Just got abused on the train by a hyper nation...</td>\n",
       "      <td>Ohoo bahut bura laga ye sunke ki aap Undergarm...</td>\n",
       "      <td>hooi92k</td>\n",
       "      <td>/r/india/comments/rh2kcs/just_got_abused_on_th...</td>\n",
       "      <td>-1.00</td>\n",
       "    </tr>\n",
       "  </tbody>\n",
       "</table>\n",
       "</div>"
      ],
      "text/plain": [
       "                                         clean_title  \\\n",
       "0  Shashi Tharoor Set To Run For Congress Preside...   \n",
       "1  Yogi government puts Kolkata's image as part o...   \n",
       "2  An attempt to address the list of \"simplified\"...   \n",
       "3   You guys noticing what's happening in Sri Lanka?   \n",
       "4  Just got abused on the train by a hyper nation...   \n",
       "\n",
       "                                       clean_comment comment_id  \\\n",
       "0  Extremely valid points but I believe he has th...    ip5g6vu   \n",
       "1  Even if the ad was designed by the newspaper t...    hcontm8   \n",
       "2  Diverse population including Muslims. Welcomin...    fbhlv40   \n",
       "3  What a joke. They didn't create any propaganda...    i2yrud3   \n",
       "4  Ohoo bahut bura laga ye sunke ki aap Undergarm...    hooi92k   \n",
       "\n",
       "                                                 url  target  \n",
       "0  /r/india/comments/xif8wm/shashi_tharoor_set_to...   -0.50  \n",
       "1  /r/india/comments/pmn9o3/yogi_government_puts_...   -0.50  \n",
       "2  /r/india/comments/ebdeup/an_attempt_to_address...   -0.75  \n",
       "3  /r/india/comments/tt1ryh/you_guys_noticing_wha...    0.00  \n",
       "4  /r/india/comments/rh2kcs/just_got_abused_on_th...   -1.00  "
      ]
     },
     "execution_count": 5,
     "metadata": {},
     "output_type": "execute_result"
    }
   ],
   "source": [
    "full_clean_df = pd.DataFrame()\n",
    "full_clean_df['clean_title'] = full_data.apply(lambda x: clean_text(x['submission_title']), axis=1)\n",
    "full_clean_df['clean_comment'] = full_data.apply(lambda x: clean_text(x['comment']), axis=1)\n",
    "full_clean_df[['comment_id', 'url']] = full_data[['comment_id', 'url']].copy()\n",
    "full_clean_df['target'] = full_data.apply(lambda x: np.mean([x['label1'], x['label2']])/2, axis=1)\n",
    "# making sure to remove comments that are empty after cleaning\n",
    "full_clean_df['clean_comment'].replace('', np.nan, inplace=True)\n",
    "full_clean_df.dropna(inplace=True)\n",
    "full_clean_df.head()"
   ]
  },
  {
   "cell_type": "code",
   "execution_count": 6,
   "id": "a3fdd892",
   "metadata": {},
   "outputs": [
    {
     "name": "stdout",
     "output_type": "stream",
     "text": [
      "<class 'pandas.core.frame.DataFrame'>\n",
      "Int64Index: 2999 entries, 0 to 2999\n",
      "Data columns (total 5 columns):\n",
      " #   Column         Non-Null Count  Dtype  \n",
      "---  ------         --------------  -----  \n",
      " 0   clean_title    2999 non-null   object \n",
      " 1   clean_comment  2999 non-null   object \n",
      " 2   comment_id     2999 non-null   object \n",
      " 3   url            2999 non-null   object \n",
      " 4   target         2999 non-null   float64\n",
      "dtypes: float64(1), object(4)\n",
      "memory usage: 140.6+ KB\n"
     ]
    }
   ],
   "source": [
    "full_clean_df.info()"
   ]
  },
  {
   "cell_type": "code",
   "execution_count": 7,
   "id": "c67a060f",
   "metadata": {},
   "outputs": [],
   "source": [
    "temp = full_clean_df.sample(frac=1, random_state=123).reset_index(drop=True)  # shuflling before split\n",
    "eval_df = temp[:1000].copy()\n",
    "train_df = temp[1000:].copy().reset_index(drop=True)"
   ]
  },
  {
   "cell_type": "code",
   "execution_count": 20,
   "id": "be739a34",
   "metadata": {},
   "outputs": [],
   "source": [
    "# full_clean_df.to_csv('cleaned_full_data.csv', index=False)\n",
    "# train_df.to_csv('train_full.csv', index=False)\n",
    "# eval_df.to_csv('eval_full.csv', index=False)"
   ]
  },
  {
   "cell_type": "code",
   "execution_count": null,
   "id": "bd0b0019",
   "metadata": {},
   "outputs": [],
   "source": []
  },
  {
   "cell_type": "code",
   "execution_count": 8,
   "id": "6eee48be",
   "metadata": {},
   "outputs": [],
   "source": [
    "# start here\n",
    "train_df = pd.read_csv('train_full.csv')\n",
    "eval_df = pd.read_csv('eval_full.csv')"
   ]
  },
  {
   "cell_type": "code",
   "execution_count": null,
   "id": "6b118566",
   "metadata": {},
   "outputs": [],
   "source": []
  },
  {
   "cell_type": "markdown",
   "id": "b7404c70",
   "metadata": {},
   "source": [
    "## Rule-Based"
   ]
  },
  {
   "cell_type": "code",
   "execution_count": 9,
   "id": "4d2597af",
   "metadata": {},
   "outputs": [
    {
     "data": {
      "text/plain": [
       "(62, 59)"
      ]
     },
     "execution_count": 9,
     "metadata": {},
     "output_type": "execute_result"
    }
   ],
   "source": [
    "right = \"\"\"right wing, RW, authority, hierarchy, order, duty, tradition, reaction, nationalism, conservative, right-libertarian, \\\n",
    "neoconservative, imperialist, monarchist, fascist, reactionaries, traditionalist, traditional, death penalty, \\\n",
    "religion, Bhajpa, BJP, Shiv Sena, RSS, MNS, Sanatan, dharm, Hindutva, Islamophobia, Narendra, Modi, Amit, Shah, \\\n",
    "mandir, ram, valmiki, ramayan, Bharatiya, Janata, Democratic Alliance, NDA, AIADMK, Janta Dal, bhakt, CAA, NRC, hindu majority, \\\n",
    "hindu unity, hindu pride, nationalist, sangh, sanghi, yogi, brahmin, brahman, smriti irani, hindu rashtra, jai shri ram, \\\n",
    "pm cares, pmcares, adani, hindu\"\"\".lower()\n",
    "left = \"\"\"left wing, LW, leftists, freedom, equality, fraternity, rights, progress, reform, internationalism, anarchist, communist, socialist, \\\n",
    "democratic socialist, social democrat, left-libertarian, progressive, social, liberal, western, Congress, UPA, RG, mamata, \\\n",
    "Aam, aadmi, AAP, CPI, Welfare, Protectionism, Commies, Rahul, gandhi, indira, yatra, arvind, kejriwal, inclusivity, \\\n",
    "libby, libbies, sjw, libtard, hinduphobia, LGBTQ, masjid, pappu, christian, muslim, secular, minority, minorities, Shashi, Tharoor, \\\n",
    "gay, lesbian, transgender, trans, reservation, abrahamic\"\"\".lower()\n",
    "\n",
    "right_terms = set(right.split(', '))\n",
    "left_terms = set(left.split(', '))\n",
    "len(right_terms), len(left_terms)"
   ]
  },
  {
   "cell_type": "code",
   "execution_count": 10,
   "id": "6b98391a",
   "metadata": {},
   "outputs": [],
   "source": [
    "vader = SentimentIntensityAnalyzer()"
   ]
  },
  {
   "cell_type": "code",
   "execution_count": 11,
   "id": "5039e471",
   "metadata": {},
   "outputs": [],
   "source": [
    "def unsupervised_prediction(clean_text):\n",
    "    # rule-based scoring\n",
    "    sentiment = vader.polarity_scores(clean_text)['compound']\n",
    "    lw = rw = 0\n",
    "    clean_text = clean_text.lower()\n",
    "    for t in left_terms:\n",
    "        if re.search(r'\\b'+t, clean_text):\n",
    "            lw += 1\n",
    "    for t in right_terms:\n",
    "        if re.search(r'\\b'+t, clean_text):\n",
    "            rw += 1\n",
    "    \n",
    "#     score = (rw-lw)*sentiment\n",
    "    score = np.sign(rw - lw)*(abs(rw + lw)**0.05)*sentiment\n",
    "    # normalize by length of text\n",
    "    score /= len(clean_text.split())/20\n",
    "    \n",
    "    return score\n",
    "\n",
    "def conv_to_label(val, threshold=0.1):\n",
    "    # converts rule-based score to label\n",
    "    if abs(val)<threshold:\n",
    "        return 0.\n",
    "    else:\n",
    "        return np.sign(val)"
   ]
  },
  {
   "cell_type": "code",
   "execution_count": 12,
   "id": "2f5b83fc",
   "metadata": {},
   "outputs": [
    {
     "data": {
      "text/html": [
       "<div>\n",
       "<style scoped>\n",
       "    .dataframe tbody tr th:only-of-type {\n",
       "        vertical-align: middle;\n",
       "    }\n",
       "\n",
       "    .dataframe tbody tr th {\n",
       "        vertical-align: top;\n",
       "    }\n",
       "\n",
       "    .dataframe thead th {\n",
       "        text-align: right;\n",
       "    }\n",
       "</style>\n",
       "<table border=\"1\" class=\"dataframe\">\n",
       "  <thead>\n",
       "    <tr style=\"text-align: right;\">\n",
       "      <th></th>\n",
       "      <th>clean_title</th>\n",
       "      <th>clean_comment</th>\n",
       "      <th>comment_id</th>\n",
       "      <th>url</th>\n",
       "      <th>target</th>\n",
       "      <th>true_label</th>\n",
       "      <th>vader_score</th>\n",
       "      <th>vader_label</th>\n",
       "    </tr>\n",
       "  </thead>\n",
       "  <tbody>\n",
       "    <tr>\n",
       "      <th>0</th>\n",
       "      <td>ResignModi trending in India on 1 with 200k tw...</td>\n",
       "      <td>People tend to look down on \"social media acti...</td>\n",
       "      <td>gwe056n</td>\n",
       "      <td>/r/india/comments/n11sqc/resignmodi_trending_i...</td>\n",
       "      <td>-0.5</td>\n",
       "      <td>-1.0</td>\n",
       "      <td>-0.000000</td>\n",
       "      <td>0.0</td>\n",
       "    </tr>\n",
       "    <tr>\n",
       "      <th>1</th>\n",
       "      <td>Put 'The Kashmir Files' on YouTube, everyone w...</td>\n",
       "      <td>I remember it was made to release twice, and t...</td>\n",
       "      <td>i1y3pv3</td>\n",
       "      <td>/r/india/comments/tmcun4/put_the_kashmir_files...</td>\n",
       "      <td>0.0</td>\n",
       "      <td>0.0</td>\n",
       "      <td>0.000000</td>\n",
       "      <td>0.0</td>\n",
       "    </tr>\n",
       "    <tr>\n",
       "      <th>2</th>\n",
       "      <td>Kejriwal says 'The Kashmir Files' is a jhoothi...</td>\n",
       "      <td>Bhai delhi m hindu bht h but ye aur caste k lo...</td>\n",
       "      <td>i21haf8</td>\n",
       "      <td>/r/IndiaSpeaks/comments/tmhqqg/kejriwal_says_t...</td>\n",
       "      <td>0.5</td>\n",
       "      <td>1.0</td>\n",
       "      <td>0.320255</td>\n",
       "      <td>1.0</td>\n",
       "    </tr>\n",
       "    <tr>\n",
       "      <th>3</th>\n",
       "      <td>Government of India has Blacklisted Karl Rock ...</td>\n",
       "      <td>mahatma gandhi's shadows are fading. retards w...</td>\n",
       "      <td>h4lazw7</td>\n",
       "      <td>/r/india/comments/ogrc0d/government_of_india_h...</td>\n",
       "      <td>-1.0</td>\n",
       "      <td>-1.0</td>\n",
       "      <td>-0.138984</td>\n",
       "      <td>-1.0</td>\n",
       "    </tr>\n",
       "    <tr>\n",
       "      <th>4</th>\n",
       "      <td>Kejriwal says 'The Kashmir Files' is a jhoothi...</td>\n",
       "      <td>Isn't this kejru the same guy who kept tweetin...</td>\n",
       "      <td>i1yrkwx</td>\n",
       "      <td>/r/IndiaSpeaks/comments/tmhqqg/kejriwal_says_t...</td>\n",
       "      <td>0.5</td>\n",
       "      <td>1.0</td>\n",
       "      <td>0.000000</td>\n",
       "      <td>0.0</td>\n",
       "    </tr>\n",
       "  </tbody>\n",
       "</table>\n",
       "</div>"
      ],
      "text/plain": [
       "                                         clean_title  \\\n",
       "0  ResignModi trending in India on 1 with 200k tw...   \n",
       "1  Put 'The Kashmir Files' on YouTube, everyone w...   \n",
       "2  Kejriwal says 'The Kashmir Files' is a jhoothi...   \n",
       "3  Government of India has Blacklisted Karl Rock ...   \n",
       "4  Kejriwal says 'The Kashmir Files' is a jhoothi...   \n",
       "\n",
       "                                       clean_comment comment_id  \\\n",
       "0  People tend to look down on \"social media acti...    gwe056n   \n",
       "1  I remember it was made to release twice, and t...    i1y3pv3   \n",
       "2  Bhai delhi m hindu bht h but ye aur caste k lo...    i21haf8   \n",
       "3  mahatma gandhi's shadows are fading. retards w...    h4lazw7   \n",
       "4  Isn't this kejru the same guy who kept tweetin...    i1yrkwx   \n",
       "\n",
       "                                                 url  target  true_label  \\\n",
       "0  /r/india/comments/n11sqc/resignmodi_trending_i...    -0.5        -1.0   \n",
       "1  /r/india/comments/tmcun4/put_the_kashmir_files...     0.0         0.0   \n",
       "2  /r/IndiaSpeaks/comments/tmhqqg/kejriwal_says_t...     0.5         1.0   \n",
       "3  /r/india/comments/ogrc0d/government_of_india_h...    -1.0        -1.0   \n",
       "4  /r/IndiaSpeaks/comments/tmhqqg/kejriwal_says_t...     0.5         1.0   \n",
       "\n",
       "   vader_score  vader_label  \n",
       "0    -0.000000          0.0  \n",
       "1     0.000000          0.0  \n",
       "2     0.320255          1.0  \n",
       "3    -0.138984         -1.0  \n",
       "4     0.000000          0.0  "
      ]
     },
     "execution_count": 12,
     "metadata": {},
     "output_type": "execute_result"
    }
   ],
   "source": [
    "pred_df = eval_df.copy()\n",
    "pred_df['true_label'] = pred_df.apply(lambda x: np.sign(x['target']), axis=1)\n",
    "pred_df['vader_score'] = pred_df.apply(lambda x: unsupervised_prediction(x['clean_comment']), axis=1)\n",
    "pred_df['vader_label'] = pred_df.apply(lambda x: conv_to_label(x['vader_score'], threshold=0.01), axis=1)\n",
    "pred_df.head()"
   ]
  },
  {
   "cell_type": "code",
   "execution_count": 13,
   "id": "6330e062",
   "metadata": {},
   "outputs": [
    {
     "data": {
      "text/plain": [
       "0.519"
      ]
     },
     "execution_count": 13,
     "metadata": {},
     "output_type": "execute_result"
    }
   ],
   "source": [
    "np.mean(pred_df['true_label']==pred_df['vader_label'])  # 3-class accuracy"
   ]
  },
  {
   "cell_type": "code",
   "execution_count": 14,
   "id": "f7d384e2",
   "metadata": {},
   "outputs": [
    {
     "data": {
      "text/plain": [
       "array([[120, 133,  82],\n",
       "       [ 42, 318,  54],\n",
       "       [ 70, 100,  81]], dtype=int64)"
      ]
     },
     "execution_count": 14,
     "metadata": {},
     "output_type": "execute_result"
    }
   ],
   "source": [
    "confusion_matrix(pred_df['true_label'], pred_df['vader_label'])"
   ]
  },
  {
   "cell_type": "code",
   "execution_count": 15,
   "id": "7bdf4417",
   "metadata": {},
   "outputs": [
    {
     "name": "stdout",
     "output_type": "stream",
     "text": [
      "              precision    recall  f1-score   support\n",
      "\n",
      "        Left       0.52      0.36      0.42       335\n",
      "     Neutral       0.58      0.77      0.66       414\n",
      "       Right       0.37      0.32      0.35       251\n",
      "\n",
      "    accuracy                           0.52      1000\n",
      "   macro avg       0.49      0.48      0.48      1000\n",
      "weighted avg       0.51      0.52      0.50      1000\n",
      "\n"
     ]
    }
   ],
   "source": [
    "print(classification_report(pred_df['true_label'], pred_df['vader_label'], target_names=['Left', 'Neutral', 'Right']))"
   ]
  },
  {
   "cell_type": "code",
   "execution_count": 16,
   "id": "405246af",
   "metadata": {},
   "outputs": [
    {
     "data": {
      "text/plain": [
       "<AxesSubplot:ylabel='Density'>"
      ]
     },
     "execution_count": 16,
     "metadata": {},
     "output_type": "execute_result"
    },
    {
     "data": {
      "image/png": "[encoded data removed]",
      "text/plain": [
       "<Figure size 432x288 with 1 Axes>"
      ]
     },
     "metadata": {
      "needs_background": "light"
     },
     "output_type": "display_data"
    }
   ],
   "source": [
    "pred_df['target'].plot.kde()\n",
    "pred_df['vader_score'].plot.kde()"
   ]
  },
  {
   "cell_type": "code",
   "execution_count": 17,
   "id": "e290597d",
   "metadata": {},
   "outputs": [],
   "source": [
    "y_rule_based = list(pred_df['vader_label']+1)"
   ]
  },
  {
   "cell_type": "code",
   "execution_count": null,
   "id": "c21b9fdf",
   "metadata": {},
   "outputs": [],
   "source": []
  },
  {
   "cell_type": "markdown",
   "id": "a9592e51",
   "metadata": {},
   "source": [
    "## Feature Extracted XGBoost"
   ]
  },
  {
   "cell_type": "code",
   "execution_count": 18,
   "id": "1bcbf735",
   "metadata": {},
   "outputs": [],
   "source": [
    "def feature_extraction(clean_text):\n",
    "    clean_text = clean_text.lower()\n",
    "    features = []\n",
    "    for t in left_terms:\n",
    "        features.append(len(re.findall(r'\\b'+t, clean_text)))\n",
    "    for t in right_terms:\n",
    "        features.append(len(re.findall(r'\\b'+t, clean_text)))\n",
    "    \n",
    "    return features\n",
    "\n",
    "def add_sentiment_features(clean_text, extracted_feat):\n",
    "    # appends sentiment scores onto extracted features\n",
    "    temp = extracted_feat.copy()\n",
    "    temp.append(vader.polarity_scores(clean_text)['compound'])\n",
    "    tb = TextBlob(clean_text)\n",
    "    temp.append(tb.sentiment.polarity)\n",
    "    temp.append(tb.sentiment.subjectivity)\n",
    "    return temp"
   ]
  },
  {
   "cell_type": "code",
   "execution_count": 19,
   "id": "054fd9f3",
   "metadata": {},
   "outputs": [
    {
     "name": "stdout",
     "output_type": "stream",
     "text": [
      "1999 1999 1000 1000\n"
     ]
    }
   ],
   "source": [
    "# getting train embeddings\n",
    "temp_df = train_df.copy()\n",
    "temp_df['extracted_features'] = temp_df.apply(lambda x: feature_extraction(x['clean_comment']), axis=1)\n",
    "temp_df['final_features'] = temp_df.apply(lambda x: add_sentiment_features(x['clean_comment'], x['extracted_features']), axis=1)\n",
    "X_train, y_train = list(temp_df['final_features']), [np.sign(x)+1 for x in list(temp_df['target'])]\n",
    "\n",
    "# getting eval embeddings\n",
    "temp_df = eval_df.copy()\n",
    "temp_df['extracted_features'] = temp_df.apply(lambda x: feature_extraction(x['clean_comment']), axis=1)\n",
    "temp_df['final_features'] = temp_df.apply(lambda x: add_sentiment_features(x['clean_comment'], x['extracted_features']), axis=1)\n",
    "X_test, y_test = list(temp_df['final_features']), [np.sign(x)+1 for x in list(temp_df['target'])]\n",
    "\n",
    "print(len(X_train), len(y_train), len(X_test), len(y_test))"
   ]
  },
  {
   "cell_type": "code",
   "execution_count": 20,
   "id": "1b3621d5",
   "metadata": {},
   "outputs": [
    {
     "name": "stdout",
     "output_type": "stream",
     "text": [
      "3-class classification accuracy: 0.574\n"
     ]
    }
   ],
   "source": [
    "xgb = xg.XGBClassifier(n_estimators=100, max_depth=4, learning_rate=0.1)\n",
    "xgb.fit(X_train, y_train)\n",
    "y_pred = xgb.predict(X_test)\n",
    "print(\"3-class classification accuracy:\", np.mean([int(y_test[i]==y_pred[i]) for i in range(len(y_test))]))"
   ]
  },
  {
   "cell_type": "code",
   "execution_count": 21,
   "id": "2fc67594",
   "metadata": {},
   "outputs": [
    {
     "data": {
      "text/plain": [
       "array([[138, 161,  36],\n",
       "       [ 43, 364,   7],\n",
       "       [ 62, 117,  72]], dtype=int64)"
      ]
     },
     "execution_count": 21,
     "metadata": {},
     "output_type": "execute_result"
    }
   ],
   "source": [
    "confusion_matrix(y_test, y_pred)"
   ]
  },
  {
   "cell_type": "code",
   "execution_count": 22,
   "id": "959f5a09",
   "metadata": {},
   "outputs": [
    {
     "name": "stdout",
     "output_type": "stream",
     "text": [
      "              precision    recall  f1-score   support\n",
      "\n",
      "        Left       0.57      0.41      0.48       335\n",
      "     Neutral       0.57      0.88      0.69       414\n",
      "       Right       0.63      0.29      0.39       251\n",
      "\n",
      "    accuracy                           0.57      1000\n",
      "   macro avg       0.59      0.53      0.52      1000\n",
      "weighted avg       0.58      0.57      0.54      1000\n",
      "\n"
     ]
    }
   ],
   "source": [
    "print(classification_report(y_test, y_pred, target_names=['Left', 'Neutral', 'Right']))"
   ]
  },
  {
   "cell_type": "code",
   "execution_count": 23,
   "id": "d0b0f622",
   "metadata": {},
   "outputs": [],
   "source": [
    "y_feat_ext = y_pred"
   ]
  },
  {
   "cell_type": "code",
   "execution_count": null,
   "id": "fa8b2afa",
   "metadata": {},
   "outputs": [],
   "source": []
  },
  {
   "cell_type": "markdown",
   "id": "4ed4cad6",
   "metadata": {},
   "source": [
    "## Feature Extraction with PCA"
   ]
  },
  {
   "cell_type": "code",
   "execution_count": 29,
   "id": "abe287dd",
   "metadata": {},
   "outputs": [
    {
     "name": "stdout",
     "output_type": "stream",
     "text": [
      "1999 1999 1000 1000\n"
     ]
    }
   ],
   "source": [
    "pca = PCA(n_components=8)\n",
    "\n",
    "# getting train embeddings\n",
    "temp_df = train_df.copy()\n",
    "temp_df['extracted_features'] = temp_df.apply(lambda x: feature_extraction(x['clean_comment']), axis=1)\n",
    "temp_df['extracted_features'] = pca.fit_transform(list(temp_df['extracted_features'])).tolist()  # fit transform PCA\n",
    "temp_df['final_features'] = temp_df.apply(lambda x: add_sentiment_features(x['clean_comment'], x['extracted_features']), axis=1)\n",
    "X_train, y_train = list(temp_df['final_features']), [np.sign(x)+1 for x in list(temp_df['target'])]\n",
    "\n",
    "# getting eval embeddings\n",
    "temp_df = eval_df.copy()\n",
    "temp_df['extracted_features'] = temp_df.apply(lambda x: feature_extraction(x['clean_comment']), axis=1)\n",
    "temp_df['extracted_features'] = pca.transform(list(temp_df['extracted_features'])).tolist()  # transform PCA without re-fitting\n",
    "temp_df['final_features'] = temp_df.apply(lambda x: add_sentiment_features(x['clean_comment'], x['extracted_features']), axis=1)\n",
    "X_test, y_test = list(temp_df['final_features']), [np.sign(x)+1 for x in list(temp_df['target'])]\n",
    "\n",
    "print(len(X_train), len(y_train), len(X_test), len(y_test))"
   ]
  },
  {
   "cell_type": "code",
   "execution_count": 31,
   "id": "9fa20775",
   "metadata": {},
   "outputs": [
    {
     "name": "stdout",
     "output_type": "stream",
     "text": [
      "3-class classification accuracy: 0.561\n"
     ]
    }
   ],
   "source": [
    "xgb = xg.XGBClassifier(n_estimators=100, max_depth=4, learning_rate=0.005)\n",
    "xgb.fit(X_train, y_train)\n",
    "y_pred = xgb.predict(X_test)\n",
    "print(\"3-class classification accuracy:\", np.mean([int(y_test[i]==y_pred[i]) for i in range(len(y_test))]))"
   ]
  },
  {
   "cell_type": "code",
   "execution_count": 32,
   "id": "5395c473",
   "metadata": {},
   "outputs": [
    {
     "data": {
      "text/plain": [
       "array([[168, 121,  46],\n",
       "       [ 54, 327,  33],\n",
       "       [ 95,  90,  66]], dtype=int64)"
      ]
     },
     "execution_count": 32,
     "metadata": {},
     "output_type": "execute_result"
    }
   ],
   "source": [
    "confusion_matrix(y_test, y_pred)"
   ]
  },
  {
   "cell_type": "code",
   "execution_count": 33,
   "id": "c78ae03a",
   "metadata": {},
   "outputs": [
    {
     "name": "stdout",
     "output_type": "stream",
     "text": [
      "              precision    recall  f1-score   support\n",
      "\n",
      "        Left       0.53      0.50      0.52       335\n",
      "     Neutral       0.61      0.79      0.69       414\n",
      "       Right       0.46      0.26      0.33       251\n",
      "\n",
      "    accuracy                           0.56      1000\n",
      "   macro avg       0.53      0.52      0.51      1000\n",
      "weighted avg       0.54      0.56      0.54      1000\n",
      "\n"
     ]
    }
   ],
   "source": [
    "print(classification_report(y_test, y_pred, target_names=['Left', 'Neutral', 'Right']))"
   ]
  },
  {
   "cell_type": "code",
   "execution_count": 34,
   "id": "8611f9d7",
   "metadata": {},
   "outputs": [],
   "source": [
    "y_feat_pca = y_pred"
   ]
  },
  {
   "cell_type": "code",
   "execution_count": null,
   "id": "a3811276",
   "metadata": {},
   "outputs": [],
   "source": []
  },
  {
   "cell_type": "markdown",
   "id": "6e854e74",
   "metadata": {},
   "source": [
    "## tf-idf word embeddings with XGBoost"
   ]
  },
  {
   "cell_type": "code",
   "execution_count": 35,
   "id": "b3eb3e1a",
   "metadata": {},
   "outputs": [
    {
     "name": "stdout",
     "output_type": "stream",
     "text": [
      "(1999, 92418) (1000, 92418)\n"
     ]
    }
   ],
   "source": [
    "vectorizer = TfidfVectorizer(ngram_range=(1, 2), analyzer='word')\n",
    "\n",
    "X_train = vectorizer.fit_transform(list(train_df['clean_comment']))\n",
    "X_test = vectorizer.transform(list(eval_df['clean_comment']))\n",
    "y_train, y_test = [np.sign(x)+1 for x in list(train_df['target'])], [np.sign(x)+1 for x in list(eval_df['target'])]\n",
    "\n",
    "print(X_train.shape, X_test.shape)"
   ]
  },
  {
   "cell_type": "code",
   "execution_count": 36,
   "id": "5ed25ac0",
   "metadata": {},
   "outputs": [
    {
     "name": "stdout",
     "output_type": "stream",
     "text": [
      "{'order': 0, 'bjp': 1, 'aap': 2, 'congress': 3, 'order and': 4, 'bjp is': 5, 'aap or': 6, 'congress will': 7, 'shashi': 8, 'tharoor': 9, 'hindu': 10, 'shashi tharoor': 11, 'tharoor can': 12, 'hindu pakistan': 13, 'modi': 14, 'hindutva': 15, 'modi india': 16, 'modi 2014': 17, 'hindutva background': 18, 'modi 2019': 19, 'bjp managed': 20, 'bjp construction': 21, 'bjp paints': 22, 'rights': 23, 'caa': 24, 'fascist': 25, 'rights for': 26, 'caa so': 27, 'fascist agenda': 28, 'western': 29, 'trans': 30, 'nationalism': 31, 'christian': 32, 'religion': 33, 'western bigots': 34, 'western far': 35, 'trans people': 36, 'trans women': 37, 'nationalism conpiracies': 38, 'christian gladly': 39, 'religion these': 40, 'western phenomenon': 41, 'freedoms': 42, 'freedom': 43, 'secularity': 44, 'social': 45, 'freedoms prior': 46, 'freedom democracy': 47, 'secularity were': 48, 'social media': 49, 'modi is': 50, 'modi government': 51, 'modi who': 52, 'bjp hence': 53, 'bjp here': 54, 'bjp had': 55, 'transferred': 56, 'transferred to': 57, 'caa protests': 58, 'bjp in': 59, 'muslim': 60, 'hindutva and': 61, 'muslim hate': 62, 'religion as': 63, 'hindu theocracy': 64, 'right wing': 65, 'religion gets': 66, 'bjp shit': 67, 'congress sycophants': 68, 'tharoor who': 69, 'modi so': 70, 'gandhian': 71, 'gandhian though': 72, 'minority': 73, 'minority were': 74, 'rights as': 75, 'minority on': 76, 'amit': 77, 'shah': 78, 'amitabh': 79, 'bharatiya': 80, 'janata': 81, 'gandhinagar': 82, 'amit shah': 83, 'shah amitabh': 84, 'amitabh anilchandra': 85, 'shah born': 86, 'bharatiya janata': 87, 'janata party': 88, 'bjp from': 89, 'gandhinagar he': 90, 'kejriwal': 91, 'kejriwal but': 92, 'kejriwal chutiya': 93, 'nationalist': 94, 'nationalist also': 95, 'bjp because': 96, 'ram': 97, 'ram janmabhoomi': 98, 'religion when': 99, 'religion on': 100, 'secular': 101, 'ram temple': 102, 'secular government': 103, 'secular religion': 104, 'religion very': 105, 'religion is': 106, 'upa': 107, 'upa was': 108, 'gandhi': 109, 'nda': 110, 'gandhi family': 111, 'nda upcoming': 112, 'congress needs': 113, 'rw': 114, 'rw people': 115, 'upanishads': 116, 'upanishads you': 117, 'duty': 118, 'duty if': 119, 'bjp high': 120, 'modi ko': 121, 'bjp dont': 122, 'bjp supporter': 123, 'bjp automatically': 124, 'congress supporter': 125, 'bhakths': 126, 'bhakths skulls': 127, 'cpi': 128, 'orders': 129, 'cpi ncp': 130, 'aap etc': 131, 'orders of': 132, 'bjp nda': 133, 'nda with': 134, 'nda there': 135, 'hinduism': 136, 'hinduism is': 137, 'hinduism we': 138, 'bjp liye': 139, 'dharmik': 140, 'dharmik people': 141, 'christian proselytisation': 142, 'hindu women': 143, 'religion so': 144, 'religions': 145, 'hindustan': 146, 'religions to': 147, 'hindu rashtra': 148, 'hindu scripts': 149, 'hindustan instead': 150, 'hindus': 151, 'hindus forced': 152, 'pappu': 153, 'pappu pinky': 154, 'congress president': 155, 'congress delegates': 156, 'congress voters': 157, 'congress head': 158, 'muslim law': 159, 'nationalism the': 160, 'hindu kids': 161, 'ram or': 162, 'hindus on': 163, 'muslims': 164, 'hindus publish': 165, 'muslims cause': 166, 'dharmashastras': 167, 'upasana': 168, 'translation': 169, 'dharmashastras not': 170, 'upasana shastra': 171, 'western indologists': 172, 'translation of': 173, 'hindus everybody': 174, 'hindus only': 175, 'hindus voted': 176, 'bjp starts': 177, 'bjp so': 178, 'bjp will': 179, 'congress this': 180, 'bjp read': 181, 'modi and': 182, 'shah arrogance': 183, 'minorities': 184, 'caa does': 185, 'minorities from': 186, 'ordered': 187, 'ordered in': 188, 'ordered as': 189, 'modi need': 190, 'congress they': 191, 'rampant': 192, 'rampant consumerism': 193, 'equality': 194, 'reservation': 195, 'congress was': 196, 'congress rule': 197, 'equality and': 198, 'reservation which': 199, 'congress party': 200, 'hindutwadi': 201, 'hindutwadi kese': 202, 'bjp kai': 203, 'modi but': 204, 'commies': 205, 'christians': 206, 'commies not': 207, 'christians now': 208, 'commies and': 209, 'christians are': 210, 'muslim hai': 211, 'yogi': 212, 'hindus are': 213, 'modi twice': 214, 'fascist bjp': 215, 'bjp governments': 216, 'yogi adityanath': 217, 'hindu lines': 218, 'hindus in': 219, 'liberal': 220, 'western liberal': 221, 'liberal media': 222, 'aap impose': 223, 'modi the': 224, 'bjp mean': 225, 'yogi as': 226, 'mandir': 227, 'ram mandir': 228, 'mandir in': 229, 'hindus the': 230, 'hindus and': 231, 'mandir it': 232, 'western govts': 233, 'religion things': 234, 'minority leaders': 235, 'western europe': 236, 'western nations': 237, 'bhakts': 238, 'bjp bhakts': 239, 'bhakts of': 240, 'bjp govt': 241, 'yatra': 242, 'modi can': 243, 'yatra wow': 244, 'modi wow': 245, 'religion in': 246, 'religion even': 247, 'smriti irani': 248, 'minorities irrespective': 249, 'religion or': 250, 'rights no': 251, 'conservative': 252, 'lgbtq': 253, 'liberals': 254, 'liberal is': 255, 'conservative christians': 256, 'christians bated': 257, 'lgbtq community': 258, 'liberals and': 259, 'lgbtq communities': 260, 'hindu pilgrimage': 261, 'religion be': 262, 'sanghis': 263, 'sanghis make': 264, 'modi decided': 265, 'muslim this': 266, 'muslim those': 267, 'congress is': 268, 'congress has': 269, 'bjp for': 270, 'bjp he': 271, 'nrc': 272, 'shah saying': 273, 'muslims won': 274, 'nrc since': 275, 'shah no': 276, 'bjp and': 277, 'shah is': 278, 'janata dal': 279, 'bjp parent': 280, 'religion and': 281, 'muslim homeland': 282, 'equality lies': 283, 'muslim and': 284, 'muslims and': 285, 'christians rather': 286, 'gaye': 287, 'kejriwal do': 288, 'progressive': 289, 'progressive leader': 290, 'freedom fighter': 291, 'adani': 292, 'adani stocks': 293, 'congress followers': 294, 'aaptards': 295, 'gaye this': 296, 'aaptards when': 297, 'rwa': 298, 'rwa elections': 299, 'reforms': 300, 'modi has': 301, 'bjp promised': 302, 'aap is': 303, 'congress of': 304, 'brahmins': 305, 'brahmins and': 306, 'hinduism dmk': 307, 'brahmins rajputs': 308, 'brahmins is': 309, 'rampant problem': 310, 'bhakts will': 311, 'bjp supporters': 312, 'secularism': 313, 'religion india': 314, 'secularism that': 315, 'muslim girls': 316, 'bjp vote': 317, 'aap holds': 318, 'translates': 319, 'translates to': 320, 'muslims saying': 321, 'muslims would': 322, 'muslim immigrants': 323, 'nrc can': 324, 'nrc than': 325, 'hindus were': 326, 'religion which': 327, 'ram bolega': 328, 'hierarchy': 329, 'hierarchy you': 330, 'equality in': 331, 'hindutva sympathizer': 332, 'liberal forward': 333, 'tharoor the': 334, 'liberal party': 335, 'western media': 336, 'modi plan': 337, 'bjp try': 338, 'bjp social': 339, 'hinduism by': 340, 'hindus for': 341, 'gandhi pushed': 342, 'upa backed': 343, 'hindu gods': 344, 'religion our': 345, 'aap rti': 346, 'aap rule': 347, 'social causes': 348, 'commies love': 349, 'reaction': 350, 'hinduism only': 351, 'religions too': 352, 'muslim friend': 353, 'reaction this': 354, 'hindus as': 355, 'muslims it': 356, 'bjp being': 357, 'nrc is': 358, 'nrc happens': 359, 'nrc process': 360, 'religion into': 361, 'religion says': 362, 'hindu texts': 363, 'muslims invaders': 364, 'rahul': 365, 'kejriwal is': 366, 'congress votes': 367, 'muslims no': 368, 'congress as': 369, 'bjp congress': 370, 'aap also': 371, 'congress seems': 372, 'rahul is': 373, 'yatra there': 374, 'congress bastions': 375, 'bjp even': 376, 'bjp workers': 377, 'modi shah': 378, 'shah know': 379, 'ram against': 380, 'modi in': 381, 'congress and': 382, 'bjp ppl': 383, 'dharma': 384, 'bjp never': 385, 'hinduism they': 386, 'hindutva if': 387, 'religion where': 388, 'religion gain': 389, 'religion heck': 390, 'religions just': 391, 'dharma but': 392, 'hinduism and': 393, 'hinduism which': 394, 'tharoor has': 395, 'congress did': 396, 'religion to': 397, 'socially': 398, 'rights should': 399, 'muslim women': 400, 'rights but': 401, 'socially just': 402, 'freedom of': 403, 'shah declared': 404, 'nrc of': 405, 'western cultural': 406, 'hindus will': 407, 'hindu muslim': 408, 'muslim is': 409, 'transformed': 410, 'sanatana': 411, 'religion start': 412, 'transformed to': 413, 'religion take': 414, 'sanatana dharma': 415, 'dharma it': 416, 'hindu but': 417, 'religion lot': 418, 'religion but': 419, 'hinduism never': 420, 'liberal than': 421, 'ramifications': 422, 'ramifications on': 423, 'hindu terror': 424, 'religion if': 425, 'bjp can': 426, 'commies appeased': 427, 'secular population': 428, 'caa protest': 429, 'hindu sikh': 430, 'christian community': 431, 'order made': 432, 'caa to': 433, 'muslim refugees': 434, 'minority communities': 435, 'hindus sikhs': 436, 'christians who': 437, 'orders made': 438, 'order in': 439, 'christian missionaries': 440, 'modi saying': 441, 'aap punjab': 442, 'nationalism separatism': 443, 'bjp parties': 444, 'bjp by': 445, 'caa is': 446, 'congress also': 447, 'welfare': 448, 'welfare schemes': 449, 'transit': 450, 'transit needs': 451, 'order to': 452, 'religion what': 453, 'gay': 454, 'gay sex': 455, 'congress after': 456, 'communists': 457, 'communists now': 458, 'shashi tharooor': 459, 'liberal and': 460, 'yogi lot': 461, 'sanghis who': 462, 'muslims than': 463, 'minority community': 464, 'hindu you': 465, 'muslims have': 466, 'reservations': 467, 'reservations atleast': 468, 'aap each': 469, 'muslim non': 470, 'caa you': 471, 'religion only': 472, 'caa lays': 473, 'muslim migrants': 474, 'nrc would': 475, 'muslims who': 476, 'caa only': 477, 'nrc guidelines': 478, 'nrc exercise': 479, 'right winger': 480, 'right wingers': 481, 'bhakts and': 482, 'secularism for': 483, 'aap can': 484, 'muslim who': 485, 'muslims be': 486, 'aamir': 487, 'aamir khan': 488, 'congress gonna': 489, 'rahul gandhi': 490, 'gandhi as': 491, 'gandhi badi': 492, 'modi ji': 493, 'modi did': 494, 'bjp or': 495, 'congress in': 496, 'bjp someone': 497, 'modi gadkari': 498, 'shah powers': 499, 'tharoor is': 500, 'hindus might': 501, 'freedom just': 502, 'christians you': 503, 'religion by': 504, 'muslims can': 505, 'freedoms law': 506, 'transport': 507, 'transport to': 508, 'modi just': 509, 'modi warning': 510, 'bjp actually': 511, 'nrc just': 512, 'congress bjp': 513, 'western part': 514, 'bjp if': 515, 'kejriwal run': 516, 'brahmin': 517, 'brahmanism': 518, 'gandhi and': 519, 'hindu christian': 520, 'christian solidarity': 521, 'muslims ltte': 522, 'hindu am': 523, 'brahmin not': 524, 'brahmanism hinduism': 525, 'hinduism message': 526, 'brahmanism at': 527, 'brahmin identity': 528, 'brahmins apply': 529, 'brahmin as': 530, 'brahmin was': 531, 'brahmin but': 532, 'brahmins as': 533, 'minority in': 534, 'religions we': 535, 'hindu identity': 536, 'rss': 537, 'rss targets': 538, 'shaheen': 539, 'shaheen bagh': 540, 'hindu way': 541, 'bjp manusmriti': 542, 'progress': 543, 'progress the': 544, 'hindu boys': 545, 'hindu version': 546, 'communists and': 547, 'tharoor weakness': 548, 'liberalism': 549, 'liberals share': 550, 'liberals have': 551, 'liberalism update': 552, 'liberals are': 553, 'liberal as': 554, 'liberal who': 555, 'left wing': 556, 'rwers': 557, 'rwers literally': 558, 'kejriwal also': 559, 'modi har': 560, 'hinduism in': 561, 'transport bus': 562, 'religion hindus': 563, 'religion few': 564, 'ramayan': 565, 'ramayan when': 566, 'ram asked': 567, 'bjp tejasvi': 568, 'bjp against': 569, 'hinduism has': 570, 'hinduism isn': 571, 'order yes': 572, 'religion teaches': 573, 'hinduism your': 574, 'hinduism but': 575, 'hinduism im': 576, 'gayi': 577, 'gayi thi': 578, 'modi toh': 579, 'indira': 580, 'indira regime': 581, 'indira emergency': 582, 'freedom there': 583, 'indira government': 584, 'gandhi mass': 585, 'rights of': 586, 'rights was': 587, 'gandhi political': 588, 'gandhi all': 589, 'modi remind': 590, 'modi ever': 591, 'rights there': 592, 'freedom malicious': 593, 'adani takeover': 594, 'congress have': 595, 'modi was': 596, 'caa and': 597, 'religion of': 598, 'yatra is': 599, 'reaction is': 600, 'rights on': 601, 'rights such': 602, 'religion etc': 603, 'fascists': 604, 'muslims are': 605, 'fascists and': 606, 'social and': 607, 'gandhi compared': 608, 'secularism if': 609, 'secular state': 610, 'christianity': 611, 'christian population': 612, 'rampant here': 613, 'social movement': 614, 'christianity remain': 615, 'hindu on': 616, 'hindu practises': 617, 'christian hospitals': 618, 'social service': 619, 'welfare of': 620, 'ramji': 621, 'ram janhbhoomi': 622, 'christians have': 623, 'ramji wouldn': 624, 'gay marriages': 625, 'western countries': 626, 'trans pedophile': 627, 'bjp has': 628, 'congress doesnt': 629, 'hindu and': 630, 'religion eagerly': 631, 'congress tmc': 632, 'order ke': 633, 'transferred from': 634, 'progressing': 635, 'progressing today': 636, 'muslim family': 637, 'freedom when': 638, 'reservation hi': 639, 'secular country': 640, 'bjp it': 641, 'religions when': 642, 'religions sometimes': 643, 'religion now': 644, 'order mishaps': 645, 'hindu sankat': 646, 'muslim khatre': 647, 'progress and': 648, 'hindu loosers': 649, 'order of': 650, 'orders should': 651, 'aap advertisements': 652, 'aap vale': 653, 'reservation for': 654, 'hindus against': 655, 'muslims muslim': 656, 'muslims allowed': 657, 'hindu temples': 658, 'janta dal': 659, 'congress regarding': 660, 'bjp would': 661, 'liberal mu': 662, 'minority within': 663, 'muslim means': 664, 'muslim if': 665, 'muslim in': 666, 'muslim business': 667, 'muslim people': 668, 'caa because': 669, 'religion the': 670, 'caa given': 671, 'religion with': 672, 'nrc looming': 673, 'minorities feel': 674, 'religion card': 675, 'muslims need': 676, 'nrc with': 677, 'bjpee': 678, 'bjpee pr': 679, 'hindu rastra': 680, 'christian one': 681, 'religions fundamental': 682, 'bjp came': 683, 'kejriwal isn': 684, 'conservative agenda': 685, 'dharma peaceful': 686, 'religion can': 687, 'bjp ki': 688, 'congress ki': 689, 'aaptards lib': 690, 'secular leaders': 691, 'sanghis would': 692, 'hindus who': 693, 'rights and': 694, 'freedom to': 695, 'kejriwal was': 696, 'kejriwal will': 697, 'kejriwal would': 698, 'bjp was': 699, 'muslims out': 700, 'progressive religion': 701, 'dharma go': 702, 'transfers': 703, 'transfers again': 704, 'bjp but': 705, 'western people': 706, 'order by': 707, 'religion it': 708, 'religion hence': 709, 'muslims so': 710, 'bjp assholery': 711, 'muslim so': 712, 'ram lalla': 713, 'bjp benefits': 714, 'tharoor being': 715, 'bjp piggyback': 716, 'modi doesn': 717, 'congress the': 718, 'rahul who': 719, 'bjp after': 720, 'bjp needs': 721, 'modi back': 722, 'freedom from': 723, 'minority say': 724, 'kejriwal openly': 725, 'congress however': 726, 'kejriwal and': 727, 'christians they': 728, 'christians tamil': 729, 'christians all': 730, 'christian groups': 731, 'muslims will': 732, 'muslims citizenship': 733, 'hindu not': 734, 'caa there': 735, 'muslims both': 736, 'traditions': 737, 'traditions have': 738, 'transfer': 739, 'transfer at': 740, 'christian nation': 741, 'hindu supremacy': 742, 'secularist': 743, 'secularist are': 744, 'rss chaddi': 745, 'aap where': 746, 'aap won': 747, 'rss member': 748, 'religion some': 749, 'secular and': 750, 'muslim identity': 751, 'modiji': 752, 'shahji': 753, 'modiji and': 754, 'amit shahji': 755, 'shahji also': 756, 'adani ans': 757, 'islamophobia': 758, 'islamophobia is': 759, 'muslim similarly': 760, 'congress aap': 761, 'bjp sshhhhh': 762, 'traditions and': 763, 'hindu family': 764, 'caa protection': 765, 'freedoms are': 766, 'minority opinions': 767, 'sangh': 768, 'conservative society': 769, 'hindu conservative': 770, 'religions practices': 771, 'sangh parivar': 772, 'adani fraud': 773, 'muslim flag': 774, 'muslim conflict': 775, 'muslim had': 776, 'ram aur': 777, 'bhakt': 778, 'bhakt nahi': 779, 'religion routinely': 780, 'religion are': 781, 'hindutva as': 782, 'order as': 783, 'hindus matter': 784, 'muslim angle': 785, 'bjp must': 786, 'hindus lives': 787, 'christian insults': 788, 'gay and': 789, 'muslim country': 790, 'ram it': 791, 'ram was': 792, 'muslims wouldn': 793, 'reaction besides': 794, 'hindu by': 795, 'hindu religion': 796, 'religion doesn': 797, 'bjp en': 798, 'gandhi even': 799, 'pappu he': 800, 'hindu recite': 801, 'religion ghar': 802, 'leftists': 803, 'leftists at': 804, 'aam': 805, 'aadmi': 806, 'aam aadmi': 807, 'aadmi is': 808, 'bjp cares': 809, 'sanatan': 810, 'dharm': 811, 'hindu party': 812, 'secular party': 813, 'sanatan dharm': 814, 'dharm and': 815, 'minority votes': 816, 'bjp losing': 817, 'bjp now': 818, 'gandhi when': 819, 'gandhi doesn': 820, 'christianity is': 821, 'rahul so': 822, 'rahul has': 823, 'sanghi': 824, 'bjp bjp': 825, 'bjp without': 826, 'bjp rss': 827, 'rss wants': 828, 'muslims dalits': 829, 'bjp while': 830, 'aap another': 831, 'minorities to': 832, 'order can': 833, 'caa which': 834, 'orders under': 835, 'caa itself': 836, 'caa nrc': 837, 'caa caa': 838, 'caa suffers': 839, 'nrc and': 840, 'muslims living': 841, 'caa cab': 842, 'nrc population': 843, 'bjp one': 844, 'muslims while': 845, 'hindu or': 846, 'social fabric': 847, 'progressive our': 848, 'orders with': 849, 'fascists everyday': 850, 'muslims get': 851, 'socialist': 852, 'nationalists': 853, 'democratic socialist': 854, 'socialist left': 855, 'bjp candidates': 856, 'gandhi right': 857, 'modi govt': 858, 'gaya': 859, 'gaya apni': 860, 'bjp all': 861, 'christians and': 862, 'pappu is': 863, 'pappu yadav': 864, 'ram ji': 865, 'hinduism don': 866, 'religion at': 867, 'religion we': 868, 'christianity hinduism': 869, 'freedom if': 870, 'muslims they': 871, 'bjp meh': 872, 'fascist roleplay': 873, 'ram would': 874, 'rss combine': 875, 'hindu unity': 876, 'reservation can': 877, 'hindu festivals': 878, 'rampant too': 879, 'nrc will': 880, 'bjp andhbhakts': 881, 'bhakts to': 882, 'modi this': 883, 'modi for': 884, 'kejriwal knows': 885, 'aap will': 886, 'rights because': 887, 'rights under': 888, 'bjp rule': 889, 'rights to': 890, 'hindus appointing': 891, 'yogi in': 892, 'aap wins': 893, 'aap got': 894, 'kejriwal if': 895, 'congress vs': 896, 'kejriwal moves': 897, 'social welfare': 898, 'welfare nets': 899, 'western industrialised': 900, 'aap leaderships': 901, 'religion they': 902, 'progress also': 903, 'hindu state': 904, 'congress ne': 905, 'bjp hi': 906, 'congress good': 907, 'bjp bad': 908, 'ramdev': 909, 'modiji we': 910, 'ramdev we': 911, 'bhakts omg': 912, 'hindu saccha': 913, 'hindu jai': 914, 'hindu kejriwal': 915, 'kejriwal pandering': 916, 'hindus put': 917, 'bhakts what': 918, 'hindu bhakts': 919, 'bhakts smh': 920, 'modi elected': 921, 'minorities they': 922, 'minorities gain': 923, 'hindus you': 924, 'bjp are': 925, 'religion read': 926, 'secular principles': 927, 'secular changing': 928, 'religion does': 929, 'hindu country': 930, 'christian but': 931, 'christianity landed': 932, 'muslims came': 933, 'bhakt but': 934, 'congress leaders': 935, 'indira gandhi': 936, 'gandhi sometimes': 937, 'gandhi secretly': 938, 'christian in': 939, 'congress leadership': 940, 'modi or': 941, 'yogi or': 942, 'sangh and': 943, 'congress weak': 944, 'congress greatest': 945, 'social evils': 946, 'progressive move': 947, 'reservations etc': 948, 'religion ke': 949, 'religion khatre': 950, 'gaya hindu': 951, 'hindu audience': 952, 'religion ni': 953, 'religion hai': 954, 'modi to': 955, 'bjp government': 956, 'yogi for': 957, 'congress went': 958, 'order punish': 959, 'hierarchy than': 960, 'social contract': 961, 'rights that': 962, 'congress means': 963, 'gandhi brand': 964, 'congress their': 965, 'aapko': 966, 'aap pehle': 967, 'aapko aap': 968, 'aap jaise': 969, 'muslims weren': 970, 'minority hopefully': 971, 'hindu nationalist': 972, 'nationalist and': 973, 'reservations right': 974, 'bjp folks': 975, 'congressis': 976, 'rahul mean': 977, 'congressis forcing': 978, 'bjp unfortunately': 979, 'bjp thinks': 980, 'narendra': 981, 'narendra dabholkar': 982, 'caa gives': 983, 'nrc caa': 984, 'caa promotes': 985, 'religion state': 986, 'secular think': 987, 'muslims in': 988, 'caa since': 989, 'muslim communities': 990, 'muslims aren': 991, 'caa shouldn': 992, 'muslims should': 993, 'secular nature': 994, 'minority status': 995, 'christian right': 996, 'mandir is': 997, 'bjp who': 998, 'communist': 999, 'communist regime': 1000, 'muslims against': 1001, 'hindus if': 1002, 'valmiki': 1003, 'valmiki ramayan': 1004, 'ramayan it': 1005, 'sanatanis': 1006, 'sanatanis cough': 1007, 'hindu mahasabha': 1008, 'minorities get': 1009, 'secularism is': 1010, 'bjp india': 1011, 'muslims because': 1012, 'rights activists': 1013, 'nrc strips': 1014, 'muslims of': 1015, 'muslim persecution': 1016, 'minorities would': 1017, 'religions cults': 1018, 'communists do': 1019, 'hindus ka': 1020, 'hindus they': 1021, 'reservation thanks': 1022, 'congress even': 1023, 'progressed': 1024, 'religion that': 1025, 'progressed with': 1026, 'christianity modi': 1027, 'modi appears': 1028, 'hindu with': 1029, 'hindu while': 1030, 'hindu causes': 1031, 'muslims think': 1032, 'hindus unless': 1033, 'muslims work': 1034, 'christianity are': 1035, 'modi would': 1036, 'muslim numbers': 1037, 'hindus cant': 1038, 'modi ali': 1039, 'upa does': 1040, 'nda should': 1041, 'hindus why': 1042, 'hindus painting': 1043, 'liberals these': 1044, 'pappu aur': 1045, 'pappu ka': 1046, 'bjp to': 1047, 'kejriwal ji': 1048, 'aap in': 1049, 'kejriwal can': 1050, 'congress 1989': 1051, 'bjp 1990': 1052, 'bjp jd': 1053, 'reformation': 1054, 'hindutva don': 1055, 'reformation because': 1056, 'rss or': 1057, 'reform': 1058, 'reform and': 1059, 'order it': 1060, 'muslims there': 1061, 'hindus so': 1062, 'modi kaka': 1063, 'bhakths that': 1064, 'muslim fundamentalists': 1065, 'gandhi solved': 1066, 'muslims depriving': 1067, 'hindu fundamentalism': 1068, 'socialism': 1069, 'socialist policies': 1070, 'socialism where': 1071, 'bjp drama': 1072, 'bjp winning': 1073, 'transplantation': 1074, 'transplantation surgeries': 1075, 'communist traitor': 1076, 'hindus back': 1077, 'abrahamic': 1078, 'abrahamic religious': 1079, 'christian to': 1080, 'hindu do': 1081, 'modi no': 1082, 'modi into': 1083, 'rahul coterie': 1084, 'freedom fighters': 1085, 'christians do': 1086, 'social platform': 1087, 'imperialistic': 1088, 'imperialistic action': 1089, 'modi recently': 1090, 'muslims took': 1091, 'freedom struggle': 1092, 'hinduism still': 1093, 'secular nation': 1094, 'religions can': 1095, 'conservative until': 1096, 'ram they': 1097, 'minorities here': 1098, 'minorities it': 1099, 'minorities don': 1100, 'muslim countries': 1101, 'bjp that': 1102, 'shah says': 1103, 'kejriwal has': 1104, 'kejriwal because': 1105, 'reformer': 1106, 'gandhi tharoor': 1107, 'reformer tharoor': 1108, 'tharoor aata': 1109, 'congress won': 1110, 'modi fans': 1111, 'transport and': 1112, 'nationalist they': 1113, 'freedom in': 1114, 'freedom index': 1115, 'hindu islamic': 1116, 'christian religious': 1117, 'traditionalistic': 1118, 'abrahamics': 1119, 'hindus controlling': 1120, 'traditionalistic regression': 1121, 'abrahamics are': 1122, 'orders yes': 1123, 'religion since': 1124, 'bjp does': 1125, 'hindus exact': 1126, 'rahul can': 1127, 'rahul everyone': 1128, 'liberals leftists': 1129, 'leftists centrists': 1130, 'hindutva rss': 1131, 'rss has': 1132, 'christianity or': 1133, 'modified': 1134, 'modified ones': 1135, 'brahmins actually': 1136, 'western tn': 1137, 'brahmin no': 1138, 'brahmin hate': 1139, 'bjps': 1140, 'bjps manifesto': 1141, 'aap plz': 1142, 'modi bravo': 1143, 'shah hold': 1144, 'commies was': 1145, 'rampant political': 1146, 'transfer gave': 1147, 'christian doesn': 1148, 'religion here': 1149, 'aap win': 1150, 'bjp didn': 1151, 'transformed into': 1152, 'muslim will': 1153, 'upa or': 1154, 'religion caste': 1155, 'progress which': 1156, 'congressi': 1157, 'congresses': 1158, 'congress voting': 1159, 'congressi trying': 1160, 'modi wins': 1161, 'congresses success': 1162, 'aap either': 1163, 'hindus or': 1164, 'aap realised': 1165, 'muslim men': 1166, 'hindu men': 1167, 'hindus it': 1168, 'religion simple': 1169, 'hindus must': 1170, 'hindus that': 1171, 'modi once': 1172, 'arvind': 1173, 'liberal national': 1174, 'congress pretends': 1175, 'hindutva extreme': 1176, 'communist party': 1177, 'rss model': 1178, 'arvind kejriwal': 1179, 'kejriwal for': 1180, 'kejriwal only': 1181, 'caa post': 1182, 'religions all': 1183, 'lw': 1184, 'rss are': 1185, 'progressive the': 1186, 'liberalism is': 1187, 'rw thinks': 1188, 'rw supporter': 1189, 'lw supporter': 1190, 'gandhi hospital': 1191, 'aap at': 1192, 'hindu vs': 1193, 'muslim but': 1194, 'hindu terrorist': 1195, 'hindu end': 1196, 'bjp do': 1197, 'modiji ne': 1198, 'religion will': 1199, 'caa no': 1200, 'bjp at': 1201, 'authority': 1202, 'christian didn': 1203, 'authority it': 1204, 'authority also': 1205, 'religion itself': 1206, 'modi many': 1207, 'modi gives': 1208, 'minorities which': 1209, 'nationalist right': 1210, 'conservative shitheads': 1211, 'modi like': 1212, 'fascists that': 1213, 'rights are': 1214, 'modi bhakt': 1215, 'bhakt guess': 1216, 'bhakts were': 1217, 'shah and': 1218, 'nda work': 1219, 'nda too': 1220, 'authority speech': 1221, 'muslim lives': 1222, 'secularism mattered': 1223, 'modi ke': 1224, 'bjp ne': 1225, 'mandir hi': 1226, 'aap deserve': 1227, 'muslim par': 1228, 'hindu ko': 1229, 'hindustanis': 1230, 'hindustanis old': 1231, 'bjp up': 1232, 'hindustanis are': 1233, 'bjp votebank': 1234, 'hindutva goons': 1235, 'kejriwal as': 1236, 'congress if': 1237, 'religion either': 1238, 'gandhi went': 1239, 'caa wouldnt': 1240, 'mamata': 1241, 'mamata said': 1242, 'muslim faces': 1243, 'muslim minorities': 1244, 'minorities in': 1245, 'minorities as': 1246, 'traditions will': 1247, 'rahul anti': 1248, 'bjp led': 1249, 'translations': 1250, 'translated': 1251, 'translations by': 1252, 'translated misleading': 1253, 'ram is': 1254, 'hinduism try': 1255, 'modi howerer': 1256, 'religion occupation': 1257, 'hindu whtsapp': 1258, 'muslim shops': 1259, 'western only': 1260, 'bjp doesn': 1261, 'kejriwal said': 1262, 'modi supporters': 1263, 'modi shady': 1264, 'adani by': 1265, 'modi regime': 1266, 'adani er': 1267, 'left wingers': 1268, 'rights movement': 1269, 'hindus muslims': 1270, 'muslims sikhs': 1271, 'christians is': 1272, 'religion may': 1273, 'religions inside': 1274, 'freedom is': 1275, 'hindutva advocates': 1276, 'modis': 1277, 'modis own': 1278, 'arvind request': 1279, 'modis plan': 1280, 'shah for': 1281, 'freedom too': 1282, 'bhakti': 1283, 'modi bhakti': 1284, 'modi ki': 1285, 'translation may': 1286, 'modi be': 1287, 'secular when': 1288, 'hindus no': 1289, 'christians or': 1290, 'rights anyway': 1291, 'rights so': 1292, 'aap party': 1293, 'brahmin hater': 1294, 'muslims to': 1295, 'congress but': 1296, 'bjp more': 1297, 'bjp literally': 1298, 'bjp specific': 1299, 'communists mainly': 1300, 'fascist one': 1301, 'religion must': 1302, 'bjp ran': 1303, 'nationalism and': 1304, 'religion means': 1305, 'religion come': 1306, 'upa ii': 1307, 'sanghi idiots': 1308, 'sanghi intellectual': 1309, 'caa one': 1310, 'minority from': 1311, 'caa save': 1312, 'nrc if': 1313, 'secular polity': 1314, 'congress or': 1315, 'mamata banerjee': 1316, 'hindu issues': 1317, 'modi nahi': 1318, 'religion oriented': 1319, 'hindus wherever': 1320, 'bjp not': 1321, 'commies or': 1322, 'minorities of': 1323, 'secular countries': 1324, 'minorities are': 1325, 'secular does': 1326, 'bhakt or': 1327, 'aiadmk': 1328, 'congress don': 1329, 'aiadmk and': 1330, 'bjp which': 1331, 'conservative hindus': 1332, 'hindus like': 1333, 'tharoor shouldn': 1334, 'ram in': 1335, 'tharoor india': 1336, 'hinduism ek': 1337, 'religion bed': 1338, 'progress opinion': 1339, 'hindu revivalist': 1340, 'hindu ghar': 1341, 'reformed': 1342, 'liberalization': 1343, 'reformed during': 1344, 'liberalization waves': 1345, 'order argue': 1346, 'christianity going': 1347, 'religion defender': 1348, 'religion holds': 1349, 'hindus too': 1350, 'hindus converted': 1351, 'christianity didn': 1352, 'rw guys': 1353, 'hindu surnames': 1354, 'christian first': 1355, 'gaye apni': 1356, 'modi that': 1357, 'modi quotes': 1358, 'muslims the': 1359, 'muslims also': 1360, 'communist chritian': 1361, 'liberal shit': 1362, 'caa by': 1363, 'muslims welcoming': 1364, 'minorities while': 1365, 'minorities is': 1366, 'muslims from': 1367, 'congress afraid': 1368, 'bjp repeat': 1369, 'christians buddhists': 1370, 'hinduvta': 1371, 'hinduvta fanatics': 1372, 'caa doesn': 1373, 'caa open': 1374, 'hindus don': 1375, 'modi will': 1376, 'transmission': 1377, 'transmission of': 1378, 'translation and': 1379, 'translations you': 1380, 'aapkei': 1381, 'aapkei bjp': 1382, 'bjp kei': 1383, 'muslims one': 1384, 'hindus have': 1385, 'bjp advertizes': 1386, 'bjp brought': 1387, 'religion gender': 1388, 'reformation in': 1389, 'social works': 1390, 'traditional': 1391, 'traditional food': 1392, 'transgender': 1393, 'transgender ideology': 1394, 'caa in': 1395, 'ramana': 1396, 'christian sects': 1397, 'hindus believing': 1398, 'ramana maharishi': 1399, 'aap didn': 1400, 'order take': 1401, 'muslims persecuted': 1402, 'caa are': 1403, 'nrc based': 1404, 'religion targeted': 1405, 'christians etc': 1406, 'secular yes': 1407, 'caa discriminates': 1408, 'hindu foreigner': 1409, 'muslim like': 1410, 'hindu without': 1411, 'religion do': 1412, 'rights only': 1413, 'christians like': 1414, 'hindus also': 1415, 'bjp they': 1416, 'transformed india': 1417, 'hindutva will': 1418, 'hindus care': 1419, 'hinduphobic': 1420, 'hinduphobic nation': 1421, 'hindu gujjar': 1422, 'minority but': 1423, 'adani fiasco': 1424, 'minority btw': 1425, 'sanghis you': 1426, 'bjp party': 1427, 'hindu brothers': 1428, 'shah on': 1429, 'muslim such': 1430, 'fascist people': 1431, 'fascists in': 1432, 'modi all': 1433, 'modi seems': 1434, 'modi when': 1435, 'aapiyon': 1436, 'aapiyon ko': 1437, 'ram rajya': 1438, 'aadmi saw': 1439, 'bjp mp': 1440, 'yogi cares': 1441, 'bhakts are': 1442, 'upa and': 1443, 'bjp produce': 1444, 'kejriwal speak': 1445, 'rights it': 1446, 'cpim': 1447, 'aap performs': 1448, 'congress bsp': 1449, 'cpim are': 1450, 'adani debt': 1451, 'socialism in': 1452, 'caa makes': 1453, 'religion behind': 1454, 'religion affecting': 1455, 'hindus should': 1456, 'rg': 1457, 'congress lets': 1458, 'congress might': 1459, 'liberal yes': 1460, 'rg can': 1461, 'christianity problem': 1462, 'christian they': 1463, 'hindus problem': 1464, 'hindu temple': 1465, 'bjp stance': 1466, 'muslim school': 1467, 'kejriwal to': 1468, 'fascist resistance': 1469, 'fascist italian': 1470, 'social republic': 1471, 'fascist hymn': 1472, 'freedom and': 1473, 'bjp gov': 1474, 'social platforms': 1475, 'aadmi ki': 1476, 'bhakt toh': 1477, 'adani jo': 1478, 'bjp suspended': 1479, 'muslims dictate': 1480, 'christian muslim': 1481, 'muslim jews': 1482, 'hinduism or': 1483, 'nrc that': 1484, 'gandhi lol': 1485, 'muslim that': 1486, 'muslim name': 1487, 'muslim should': 1488, 'rahul bhatt': 1489, 'hindus police': 1490, 'muslims ex': 1491, 'hindu india': 1492, 'muslim majority': 1493, 'fraternity': 1494, 'christian populated': 1495, 'equality liberty': 1496, 'fraternity lot': 1497, 'socially aware': 1498, 'kejriwal making': 1499, 'tharoor everytime': 1500, 'tharoor below': 1501, 'western template': 1502, 'bjp propaganda': 1503, 'aap preconception': 1504, 'hindu theorist': 1505, 'aap samajhadar': 1506, 'kejriwal should': 1507, 'mamata will': 1508, 'socialize': 1509, 'religions with': 1510, 'socialize etc': 1511, 'religion yes': 1512, 'hindus to': 1513, 'congress would': 1514, 'adani hai': 1515, 'congress ka': 1516, 'bjpee rss': 1517, 'rss brand': 1518, 'muslim population': 1519, 'nrc catches': 1520, 'progressive country': 1521, 'muslims among': 1522, 'bjp mla': 1523, 'religion should': 1524, 'christian state': 1525, 'bjp fooking': 1526, 'bjp vs': 1527, 'bjp ruling': 1528, 'socialistic': 1529, 'socialistic in': 1530, 'rss she': 1531, 'rss grunt': 1532, 'commies like': 1533, 'order who': 1534, 'tradition': 1535, 'tradition of': 1536, 'aadmi called': 1537, 'hinduphobia': 1538, 'muslim man': 1539, 'hindu priest': 1540, 'hinduphobia going': 1541, 'hindu sikhs': 1542, 'minorities fleeing': 1543, 'modi not': 1544, 'conservative think': 1545, 'gay parents': 1546, 'hindusthan': 1547, 'translation also': 1548, 'hindusthan samachar': 1549, 'bjp understands': 1550, 'bjp as': 1551, 'hindus chanakya': 1552, 'translated into': 1553, 'kejriwal claim': 1554, 'gandhi never': 1555, 'gandhi should': 1556, 'bjp bakth': 1557, 'bjp just': 1558, 'bjp hats': 1559, 'western way': 1560, 'bjp fails': 1561, 'hindutva fanatics': 1562, 'minority groups': 1563, 'pm cares': 1564, 'congress does': 1565, 'gandhian style': 1566, 'liberal politics': 1567, 'dharmic': 1568, 'gay marriage': 1569, 'hindu marriage': 1570, 'dharmic marriages': 1571, 'conservative he': 1572, 'rights would': 1573, 'pappu calling': 1574, 'mamata and': 1575, 'yogi is': 1576, 'christianity have': 1577, 'hindu hate': 1578, 'rampant they': 1579, 'bhakts who': 1580, 'modiji hain': 1581, 'hindu people': 1582, 'shah also': 1583, 'shah doing': 1584, 'modi are': 1585, 'nrc par': 1586, 'shah quoted': 1587, 'gandhi wrong': 1588, 'aap makes': 1589, 'bjp made': 1590, 'aap fan': 1591, 'leftists can': 1592, 'duty to': 1593, 'christianity some': 1594, 'religion ex': 1595, 'hindu links': 1596, 'congress at': 1597, 'congress cm': 1598, 'congress aka': 1599, 'congress government': 1600, 'western politics': 1601, 'lgbtq left': 1602, 'socialist political': 1603, 'sanghis it': 1604, 'gayab': 1605, 'transport hona': 1606, 'gayab hi': 1607, 'aapko hain': 1608, 'congress kashmir': 1609, 'congress are': 1610, 'modi first': 1611, 'progressive media': 1612, 'modi print': 1613, 'modi got': 1614, 'upanishad': 1615, 'upanishad bhi': 1616, 'pappu became': 1617, 'traditionally': 1618, 'modify': 1619, 'order problems': 1620, 'religion intolerance': 1621, 'secularism in': 1622, 'muslims cannot': 1623, 'christians can': 1624, 'hindus our': 1625, 'hindu institutions': 1626, 'religions enjoy': 1627, 'hindu society': 1628, 'hindu religious': 1629, 'hindu community': 1630, 'secularism also': 1631, 'equality say': 1632, 'traditionally also': 1633, 'muslim personal': 1634, 'secular how': 1635, 'modify hindu': 1636, 'hindu personal': 1637, 'reservations to': 1638, 'minority religions': 1639, 'religions if': 1640, 'aap gladly': 1641, 'equality before': 1642, 'equality by': 1643, 'equality think': 1644, 'minorities this': 1645, 'transable': 1646, 'transgenderism': 1647, 'religion than': 1648, 'religion why': 1649, 'transable trans': 1650, 'trans race': 1651, 'transgenderism then': 1652, 'christian nationalism': 1653, 'nationalism is': 1654, 'yogi just': 1655, 'bjp get': 1656, 'aap but': 1657, 'gayi bhai': 1658, 'ramachandra': 1659, 'muslim society': 1660, 'gandhian take': 1661, 'ramachandra guha': 1662, 'liberals here': 1663, 'religion makes': 1664, 'hindu ecosystem': 1665, 'bjp disinformation': 1666, 'bjp machinery': 1667, 'christian priest': 1668, 'aap leadership': 1669, 'aap and': 1670, 'congress outdated': 1671, 'ramchandra': 1672, 'ramchandra guha': 1673, 'indira time': 1674, 'indira and': 1675, 'modi too': 1676, 'modi recent': 1677, 'gandhi beautification': 1678, 'freedom every': 1679, 'modi wouldn': 1680, 'modi never': 1681, 'indira on': 1682, 'bhakts too': 1683, 'congress imo': 1684, 'bjp nation': 1685, 'gaya kya': 1686, 'bjp maybe': 1687, 'minorities has': 1688, 'socialists': 1689, 'communist then': 1690, 'socialists and': 1691, 'socialist then': 1692, 'hindus well': 1693, 'congress which': 1694, 'rg than': 1695, 'tharoor combined': 1696, 'caa looks': 1697, 'kejriwal uncle': 1698, 'aap as': 1699, 'minority most': 1700, 'congress hasn': 1701, 'minority muslims': 1702, 'reservations for': 1703, 'muslims you': 1704, 'religion govts': 1705, 'gandhi for': 1706, 'rahul more': 1707, 'gandhi apologised': 1708, 'modi might': 1709, 'muslim my': 1710, 'modi 10': 1711, 'gandhi years': 1712, 'bjp way': 1713, 'hindu hai': 1714, 'religion toh': 1715, 'christianity me': 1716, 'kejriwal didn': 1717, 'caa the': 1718, 'caa says': 1719, 'conservative and': 1720, 'hindus but': 1721, 'hindutva supporting': 1722, 'christianism': 1723, 'christians lower': 1724, 'muslim hatred': 1725, 'christianism as': 1726, 'dharm badalne': 1727, 'shah where': 1728, 'caa anyway': 1729, 'muslim well': 1730, 'hindutva in': 1731, 'christians the': 1732, 'hindus is': 1733, 'modi yogi': 1734, 'yogi 2022': 1735, 'religion isn': 1736, 'hinduon': 1737, 'hinduon mei': 1738, 'hindu faatu': 1739, 'religions dictate': 1740, 'freedom gave': 1741, 'muslim excluded': 1742, 'nrc use': 1743, 'hindu have': 1744, 'translated wrongly': 1745, 'hinduism works': 1746, 'hindu guy': 1747, 'brahmin thought': 1748, 'brahmin back': 1749, 'hinduism could': 1750, 'secular if': 1751, 'minorities then': 1752, 'fraternity for': 1753, 'nrc details': 1754, 'nrc are': 1755, 'bhakts we': 1756, 'secular discrimination': 1757, 'caa they': 1758, 'muslim generals': 1759, 'gayi hai': 1760, 'religion ko': 1761, 'religion se': 1762, 'aap aam': 1763, 'aam nagrik': 1764, 'religion wale': 1765, 'gaya hai': 1766, 'minorities and': 1767, 'hinduism not': 1768, 'masjid': 1769, 'muslim were': 1770, 'masjid am': 1771, 'modi image': 1772, 'muslims all': 1773, 'nationalists are': 1774, 'modi around': 1775, 'bjp did': 1776, 'congress ncp': 1777, 'western india': 1778, 'hindu terrorists': 1779, 'valmikis': 1780, 'valmikis ke': 1781, 'kejriwal just': 1782, 'aap campaigns': 1783, 'bjp hater': 1784, 'hindu republic': 1785, 'yogi ramdev': 1786, 'ramdev some': 1787, 'nda so': 1788, 'religion rather': 1789, 'religion you': 1790, 'bjp accountable': 1791, 'social security': 1792, 'gandhi is': 1793, 'congress tthere': 1794, 'kejriwal politics': 1795, 'muslims yogi': 1796, 'yogi openly': 1797, 'hindu we': 1798, 'rss ki': 1799, 'nrc which': 1800, 'muslim you': 1801, 'transport do': 1802, 'muslims shows': 1803, 'congress wanted': 1804, 'orders from': 1805, 'mandirs': 1806, 'secular with': 1807, 'hindu mandirs': 1808, 'mandirs everywhere': 1809, 'bjp unless': 1810, 'order sambhalna': 1811, 'gayaa': 1812, 'bjp doing': 1813, 'gayaa naa': 1814, 'bjp view': 1815, 'aap votes': 1816, 'bhakt response': 1817, 'communist and': 1818, 'hinduo': 1819, 'hindus ki': 1820, 'muslims ko': 1821, 'hinduo ne': 1822, 'muslims ka': 1823, 'muslims apne': 1824, 'muslim votes': 1825, 'muslims too': 1826, 'hindu festival': 1827, 'hindu mythology': 1828, 'bhakt on': 1829, 'modi ne': 1830, 'muslims tableeghis': 1831, 'modi media': 1832, 'secularist hindoos': 1833, 'bjp na': 1834, 'congress dono': 1835, 'bjp voted': 1836, 'liberal you': 1837, 'bhakt am': 1838, 'bhakts did': 1839, 'western music': 1840, 'sanghi bigot': 1841, 'muslim aliens': 1842, 'social climbing': 1843, 'bjp mps': 1844, 'aadmi party': 1845, 'aap tweet': 1846, 'kejriwal he': 1847, 'transparently': 1848, 'transparently damage': 1849, 'aap sare': 1850, 'rambling': 1851, 'rambling on': 1852, 'bjp inc': 1853, 'hindutva know': 1854, 'transferred or': 1855, 'authority to': 1856, 'mamata is': 1857, 'bjp growth': 1858, 'bjp this': 1859, 'gandhis': 1860, 'gandhis because': 1861, 'hindu khatre': 1862, 'bjp politicians': 1863, 'hindutva nationalism': 1864, 'gandhi was': 1865, 'rss refused': 1866, 'sangh is': 1867, 'duty as': 1868, 'tharoor tharoor': 1869, 'tharoor would': 1870, 'gaye sanatan': 1871, 'dharm aur': 1872, 'congress ke': 1873, 'hinduism india': 1874, 'bhakts don': 1875, 'muslim getting': 1876, 'dharma than': 1877, 'religion was': 1878, 'hindu centric': 1879, 'pmcares': 1880, 'pmcares it': 1881, 'christians goans': 1882, 'rama': 1883, 'ramayana': 1884, 'rama led': 1885, 'duty of': 1886, 'valmiki ramayana': 1887, 'ramayana there': 1888, 'rg profile': 1889, 'hinduism without': 1890, 'muslim best': 1891, 'muslim due': 1892, 'muslim brothers': 1893, 'muslim hindu': 1894, 'christian parsee': 1895, 'bjp should': 1896, 'modi isn': 1897, 'bjp you': 1898, 'modi you': 1899, 'congress pm': 1900, 'gandhi mostly': 1901, 'gandhi has': 1902, 'equality makes': 1903, 'reservations chhoddo': 1904, 'reservations mate': 1905, 'reservations chhodey': 1906, 'reservation nahi': 1907, 'reservations ke': 1908, 'reservations se': 1909, 'aam bol': 1910, 'reservations hataane': 1911, 'bjp want': 1912, 'congress to': 1913, 'congress mlas': 1914, 'bjp members': 1915, 'gandhi leadership': 1916, 'congress for': 1917, 'bjp pr': 1918, 'nationalism this': 1919, 'congress anybody': 1920, 'conservative mentalities': 1921, 'progress in': 1922, 'freedom this': 1923, 'muslim pakistan': 1924, 'muslim posts': 1925, 'caa shaheen': 1926, 'sanghis deliberately': 1927, 'aapne': 1928, 'aapke': 1929, 'aap kitab': 1930, 'aapne pdhi': 1931, 'aapke pass': 1932, 'tharoor he': 1933, 'equality we': 1934, 'religion once': 1935, 'religions state': 1936, 'sanatan dharma': 1937, 'dharma isn': 1938, 'hindu get': 1939, 'congress doesn': 1940, 'rss fanatics': 1941, 'pappu imagine': 1942, 'modi team': 1943, 'christians defence': 1944, 'upa cryptos': 1945, 'bjp people': 1946, 'muslim person': 1947, 'muslims do': 1948, 'mandiro': 1949, 'mandiro se': 1950, 'masjid ke': 1951, 'translation for': 1952, 'reservation reform': 1953, 'reform because': 1954, 'bjp ka': 1955, 'bjp gave': 1956, 'bjp goons': 1957, 'muslims without': 1958, 'tharoor ye': 1959, 'hindusism': 1960, 'hindusism condemns': 1961, 'christianity one': 1962, 'modi banned': 1963, 'pappuji': 1964, 'pappuji just': 1965, 'reform the': 1966, 'westerns': 1967, 'liberals want': 1968, 'lgbtq rights': 1969, 'rights etc': 1970, 'liberals in': 1971, 'westerns who': 1972, 'progressive they': 1973, 'liberals will': 1974, 'rights first': 1975, 'rights allow': 1976, 'lgbtq btw': 1977, 'liberals care': 1978, 'rights hell': 1979, 'nrc to': 1980, 'nrc or': 1981, 'nrc also': 1982, 'nrc but': 1983, 'congress still': 1984, 'authority he': 1985, 'hindutvavadi': 1986, 'bjp always': 1987, 'bjp could': 1988, 'bjp brand': 1989, 'hindutvavadi who': 1990, 'bjp run': 1991, 'aap even': 1992, 'hindu congress': 1993, 'congress govt': 1994, 'rss thinks': 1995, 'orderly': 1996, 'orderly fashion': 1997, 'gandhi didn': 1998, 'yatra and': 1999, 'pappu know': 2000, 'christians occupy': 2001, 'bjp out': 2002, 'ramble': 2003, 'caa we': 2004, 'caa opposers': 2005, 'ramble on': 2006, 'modi then': 2007, 'bhakt coz': 2008, 'hindus here': 2009, 'hindu accesories': 2010, 'hindu banes': 2011, 'ordering': 2012, 'ordering the': 2013, 'order banning': 2014, 'ordered the': 2015, 'rights advocate': 2016, 'bjp leader': 2017, 'muslim community': 2018, 'hindutva agendas': 2019, 'rss and': 2020, 'communist from': 2021, 'ram either': 2022, 'bjp release': 2023, 'christian the': 2024, 'hindus ko': 2025, 'hindu hame': 2026, 'tharoor isn': 2027, 'congress all': 2028, 'aap the': 2029, 'communist gaddar': 2030, 'hindu shhhhhh': 2031, 'aap has': 2032, 'congress can': 2033, 'minorities belittle': 2034, 'congress jokes': 2035, 'shah speak': 2036, 'modi caste': 2037, 'nationalist party': 2038, 'bjp playing': 2039, 'shah envisions': 2040, 'aap hi': 2041, 'gaya india': 2042, 'gaye hum': 2043, 'dharmic and': 2044, 'abrahamic and': 2045, 'secularism at': 2046, 'christian majority': 2047, 'conservative muslims': 2048, 'gandhi claims': 2049, 'narendra modi': 2050, 'modi such': 2051, 'nda rahul': 2052, 'gandhi speeches': 2053, 'bjp although': 2054, 'communists in': 2055, 'communists have': 2056, 'bjp the': 2057, 'communists again': 2058, 'cpi isn': 2059, 'congress supported': 2060, 'tharoor might': 2061, 'kejriwal gone': 2062, 'modi says': 2063, 'muslims women': 2064, 'hindutva bad': 2065, 'modi allowing': 2066, 'modi hinduism': 2067, 'hinduism rise': 2068, 'minority that': 2069, 'bjp projects': 2070, 'rg another': 2071, 'congress it': 2072, 'bjp nor': 2073, 'minorities also': 2074, 'muslims purely': 2075, 'muslim neighbourhoods': 2076, 'rg lacks': 2077, 'modi here': 2078, 'rg gave': 2079, 'rg is': 2080, 'caa isn': 2081, 'nrc requires': 2082, 'caa whereas': 2083, 'muslim citizens': 2084, 'hindu culture': 2085, 'upanishads heck': 2086, 'hinduism was': 2087, 'ramayana and': 2088, 'hindu too': 2089, 'nrc isn': 2090, 'nrc nor': 2091, 'kejriwal every': 2092, 'ramboll': 2093, 'communist magazine': 2094, 'ramboll that': 2095, 'transport of': 2096, 'traditional containers': 2097, 'ramboll report': 2098, 'communist article': 2099, 'rw friend': 2100, 'hindu wala': 2101, 'muslims had': 2102, 'indira had': 2103, 'reforms js': 2104, 'bjp state': 2105, 'abrahamic religion': 2106, 'christianity no': 2107, 'kejriwal bhaiya': 2108, 'aadmi chahiye': 2109, 'orders after': 2110, 'progress we': 2111, 'social will': 2112, 'religion tell': 2113, 'commies aren': 2114, 'commies unlike': 2115, 'mamata accuse': 2116, 'hindutva light': 2117, 'gandhi hinduism': 2118, 'hinduism she': 2119, 'gandhi would': 2120, 'ram gobind': 2121, 'sanatana tradition': 2122, 'tradition the': 2123, 'hindu narrative': 2124, 'gandhi can': 2125, 'religion then': 2126, 'hindu don': 2127, 'hindu as': 2128, 'modiji prime': 2129, 'kejriwal loyalists': 2130, 'aap delhi': 2131, 'aap from': 2132, 'bjp leaders': 2133, 'bjp accepts': 2134, 'muslims that': 2135, 'minority wing': 2136, 'bjp let': 2137, 'muslim areas': 2138, 'minority cell': 2139, 'brahmin he': 2140, 'brahmins still': 2141, 'brahmin although': 2142, 'hindu could': 2143, 'hindu brahmins': 2144, 'brahmins this': 2145, 'adani similarly': 2146, 'bjp fault': 2147, 'bjp cause': 2148, 'bjp be': 2149, 'congress actual': 2150, 'aap anyways': 2151, 'mandirs it': 2152, 'congress should': 2153, 'aap shown': 2154, 'bjp off': 2155, 'congress ruled': 2156, 'muslims under': 2157, 'equality first': 2158, 'ram how': 2159, 'mandir more': 2160, 'bhakt cunts': 2161, 'bjp member': 2162, 'bjp president': 2163, 'congress leader': 2164, 'shah bjp': 2165, 'bjp minority': 2166, 'minority morcha': 2167, 'secular until': 2168, 'muslim pogrom': 2169, 'muslims suffer': 2170, 'hindu then': 2171, 'hindu kulcha': 2172, 'muslims don': 2173, 'christians uc': 2174, 'muslims together': 2175, 'kejriwal won': 2176, 'transformation': 2177, 'transformation like': 2178, 'modi because': 2179, 'nationalist leaders': 2180, 'modi trump': 2181, 'muslims not': 2182, 'muslims but': 2183, 'christian schools': 2184, 'muslims try': 2185, 'muslim schools': 2186, 'muslim students': 2187, 'sanghis do': 2188, 'socialists in': 2189, 'sjw': 2190, 'sjw look': 2191, 'shashi has': 2192, 'tharoor will': 2193, 'dharma people': 2194, 'religions were': 2195, 'bjp correlates': 2196, 'religion neither': 2197, 'reaction if': 2198, 'congress not': 2199, 'bjp having': 2200, 'hindu in': 2201, 'muslim or': 2202, 'christian will': 2203, 'aap online': 2204, 'muslim couple': 2205, 'muslim cap': 2206, 'religion pretended': 2207, 'aap se': 2208, 'translation aslam': 2209, 'transforming': 2210, 'transforming delhi': 2211, 'aapbiti': 2212, 'aapbiti lol': 2213, 'transitional': 2214, 'transitional area': 2215, 'kejriwal who': 2216, 'bjp ko': 2217, 'congress se': 2218, 'aap wo': 2219, 'aap rises': 2220, 'gandhi with': 2221, 'ramayana by': 2222, 'valmiki bala': 2223, 'ramayana came': 2224, 'brahmins who': 2225, 'modi aam': 2226, 'rss elites': 2227, 'hinduism than': 2228, 'minorities up': 2229, 'minorities by': 2230, 'muslim only': 2231, 'rambling to': 2232, 'modi bhakts': 2233, 'bhakts deport': 2234, 'bjp scheme': 2235, 'socialist parties': 2236, 'christian missions': 2237, 'modiji what': 2238, 'brahmin the': 2239, 'tharoor worship': 2240, 'congressis are': 2241, 'yogi was': 2242, 'yogi aa': 2243, 'gaya yogi': 2244, 'yogi time': 2245, 'aadmi jhola': 2246, 'aap prabhu': 2247}\n"
     ]
    }
   ],
   "source": [
    "# limiting the vocabulary to bigrams we know are important\n",
    "count = 0\n",
    "\n",
    "word_voc = {}\n",
    "for i in vectorizer.vocabulary_:\n",
    "    for t in left_terms.union(right_terms):\n",
    "        if i.startswith(t):\n",
    "            word_voc[i] = count\n",
    "            count += 1\n",
    "            break\n",
    "print(word_voc)"
   ]
  },
  {
   "cell_type": "code",
   "execution_count": 37,
   "id": "58b96df2",
   "metadata": {},
   "outputs": [
    {
     "name": "stdout",
     "output_type": "stream",
     "text": [
      "(1999, 2248) (1000, 2248)\n"
     ]
    }
   ],
   "source": [
    "vectorizer = TfidfVectorizer(ngram_range=(1, 2), analyzer='word', vocabulary=word_voc)\n",
    "\n",
    "X_train = vectorizer.fit_transform(list(train_df['clean_comment']))\n",
    "X_test = vectorizer.transform(list(eval_df['clean_comment']))\n",
    "y_train, y_test = [np.sign(x)+1 for x in list(train_df['target'])], [np.sign(x)+1 for x in list(eval_df['target'])]\n",
    "\n",
    "print(X_train.shape, X_test.shape)"
   ]
  },
  {
   "cell_type": "code",
   "execution_count": 38,
   "id": "212bbf69",
   "metadata": {},
   "outputs": [
    {
     "name": "stdout",
     "output_type": "stream",
     "text": [
      "3-class classification accuracy: 0.581\n"
     ]
    }
   ],
   "source": [
    "xgb = xg.XGBClassifier(n_estimators=100, max_depth=4, learning_rate=0.3)\n",
    "xgb.fit(X_train, y_train)\n",
    "y_pred = xgb.predict(X_test)\n",
    "print(\"3-class classification accuracy:\", np.mean([int(y_test[i]==y_pred[i]) for i in range(len(y_test))]))"
   ]
  },
  {
   "cell_type": "code",
   "execution_count": 39,
   "id": "cf0d51ec",
   "metadata": {},
   "outputs": [
    {
     "data": {
      "text/plain": [
       "array([[139, 146,  50],\n",
       "       [ 31, 358,  25],\n",
       "       [ 67, 100,  84]], dtype=int64)"
      ]
     },
     "execution_count": 39,
     "metadata": {},
     "output_type": "execute_result"
    }
   ],
   "source": [
    "confusion_matrix(y_test, y_pred)"
   ]
  },
  {
   "cell_type": "code",
   "execution_count": 40,
   "id": "4a24c4f5",
   "metadata": {},
   "outputs": [
    {
     "name": "stdout",
     "output_type": "stream",
     "text": [
      "              precision    recall  f1-score   support\n",
      "\n",
      "        Left       0.59      0.41      0.49       335\n",
      "     Neutral       0.59      0.86      0.70       414\n",
      "       Right       0.53      0.33      0.41       251\n",
      "\n",
      "    accuracy                           0.58      1000\n",
      "   macro avg       0.57      0.54      0.53      1000\n",
      "weighted avg       0.57      0.58      0.56      1000\n",
      "\n"
     ]
    }
   ],
   "source": [
    "print(classification_report(y_test, y_pred, target_names=['Left', 'Neutral', 'Right']))"
   ]
  },
  {
   "cell_type": "code",
   "execution_count": 41,
   "id": "f1a0989c",
   "metadata": {},
   "outputs": [],
   "source": [
    "y_w_tfidf = y_pred"
   ]
  },
  {
   "cell_type": "code",
   "execution_count": null,
   "id": "d89a7bc4",
   "metadata": {},
   "outputs": [],
   "source": []
  },
  {
   "cell_type": "markdown",
   "id": "b94a452c",
   "metadata": {},
   "source": [
    "## tf-idf word embeddings with PCA and sentiment\n",
    "Since PCA doesn't work for sparse data, we use TruncatedSVD for the same effect"
   ]
  },
  {
   "cell_type": "code",
   "execution_count": 42,
   "id": "34d741fa",
   "metadata": {},
   "outputs": [],
   "source": [
    "vectorizer = TfidfVectorizer(ngram_range=(1, 2), analyzer='word', vocabulary=word_voc)\n",
    "tsvd = TruncatedSVD(n_components=200, random_state=123)\n",
    "\n",
    "temp_df = train_df.copy()\n",
    "X_train = vectorizer.fit_transform(list(temp_df['clean_comment']))\n",
    "temp_df['extracted_features'] = tsvd.fit_transform(X_train).tolist()\n",
    "temp_df['final_features'] = temp_df.apply(lambda x: add_sentiment_features(x['clean_comment'], x['extracted_features']), axis=1)\n",
    "X_train, y_train = list(temp_df['final_features']), [np.sign(x)+1 for x in list(temp_df['target'])]\n",
    "\n",
    "temp_df = eval_df.copy()\n",
    "X_test = vectorizer.transform(list(temp_df['clean_comment']))\n",
    "temp_df['extracted_features'] = tsvd.transform(X_test).tolist()\n",
    "temp_df['final_features'] = temp_df.apply(lambda x: add_sentiment_features(x['clean_comment'], x['extracted_features']), axis=1)\n",
    "X_test, y_test = list(temp_df['final_features']), [np.sign(x)+1 for x in list(temp_df['target'])]"
   ]
  },
  {
   "cell_type": "code",
   "execution_count": 43,
   "id": "509e16f4",
   "metadata": {},
   "outputs": [
    {
     "name": "stdout",
     "output_type": "stream",
     "text": [
      "3-class classification accuracy: 0.572\n"
     ]
    }
   ],
   "source": [
    "xgb = xg.XGBClassifier(n_estimators=100, max_depth=4, learning_rate=0.001)\n",
    "xgb.fit(X_train, y_train)\n",
    "y_pred = xgb.predict(X_test)\n",
    "print(\"3-class classification accuracy:\", np.mean([int(y_test[i]==y_pred[i]) for i in range(len(y_test))]))"
   ]
  },
  {
   "cell_type": "code",
   "execution_count": 44,
   "id": "fa7498d9",
   "metadata": {},
   "outputs": [
    {
     "data": {
      "text/plain": [
       "array([[164, 121,  50],\n",
       "       [ 53, 333,  28],\n",
       "       [ 84,  92,  75]], dtype=int64)"
      ]
     },
     "execution_count": 44,
     "metadata": {},
     "output_type": "execute_result"
    }
   ],
   "source": [
    "confusion_matrix(y_test, y_pred)"
   ]
  },
  {
   "cell_type": "code",
   "execution_count": 45,
   "id": "0265d860",
   "metadata": {},
   "outputs": [
    {
     "name": "stdout",
     "output_type": "stream",
     "text": [
      "              precision    recall  f1-score   support\n",
      "\n",
      "        Left       0.54      0.49      0.52       335\n",
      "     Neutral       0.61      0.80      0.69       414\n",
      "       Right       0.49      0.30      0.37       251\n",
      "\n",
      "    accuracy                           0.57      1000\n",
      "   macro avg       0.55      0.53      0.53      1000\n",
      "weighted avg       0.56      0.57      0.55      1000\n",
      "\n"
     ]
    }
   ],
   "source": [
    "print(classification_report(y_test, y_pred, target_names=['Left', 'Neutral', 'Right']))"
   ]
  },
  {
   "cell_type": "code",
   "execution_count": 46,
   "id": "f1bf97b1",
   "metadata": {},
   "outputs": [],
   "source": [
    "y_tfidf_pca = y_pred"
   ]
  },
  {
   "cell_type": "code",
   "execution_count": null,
   "id": "33f6c877",
   "metadata": {},
   "outputs": [],
   "source": []
  },
  {
   "cell_type": "markdown",
   "id": "8af2a651",
   "metadata": {},
   "source": [
    "## tf-idf sub-word embeddings"
   ]
  },
  {
   "cell_type": "code",
   "execution_count": 47,
   "id": "5a19ac8c",
   "metadata": {},
   "outputs": [
    {
     "name": "stdout",
     "output_type": "stream",
     "text": [
      "(1999, 222782) (1000, 222782)\n"
     ]
    }
   ],
   "source": [
    "vectorizer = TfidfVectorizer(ngram_range=(2, 10), analyzer='char_wb')\n",
    "\n",
    "X_train = vectorizer.fit_transform(list(train_df['clean_comment']))\n",
    "X_test = vectorizer.transform(list(eval_df['clean_comment']))\n",
    "y_train, y_test = [np.sign(x)+1 for x in list(train_df['target'])], [np.sign(x)+1 for x in list(eval_df['target'])]\n",
    "\n",
    "print(X_train.shape, X_test.shape)"
   ]
  },
  {
   "cell_type": "code",
   "execution_count": 48,
   "id": "21ca0284",
   "metadata": {},
   "outputs": [
    {
     "name": "stdout",
     "output_type": "stream",
     "text": [
      "3-class classification accuracy: 0.563\n"
     ]
    }
   ],
   "source": [
    "xgb = xg.XGBClassifier(n_estimators=100, max_depth=4, learning_rate=0.05)\n",
    "xgb.fit(X_train, y_train)\n",
    "y_pred = xgb.predict(X_test)\n",
    "print(\"3-class classification accuracy:\", np.mean([int(y_test[i]==y_pred[i]) for i in range(len(y_test))]))"
   ]
  },
  {
   "cell_type": "code",
   "execution_count": 49,
   "id": "221dca1a",
   "metadata": {},
   "outputs": [
    {
     "data": {
      "text/plain": [
       "array([[135, 158,  42],\n",
       "       [ 44, 350,  20],\n",
       "       [ 55, 118,  78]], dtype=int64)"
      ]
     },
     "execution_count": 49,
     "metadata": {},
     "output_type": "execute_result"
    }
   ],
   "source": [
    "confusion_matrix(y_test, y_pred)"
   ]
  },
  {
   "cell_type": "code",
   "execution_count": 50,
   "id": "165f9e24",
   "metadata": {},
   "outputs": [
    {
     "name": "stdout",
     "output_type": "stream",
     "text": [
      "              precision    recall  f1-score   support\n",
      "\n",
      "        Left       0.58      0.40      0.47       335\n",
      "     Neutral       0.56      0.85      0.67       414\n",
      "       Right       0.56      0.31      0.40       251\n",
      "\n",
      "    accuracy                           0.56      1000\n",
      "   macro avg       0.56      0.52      0.52      1000\n",
      "weighted avg       0.56      0.56      0.54      1000\n",
      "\n"
     ]
    }
   ],
   "source": [
    "print(classification_report(y_test, y_pred, target_names=['Left', 'Neutral', 'Right']))"
   ]
  },
  {
   "cell_type": "code",
   "execution_count": 51,
   "id": "3dd7a928",
   "metadata": {},
   "outputs": [],
   "source": [
    "y_sw_tfidf = y_pred"
   ]
  },
  {
   "cell_type": "code",
   "execution_count": null,
   "id": "b4f0674c",
   "metadata": {},
   "outputs": [],
   "source": []
  },
  {
   "cell_type": "markdown",
   "id": "c8fc8e49",
   "metadata": {},
   "source": [
    "## Data Augmentation with tf-idf/XGBoost\n",
    "Due to the randomness of term selection, performance may vary slightly"
   ]
  },
  {
   "cell_type": "code",
   "execution_count": 52,
   "id": "b722927e",
   "metadata": {},
   "outputs": [],
   "source": [
    "list_right_terms = list(right_terms)\n",
    "list_left_terms = list(left_terms)\n",
    "full_terms = left_terms.union(right_terms)"
   ]
  },
  {
   "cell_type": "code",
   "execution_count": 53,
   "id": "770549a2",
   "metadata": {},
   "outputs": [],
   "source": [
    "def random_swap(term):\n",
    "    if term in left_terms:\n",
    "        # LW term being swapped\n",
    "        return np.random.choice(list_right_terms)\n",
    "    elif term in right_terms:\n",
    "        # RW term being swapped\n",
    "        return np.random.choice(list_left_terms)\n",
    "    print(f\"Error with: {term}\")\n",
    "\n",
    "def swap_terms(text):\n",
    "    term_match = re.compile('|'.join([r'\\b'+t for t in full_terms]))\n",
    "    \n",
    "    temp = term_match.sub(lambda m: random_swap(m.group()), text.lower())\n",
    "    return temp"
   ]
  },
  {
   "cell_type": "code",
   "execution_count": 62,
   "id": "be3d396b",
   "metadata": {},
   "outputs": [
    {
     "data": {
      "text/html": [
       "<div>\n",
       "<style scoped>\n",
       "    .dataframe tbody tr th:only-of-type {\n",
       "        vertical-align: middle;\n",
       "    }\n",
       "\n",
       "    .dataframe tbody tr th {\n",
       "        vertical-align: top;\n",
       "    }\n",
       "\n",
       "    .dataframe thead th {\n",
       "        text-align: right;\n",
       "    }\n",
       "</style>\n",
       "<table border=\"1\" class=\"dataframe\">\n",
       "  <thead>\n",
       "    <tr style=\"text-align: right;\">\n",
       "      <th></th>\n",
       "      <th>clean_comment</th>\n",
       "      <th>target</th>\n",
       "    </tr>\n",
       "  </thead>\n",
       "  <tbody>\n",
       "    <tr>\n",
       "      <th>0</th>\n",
       "      <td>there are two types of parties those that prom...</td>\n",
       "      <td>0.00</td>\n",
       "    </tr>\n",
       "    <tr>\n",
       "      <th>1</th>\n",
       "      <td>there are two types of parties those that prom...</td>\n",
       "      <td>-0.00</td>\n",
       "    </tr>\n",
       "    <tr>\n",
       "      <th>2</th>\n",
       "      <td>if fundamentals are sound then, faith can help...</td>\n",
       "      <td>0.75</td>\n",
       "    </tr>\n",
       "    <tr>\n",
       "      <th>3</th>\n",
       "      <td>if fundamentals are sound then, faith can help...</td>\n",
       "      <td>-0.75</td>\n",
       "    </tr>\n",
       "    <tr>\n",
       "      <th>4</th>\n",
       "      <td>contrary to popular belief, until modi, india ...</td>\n",
       "      <td>-0.50</td>\n",
       "    </tr>\n",
       "    <tr>\n",
       "      <th>...</th>\n",
       "      <td>...</td>\n",
       "      <td>...</td>\n",
       "    </tr>\n",
       "    <tr>\n",
       "      <th>3993</th>\n",
       "      <td>it is good a initiative but the plastic in roa...</td>\n",
       "      <td>-0.00</td>\n",
       "    </tr>\n",
       "    <tr>\n",
       "      <th>3994</th>\n",
       "      <td>yup, been reading about it since couple of wee...</td>\n",
       "      <td>0.00</td>\n",
       "    </tr>\n",
       "    <tr>\n",
       "      <th>3995</th>\n",
       "      <td>yup, been reading about it since couple of wee...</td>\n",
       "      <td>-0.00</td>\n",
       "    </tr>\n",
       "    <tr>\n",
       "      <th>3996</th>\n",
       "      <td>first i thought christmas ke chakkar me. then ...</td>\n",
       "      <td>0.00</td>\n",
       "    </tr>\n",
       "    <tr>\n",
       "      <th>3997</th>\n",
       "      <td>first i thought christmas ke chakkar me. then ...</td>\n",
       "      <td>-0.00</td>\n",
       "    </tr>\n",
       "  </tbody>\n",
       "</table>\n",
       "<p>3998 rows × 2 columns</p>\n",
       "</div>"
      ],
      "text/plain": [
       "                                          clean_comment  target\n",
       "0     there are two types of parties those that prom...    0.00\n",
       "1     there are two types of parties those that prom...   -0.00\n",
       "2     if fundamentals are sound then, faith can help...    0.75\n",
       "3     if fundamentals are sound then, faith can help...   -0.75\n",
       "4     contrary to popular belief, until modi, india ...   -0.50\n",
       "...                                                 ...     ...\n",
       "3993  it is good a initiative but the plastic in roa...   -0.00\n",
       "3994  yup, been reading about it since couple of wee...    0.00\n",
       "3995  yup, been reading about it since couple of wee...   -0.00\n",
       "3996  first i thought christmas ke chakkar me. then ...    0.00\n",
       "3997  first i thought christmas ke chakkar me. then ...   -0.00\n",
       "\n",
       "[3998 rows x 2 columns]"
      ]
     },
     "execution_count": 62,
     "metadata": {},
     "output_type": "execute_result"
    }
   ],
   "source": [
    "aug_records = []\n",
    "for i, row in train_df.iterrows():\n",
    "    aug_records.append({'clean_comment':row['clean_comment'].lower(), 'target':row['target']})\n",
    "    # adding in record with swapped terms and opposite score\n",
    "    aug_records.append({'clean_comment':swap_terms(row['clean_comment']), 'target':-row['target']})\n",
    "aug_df = pd.DataFrame.from_records(aug_records)\n",
    "aug_df"
   ]
  },
  {
   "cell_type": "code",
   "execution_count": 63,
   "id": "c110efb2",
   "metadata": {},
   "outputs": [
    {
     "name": "stdout",
     "output_type": "stream",
     "text": [
      "(3998, 2248) (1000, 2248)\n"
     ]
    }
   ],
   "source": [
    "vectorizer = TfidfVectorizer(ngram_range=(1, 2), analyzer='word', vocabulary=word_voc)\n",
    "\n",
    "X_train = vectorizer.fit_transform(list(aug_df['clean_comment']))\n",
    "X_test = vectorizer.transform(list(eval_df['clean_comment']))\n",
    "y_train, y_test = [np.sign(x)+1 for x in list(aug_df['target'])], [np.sign(x)+1 for x in list(eval_df['target'])]\n",
    "\n",
    "print(X_train.shape, X_test.shape)"
   ]
  },
  {
   "cell_type": "code",
   "execution_count": 67,
   "id": "34694cbb",
   "metadata": {},
   "outputs": [
    {
     "name": "stdout",
     "output_type": "stream",
     "text": [
      "3-class classification accuracy: 0.566\n"
     ]
    }
   ],
   "source": [
    "xgb = xg.XGBClassifier(n_estimators=100, max_depth=4, learning_rate=0.1)\n",
    "xgb.fit(X_train, y_train)\n",
    "y_pred = xgb.predict(X_test)\n",
    "print(\"3-class classification accuracy:\", np.mean([int(y_test[i]==y_pred[i]) for i in range(len(y_test))]))"
   ]
  },
  {
   "cell_type": "code",
   "execution_count": 68,
   "id": "f83caa30",
   "metadata": {},
   "outputs": [
    {
     "data": {
      "text/plain": [
       "array([[128, 163,  44],\n",
       "       [ 26, 370,  18],\n",
       "       [ 54, 129,  68]], dtype=int64)"
      ]
     },
     "execution_count": 68,
     "metadata": {},
     "output_type": "execute_result"
    }
   ],
   "source": [
    "confusion_matrix(y_test, y_pred)"
   ]
  },
  {
   "cell_type": "code",
   "execution_count": 69,
   "id": "45b14228",
   "metadata": {},
   "outputs": [
    {
     "name": "stdout",
     "output_type": "stream",
     "text": [
      "              precision    recall  f1-score   support\n",
      "\n",
      "        Left       0.62      0.38      0.47       335\n",
      "     Neutral       0.56      0.89      0.69       414\n",
      "       Right       0.52      0.27      0.36       251\n",
      "\n",
      "    accuracy                           0.57      1000\n",
      "   macro avg       0.57      0.52      0.51      1000\n",
      "weighted avg       0.57      0.57      0.53      1000\n",
      "\n"
     ]
    }
   ],
   "source": [
    "print(classification_report(y_test, y_pred, target_names=['Left', 'Neutral', 'Right']))"
   ]
  },
  {
   "cell_type": "code",
   "execution_count": 70,
   "id": "0bca2122",
   "metadata": {},
   "outputs": [],
   "source": [
    "y_aug = y_pred"
   ]
  },
  {
   "cell_type": "code",
   "execution_count": null,
   "id": "e9e5fa68",
   "metadata": {},
   "outputs": [],
   "source": []
  },
  {
   "cell_type": "markdown",
   "id": "8fd8f0dc",
   "metadata": {},
   "source": [
    "## Frozen Indian-sBERT embeddings with XGBoost\n",
    "### Note: do NOT re-run this section without a powerful GPU. The pretrained model is massive."
   ]
  },
  {
   "cell_type": "code",
   "execution_count": 71,
   "id": "c29e2692",
   "metadata": {},
   "outputs": [],
   "source": [
    "model_name = \"meedan/indian-sbert\"\n",
    "tokenizer = AutoTokenizer.from_pretrained(model_name)\n",
    "model = AutoModel.from_pretrained(model_name).to(device)\n",
    "\n",
    "# freezing everything\n",
    "modules = [model.embeddings, *model.encoder.layer]\n",
    "for module in modules:\n",
    "    for param in module.parameters():\n",
    "        param.requires_grad = False"
   ]
  },
  {
   "cell_type": "code",
   "execution_count": 72,
   "id": "528483ce",
   "metadata": {},
   "outputs": [
    {
     "name": "stdout",
     "output_type": "stream",
     "text": [
      "1999 768\n"
     ]
    }
   ],
   "source": [
    "# getting train embeddings from model\n",
    "with torch.no_grad():\n",
    "    model.eval()\n",
    "    X_train = []\n",
    "    batch_size = 16\n",
    "    for i in range(0, len(train_df), batch_size):\n",
    "        temp = tokenizer(list(train_df['clean_comment'][i:i+batch_size]), padding='max_length', max_length = 256, truncation=True, return_tensors=\"pt\")\n",
    "        X_train.extend(model(temp['input_ids'].to(device), temp['attention_mask'].to(device)).pooler_output.cpu().detach().numpy().tolist())\n",
    "      \n",
    "print(len(X_train), len(X_train[0]))"
   ]
  },
  {
   "cell_type": "code",
   "execution_count": 73,
   "id": "dbae52b5",
   "metadata": {},
   "outputs": [
    {
     "name": "stdout",
     "output_type": "stream",
     "text": [
      "1000 768\n"
     ]
    }
   ],
   "source": [
    "# getting eval embeddings from model\n",
    "with torch.no_grad():\n",
    "    model.eval()\n",
    "    X_test = []\n",
    "    batch_size = 16\n",
    "    for i in range(0, len(eval_df), batch_size):\n",
    "        temp = tokenizer(list(eval_df['clean_comment'][i:i+batch_size]), padding='max_length', max_length = 256, truncation=True, return_tensors=\"pt\")\n",
    "        X_test.extend(model(temp['input_ids'].to(device), temp['attention_mask'].to(device)).pooler_output.cpu().detach().numpy().tolist())\n",
    "      \n",
    "print(len(X_test), len(X_test[0]))"
   ]
  },
  {
   "cell_type": "code",
   "execution_count": 74,
   "id": "d334bba9",
   "metadata": {},
   "outputs": [],
   "source": [
    "y_train, y_test = [np.sign(x)+1 for x in list(train_df['target'])], [np.sign(x)+1 for x in list(eval_df['target'])]"
   ]
  },
  {
   "cell_type": "code",
   "execution_count": 75,
   "id": "290aa093",
   "metadata": {},
   "outputs": [
    {
     "name": "stdout",
     "output_type": "stream",
     "text": [
      "3-class classification accuracy: 0.518\n"
     ]
    }
   ],
   "source": [
    "xgb = xg.XGBClassifier(n_estimators=100, max_depth=5, learning_rate=0.1)\n",
    "xgb.fit(X_train, y_train)\n",
    "y_pred = xgb.predict(X_test)\n",
    "print(\"3-class classification accuracy:\", np.mean([int(y_test[i]==y_pred[i]) for i in range(len(y_test))]))"
   ]
  },
  {
   "cell_type": "code",
   "execution_count": 76,
   "id": "8f5f2775",
   "metadata": {},
   "outputs": [
    {
     "data": {
      "text/plain": [
       "array([[149, 123,  63],\n",
       "       [ 82, 296,  36],\n",
       "       [ 77, 101,  73]], dtype=int64)"
      ]
     },
     "execution_count": 76,
     "metadata": {},
     "output_type": "execute_result"
    }
   ],
   "source": [
    "confusion_matrix(y_test, y_pred)"
   ]
  },
  {
   "cell_type": "code",
   "execution_count": 77,
   "id": "09669c9a",
   "metadata": {},
   "outputs": [
    {
     "name": "stdout",
     "output_type": "stream",
     "text": [
      "              precision    recall  f1-score   support\n",
      "\n",
      "        Left       0.48      0.44      0.46       335\n",
      "     Neutral       0.57      0.71      0.63       414\n",
      "       Right       0.42      0.29      0.35       251\n",
      "\n",
      "    accuracy                           0.52      1000\n",
      "   macro avg       0.49      0.48      0.48      1000\n",
      "weighted avg       0.50      0.52      0.50      1000\n",
      "\n"
     ]
    }
   ],
   "source": [
    "print(classification_report(y_test, y_pred, target_names=['Left', 'Neutral', 'Right']))"
   ]
  },
  {
   "cell_type": "code",
   "execution_count": 78,
   "id": "fa7e03dc",
   "metadata": {},
   "outputs": [],
   "source": [
    "y_bert_frozen = y_pred"
   ]
  },
  {
   "cell_type": "code",
   "execution_count": null,
   "id": "cb246ff7",
   "metadata": {},
   "outputs": [],
   "source": []
  },
  {
   "cell_type": "markdown",
   "id": "185a24f2",
   "metadata": {},
   "source": [
    "# 2-step model"
   ]
  },
  {
   "cell_type": "code",
   "execution_count": 79,
   "id": "32ac3c76",
   "metadata": {},
   "outputs": [],
   "source": [
    "# getting senticnet toxicity scores\n",
    "\n",
    "base_api = \"http://sentic.net/api/en/%s.py?text=%s\"\n",
    "polarity_key = \"zfCm4Hq4p0lgOJNU\"\n",
    "absa_key = \"xSK04b5TqYH2\"\n",
    "toxicity_key = \"TLHqwt0xWpvVG\"\n",
    "\n",
    "# Calculate toxicity of comment\n",
    "def toxicity(text):\n",
    "    x = requests.get(base_api % (toxicity_key, text))\n",
    "    for _ in range(3):\n",
    "        try:\n",
    "            raw_value = float(x.text.strip('%\\n'))/100\n",
    "            return raw_value\n",
    "        except:\n",
    "            continue\n",
    "    print(f\"Error with: {text}\")\n",
    "    return 0\n",
    "\n",
    "# try:\n",
    "#     for i, row in text_df.iterrows():\n",
    "#         if np.isnan(row['toxicity']):\n",
    "#             row['toxicity'] = toxicity(row['clean_comment'])\n",
    "#             text_df.iloc[i] = row\n",
    "\n",
    "#     text_df.to_csv('train_subset_toxicity.csv', index=False)\n",
    "\n",
    "# except:\n",
    "#     print(\"Error\")\n",
    "#     text_df.to_csv('train_subset_toxicity_incomplete.csv')"
   ]
  },
  {
   "cell_type": "code",
   "execution_count": 80,
   "id": "85d5e9e4",
   "metadata": {},
   "outputs": [
    {
     "data": {
      "text/html": [
       "<div>\n",
       "<style scoped>\n",
       "    .dataframe tbody tr th:only-of-type {\n",
       "        vertical-align: middle;\n",
       "    }\n",
       "\n",
       "    .dataframe tbody tr th {\n",
       "        vertical-align: top;\n",
       "    }\n",
       "\n",
       "    .dataframe thead th {\n",
       "        text-align: right;\n",
       "    }\n",
       "</style>\n",
       "<table border=\"1\" class=\"dataframe\">\n",
       "  <thead>\n",
       "    <tr style=\"text-align: right;\">\n",
       "      <th></th>\n",
       "      <th>clean_title</th>\n",
       "      <th>clean_comment</th>\n",
       "      <th>url</th>\n",
       "      <th>avg_score</th>\n",
       "      <th>toxicity</th>\n",
       "    </tr>\n",
       "  </thead>\n",
       "  <tbody>\n",
       "    <tr>\n",
       "      <th>0</th>\n",
       "      <td>shashi tharoor set to run for congress preside...</td>\n",
       "      <td>extremely valid points but i believe he has th...</td>\n",
       "      <td>/r/india/comments/xif8wm/shashi_tharoor_set_to...</td>\n",
       "      <td>-1.0</td>\n",
       "      <td>0.00</td>\n",
       "    </tr>\n",
       "    <tr>\n",
       "      <th>1</th>\n",
       "      <td>yogi government puts kolkata s image as part o...</td>\n",
       "      <td>even if the ad was designed by the newspaper t...</td>\n",
       "      <td>/r/india/comments/pmn9o3/yogi_government_puts_...</td>\n",
       "      <td>-1.0</td>\n",
       "      <td>0.00</td>\n",
       "    </tr>\n",
       "    <tr>\n",
       "      <th>2</th>\n",
       "      <td>an attempt to address the list of simplified e...</td>\n",
       "      <td>diverse population including muslims welcoming...</td>\n",
       "      <td>/r/india/comments/ebdeup/an_attempt_to_address...</td>\n",
       "      <td>-1.0</td>\n",
       "      <td>0.00</td>\n",
       "    </tr>\n",
       "    <tr>\n",
       "      <th>3</th>\n",
       "      <td>you guys noticing what s happening in sri lanka</td>\n",
       "      <td>what a joke they didn t create any propaganda...</td>\n",
       "      <td>/r/india/comments/tt1ryh/you_guys_noticing_wha...</td>\n",
       "      <td>0.0</td>\n",
       "      <td>0.00</td>\n",
       "    </tr>\n",
       "    <tr>\n",
       "      <th>4</th>\n",
       "      <td>just got abused on the train by a hyper nation...</td>\n",
       "      <td>ohoo bahut bura laga ye sunke ki aap undergarm...</td>\n",
       "      <td>/r/india/comments/rh2kcs/just_got_abused_on_th...</td>\n",
       "      <td>-2.0</td>\n",
       "      <td>0.66</td>\n",
       "    </tr>\n",
       "  </tbody>\n",
       "</table>\n",
       "</div>"
      ],
      "text/plain": [
       "                                         clean_title  \\\n",
       "0  shashi tharoor set to run for congress preside...   \n",
       "1  yogi government puts kolkata s image as part o...   \n",
       "2  an attempt to address the list of simplified e...   \n",
       "3   you guys noticing what s happening in sri lanka    \n",
       "4  just got abused on the train by a hyper nation...   \n",
       "\n",
       "                                       clean_comment  \\\n",
       "0  extremely valid points but i believe he has th...   \n",
       "1  even if the ad was designed by the newspaper t...   \n",
       "2  diverse population including muslims welcoming...   \n",
       "3   what a joke they didn t create any propaganda...   \n",
       "4  ohoo bahut bura laga ye sunke ki aap undergarm...   \n",
       "\n",
       "                                                 url  avg_score  toxicity  \n",
       "0  /r/india/comments/xif8wm/shashi_tharoor_set_to...       -1.0      0.00  \n",
       "1  /r/india/comments/pmn9o3/yogi_government_puts_...       -1.0      0.00  \n",
       "2  /r/india/comments/ebdeup/an_attempt_to_address...       -1.0      0.00  \n",
       "3  /r/india/comments/tt1ryh/you_guys_noticing_wha...        0.0      0.00  \n",
       "4  /r/india/comments/rh2kcs/just_got_abused_on_th...       -2.0      0.66  "
      ]
     },
     "execution_count": 80,
     "metadata": {},
     "output_type": "execute_result"
    }
   ],
   "source": [
    "tox_full_df = pd.read_csv('train_subset_toxicity.csv')\n",
    "tox_full_df.head()"
   ]
  },
  {
   "cell_type": "code",
   "execution_count": 81,
   "id": "39a8fcd7",
   "metadata": {},
   "outputs": [],
   "source": [
    "# use urls to match with train and eval dfs\n",
    "tox_train_df = train_df.merge(tox_full_df[['url', 'toxicity']], how='left', left_on='url', right_on='url', validate='one_to_one')\n",
    "tox_eval_df = eval_df.merge(tox_full_df[['url', 'toxicity']], how='left', left_on='url', right_on='url', validate='one_to_one')"
   ]
  },
  {
   "cell_type": "code",
   "execution_count": 82,
   "id": "0d644fce",
   "metadata": {},
   "outputs": [
    {
     "data": {
      "text/html": [
       "<div>\n",
       "<style scoped>\n",
       "    .dataframe tbody tr th:only-of-type {\n",
       "        vertical-align: middle;\n",
       "    }\n",
       "\n",
       "    .dataframe tbody tr th {\n",
       "        vertical-align: top;\n",
       "    }\n",
       "\n",
       "    .dataframe thead th {\n",
       "        text-align: right;\n",
       "    }\n",
       "</style>\n",
       "<table border=\"1\" class=\"dataframe\">\n",
       "  <thead>\n",
       "    <tr style=\"text-align: right;\">\n",
       "      <th></th>\n",
       "      <th>clean_title</th>\n",
       "      <th>clean_comment</th>\n",
       "      <th>comment_id</th>\n",
       "      <th>url</th>\n",
       "      <th>target</th>\n",
       "      <th>toxicity</th>\n",
       "      <th>left_features</th>\n",
       "      <th>right_features</th>\n",
       "      <th>sentiment_features</th>\n",
       "    </tr>\n",
       "  </thead>\n",
       "  <tbody>\n",
       "    <tr>\n",
       "      <th>0</th>\n",
       "      <td>BJP Gujarat 2022 Manifesto.</td>\n",
       "      <td>There are two types of parties those that prom...</td>\n",
       "      <td>iy20u35</td>\n",
       "      <td>/r/IndiaSpeaks/comments/z5u6kf/bjp_gujarat_202...</td>\n",
       "      <td>0.00</td>\n",
       "      <td>0.33</td>\n",
       "      <td>2</td>\n",
       "      <td>2</td>\n",
       "      <td>0.9699</td>\n",
       "    </tr>\n",
       "    <tr>\n",
       "      <th>1</th>\n",
       "      <td>Rajasthan BJP MLA Sanjay Sharma posted this on...</td>\n",
       "      <td>If fundamentals are sound then, faith can help...</td>\n",
       "      <td>hnc96s6</td>\n",
       "      <td>/r/IndiaSpeaks/comments/r9df3s/rajasthan_bjp_m...</td>\n",
       "      <td>0.75</td>\n",
       "      <td>0.33</td>\n",
       "      <td>2</td>\n",
       "      <td>1</td>\n",
       "      <td>0.8937</td>\n",
       "    </tr>\n",
       "    <tr>\n",
       "      <th>2</th>\n",
       "      <td>The new Indian If Trump's supporters blame Ant...</td>\n",
       "      <td>Contrary to popular belief, until Modi, India ...</td>\n",
       "      <td>giqnuc2</td>\n",
       "      <td>/r/india/comments/ku5i9f/the_new_indian_if_tru...</td>\n",
       "      <td>-0.50</td>\n",
       "      <td>0.00</td>\n",
       "      <td>0</td>\n",
       "      <td>8</td>\n",
       "      <td>0.4215</td>\n",
       "    </tr>\n",
       "    <tr>\n",
       "      <th>3</th>\n",
       "      <td>Kejriwal says that Mukesh Ambani's Antilia is ...</td>\n",
       "      <td>Bro inhone bahut land hijack kiya hai kisse pa...</td>\n",
       "      <td>iq3l8o5</td>\n",
       "      <td>/r/IndiaSpeaks/comments/xpb83d/kejriwal_says_t...</td>\n",
       "      <td>-0.25</td>\n",
       "      <td>0.00</td>\n",
       "      <td>0</td>\n",
       "      <td>0</td>\n",
       "      <td>-0.8720</td>\n",
       "    </tr>\n",
       "    <tr>\n",
       "      <th>4</th>\n",
       "      <td>The picture pretty much sums up the ideology o...</td>\n",
       "      <td>The 1.9 million denied citizenship in Assam al...</td>\n",
       "      <td>fbtqycg</td>\n",
       "      <td>/r/india/comments/ee11sp/the_picture_pretty_mu...</td>\n",
       "      <td>-1.00</td>\n",
       "      <td>0.00</td>\n",
       "      <td>1</td>\n",
       "      <td>2</td>\n",
       "      <td>-0.0387</td>\n",
       "    </tr>\n",
       "  </tbody>\n",
       "</table>\n",
       "</div>"
      ],
      "text/plain": [
       "                                         clean_title  \\\n",
       "0                        BJP Gujarat 2022 Manifesto.   \n",
       "1  Rajasthan BJP MLA Sanjay Sharma posted this on...   \n",
       "2  The new Indian If Trump's supporters blame Ant...   \n",
       "3  Kejriwal says that Mukesh Ambani's Antilia is ...   \n",
       "4  The picture pretty much sums up the ideology o...   \n",
       "\n",
       "                                       clean_comment comment_id  \\\n",
       "0  There are two types of parties those that prom...    iy20u35   \n",
       "1  If fundamentals are sound then, faith can help...    hnc96s6   \n",
       "2  Contrary to popular belief, until Modi, India ...    giqnuc2   \n",
       "3  Bro inhone bahut land hijack kiya hai kisse pa...    iq3l8o5   \n",
       "4  The 1.9 million denied citizenship in Assam al...    fbtqycg   \n",
       "\n",
       "                                                 url  target  toxicity  \\\n",
       "0  /r/IndiaSpeaks/comments/z5u6kf/bjp_gujarat_202...    0.00      0.33   \n",
       "1  /r/IndiaSpeaks/comments/r9df3s/rajasthan_bjp_m...    0.75      0.33   \n",
       "2  /r/india/comments/ku5i9f/the_new_indian_if_tru...   -0.50      0.00   \n",
       "3  /r/IndiaSpeaks/comments/xpb83d/kejriwal_says_t...   -0.25      0.00   \n",
       "4  /r/india/comments/ee11sp/the_picture_pretty_mu...   -1.00      0.00   \n",
       "\n",
       "   left_features  right_features  sentiment_features  \n",
       "0              2               2              0.9699  \n",
       "1              2               1              0.8937  \n",
       "2              0               8              0.4215  \n",
       "3              0               0             -0.8720  \n",
       "4              1               2             -0.0387  "
      ]
     },
     "execution_count": 82,
     "metadata": {},
     "output_type": "execute_result"
    }
   ],
   "source": [
    "tox_train_df['left_features'] = tox_train_df.apply(lambda x: sum(feature_extraction(x['clean_comment'])[:len(left_terms)]), axis=1)\n",
    "tox_train_df['right_features'] = tox_train_df.apply(lambda x: sum(feature_extraction(x['clean_comment'])[len(left_terms):]), axis=1)\n",
    "tox_train_df['sentiment_features'] = tox_train_df.apply(lambda x: vader.polarity_scores(x['clean_comment'])['compound'], axis=1)\n",
    "tox_train_df.head()"
   ]
  },
  {
   "cell_type": "code",
   "execution_count": 83,
   "id": "b53e4a8b",
   "metadata": {},
   "outputs": [
    {
     "data": {
      "text/html": [
       "<div>\n",
       "<style scoped>\n",
       "    .dataframe tbody tr th:only-of-type {\n",
       "        vertical-align: middle;\n",
       "    }\n",
       "\n",
       "    .dataframe tbody tr th {\n",
       "        vertical-align: top;\n",
       "    }\n",
       "\n",
       "    .dataframe thead th {\n",
       "        text-align: right;\n",
       "    }\n",
       "</style>\n",
       "<table border=\"1\" class=\"dataframe\">\n",
       "  <thead>\n",
       "    <tr style=\"text-align: right;\">\n",
       "      <th></th>\n",
       "      <th>clean_title</th>\n",
       "      <th>clean_comment</th>\n",
       "      <th>comment_id</th>\n",
       "      <th>url</th>\n",
       "      <th>target</th>\n",
       "      <th>toxicity</th>\n",
       "      <th>left_features</th>\n",
       "      <th>right_features</th>\n",
       "      <th>sentiment_features</th>\n",
       "    </tr>\n",
       "  </thead>\n",
       "  <tbody>\n",
       "    <tr>\n",
       "      <th>0</th>\n",
       "      <td>ResignModi trending in India on 1 with 200k tw...</td>\n",
       "      <td>People tend to look down on \"social media acti...</td>\n",
       "      <td>gwe056n</td>\n",
       "      <td>/r/india/comments/n11sqc/resignmodi_trending_i...</td>\n",
       "      <td>-0.5</td>\n",
       "      <td>0.00</td>\n",
       "      <td>4</td>\n",
       "      <td>1</td>\n",
       "      <td>-0.5594</td>\n",
       "    </tr>\n",
       "    <tr>\n",
       "      <th>1</th>\n",
       "      <td>Put 'The Kashmir Files' on YouTube, everyone w...</td>\n",
       "      <td>I remember it was made to release twice, and t...</td>\n",
       "      <td>i1y3pv3</td>\n",
       "      <td>/r/india/comments/tmcun4/put_the_kashmir_files...</td>\n",
       "      <td>0.0</td>\n",
       "      <td>0.00</td>\n",
       "      <td>0</td>\n",
       "      <td>0</td>\n",
       "      <td>0.5849</td>\n",
       "    </tr>\n",
       "    <tr>\n",
       "      <th>2</th>\n",
       "      <td>Kejriwal says 'The Kashmir Files' is a jhoothi...</td>\n",
       "      <td>Bhai delhi m hindu bht h but ye aur caste k lo...</td>\n",
       "      <td>i21haf8</td>\n",
       "      <td>/r/IndiaSpeaks/comments/tmhqqg/kejriwal_says_t...</td>\n",
       "      <td>0.5</td>\n",
       "      <td>0.00</td>\n",
       "      <td>0</td>\n",
       "      <td>1</td>\n",
       "      <td>0.8807</td>\n",
       "    </tr>\n",
       "    <tr>\n",
       "      <th>3</th>\n",
       "      <td>Government of India has Blacklisted Karl Rock ...</td>\n",
       "      <td>mahatma gandhi's shadows are fading. retards w...</td>\n",
       "      <td>h4lazw7</td>\n",
       "      <td>/r/india/comments/ogrc0d/government_of_india_h...</td>\n",
       "      <td>-1.0</td>\n",
       "      <td>0.33</td>\n",
       "      <td>2</td>\n",
       "      <td>5</td>\n",
       "      <td>-0.2960</td>\n",
       "    </tr>\n",
       "    <tr>\n",
       "      <th>4</th>\n",
       "      <td>Kejriwal says 'The Kashmir Files' is a jhoothi...</td>\n",
       "      <td>Isn't this kejru the same guy who kept tweetin...</td>\n",
       "      <td>i1yrkwx</td>\n",
       "      <td>/r/IndiaSpeaks/comments/tmhqqg/kejriwal_says_t...</td>\n",
       "      <td>0.5</td>\n",
       "      <td>0.00</td>\n",
       "      <td>0</td>\n",
       "      <td>0</td>\n",
       "      <td>0.4404</td>\n",
       "    </tr>\n",
       "  </tbody>\n",
       "</table>\n",
       "</div>"
      ],
      "text/plain": [
       "                                         clean_title  \\\n",
       "0  ResignModi trending in India on 1 with 200k tw...   \n",
       "1  Put 'The Kashmir Files' on YouTube, everyone w...   \n",
       "2  Kejriwal says 'The Kashmir Files' is a jhoothi...   \n",
       "3  Government of India has Blacklisted Karl Rock ...   \n",
       "4  Kejriwal says 'The Kashmir Files' is a jhoothi...   \n",
       "\n",
       "                                       clean_comment comment_id  \\\n",
       "0  People tend to look down on \"social media acti...    gwe056n   \n",
       "1  I remember it was made to release twice, and t...    i1y3pv3   \n",
       "2  Bhai delhi m hindu bht h but ye aur caste k lo...    i21haf8   \n",
       "3  mahatma gandhi's shadows are fading. retards w...    h4lazw7   \n",
       "4  Isn't this kejru the same guy who kept tweetin...    i1yrkwx   \n",
       "\n",
       "                                                 url  target  toxicity  \\\n",
       "0  /r/india/comments/n11sqc/resignmodi_trending_i...    -0.5      0.00   \n",
       "1  /r/india/comments/tmcun4/put_the_kashmir_files...     0.0      0.00   \n",
       "2  /r/IndiaSpeaks/comments/tmhqqg/kejriwal_says_t...     0.5      0.00   \n",
       "3  /r/india/comments/ogrc0d/government_of_india_h...    -1.0      0.33   \n",
       "4  /r/IndiaSpeaks/comments/tmhqqg/kejriwal_says_t...     0.5      0.00   \n",
       "\n",
       "   left_features  right_features  sentiment_features  \n",
       "0              4               1             -0.5594  \n",
       "1              0               0              0.5849  \n",
       "2              0               1              0.8807  \n",
       "3              2               5             -0.2960  \n",
       "4              0               0              0.4404  "
      ]
     },
     "execution_count": 83,
     "metadata": {},
     "output_type": "execute_result"
    }
   ],
   "source": [
    "tox_eval_df['left_features'] = tox_eval_df.apply(lambda x: sum(feature_extraction(x['clean_comment'])[:len(left_terms)]), axis=1)\n",
    "tox_eval_df['right_features'] = tox_eval_df.apply(lambda x: sum(feature_extraction(x['clean_comment'])[len(left_terms):]), axis=1)\n",
    "tox_eval_df['sentiment_features'] = tox_eval_df.apply(lambda x: vader.polarity_scores(x['clean_comment'])['compound'], axis=1)\n",
    "tox_eval_df.head()"
   ]
  },
  {
   "cell_type": "code",
   "execution_count": 145,
   "id": "1a403753",
   "metadata": {},
   "outputs": [
    {
     "name": "stdout",
     "output_type": "stream",
     "text": [
      "              precision    recall  f1-score   support\n",
      "\n",
      " Non-neutral       0.79      0.72      0.75       586\n",
      "     Neutral       0.65      0.72      0.68       414\n",
      "\n",
      "    accuracy                           0.72      1000\n",
      "   macro avg       0.72      0.72      0.72      1000\n",
      "weighted avg       0.73      0.72      0.72      1000\n",
      "\n"
     ]
    }
   ],
   "source": [
    "X_train = tox_train_df[['clean_comment', 'toxicity', 'left_features', 'right_features', 'sentiment_features']].copy()\n",
    "y_train = pd.Series([np.sign(x)+1 for x in list(tox_train_df['target'])])\n",
    "X_test = tox_eval_df[['clean_comment', 'toxicity', 'left_features', 'right_features', 'sentiment_features']].copy()\n",
    "y_test = pd.Series([np.sign(x)+1 for x in list(tox_eval_df['target'])])\n",
    "\n",
    "X_train_step1 = X_train.copy()\n",
    "X_test_step1 = X_test.copy()\n",
    "y_train_step1 = pd.Series([1-abs(np.sign(x)) for x in list(tox_train_df['target'])])\n",
    "y_test_step1 = pd.Series([1-abs(np.sign(x)) for x in list(tox_eval_df['target'])])\n",
    "\n",
    "# Define the preprocessing steps for the text and float features\n",
    "text_transformer = TfidfVectorizer(ngram_range=(1, 2), analyzer='word', vocabulary=word_voc)\n",
    "\n",
    "# Combine the preprocessing steps using ColumnTransformer\n",
    "preprocessor = ColumnTransformer(\n",
    "    transformers=[\n",
    "        ('text', text_transformer, 'clean_comment'),\n",
    "        ('num', StandardScaler(), ['left_features', 'right_features'])\n",
    "    ], remainder='passthrough')\n",
    "\n",
    "# Step 1: Predict neutral or non-neutral\n",
    "pipeline_step1 = Pipeline([\n",
    "    ('preprocessor', preprocessor),\n",
    "    ('clf', xg.XGBClassifier(n_estimators=100, max_depth=4, learning_rate=0.05))\n",
    "])\n",
    "pipeline_step1.fit(X_train_step1, y_train_step1)\n",
    "\n",
    "# Predictions of step 1\n",
    "y_pred_step1 = pipeline_step1.predict(X_test_step1)\n",
    "\n",
    "# Print the classification report for the 1st predictions\n",
    "print(classification_report(y_test_step1, y_pred_step1, target_names=['Non-neutral', 'Neutral']))"
   ]
  },
  {
   "cell_type": "code",
   "execution_count": 146,
   "id": "a13f850a",
   "metadata": {},
   "outputs": [
    {
     "name": "stdout",
     "output_type": "stream",
     "text": [
      "              precision    recall  f1-score   support\n",
      "\n",
      "        Left       0.51      0.53      0.52       335\n",
      "     Neutral       0.65      0.72      0.68       414\n",
      "       Right       0.47      0.35      0.41       251\n",
      "\n",
      "    accuracy                           0.57      1000\n",
      "   macro avg       0.54      0.54      0.54      1000\n",
      "weighted avg       0.56      0.57      0.56      1000\n",
      "\n"
     ]
    }
   ],
   "source": [
    "# Step 2: Predict left or right based on the output of step 1\n",
    "\n",
    "X_train_step2 = X_train[y_train != 1]\n",
    "X_train_step2 = X_train_step2[['clean_comment']]#, 'left_features', 'right_features']]\n",
    "y_train_step2 = y_train[y_train != 1]//2\n",
    "# X_train_step2, y_train_step2 = rus.fit_resample(X_train_step2, y_train_step2)\n",
    "\n",
    "X_test_step2 = X_test[y_pred_step1 != 1]\n",
    "X_test_step2 = X_test_step2[['clean_comment']]#, 'left_features', 'right_features']]\n",
    "# y_test_step2 = y_test[y_pred_step1 != 1]\n",
    "\n",
    "# Define the preprocessing steps for the text and float features\n",
    "text_transformer = TfidfVectorizer(max_features=20_000, analyzer='char_wb', ngram_range=(3,7))\n",
    "\n",
    "# Combine the preprocessing steps using ColumnTransformer\n",
    "preprocessor = ColumnTransformer(\n",
    "    transformers=[\n",
    "        ('text', text_transformer, 'clean_comment')\n",
    "        # ('num', StandardScaler(), ['left_features', 'right_features'])\n",
    "    ], remainder='passthrough')\n",
    "\n",
    "# Step 2: Predict left or right\n",
    "pipeline_step2 = Pipeline([\n",
    "    ('preprocessor', preprocessor),\n",
    "    ('clf', xg.XGBClassifier(n_estimators=100, max_depth=10, learning_rate=0.05))\n",
    "])\n",
    "pipeline_step2.fit(X_train_step2, y_train_step2)\n",
    "\n",
    "# Predictions of step 2\n",
    "y_pred_step2 = pipeline_step2.predict(X_test_step2)\n",
    "\n",
    "# Combine the predictions of step 1 and step 2\n",
    "y_pred_step2 = y_pred_step2*2\n",
    "y_pred = y_pred_step1.copy()\n",
    "y_pred[y_pred_step1 != 1] = y_pred_step2\n",
    "\n",
    "# Print the classification report for the combined predictions\n",
    "print(classification_report(y_test, y_pred, target_names=['Left', 'Neutral', 'Right']))"
   ]
  },
  {
   "cell_type": "code",
   "execution_count": 86,
   "id": "32ecd3be",
   "metadata": {},
   "outputs": [],
   "source": [
    "y_2step = y_pred"
   ]
  },
  {
   "cell_type": "code",
   "execution_count": null,
   "id": "e652d654",
   "metadata": {},
   "outputs": [],
   "source": []
  },
  {
   "cell_type": "markdown",
   "id": "c53a8490",
   "metadata": {},
   "source": [
    "## Ensemble of Models"
   ]
  },
  {
   "cell_type": "code",
   "execution_count": null,
   "id": "b09681ae",
   "metadata": {},
   "outputs": [],
   "source": [
    "# we have the models and accuracies:\n",
    "# y_rule_based    0.519\n",
    "# y_feat_ext      0.574\n",
    "# y_feat_pca      0.562\n",
    "# y_w_tfidf       0.581\n",
    "# y_tfidf_pca     0.572\n",
    "# y_sw_tfidf      0.563\n",
    "# y_aug           0.541\n",
    "# y_bert_frozen   0.518\n",
    "# y_2step         0.57"
   ]
  },
  {
   "cell_type": "code",
   "execution_count": 87,
   "id": "03fcd08c",
   "metadata": {},
   "outputs": [],
   "source": [
    "def majority_voting(pred_list):\n",
    "    # provide in decreasing order of confidence for tie-breaks\n",
    "    n = len(pred_list[0])\n",
    "    y_ensembled = []\n",
    "    for i in range(n):\n",
    "        temp = [x[i] for x in pred_list]\n",
    "        y_ensembled.append(Counter(temp).most_common(1)[0][0])\n",
    "    return y_ensembled"
   ]
  },
  {
   "cell_type": "code",
   "execution_count": 88,
   "id": "1fa28baf",
   "metadata": {},
   "outputs": [
    {
     "name": "stdout",
     "output_type": "stream",
     "text": [
      "3-class classification accuracy: 0.591\n"
     ]
    }
   ],
   "source": [
    "# y_ensembled = majority_voting([y_feat_ext, y_sw_tfidf, y_feat_pca, y_aug, y_w_tfidf, y_bert_frozen, y_rule_based, y_tfidf_pca])\n",
    "y_ensembled = majority_voting([y_w_tfidf, y_feat_ext, y_tfidf_pca, y_2step, y_sw_tfidf, y_feat_pca, y_aug])\n",
    "y_test = [np.sign(x)+1 for x in list(eval_df['target'])]\n",
    "y_pred = y_ensembled\n",
    "print(\"3-class classification accuracy:\", np.mean([int(y_test[i]==y_pred[i]) for i in range(len(y_test))]))"
   ]
  },
  {
   "cell_type": "code",
   "execution_count": 89,
   "id": "af042123",
   "metadata": {},
   "outputs": [
    {
     "data": {
      "text/plain": [
       "array([[159, 143,  33],\n",
       "       [ 41, 358,  15],\n",
       "       [ 71, 106,  74]], dtype=int64)"
      ]
     },
     "execution_count": 89,
     "metadata": {},
     "output_type": "execute_result"
    }
   ],
   "source": [
    "confusion_matrix(y_test, y_pred)"
   ]
  },
  {
   "cell_type": "code",
   "execution_count": 90,
   "id": "9fbbbfca",
   "metadata": {},
   "outputs": [
    {
     "name": "stdout",
     "output_type": "stream",
     "text": [
      "              precision    recall  f1-score   support\n",
      "\n",
      "        Left       0.59      0.47      0.52       335\n",
      "     Neutral       0.59      0.86      0.70       414\n",
      "       Right       0.61      0.29      0.40       251\n",
      "\n",
      "    accuracy                           0.59      1000\n",
      "   macro avg       0.59      0.54      0.54      1000\n",
      "weighted avg       0.59      0.59      0.57      1000\n",
      "\n"
     ]
    }
   ],
   "source": [
    "print(classification_report(y_test, y_pred, target_names=['Left', 'Neutral', 'Right']))"
   ]
  },
  {
   "cell_type": "code",
   "execution_count": null,
   "id": "cd369363",
   "metadata": {},
   "outputs": [],
   "source": []
  },
  {
   "cell_type": "code",
   "execution_count": 91,
   "id": "87260e0d",
   "metadata": {},
   "outputs": [],
   "source": [
    "def weighted_avg(pred_list):\n",
    "    # pred_list should contain tuples of (y_pred, weight)\n",
    "    n = len(pred_list[0][0])\n",
    "    y_ensembled = []\n",
    "    weight_sum = sum([m[1] for m in pred_list])\n",
    "    for i in range(n):\n",
    "        score = 0\n",
    "        for m in pred_list:\n",
    "            score += m[0][i]*m[1]/weight_sum\n",
    "        y_ensembled.append(score-1)\n",
    "    return y_ensembled"
   ]
  },
  {
   "cell_type": "code",
   "execution_count": 139,
   "id": "00363718",
   "metadata": {},
   "outputs": [],
   "source": [
    "y_ensembled = weighted_avg([(y_w_tfidf, 6), \n",
    "                            (y_feat_ext, 6), \n",
    "                            (y_tfidf_pca, 5), \n",
    "                            (y_sw_tfidf, 5), \n",
    "                            (y_feat_pca, 5),\n",
    "                            (y_2step, 6),\n",
    "                            (y_aug, 3), \n",
    "                            (y_rule_based, 0), \n",
    "                            (y_bert_frozen, 0)])"
   ]
  },
  {
   "cell_type": "code",
   "execution_count": 121,
   "id": "ae9e62af",
   "metadata": {},
   "outputs": [
    {
     "data": {
      "text/plain": [
       "(array([ 96.,  57.,  61.,  81., 104., 488.,  43.,  21.,  16.,  33.]),\n",
       " array([-1. , -0.8, -0.6, -0.4, -0.2,  0. ,  0.2,  0.4,  0.6,  0.8,  1. ]),\n",
       " <BarContainer object of 10 artists>)"
      ]
     },
     "execution_count": 121,
     "metadata": {},
     "output_type": "execute_result"
    },
    {
     "data": {
      "image/png": "[encoded data removed]",
      "text/plain": [
       "<Figure size 432x288 with 1 Axes>"
      ]
     },
     "metadata": {
      "needs_background": "light"
     },
     "output_type": "display_data"
    }
   ],
   "source": [
    "plt.hist(y_ensembled)"
   ]
  },
  {
   "cell_type": "code",
   "execution_count": 122,
   "id": "11873566",
   "metadata": {},
   "outputs": [
    {
     "data": {
      "text/plain": [
       "<AxesSubplot:ylabel='Density'>"
      ]
     },
     "execution_count": 122,
     "metadata": {},
     "output_type": "execute_result"
    },
    {
     "data": {
      "image/png": "[encoded data removed]",
      "text/plain": [
       "<Figure size 432x288 with 1 Axes>"
      ]
     },
     "metadata": {
      "needs_background": "light"
     },
     "output_type": "display_data"
    }
   ],
   "source": [
    "pd.DataFrame(y_ensembled).plot.kde()\n",
    "eval_df['target'].plot.kde()"
   ]
  },
  {
   "cell_type": "code",
   "execution_count": 140,
   "id": "caed40e8",
   "metadata": {},
   "outputs": [
    {
     "name": "stdout",
     "output_type": "stream",
     "text": [
      "3-class classification accuracy: 0.589\n"
     ]
    }
   ],
   "source": [
    "# y_pred = [conv_to_label(x, threshold=0.1)+1 for x in y_ensembled]\n",
    "y_pred = [1 if -0.2<x<0.1 else np.sign(x)+1 for x in y_ensembled]\n",
    "print(\"3-class classification accuracy:\", np.mean([int(y_test[i]==y_pred[i]) for i in range(len(y_test))]))"
   ]
  },
  {
   "cell_type": "code",
   "execution_count": 141,
   "id": "f689fea1",
   "metadata": {},
   "outputs": [
    {
     "data": {
      "text/plain": [
       "array([[174, 119,  42],\n",
       "       [ 51, 327,  36],\n",
       "       [ 70,  93,  88]], dtype=int64)"
      ]
     },
     "execution_count": 141,
     "metadata": {},
     "output_type": "execute_result"
    }
   ],
   "source": [
    "confusion_matrix(y_test, y_pred)"
   ]
  },
  {
   "cell_type": "code",
   "execution_count": 142,
   "id": "b94b0849",
   "metadata": {},
   "outputs": [
    {
     "name": "stdout",
     "output_type": "stream",
     "text": [
      "              precision    recall  f1-score   support\n",
      "\n",
      "        Left       0.59      0.52      0.55       335\n",
      "     Neutral       0.61      0.79      0.69       414\n",
      "       Right       0.53      0.35      0.42       251\n",
      "\n",
      "    accuracy                           0.59      1000\n",
      "   macro avg       0.58      0.55      0.55      1000\n",
      "weighted avg       0.58      0.59      0.58      1000\n",
      "\n"
     ]
    }
   ],
   "source": [
    "print(classification_report(y_test, y_pred, target_names=['Left', 'Neutral', 'Right']))"
   ]
  },
  {
   "cell_type": "code",
   "execution_count": null,
   "id": "070c95d4",
   "metadata": {},
   "outputs": [],
   "source": []
  },
  {
   "cell_type": "markdown",
   "id": "1e64fa9f",
   "metadata": {},
   "source": [
    "## Propagating results of ensemble"
   ]
  },
  {
   "cell_type": "code",
   "execution_count": 126,
   "id": "9188dad8",
   "metadata": {},
   "outputs": [],
   "source": [
    "with open('backup_before_reindex.json', 'r') as fileobj:\n",
    "    full_records = json.load(fileobj)"
   ]
  },
  {
   "cell_type": "code",
   "execution_count": 127,
   "id": "25877bbb",
   "metadata": {},
   "outputs": [
    {
     "data": {
      "text/plain": [
       "[{'submission_id': 'zpre2v',\n",
       "  'submission_title': '\"2 Judges Can\\'t Decide\": BJP MP\\'s Strong Objection On Same-Sex Marriages',\n",
       "  'subreddit_id': '3d4x4',\n",
       "  'subreddit_name': 't5_3d4x4',\n",
       "  'comment_id': 'j0uassz',\n",
       "  'comment': 'Lets take the argument that its not provided in Indian culture. OK, SO WHAT ? There is no provision saying we have to live according to Indian culture only. We have to live according to our rights and duties in the Constitution and the laws based on it. Dont make Gay Marriage in Hindu Marriage Act, but Special Marriage Act exists so that non-dharmic marriages can exist. Whats the problem there ? Forcing people to live according to your culture is tyranny.',\n",
       "  'timestamp': '2022-12-19T21:58:40',\n",
       "  'url': '/r/IndiaSpeaks/comments/zpre2v/2_judges_cant_decide_bjp_mps_strong_objection_on/j0uassz/',\n",
       "  'reddit_score': 68,\n",
       "  'redditor_id': 'bu6k2huu',\n",
       "  'id': '4b5f4c75-9914-4a6d-be95-5b753d4200e6',\n",
       "  '_version_': 1760900444169699328},\n",
       " {'submission_id': 'zpre2v',\n",
       "  'submission_title': '\"2 Judges Can\\'t Decide\": BJP MP\\'s Strong Objection On Same-Sex Marriages',\n",
       "  'subreddit_id': '3d4x4',\n",
       "  'subreddit_name': 't5_3d4x4',\n",
       "  'comment_id': 'j0vbu5s',\n",
       "  'comment': \"Bullshit. If same sex wants to get married they get married. Why the all powerful God is not interfereing? \\n\\nWhy the god wish let the same sex attract each other? All powerful right? Why the god can't wire human beings as just heterosexuals?\",\n",
       "  'timestamp': '2022-12-20T02:17:15',\n",
       "  'url': '/r/IndiaSpeaks/comments/zpre2v/2_judges_cant_decide_bjp_mps_strong_objection_on/j0vbu5s/',\n",
       "  'reddit_score': 11,\n",
       "  'redditor_id': 'di592y39',\n",
       "  'id': '3b1289cc-f03a-4efa-a200-e27f3afb3d09',\n",
       "  '_version_': 1760900444174942208},\n",
       " {'submission_id': 'zpre2v',\n",
       "  'submission_title': '\"2 Judges Can\\'t Decide\": BJP MP\\'s Strong Objection On Same-Sex Marriages',\n",
       "  'subreddit_id': '3d4x4',\n",
       "  'subreddit_name': 't5_3d4x4',\n",
       "  'comment_id': 'j0wkxz5',\n",
       "  'comment': \"I don't support this MP's views culture has open gay and LGBT elements rather that being banned in the culture..  kuch bhi?\\nWe even have intersex god avarar of Mahadev, Ardhanareshwar\",\n",
       "  'timestamp': '2022-12-20T07:19:05',\n",
       "  'url': '/r/IndiaSpeaks/comments/zpre2v/2_judges_cant_decide_bjp_mps_strong_objection_on/j0wkxz5/',\n",
       "  'reddit_score': 5,\n",
       "  'redditor_id': '3twfreo5',\n",
       "  'id': 'fc431a8c-e233-46e2-adfe-7eba939c1723',\n",
       "  '_version_': 1760900444175990784}]"
      ]
     },
     "execution_count": 127,
     "metadata": {},
     "output_type": "execute_result"
    }
   ],
   "source": [
    "full_records[:3]"
   ]
  },
  {
   "cell_type": "code",
   "execution_count": 128,
   "id": "e44a539a",
   "metadata": {},
   "outputs": [
    {
     "data": {
      "text/html": [
       "<div>\n",
       "<style scoped>\n",
       "    .dataframe tbody tr th:only-of-type {\n",
       "        vertical-align: middle;\n",
       "    }\n",
       "\n",
       "    .dataframe tbody tr th {\n",
       "        vertical-align: top;\n",
       "    }\n",
       "\n",
       "    .dataframe thead th {\n",
       "        text-align: right;\n",
       "    }\n",
       "</style>\n",
       "<table border=\"1\" class=\"dataframe\">\n",
       "  <thead>\n",
       "    <tr style=\"text-align: right;\">\n",
       "      <th></th>\n",
       "      <th>comment_id</th>\n",
       "      <th>clean_comment</th>\n",
       "    </tr>\n",
       "  </thead>\n",
       "  <tbody>\n",
       "    <tr>\n",
       "      <th>0</th>\n",
       "      <td>j0uassz</td>\n",
       "      <td>Lets take the argument that its not provided i...</td>\n",
       "    </tr>\n",
       "    <tr>\n",
       "      <th>1</th>\n",
       "      <td>j0vbu5s</td>\n",
       "      <td>Bullshit. If same sex wants to get married the...</td>\n",
       "    </tr>\n",
       "    <tr>\n",
       "      <th>2</th>\n",
       "      <td>j0wkxz5</td>\n",
       "      <td>I don't support this MP's views culture has op...</td>\n",
       "    </tr>\n",
       "    <tr>\n",
       "      <th>3</th>\n",
       "      <td>j0w3jyf</td>\n",
       "      <td>Mark my words, BJP is building the nation with...</td>\n",
       "    </tr>\n",
       "    <tr>\n",
       "      <th>4</th>\n",
       "      <td>j0uq3k8</td>\n",
       "      <td>Ok tbh is he...? And on top of all how favouri...</td>\n",
       "    </tr>\n",
       "    <tr>\n",
       "      <th>...</th>\n",
       "      <td>...</td>\n",
       "      <td>...</td>\n",
       "    </tr>\n",
       "    <tr>\n",
       "      <th>6674</th>\n",
       "      <td>ffqq001</td>\n",
       "      <td>the 20 have drunk the koolaid. In the last ele...</td>\n",
       "    </tr>\n",
       "    <tr>\n",
       "      <th>6675</th>\n",
       "      <td>ffq6zn1</td>\n",
       "      <td>Not really possible. Rest of India, elections ...</td>\n",
       "    </tr>\n",
       "    <tr>\n",
       "      <th>6676</th>\n",
       "      <td>ffq9dxt</td>\n",
       "      <td>I think that cant be further from the truth. S...</td>\n",
       "    </tr>\n",
       "    <tr>\n",
       "      <th>6677</th>\n",
       "      <td>ffqcpfc</td>\n",
       "      <td>If they focused on campaigning in urban areas ...</td>\n",
       "    </tr>\n",
       "    <tr>\n",
       "      <th>6678</th>\n",
       "      <td>ffqa1nt</td>\n",
       "      <td>They tried really hard in Maharashtra. Anajali...</td>\n",
       "    </tr>\n",
       "  </tbody>\n",
       "</table>\n",
       "<p>6674 rows × 2 columns</p>\n",
       "</div>"
      ],
      "text/plain": [
       "     comment_id                                      clean_comment\n",
       "0       j0uassz  Lets take the argument that its not provided i...\n",
       "1       j0vbu5s  Bullshit. If same sex wants to get married the...\n",
       "2       j0wkxz5  I don't support this MP's views culture has op...\n",
       "3       j0w3jyf  Mark my words, BJP is building the nation with...\n",
       "4       j0uq3k8  Ok tbh is he...? And on top of all how favouri...\n",
       "...         ...                                                ...\n",
       "6674    ffqq001  the 20 have drunk the koolaid. In the last ele...\n",
       "6675    ffq6zn1  Not really possible. Rest of India, elections ...\n",
       "6676    ffq9dxt  I think that cant be further from the truth. S...\n",
       "6677    ffqcpfc  If they focused on campaigning in urban areas ...\n",
       "6678    ffqa1nt  They tried really hard in Maharashtra. Anajali...\n",
       "\n",
       "[6674 rows x 2 columns]"
      ]
     },
     "execution_count": 128,
     "metadata": {},
     "output_type": "execute_result"
    }
   ],
   "source": [
    "cids = []\n",
    "comments = []\n",
    "for record in full_records:\n",
    "    cids.append(record['comment_id'])\n",
    "    comments.append(clean_text(record['comment']))\n",
    "final_preds = pd.DataFrame.from_dict({'comment_id':cids, 'clean_comment':comments})\n",
    "final_preds['clean_comment'].replace('', np.nan, inplace=True)\n",
    "final_preds.dropna(inplace=True)\n",
    "final_preds"
   ]
  },
  {
   "cell_type": "code",
   "execution_count": 129,
   "id": "22342e7c",
   "metadata": {},
   "outputs": [
    {
     "name": "stdout",
     "output_type": "stream",
     "text": [
      "1999 1999 6674\n"
     ]
    },
    {
     "data": {
      "text/html": [
       "<div>\n",
       "<style scoped>\n",
       "    .dataframe tbody tr th:only-of-type {\n",
       "        vertical-align: middle;\n",
       "    }\n",
       "\n",
       "    .dataframe tbody tr th {\n",
       "        vertical-align: top;\n",
       "    }\n",
       "\n",
       "    .dataframe thead th {\n",
       "        text-align: right;\n",
       "    }\n",
       "</style>\n",
       "<table border=\"1\" class=\"dataframe\">\n",
       "  <thead>\n",
       "    <tr style=\"text-align: right;\">\n",
       "      <th></th>\n",
       "      <th>comment_id</th>\n",
       "      <th>clean_comment</th>\n",
       "      <th>y_feat_ext</th>\n",
       "    </tr>\n",
       "  </thead>\n",
       "  <tbody>\n",
       "    <tr>\n",
       "      <th>0</th>\n",
       "      <td>j0uassz</td>\n",
       "      <td>Lets take the argument that its not provided i...</td>\n",
       "      <td>0</td>\n",
       "    </tr>\n",
       "    <tr>\n",
       "      <th>1</th>\n",
       "      <td>j0vbu5s</td>\n",
       "      <td>Bullshit. If same sex wants to get married the...</td>\n",
       "      <td>1</td>\n",
       "    </tr>\n",
       "    <tr>\n",
       "      <th>2</th>\n",
       "      <td>j0wkxz5</td>\n",
       "      <td>I don't support this MP's views culture has op...</td>\n",
       "      <td>1</td>\n",
       "    </tr>\n",
       "    <tr>\n",
       "      <th>3</th>\n",
       "      <td>j0w3jyf</td>\n",
       "      <td>Mark my words, BJP is building the nation with...</td>\n",
       "      <td>0</td>\n",
       "    </tr>\n",
       "    <tr>\n",
       "      <th>4</th>\n",
       "      <td>j0uq3k8</td>\n",
       "      <td>Ok tbh is he...? And on top of all how favouri...</td>\n",
       "      <td>1</td>\n",
       "    </tr>\n",
       "  </tbody>\n",
       "</table>\n",
       "</div>"
      ],
      "text/plain": [
       "  comment_id                                      clean_comment  y_feat_ext\n",
       "0    j0uassz  Lets take the argument that its not provided i...           0\n",
       "1    j0vbu5s  Bullshit. If same sex wants to get married the...           1\n",
       "2    j0wkxz5  I don't support this MP's views culture has op...           1\n",
       "3    j0w3jyf  Mark my words, BJP is building the nation with...           0\n",
       "4    j0uq3k8  Ok tbh is he...? And on top of all how favouri...           1"
      ]
     },
     "execution_count": 129,
     "metadata": {},
     "output_type": "execute_result"
    }
   ],
   "source": [
    "# feature extraction model\n",
    "\n",
    "# getting train embeddings\n",
    "temp_df = train_df.copy()\n",
    "temp_df['extracted_features'] = temp_df.apply(lambda x: feature_extraction(x['clean_comment']), axis=1)\n",
    "temp_df['final_features'] = temp_df.apply(lambda x: add_sentiment_features(x['clean_comment'], x['extracted_features']), axis=1)\n",
    "X_train, y_train = list(temp_df['final_features']), [np.sign(x)+1 for x in list(temp_df['target'])]\n",
    "\n",
    "# getting prediction embeddings\n",
    "temp_df = final_preds.copy()\n",
    "temp_df['extracted_features'] = temp_df.apply(lambda x: feature_extraction(x['clean_comment']), axis=1)\n",
    "temp_df['final_features'] = temp_df.apply(lambda x: add_sentiment_features(x['clean_comment'], x['extracted_features']), axis=1)\n",
    "X_eval = list(temp_df['final_features'])\n",
    "\n",
    "print(len(X_train), len(y_train), len(X_eval))\n",
    "\n",
    "xgb = xg.XGBClassifier(n_estimators=100, max_depth=4, learning_rate=0.1)\n",
    "xgb.fit(X_train, y_train)\n",
    "final_preds['y_feat_ext'] = xgb.predict(X_eval)\n",
    "final_preds.head()"
   ]
  },
  {
   "cell_type": "code",
   "execution_count": 130,
   "id": "07ddb865",
   "metadata": {},
   "outputs": [
    {
     "name": "stdout",
     "output_type": "stream",
     "text": [
      "1999 1999 6674\n"
     ]
    },
    {
     "data": {
      "text/html": [
       "<div>\n",
       "<style scoped>\n",
       "    .dataframe tbody tr th:only-of-type {\n",
       "        vertical-align: middle;\n",
       "    }\n",
       "\n",
       "    .dataframe tbody tr th {\n",
       "        vertical-align: top;\n",
       "    }\n",
       "\n",
       "    .dataframe thead th {\n",
       "        text-align: right;\n",
       "    }\n",
       "</style>\n",
       "<table border=\"1\" class=\"dataframe\">\n",
       "  <thead>\n",
       "    <tr style=\"text-align: right;\">\n",
       "      <th></th>\n",
       "      <th>comment_id</th>\n",
       "      <th>clean_comment</th>\n",
       "      <th>y_feat_ext</th>\n",
       "      <th>y_feat_pca</th>\n",
       "    </tr>\n",
       "  </thead>\n",
       "  <tbody>\n",
       "    <tr>\n",
       "      <th>0</th>\n",
       "      <td>j0uassz</td>\n",
       "      <td>Lets take the argument that its not provided i...</td>\n",
       "      <td>0</td>\n",
       "      <td>2</td>\n",
       "    </tr>\n",
       "    <tr>\n",
       "      <th>1</th>\n",
       "      <td>j0vbu5s</td>\n",
       "      <td>Bullshit. If same sex wants to get married the...</td>\n",
       "      <td>1</td>\n",
       "      <td>1</td>\n",
       "    </tr>\n",
       "    <tr>\n",
       "      <th>2</th>\n",
       "      <td>j0wkxz5</td>\n",
       "      <td>I don't support this MP's views culture has op...</td>\n",
       "      <td>1</td>\n",
       "      <td>0</td>\n",
       "    </tr>\n",
       "    <tr>\n",
       "      <th>3</th>\n",
       "      <td>j0w3jyf</td>\n",
       "      <td>Mark my words, BJP is building the nation with...</td>\n",
       "      <td>0</td>\n",
       "      <td>0</td>\n",
       "    </tr>\n",
       "    <tr>\n",
       "      <th>4</th>\n",
       "      <td>j0uq3k8</td>\n",
       "      <td>Ok tbh is he...? And on top of all how favouri...</td>\n",
       "      <td>1</td>\n",
       "      <td>0</td>\n",
       "    </tr>\n",
       "  </tbody>\n",
       "</table>\n",
       "</div>"
      ],
      "text/plain": [
       "  comment_id                                      clean_comment  y_feat_ext  \\\n",
       "0    j0uassz  Lets take the argument that its not provided i...           0   \n",
       "1    j0vbu5s  Bullshit. If same sex wants to get married the...           1   \n",
       "2    j0wkxz5  I don't support this MP's views culture has op...           1   \n",
       "3    j0w3jyf  Mark my words, BJP is building the nation with...           0   \n",
       "4    j0uq3k8  Ok tbh is he...? And on top of all how favouri...           1   \n",
       "\n",
       "   y_feat_pca  \n",
       "0           2  \n",
       "1           1  \n",
       "2           0  \n",
       "3           0  \n",
       "4           0  "
      ]
     },
     "execution_count": 130,
     "metadata": {},
     "output_type": "execute_result"
    }
   ],
   "source": [
    "# feature extraction with pca and sentiment\n",
    "\n",
    "pca = PCA(n_components=8)\n",
    "\n",
    "# getting train embeddings\n",
    "temp_df = train_df.copy()\n",
    "temp_df['extracted_features'] = temp_df.apply(lambda x: feature_extraction(x['clean_comment']), axis=1)\n",
    "temp_df['extracted_features'] = pca.fit_transform(list(temp_df['extracted_features'])).tolist()  # fit transform PCA\n",
    "temp_df['final_features'] = temp_df.apply(lambda x: add_sentiment_features(x['clean_comment'], x['extracted_features']), axis=1)\n",
    "X_train, y_train = list(temp_df['final_features']), [np.sign(x)+1 for x in list(temp_df['target'])]\n",
    "\n",
    "# getting prediction embeddings\n",
    "temp_df = final_preds.copy()\n",
    "temp_df['extracted_features'] = temp_df.apply(lambda x: feature_extraction(x['clean_comment']), axis=1)\n",
    "temp_df['extracted_features'] = pca.transform(list(temp_df['extracted_features'])).tolist()  # transform PCA without re-fitting\n",
    "temp_df['final_features'] = temp_df.apply(lambda x: add_sentiment_features(x['clean_comment'], x['extracted_features']), axis=1)\n",
    "X_eval = list(temp_df['final_features'])\n",
    "\n",
    "print(len(X_train), len(y_train), len(X_eval))\n",
    "\n",
    "xgb = xg.XGBClassifier(n_estimators=100, max_depth=4, learning_rate=0.005)\n",
    "xgb.fit(X_train, y_train)\n",
    "final_preds['y_feat_pca'] = xgb.predict(X_eval)\n",
    "final_preds.head()"
   ]
  },
  {
   "cell_type": "code",
   "execution_count": 131,
   "id": "f38a655f",
   "metadata": {},
   "outputs": [
    {
     "name": "stdout",
     "output_type": "stream",
     "text": [
      "(1999, 2248) (6674, 2248)\n"
     ]
    },
    {
     "data": {
      "text/html": [
       "<div>\n",
       "<style scoped>\n",
       "    .dataframe tbody tr th:only-of-type {\n",
       "        vertical-align: middle;\n",
       "    }\n",
       "\n",
       "    .dataframe tbody tr th {\n",
       "        vertical-align: top;\n",
       "    }\n",
       "\n",
       "    .dataframe thead th {\n",
       "        text-align: right;\n",
       "    }\n",
       "</style>\n",
       "<table border=\"1\" class=\"dataframe\">\n",
       "  <thead>\n",
       "    <tr style=\"text-align: right;\">\n",
       "      <th></th>\n",
       "      <th>comment_id</th>\n",
       "      <th>clean_comment</th>\n",
       "      <th>y_feat_ext</th>\n",
       "      <th>y_feat_pca</th>\n",
       "      <th>y_w_tfidf</th>\n",
       "    </tr>\n",
       "  </thead>\n",
       "  <tbody>\n",
       "    <tr>\n",
       "      <th>0</th>\n",
       "      <td>j0uassz</td>\n",
       "      <td>Lets take the argument that its not provided i...</td>\n",
       "      <td>0</td>\n",
       "      <td>2</td>\n",
       "      <td>0</td>\n",
       "    </tr>\n",
       "    <tr>\n",
       "      <th>1</th>\n",
       "      <td>j0vbu5s</td>\n",
       "      <td>Bullshit. If same sex wants to get married the...</td>\n",
       "      <td>1</td>\n",
       "      <td>1</td>\n",
       "      <td>1</td>\n",
       "    </tr>\n",
       "    <tr>\n",
       "      <th>2</th>\n",
       "      <td>j0wkxz5</td>\n",
       "      <td>I don't support this MP's views culture has op...</td>\n",
       "      <td>1</td>\n",
       "      <td>0</td>\n",
       "      <td>0</td>\n",
       "    </tr>\n",
       "    <tr>\n",
       "      <th>3</th>\n",
       "      <td>j0w3jyf</td>\n",
       "      <td>Mark my words, BJP is building the nation with...</td>\n",
       "      <td>0</td>\n",
       "      <td>0</td>\n",
       "      <td>0</td>\n",
       "    </tr>\n",
       "    <tr>\n",
       "      <th>4</th>\n",
       "      <td>j0uq3k8</td>\n",
       "      <td>Ok tbh is he...? And on top of all how favouri...</td>\n",
       "      <td>1</td>\n",
       "      <td>0</td>\n",
       "      <td>0</td>\n",
       "    </tr>\n",
       "  </tbody>\n",
       "</table>\n",
       "</div>"
      ],
      "text/plain": [
       "  comment_id                                      clean_comment  y_feat_ext  \\\n",
       "0    j0uassz  Lets take the argument that its not provided i...           0   \n",
       "1    j0vbu5s  Bullshit. If same sex wants to get married the...           1   \n",
       "2    j0wkxz5  I don't support this MP's views culture has op...           1   \n",
       "3    j0w3jyf  Mark my words, BJP is building the nation with...           0   \n",
       "4    j0uq3k8  Ok tbh is he...? And on top of all how favouri...           1   \n",
       "\n",
       "   y_feat_pca  y_w_tfidf  \n",
       "0           2          0  \n",
       "1           1          1  \n",
       "2           0          0  \n",
       "3           0          0  \n",
       "4           0          0  "
      ]
     },
     "execution_count": 131,
     "metadata": {},
     "output_type": "execute_result"
    }
   ],
   "source": [
    "# word level tfidf\n",
    "\n",
    "vectorizer = TfidfVectorizer(ngram_range=(1, 2), analyzer='word', vocabulary=word_voc)\n",
    "\n",
    "X_train = vectorizer.fit_transform(list(train_df['clean_comment']))\n",
    "X_eval = vectorizer.transform(list(final_preds['clean_comment']))\n",
    "y_train = [np.sign(x)+1 for x in list(train_df['target'])]\n",
    "\n",
    "print(X_train.shape, X_eval.shape)\n",
    "\n",
    "xgb = xg.XGBClassifier(n_estimators=100, max_depth=4, learning_rate=0.3)\n",
    "xgb.fit(X_train, y_train)\n",
    "final_preds['y_w_tfidf'] = xgb.predict(X_eval)\n",
    "final_preds.head()"
   ]
  },
  {
   "cell_type": "code",
   "execution_count": 132,
   "id": "191f9094",
   "metadata": {},
   "outputs": [
    {
     "data": {
      "text/html": [
       "<div>\n",
       "<style scoped>\n",
       "    .dataframe tbody tr th:only-of-type {\n",
       "        vertical-align: middle;\n",
       "    }\n",
       "\n",
       "    .dataframe tbody tr th {\n",
       "        vertical-align: top;\n",
       "    }\n",
       "\n",
       "    .dataframe thead th {\n",
       "        text-align: right;\n",
       "    }\n",
       "</style>\n",
       "<table border=\"1\" class=\"dataframe\">\n",
       "  <thead>\n",
       "    <tr style=\"text-align: right;\">\n",
       "      <th></th>\n",
       "      <th>comment_id</th>\n",
       "      <th>clean_comment</th>\n",
       "      <th>y_feat_ext</th>\n",
       "      <th>y_feat_pca</th>\n",
       "      <th>y_w_tfidf</th>\n",
       "      <th>y_tfidf_pca</th>\n",
       "    </tr>\n",
       "  </thead>\n",
       "  <tbody>\n",
       "    <tr>\n",
       "      <th>0</th>\n",
       "      <td>j0uassz</td>\n",
       "      <td>Lets take the argument that its not provided i...</td>\n",
       "      <td>0</td>\n",
       "      <td>2</td>\n",
       "      <td>0</td>\n",
       "      <td>1</td>\n",
       "    </tr>\n",
       "    <tr>\n",
       "      <th>1</th>\n",
       "      <td>j0vbu5s</td>\n",
       "      <td>Bullshit. If same sex wants to get married the...</td>\n",
       "      <td>1</td>\n",
       "      <td>1</td>\n",
       "      <td>1</td>\n",
       "      <td>1</td>\n",
       "    </tr>\n",
       "    <tr>\n",
       "      <th>2</th>\n",
       "      <td>j0wkxz5</td>\n",
       "      <td>I don't support this MP's views culture has op...</td>\n",
       "      <td>1</td>\n",
       "      <td>0</td>\n",
       "      <td>0</td>\n",
       "      <td>0</td>\n",
       "    </tr>\n",
       "    <tr>\n",
       "      <th>3</th>\n",
       "      <td>j0w3jyf</td>\n",
       "      <td>Mark my words, BJP is building the nation with...</td>\n",
       "      <td>0</td>\n",
       "      <td>0</td>\n",
       "      <td>0</td>\n",
       "      <td>0</td>\n",
       "    </tr>\n",
       "    <tr>\n",
       "      <th>4</th>\n",
       "      <td>j0uq3k8</td>\n",
       "      <td>Ok tbh is he...? And on top of all how favouri...</td>\n",
       "      <td>1</td>\n",
       "      <td>0</td>\n",
       "      <td>0</td>\n",
       "      <td>0</td>\n",
       "    </tr>\n",
       "  </tbody>\n",
       "</table>\n",
       "</div>"
      ],
      "text/plain": [
       "  comment_id                                      clean_comment  y_feat_ext  \\\n",
       "0    j0uassz  Lets take the argument that its not provided i...           0   \n",
       "1    j0vbu5s  Bullshit. If same sex wants to get married the...           1   \n",
       "2    j0wkxz5  I don't support this MP's views culture has op...           1   \n",
       "3    j0w3jyf  Mark my words, BJP is building the nation with...           0   \n",
       "4    j0uq3k8  Ok tbh is he...? And on top of all how favouri...           1   \n",
       "\n",
       "   y_feat_pca  y_w_tfidf  y_tfidf_pca  \n",
       "0           2          0            1  \n",
       "1           1          1            1  \n",
       "2           0          0            0  \n",
       "3           0          0            0  \n",
       "4           0          0            0  "
      ]
     },
     "execution_count": 132,
     "metadata": {},
     "output_type": "execute_result"
    }
   ],
   "source": [
    "# word tfidf with pca and sentiment\n",
    "\n",
    "vectorizer = TfidfVectorizer(ngram_range=(1, 2), analyzer='word', vocabulary=word_voc)\n",
    "tsvd = TruncatedSVD(n_components=200, random_state=123)\n",
    "\n",
    "temp_df = train_df.copy()\n",
    "X_train = vectorizer.fit_transform(list(temp_df['clean_comment']))\n",
    "temp_df['extracted_features'] = tsvd.fit_transform(X_train).tolist()\n",
    "temp_df['final_features'] = temp_df.apply(lambda x: add_sentiment_features(x['clean_comment'], x['extracted_features']), axis=1)\n",
    "X_train, y_train = list(temp_df['final_features']), [np.sign(x)+1 for x in list(temp_df['target'])]\n",
    "\n",
    "temp_df = final_preds.copy()\n",
    "X_eval = vectorizer.transform(list(temp_df['clean_comment']))\n",
    "temp_df['extracted_features'] = tsvd.transform(X_eval).tolist()\n",
    "temp_df['final_features'] = temp_df.apply(lambda x: add_sentiment_features(x['clean_comment'], x['extracted_features']), axis=1)\n",
    "X_eval = list(temp_df['final_features'])\n",
    "\n",
    "xgb = xg.XGBClassifier(n_estimators=100, max_depth=4, learning_rate=0.001)\n",
    "xgb.fit(X_train, y_train)\n",
    "final_preds['y_tfidf_pca'] = xgb.predict(X_eval)\n",
    "final_preds.head()"
   ]
  },
  {
   "cell_type": "code",
   "execution_count": 133,
   "id": "fff1da56",
   "metadata": {},
   "outputs": [
    {
     "name": "stdout",
     "output_type": "stream",
     "text": [
      "(1999, 222782) (6674, 222782)\n"
     ]
    },
    {
     "data": {
      "text/html": [
       "<div>\n",
       "<style scoped>\n",
       "    .dataframe tbody tr th:only-of-type {\n",
       "        vertical-align: middle;\n",
       "    }\n",
       "\n",
       "    .dataframe tbody tr th {\n",
       "        vertical-align: top;\n",
       "    }\n",
       "\n",
       "    .dataframe thead th {\n",
       "        text-align: right;\n",
       "    }\n",
       "</style>\n",
       "<table border=\"1\" class=\"dataframe\">\n",
       "  <thead>\n",
       "    <tr style=\"text-align: right;\">\n",
       "      <th></th>\n",
       "      <th>comment_id</th>\n",
       "      <th>clean_comment</th>\n",
       "      <th>y_feat_ext</th>\n",
       "      <th>y_feat_pca</th>\n",
       "      <th>y_w_tfidf</th>\n",
       "      <th>y_tfidf_pca</th>\n",
       "      <th>y_sw_tfidf</th>\n",
       "    </tr>\n",
       "  </thead>\n",
       "  <tbody>\n",
       "    <tr>\n",
       "      <th>0</th>\n",
       "      <td>j0uassz</td>\n",
       "      <td>Lets take the argument that its not provided i...</td>\n",
       "      <td>0</td>\n",
       "      <td>2</td>\n",
       "      <td>0</td>\n",
       "      <td>1</td>\n",
       "      <td>0</td>\n",
       "    </tr>\n",
       "    <tr>\n",
       "      <th>1</th>\n",
       "      <td>j0vbu5s</td>\n",
       "      <td>Bullshit. If same sex wants to get married the...</td>\n",
       "      <td>1</td>\n",
       "      <td>1</td>\n",
       "      <td>1</td>\n",
       "      <td>1</td>\n",
       "      <td>1</td>\n",
       "    </tr>\n",
       "    <tr>\n",
       "      <th>2</th>\n",
       "      <td>j0wkxz5</td>\n",
       "      <td>I don't support this MP's views culture has op...</td>\n",
       "      <td>1</td>\n",
       "      <td>0</td>\n",
       "      <td>0</td>\n",
       "      <td>0</td>\n",
       "      <td>0</td>\n",
       "    </tr>\n",
       "    <tr>\n",
       "      <th>3</th>\n",
       "      <td>j0w3jyf</td>\n",
       "      <td>Mark my words, BJP is building the nation with...</td>\n",
       "      <td>0</td>\n",
       "      <td>0</td>\n",
       "      <td>0</td>\n",
       "      <td>0</td>\n",
       "      <td>0</td>\n",
       "    </tr>\n",
       "    <tr>\n",
       "      <th>4</th>\n",
       "      <td>j0uq3k8</td>\n",
       "      <td>Ok tbh is he...? And on top of all how favouri...</td>\n",
       "      <td>1</td>\n",
       "      <td>0</td>\n",
       "      <td>0</td>\n",
       "      <td>0</td>\n",
       "      <td>1</td>\n",
       "    </tr>\n",
       "  </tbody>\n",
       "</table>\n",
       "</div>"
      ],
      "text/plain": [
       "  comment_id                                      clean_comment  y_feat_ext  \\\n",
       "0    j0uassz  Lets take the argument that its not provided i...           0   \n",
       "1    j0vbu5s  Bullshit. If same sex wants to get married the...           1   \n",
       "2    j0wkxz5  I don't support this MP's views culture has op...           1   \n",
       "3    j0w3jyf  Mark my words, BJP is building the nation with...           0   \n",
       "4    j0uq3k8  Ok tbh is he...? And on top of all how favouri...           1   \n",
       "\n",
       "   y_feat_pca  y_w_tfidf  y_tfidf_pca  y_sw_tfidf  \n",
       "0           2          0            1           0  \n",
       "1           1          1            1           1  \n",
       "2           0          0            0           0  \n",
       "3           0          0            0           0  \n",
       "4           0          0            0           1  "
      ]
     },
     "execution_count": 133,
     "metadata": {},
     "output_type": "execute_result"
    }
   ],
   "source": [
    "# subword tfidf\n",
    "\n",
    "vectorizer = TfidfVectorizer(ngram_range=(2, 10), analyzer='char_wb')\n",
    "\n",
    "X_train = vectorizer.fit_transform(list(train_df['clean_comment']))\n",
    "X_eval = vectorizer.transform(list(final_preds['clean_comment']))\n",
    "y_train = [np.sign(x)+1 for x in list(train_df['target'])]\n",
    "\n",
    "print(X_train.shape, X_eval.shape)\n",
    "\n",
    "xgb = xg.XGBClassifier(n_estimators=100, max_depth=4, learning_rate=0.05)\n",
    "xgb.fit(X_train, y_train)\n",
    "final_preds['y_sw_tfidf'] = xgb.predict(X_eval)\n",
    "final_preds.head()"
   ]
  },
  {
   "cell_type": "code",
   "execution_count": 134,
   "id": "9b3af45a",
   "metadata": {},
   "outputs": [
    {
     "name": "stdout",
     "output_type": "stream",
     "text": [
      "(3998, 2248) (6674, 2248)\n"
     ]
    },
    {
     "data": {
      "text/html": [
       "<div>\n",
       "<style scoped>\n",
       "    .dataframe tbody tr th:only-of-type {\n",
       "        vertical-align: middle;\n",
       "    }\n",
       "\n",
       "    .dataframe tbody tr th {\n",
       "        vertical-align: top;\n",
       "    }\n",
       "\n",
       "    .dataframe thead th {\n",
       "        text-align: right;\n",
       "    }\n",
       "</style>\n",
       "<table border=\"1\" class=\"dataframe\">\n",
       "  <thead>\n",
       "    <tr style=\"text-align: right;\">\n",
       "      <th></th>\n",
       "      <th>comment_id</th>\n",
       "      <th>clean_comment</th>\n",
       "      <th>y_feat_ext</th>\n",
       "      <th>y_feat_pca</th>\n",
       "      <th>y_w_tfidf</th>\n",
       "      <th>y_tfidf_pca</th>\n",
       "      <th>y_sw_tfidf</th>\n",
       "      <th>y_aug</th>\n",
       "    </tr>\n",
       "  </thead>\n",
       "  <tbody>\n",
       "    <tr>\n",
       "      <th>0</th>\n",
       "      <td>j0uassz</td>\n",
       "      <td>Lets take the argument that its not provided i...</td>\n",
       "      <td>0</td>\n",
       "      <td>2</td>\n",
       "      <td>0</td>\n",
       "      <td>1</td>\n",
       "      <td>0</td>\n",
       "      <td>2</td>\n",
       "    </tr>\n",
       "    <tr>\n",
       "      <th>1</th>\n",
       "      <td>j0vbu5s</td>\n",
       "      <td>Bullshit. If same sex wants to get married the...</td>\n",
       "      <td>1</td>\n",
       "      <td>1</td>\n",
       "      <td>1</td>\n",
       "      <td>1</td>\n",
       "      <td>1</td>\n",
       "      <td>1</td>\n",
       "    </tr>\n",
       "    <tr>\n",
       "      <th>2</th>\n",
       "      <td>j0wkxz5</td>\n",
       "      <td>I don't support this MP's views culture has op...</td>\n",
       "      <td>1</td>\n",
       "      <td>0</td>\n",
       "      <td>0</td>\n",
       "      <td>0</td>\n",
       "      <td>0</td>\n",
       "      <td>1</td>\n",
       "    </tr>\n",
       "    <tr>\n",
       "      <th>3</th>\n",
       "      <td>j0w3jyf</td>\n",
       "      <td>Mark my words, BJP is building the nation with...</td>\n",
       "      <td>0</td>\n",
       "      <td>0</td>\n",
       "      <td>0</td>\n",
       "      <td>0</td>\n",
       "      <td>0</td>\n",
       "      <td>0</td>\n",
       "    </tr>\n",
       "    <tr>\n",
       "      <th>4</th>\n",
       "      <td>j0uq3k8</td>\n",
       "      <td>Ok tbh is he...? And on top of all how favouri...</td>\n",
       "      <td>1</td>\n",
       "      <td>0</td>\n",
       "      <td>0</td>\n",
       "      <td>0</td>\n",
       "      <td>1</td>\n",
       "      <td>0</td>\n",
       "    </tr>\n",
       "  </tbody>\n",
       "</table>\n",
       "</div>"
      ],
      "text/plain": [
       "  comment_id                                      clean_comment  y_feat_ext  \\\n",
       "0    j0uassz  Lets take the argument that its not provided i...           0   \n",
       "1    j0vbu5s  Bullshit. If same sex wants to get married the...           1   \n",
       "2    j0wkxz5  I don't support this MP's views culture has op...           1   \n",
       "3    j0w3jyf  Mark my words, BJP is building the nation with...           0   \n",
       "4    j0uq3k8  Ok tbh is he...? And on top of all how favouri...           1   \n",
       "\n",
       "   y_feat_pca  y_w_tfidf  y_tfidf_pca  y_sw_tfidf  y_aug  \n",
       "0           2          0            1           0      2  \n",
       "1           1          1            1           1      1  \n",
       "2           0          0            0           0      1  \n",
       "3           0          0            0           0      0  \n",
       "4           0          0            0           1      0  "
      ]
     },
     "execution_count": 134,
     "metadata": {},
     "output_type": "execute_result"
    }
   ],
   "source": [
    "# augmented data\n",
    "\n",
    "vectorizer = TfidfVectorizer(ngram_range=(1, 2), analyzer='word', vocabulary=word_voc)\n",
    "\n",
    "X_train = vectorizer.fit_transform(list(aug_df['clean_comment']))\n",
    "X_eval = vectorizer.transform(list(final_preds['clean_comment']))\n",
    "y_train = [np.sign(x)+1 for x in list(aug_df['target'])]\n",
    "\n",
    "print(X_train.shape, X_eval.shape)\n",
    "\n",
    "xgb = xg.XGBClassifier(n_estimators=100, max_depth=4, learning_rate=0.1)\n",
    "xgb.fit(X_train, y_train)\n",
    "final_preds['y_aug'] = xgb.predict(X_eval)\n",
    "final_preds.head()"
   ]
  },
  {
   "cell_type": "code",
   "execution_count": 352,
   "id": "e9439b35",
   "metadata": {},
   "outputs": [
    {
     "name": "stdout",
     "output_type": "stream",
     "text": [
      "1999 768\n",
      "6674 768\n"
     ]
    },
    {
     "data": {
      "text/html": [
       "<div>\n",
       "<style scoped>\n",
       "    .dataframe tbody tr th:only-of-type {\n",
       "        vertical-align: middle;\n",
       "    }\n",
       "\n",
       "    .dataframe tbody tr th {\n",
       "        vertical-align: top;\n",
       "    }\n",
       "\n",
       "    .dataframe thead th {\n",
       "        text-align: right;\n",
       "    }\n",
       "</style>\n",
       "<table border=\"1\" class=\"dataframe\">\n",
       "  <thead>\n",
       "    <tr style=\"text-align: right;\">\n",
       "      <th></th>\n",
       "      <th>comment_id</th>\n",
       "      <th>clean_comment</th>\n",
       "      <th>y_feat_ext</th>\n",
       "      <th>y_feat_pca</th>\n",
       "      <th>y_w_tfidf</th>\n",
       "      <th>y_sw_tfidf</th>\n",
       "      <th>y_aug</th>\n",
       "      <th>y_bert_frozen</th>\n",
       "    </tr>\n",
       "  </thead>\n",
       "  <tbody>\n",
       "    <tr>\n",
       "      <th>0</th>\n",
       "      <td>j0uassz</td>\n",
       "      <td>Lets take the argument that its not provided i...</td>\n",
       "      <td>0</td>\n",
       "      <td>2</td>\n",
       "      <td>1</td>\n",
       "      <td>0</td>\n",
       "      <td>1</td>\n",
       "      <td>0</td>\n",
       "    </tr>\n",
       "    <tr>\n",
       "      <th>1</th>\n",
       "      <td>j0vbu5s</td>\n",
       "      <td>Bullshit. If same sex wants to get married the...</td>\n",
       "      <td>1</td>\n",
       "      <td>1</td>\n",
       "      <td>1</td>\n",
       "      <td>1</td>\n",
       "      <td>1</td>\n",
       "      <td>0</td>\n",
       "    </tr>\n",
       "    <tr>\n",
       "      <th>2</th>\n",
       "      <td>j0wkxz5</td>\n",
       "      <td>I don't support this MP's views culture has op...</td>\n",
       "      <td>1</td>\n",
       "      <td>0</td>\n",
       "      <td>1</td>\n",
       "      <td>0</td>\n",
       "      <td>0</td>\n",
       "      <td>0</td>\n",
       "    </tr>\n",
       "    <tr>\n",
       "      <th>3</th>\n",
       "      <td>j0w3jyf</td>\n",
       "      <td>Mark my words, BJP is building the nation with...</td>\n",
       "      <td>0</td>\n",
       "      <td>0</td>\n",
       "      <td>0</td>\n",
       "      <td>0</td>\n",
       "      <td>0</td>\n",
       "      <td>0</td>\n",
       "    </tr>\n",
       "    <tr>\n",
       "      <th>4</th>\n",
       "      <td>j0uq3k8</td>\n",
       "      <td>Ok tbh is he...? And on top of all how favouri...</td>\n",
       "      <td>1</td>\n",
       "      <td>0</td>\n",
       "      <td>1</td>\n",
       "      <td>1</td>\n",
       "      <td>1</td>\n",
       "      <td>0</td>\n",
       "    </tr>\n",
       "  </tbody>\n",
       "</table>\n",
       "</div>"
      ],
      "text/plain": [
       "  comment_id                                      clean_comment  y_feat_ext  \\\n",
       "0    j0uassz  Lets take the argument that its not provided i...           0   \n",
       "1    j0vbu5s  Bullshit. If same sex wants to get married the...           1   \n",
       "2    j0wkxz5  I don't support this MP's views culture has op...           1   \n",
       "3    j0w3jyf  Mark my words, BJP is building the nation with...           0   \n",
       "4    j0uq3k8  Ok tbh is he...? And on top of all how favouri...           1   \n",
       "\n",
       "   y_feat_pca  y_w_tfidf  y_sw_tfidf  y_aug  y_bert_frozen  \n",
       "0           2          1           0      1              0  \n",
       "1           1          1           1      1              0  \n",
       "2           0          1           0      0              0  \n",
       "3           0          0           0      0              0  \n",
       "4           0          1           1      1              0  "
      ]
     },
     "execution_count": 352,
     "metadata": {},
     "output_type": "execute_result"
    }
   ],
   "source": [
    "# frozen bert embeddings\n",
    "\n",
    "# getting train embeddings from model\n",
    "# with torch.no_grad():\n",
    "#     model.eval()\n",
    "#     X_train = []\n",
    "#     batch_size = 16\n",
    "#     for i in range(0, len(train_df), batch_size):\n",
    "#         temp = tokenizer(list(train_df['clean_comment'][i:i+batch_size]), padding='max_length', max_length = 256, truncation=True, return_tensors=\"pt\")\n",
    "#         X_train.extend(model(temp['input_ids'].to(device), temp['attention_mask'].to(device)).pooler_output.cpu().detach().numpy().tolist())\n",
    "      \n",
    "# print(len(X_train), len(X_train[0]))\n",
    "\n",
    "# # getting prediction embeddings from model\n",
    "# with torch.no_grad():\n",
    "#     model.eval()\n",
    "#     X_eval = []\n",
    "#     batch_size = 16\n",
    "#     for i in range(0, len(final_preds), batch_size):\n",
    "#         temp = tokenizer(list(final_preds['clean_comment'][i:i+batch_size]), padding='max_length', max_length = 256, truncation=True, return_tensors=\"pt\")\n",
    "#         X_eval.extend(model(temp['input_ids'].to(device), temp['attention_mask'].to(device)).pooler_output.cpu().detach().numpy().tolist())\n",
    "      \n",
    "# print(len(X_eval), len(X_eval[0]))\n",
    "\n",
    "# y_train = [np.sign(x)+1 for x in list(train_df['target'])]\n",
    "\n",
    "# xgb = xg.XGBClassifier(n_estimators=100, max_depth=5, learning_rate=0.1)\n",
    "# xgb.fit(X_train, y_train)\n",
    "# final_preds['y_bert_frozen'] = xgb.predict(X_eval)\n",
    "# final_preds.head()"
   ]
  },
  {
   "cell_type": "code",
   "execution_count": 148,
   "id": "c307e96c",
   "metadata": {},
   "outputs": [
    {
     "name": "stdout",
     "output_type": "stream",
     "text": [
      "1999 1999\n",
      "1158 1158\n"
     ]
    },
    {
     "data": {
      "text/html": [
       "<div>\n",
       "<style scoped>\n",
       "    .dataframe tbody tr th:only-of-type {\n",
       "        vertical-align: middle;\n",
       "    }\n",
       "\n",
       "    .dataframe tbody tr th {\n",
       "        vertical-align: top;\n",
       "    }\n",
       "\n",
       "    .dataframe thead th {\n",
       "        text-align: right;\n",
       "    }\n",
       "</style>\n",
       "<table border=\"1\" class=\"dataframe\">\n",
       "  <thead>\n",
       "    <tr style=\"text-align: right;\">\n",
       "      <th></th>\n",
       "      <th>comment_id</th>\n",
       "      <th>clean_comment</th>\n",
       "      <th>y_feat_ext</th>\n",
       "      <th>y_feat_pca</th>\n",
       "      <th>y_w_tfidf</th>\n",
       "      <th>y_tfidf_pca</th>\n",
       "      <th>y_sw_tfidf</th>\n",
       "      <th>y_aug</th>\n",
       "      <th>y_2step</th>\n",
       "    </tr>\n",
       "  </thead>\n",
       "  <tbody>\n",
       "    <tr>\n",
       "      <th>0</th>\n",
       "      <td>j0uassz</td>\n",
       "      <td>Lets take the argument that its not provided i...</td>\n",
       "      <td>0</td>\n",
       "      <td>2</td>\n",
       "      <td>0</td>\n",
       "      <td>1</td>\n",
       "      <td>0</td>\n",
       "      <td>2</td>\n",
       "      <td>0</td>\n",
       "    </tr>\n",
       "    <tr>\n",
       "      <th>1</th>\n",
       "      <td>j0vbu5s</td>\n",
       "      <td>Bullshit. If same sex wants to get married the...</td>\n",
       "      <td>1</td>\n",
       "      <td>1</td>\n",
       "      <td>1</td>\n",
       "      <td>1</td>\n",
       "      <td>1</td>\n",
       "      <td>1</td>\n",
       "      <td>1</td>\n",
       "    </tr>\n",
       "    <tr>\n",
       "      <th>2</th>\n",
       "      <td>j0wkxz5</td>\n",
       "      <td>I don't support this MP's views culture has op...</td>\n",
       "      <td>1</td>\n",
       "      <td>0</td>\n",
       "      <td>0</td>\n",
       "      <td>0</td>\n",
       "      <td>0</td>\n",
       "      <td>1</td>\n",
       "      <td>0</td>\n",
       "    </tr>\n",
       "    <tr>\n",
       "      <th>3</th>\n",
       "      <td>j0w3jyf</td>\n",
       "      <td>Mark my words, BJP is building the nation with...</td>\n",
       "      <td>0</td>\n",
       "      <td>0</td>\n",
       "      <td>0</td>\n",
       "      <td>0</td>\n",
       "      <td>0</td>\n",
       "      <td>0</td>\n",
       "      <td>0</td>\n",
       "    </tr>\n",
       "    <tr>\n",
       "      <th>4</th>\n",
       "      <td>j0uq3k8</td>\n",
       "      <td>Ok tbh is he...? And on top of all how favouri...</td>\n",
       "      <td>1</td>\n",
       "      <td>0</td>\n",
       "      <td>0</td>\n",
       "      <td>0</td>\n",
       "      <td>1</td>\n",
       "      <td>0</td>\n",
       "      <td>0</td>\n",
       "    </tr>\n",
       "  </tbody>\n",
       "</table>\n",
       "</div>"
      ],
      "text/plain": [
       "  comment_id                                      clean_comment  y_feat_ext  \\\n",
       "0    j0uassz  Lets take the argument that its not provided i...           0   \n",
       "1    j0vbu5s  Bullshit. If same sex wants to get married the...           1   \n",
       "2    j0wkxz5  I don't support this MP's views culture has op...           1   \n",
       "3    j0w3jyf  Mark my words, BJP is building the nation with...           0   \n",
       "4    j0uq3k8  Ok tbh is he...? And on top of all how favouri...           1   \n",
       "\n",
       "   y_feat_pca  y_w_tfidf  y_tfidf_pca  y_sw_tfidf  y_aug  y_2step  \n",
       "0           2          0            1           0      2        0  \n",
       "1           1          1            1           1      1        1  \n",
       "2           0          0            0           0      1        0  \n",
       "3           0          0            0           0      0        0  \n",
       "4           0          0            0           1      0        0  "
      ]
     },
     "execution_count": 148,
     "metadata": {},
     "output_type": "execute_result"
    }
   ],
   "source": [
    "# 2-step model\n",
    "\n",
    "temp_df = train_df.copy()\n",
    "temp_df['left_features'] = temp_df.apply(lambda x: sum(feature_extraction(x['clean_comment'])[:len(left_terms)]), axis=1)\n",
    "temp_df['right_features'] = temp_df.apply(lambda x: sum(feature_extraction(x['clean_comment'])[len(left_terms):]), axis=1)\n",
    "temp_df['sentiment_features'] = temp_df.apply(lambda x: vader.polarity_scores(x['clean_comment'])['compound'], axis=1)\n",
    "\n",
    "X_train = temp_df[['clean_comment', 'left_features', 'right_features', 'sentiment_features']].copy()\n",
    "y_train = pd.Series([np.sign(x)+1 for x in list(temp_df['target'])])\n",
    "\n",
    "\n",
    "# Train step 1\n",
    "X_train_step1 = X_train.copy()\n",
    "y_train_step1 = pd.Series([1-abs(np.sign(x)) for x in list(temp_df['target'])])\n",
    "print(len(X_train_step1), len(y_train_step1))\n",
    "\n",
    "# Define the preprocessing steps for the text and float features\n",
    "text_transformer = TfidfVectorizer(ngram_range=(1, 2), analyzer='word', vocabulary=word_voc)\n",
    "\n",
    "# Combine the preprocessing steps using ColumnTransformer\n",
    "preprocessor = ColumnTransformer(\n",
    "    transformers=[\n",
    "        ('text', text_transformer, 'clean_comment'),\n",
    "        ('num', StandardScaler(), ['left_features', 'right_features'])\n",
    "    ], remainder='passthrough')\n",
    "\n",
    "# Step 1: Predict neutral or non-neutral\n",
    "pipeline_step1 = Pipeline([\n",
    "    ('preprocessor', preprocessor),\n",
    "    ('clf', xg.XGBClassifier(n_estimators=100, max_depth=4, learning_rate=0.05))\n",
    "])\n",
    "pipeline_step1.fit(X_train_step1, y_train_step1)\n",
    "\n",
    "\n",
    "# Train step 2\n",
    "X_train_step2 = X_train[y_train != 1]\n",
    "X_train_step2 = X_train_step2[['clean_comment']]\n",
    "y_train_step2 = y_train[y_train != 1]//2\n",
    "print(len(X_train_step2), len(y_train_step2))\n",
    "\n",
    "# Define the preprocessing steps for the text and float features\n",
    "text_transformer = TfidfVectorizer(max_features=20_000, analyzer='char_wb', ngram_range=(3,7))\n",
    "\n",
    "# Combine the preprocessing steps using ColumnTransformer\n",
    "preprocessor = ColumnTransformer(\n",
    "    transformers=[\n",
    "        ('text', text_transformer, 'clean_comment')\n",
    "        # ('num', StandardScaler(), ['left_features', 'right_features'])\n",
    "    ], remainder='passthrough')\n",
    "\n",
    "# Step 2: Predict left or right\n",
    "pipeline_step2 = Pipeline([\n",
    "    ('preprocessor', preprocessor),\n",
    "    ('clf', xg.XGBClassifier(n_estimators=100, max_depth=10, learning_rate=0.05))\n",
    "])\n",
    "pipeline_step2.fit(X_train_step2, y_train_step2)\n",
    "\n",
    "\n",
    "# Predictions\n",
    "temp_df = final_preds.copy()\n",
    "temp_df['left_features'] = temp_df.apply(lambda x: sum(feature_extraction(x['clean_comment'])[:len(left_terms)]), axis=1)\n",
    "temp_df['right_features'] = temp_df.apply(lambda x: sum(feature_extraction(x['clean_comment'])[len(left_terms):]), axis=1)\n",
    "temp_df['sentiment_features'] = temp_df.apply(lambda x: vader.polarity_scores(x['clean_comment'])['compound'], axis=1)\n",
    "X_eval = temp_df[['clean_comment', 'left_features', 'right_features', 'sentiment_features']].copy()\n",
    "\n",
    "X_eval_step1 = X_eval.copy()\n",
    "y_pred_step1 = pipeline_step1.predict(X_eval_step1)\n",
    "X_eval_step2 = X_eval[y_pred_step1 != 1]\n",
    "X_eval_step2 = X_eval_step2[['clean_comment']]\n",
    "y_pred_step2 = pipeline_step2.predict(X_eval_step2)\n",
    "\n",
    "# Combine the predictions of step 1 and step 2\n",
    "y_pred_step2 = y_pred_step2*2\n",
    "y_pred = y_pred_step1.copy()\n",
    "y_pred[y_pred_step1 != 1] = y_pred_step2\n",
    "\n",
    "final_preds['y_2step'] = y_pred.copy()\n",
    "final_preds.head()"
   ]
  },
  {
   "cell_type": "code",
   "execution_count": 149,
   "id": "fd1b3b45",
   "metadata": {},
   "outputs": [
    {
     "data": {
      "text/html": [
       "<div>\n",
       "<style scoped>\n",
       "    .dataframe tbody tr th:only-of-type {\n",
       "        vertical-align: middle;\n",
       "    }\n",
       "\n",
       "    .dataframe tbody tr th {\n",
       "        vertical-align: top;\n",
       "    }\n",
       "\n",
       "    .dataframe thead th {\n",
       "        text-align: right;\n",
       "    }\n",
       "</style>\n",
       "<table border=\"1\" class=\"dataframe\">\n",
       "  <thead>\n",
       "    <tr style=\"text-align: right;\">\n",
       "      <th></th>\n",
       "      <th>y_feat_ext</th>\n",
       "      <th>y_feat_pca</th>\n",
       "      <th>y_w_tfidf</th>\n",
       "      <th>y_tfidf_pca</th>\n",
       "      <th>y_sw_tfidf</th>\n",
       "      <th>y_aug</th>\n",
       "      <th>y_2step</th>\n",
       "    </tr>\n",
       "  </thead>\n",
       "  <tbody>\n",
       "    <tr>\n",
       "      <th>count</th>\n",
       "      <td>6674.000000</td>\n",
       "      <td>6674.000000</td>\n",
       "      <td>6674.000000</td>\n",
       "      <td>6674.000000</td>\n",
       "      <td>6674.000000</td>\n",
       "      <td>6674.000000</td>\n",
       "      <td>6674.000000</td>\n",
       "    </tr>\n",
       "    <tr>\n",
       "      <th>mean</th>\n",
       "      <td>0.867696</td>\n",
       "      <td>0.799670</td>\n",
       "      <td>0.907702</td>\n",
       "      <td>0.875037</td>\n",
       "      <td>0.878933</td>\n",
       "      <td>0.913096</td>\n",
       "      <td>0.834882</td>\n",
       "    </tr>\n",
       "    <tr>\n",
       "      <th>std</th>\n",
       "      <td>0.576030</td>\n",
       "      <td>0.648132</td>\n",
       "      <td>0.612711</td>\n",
       "      <td>0.654187</td>\n",
       "      <td>0.608174</td>\n",
       "      <td>0.570465</td>\n",
       "      <td>0.717995</td>\n",
       "    </tr>\n",
       "    <tr>\n",
       "      <th>min</th>\n",
       "      <td>0.000000</td>\n",
       "      <td>0.000000</td>\n",
       "      <td>0.000000</td>\n",
       "      <td>0.000000</td>\n",
       "      <td>0.000000</td>\n",
       "      <td>0.000000</td>\n",
       "      <td>0.000000</td>\n",
       "    </tr>\n",
       "    <tr>\n",
       "      <th>25%</th>\n",
       "      <td>1.000000</td>\n",
       "      <td>0.000000</td>\n",
       "      <td>1.000000</td>\n",
       "      <td>0.000000</td>\n",
       "      <td>0.000000</td>\n",
       "      <td>1.000000</td>\n",
       "      <td>0.000000</td>\n",
       "    </tr>\n",
       "    <tr>\n",
       "      <th>50%</th>\n",
       "      <td>1.000000</td>\n",
       "      <td>1.000000</td>\n",
       "      <td>1.000000</td>\n",
       "      <td>1.000000</td>\n",
       "      <td>1.000000</td>\n",
       "      <td>1.000000</td>\n",
       "      <td>1.000000</td>\n",
       "    </tr>\n",
       "    <tr>\n",
       "      <th>75%</th>\n",
       "      <td>1.000000</td>\n",
       "      <td>1.000000</td>\n",
       "      <td>1.000000</td>\n",
       "      <td>1.000000</td>\n",
       "      <td>1.000000</td>\n",
       "      <td>1.000000</td>\n",
       "      <td>1.000000</td>\n",
       "    </tr>\n",
       "    <tr>\n",
       "      <th>max</th>\n",
       "      <td>2.000000</td>\n",
       "      <td>2.000000</td>\n",
       "      <td>2.000000</td>\n",
       "      <td>2.000000</td>\n",
       "      <td>2.000000</td>\n",
       "      <td>2.000000</td>\n",
       "      <td>2.000000</td>\n",
       "    </tr>\n",
       "  </tbody>\n",
       "</table>\n",
       "</div>"
      ],
      "text/plain": [
       "        y_feat_ext   y_feat_pca    y_w_tfidf  y_tfidf_pca   y_sw_tfidf  \\\n",
       "count  6674.000000  6674.000000  6674.000000  6674.000000  6674.000000   \n",
       "mean      0.867696     0.799670     0.907702     0.875037     0.878933   \n",
       "std       0.576030     0.648132     0.612711     0.654187     0.608174   \n",
       "min       0.000000     0.000000     0.000000     0.000000     0.000000   \n",
       "25%       1.000000     0.000000     1.000000     0.000000     0.000000   \n",
       "50%       1.000000     1.000000     1.000000     1.000000     1.000000   \n",
       "75%       1.000000     1.000000     1.000000     1.000000     1.000000   \n",
       "max       2.000000     2.000000     2.000000     2.000000     2.000000   \n",
       "\n",
       "             y_aug      y_2step  \n",
       "count  6674.000000  6674.000000  \n",
       "mean      0.913096     0.834882  \n",
       "std       0.570465     0.717995  \n",
       "min       0.000000     0.000000  \n",
       "25%       1.000000     0.000000  \n",
       "50%       1.000000     1.000000  \n",
       "75%       1.000000     1.000000  \n",
       "max       2.000000     2.000000  "
      ]
     },
     "execution_count": 149,
     "metadata": {},
     "output_type": "execute_result"
    }
   ],
   "source": [
    "final_preds.describe()"
   ]
  },
  {
   "cell_type": "code",
   "execution_count": 150,
   "id": "cd346142",
   "metadata": {},
   "outputs": [
    {
     "data": {
      "text/html": [
       "<div>\n",
       "<style scoped>\n",
       "    .dataframe tbody tr th:only-of-type {\n",
       "        vertical-align: middle;\n",
       "    }\n",
       "\n",
       "    .dataframe tbody tr th {\n",
       "        vertical-align: top;\n",
       "    }\n",
       "\n",
       "    .dataframe thead th {\n",
       "        text-align: right;\n",
       "    }\n",
       "</style>\n",
       "<table border=\"1\" class=\"dataframe\">\n",
       "  <thead>\n",
       "    <tr style=\"text-align: right;\">\n",
       "      <th></th>\n",
       "      <th>comment_id</th>\n",
       "      <th>clean_comment</th>\n",
       "      <th>y_feat_ext</th>\n",
       "      <th>y_feat_pca</th>\n",
       "      <th>y_w_tfidf</th>\n",
       "      <th>y_tfidf_pca</th>\n",
       "      <th>y_sw_tfidf</th>\n",
       "      <th>y_aug</th>\n",
       "      <th>y_2step</th>\n",
       "      <th>predicted_score</th>\n",
       "      <th>predicted_label</th>\n",
       "    </tr>\n",
       "  </thead>\n",
       "  <tbody>\n",
       "    <tr>\n",
       "      <th>0</th>\n",
       "      <td>j0uassz</td>\n",
       "      <td>Lets take the argument that its not provided i...</td>\n",
       "      <td>0</td>\n",
       "      <td>2</td>\n",
       "      <td>0</td>\n",
       "      <td>1</td>\n",
       "      <td>0</td>\n",
       "      <td>2</td>\n",
       "      <td>0</td>\n",
       "      <td>-0.416667</td>\n",
       "      <td>-1.0</td>\n",
       "    </tr>\n",
       "    <tr>\n",
       "      <th>1</th>\n",
       "      <td>j0vbu5s</td>\n",
       "      <td>Bullshit. If same sex wants to get married the...</td>\n",
       "      <td>1</td>\n",
       "      <td>1</td>\n",
       "      <td>1</td>\n",
       "      <td>1</td>\n",
       "      <td>1</td>\n",
       "      <td>1</td>\n",
       "      <td>1</td>\n",
       "      <td>0.000000</td>\n",
       "      <td>0.0</td>\n",
       "    </tr>\n",
       "    <tr>\n",
       "      <th>2</th>\n",
       "      <td>j0wkxz5</td>\n",
       "      <td>I don't support this MP's views culture has op...</td>\n",
       "      <td>1</td>\n",
       "      <td>0</td>\n",
       "      <td>0</td>\n",
       "      <td>0</td>\n",
       "      <td>0</td>\n",
       "      <td>1</td>\n",
       "      <td>0</td>\n",
       "      <td>-0.750000</td>\n",
       "      <td>-1.0</td>\n",
       "    </tr>\n",
       "    <tr>\n",
       "      <th>3</th>\n",
       "      <td>j0w3jyf</td>\n",
       "      <td>Mark my words, BJP is building the nation with...</td>\n",
       "      <td>0</td>\n",
       "      <td>0</td>\n",
       "      <td>0</td>\n",
       "      <td>0</td>\n",
       "      <td>0</td>\n",
       "      <td>0</td>\n",
       "      <td>0</td>\n",
       "      <td>-1.000000</td>\n",
       "      <td>-1.0</td>\n",
       "    </tr>\n",
       "    <tr>\n",
       "      <th>4</th>\n",
       "      <td>j0uq3k8</td>\n",
       "      <td>Ok tbh is he...? And on top of all how favouri...</td>\n",
       "      <td>1</td>\n",
       "      <td>0</td>\n",
       "      <td>0</td>\n",
       "      <td>0</td>\n",
       "      <td>1</td>\n",
       "      <td>0</td>\n",
       "      <td>0</td>\n",
       "      <td>-0.694444</td>\n",
       "      <td>-1.0</td>\n",
       "    </tr>\n",
       "  </tbody>\n",
       "</table>\n",
       "</div>"
      ],
      "text/plain": [
       "  comment_id                                      clean_comment  y_feat_ext  \\\n",
       "0    j0uassz  Lets take the argument that its not provided i...           0   \n",
       "1    j0vbu5s  Bullshit. If same sex wants to get married the...           1   \n",
       "2    j0wkxz5  I don't support this MP's views culture has op...           1   \n",
       "3    j0w3jyf  Mark my words, BJP is building the nation with...           0   \n",
       "4    j0uq3k8  Ok tbh is he...? And on top of all how favouri...           1   \n",
       "\n",
       "   y_feat_pca  y_w_tfidf  y_tfidf_pca  y_sw_tfidf  y_aug  y_2step  \\\n",
       "0           2          0            1           0      2        0   \n",
       "1           1          1            1           1      1        1   \n",
       "2           0          0            0           0      1        0   \n",
       "3           0          0            0           0      0        0   \n",
       "4           0          0            0           1      0        0   \n",
       "\n",
       "   predicted_score  predicted_label  \n",
       "0        -0.416667             -1.0  \n",
       "1         0.000000              0.0  \n",
       "2        -0.750000             -1.0  \n",
       "3        -1.000000             -1.0  \n",
       "4        -0.694444             -1.0  "
      ]
     },
     "execution_count": 150,
     "metadata": {},
     "output_type": "execute_result"
    }
   ],
   "source": [
    "def final_ensemble(row):\n",
    "    score = row['y_feat_ext']*6 + row['y_feat_pca']*5 + row['y_w_tfidf']*6 + row['y_tfidf_pca']*5 + row['y_sw_tfidf']*5 + row['y_aug']*3 + row['y_2step']*6\n",
    "    score /= (6+5+6+5+5+3+6)\n",
    "    return score-1\n",
    "\n",
    "final_preds['predicted_score'] = final_preds.apply(lambda x: final_ensemble(x), axis=1)\n",
    "final_preds['predicted_label'] = final_preds.apply(lambda x: (0 if -0.2<x['predicted_score']<0.1 else np.sign(x['predicted_score'])), axis=1)\n",
    "final_preds.head()"
   ]
  },
  {
   "cell_type": "code",
   "execution_count": 151,
   "id": "34401ffd",
   "metadata": {},
   "outputs": [
    {
     "data": {
      "text/plain": [
       "<AxesSubplot:ylabel='Density'>"
      ]
     },
     "execution_count": 151,
     "metadata": {},
     "output_type": "execute_result"
    },
    {
     "data": {
      "image/png": "[encoded data removed]",
      "text/plain": [
       "<Figure size 432x288 with 1 Axes>"
      ]
     },
     "metadata": {
      "needs_background": "light"
     },
     "output_type": "display_data"
    }
   ],
   "source": [
    "final_preds['predicted_score'].plot.kde()"
   ]
  },
  {
   "cell_type": "code",
   "execution_count": 152,
   "id": "7d0349c4",
   "metadata": {},
   "outputs": [
    {
     "data": {
      "text/html": [
       "<div>\n",
       "<style scoped>\n",
       "    .dataframe tbody tr th:only-of-type {\n",
       "        vertical-align: middle;\n",
       "    }\n",
       "\n",
       "    .dataframe tbody tr th {\n",
       "        vertical-align: top;\n",
       "    }\n",
       "\n",
       "    .dataframe thead th {\n",
       "        text-align: right;\n",
       "    }\n",
       "</style>\n",
       "<table border=\"1\" class=\"dataframe\">\n",
       "  <thead>\n",
       "    <tr style=\"text-align: right;\">\n",
       "      <th></th>\n",
       "      <th>comment_id</th>\n",
       "      <th>clean_comment</th>\n",
       "      <th>predicted_score</th>\n",
       "      <th>predicted_label</th>\n",
       "    </tr>\n",
       "  </thead>\n",
       "  <tbody>\n",
       "    <tr>\n",
       "      <th>0</th>\n",
       "      <td>j0uassz</td>\n",
       "      <td>Lets take the argument that its not provided i...</td>\n",
       "      <td>-0.416667</td>\n",
       "      <td>-1.0</td>\n",
       "    </tr>\n",
       "    <tr>\n",
       "      <th>1</th>\n",
       "      <td>j0vbu5s</td>\n",
       "      <td>Bullshit. If same sex wants to get married the...</td>\n",
       "      <td>0.000000</td>\n",
       "      <td>0.0</td>\n",
       "    </tr>\n",
       "    <tr>\n",
       "      <th>2</th>\n",
       "      <td>j0wkxz5</td>\n",
       "      <td>I don't support this MP's views culture has op...</td>\n",
       "      <td>-0.750000</td>\n",
       "      <td>-1.0</td>\n",
       "    </tr>\n",
       "    <tr>\n",
       "      <th>3</th>\n",
       "      <td>j0w3jyf</td>\n",
       "      <td>Mark my words, BJP is building the nation with...</td>\n",
       "      <td>-1.000000</td>\n",
       "      <td>-1.0</td>\n",
       "    </tr>\n",
       "    <tr>\n",
       "      <th>4</th>\n",
       "      <td>j0uq3k8</td>\n",
       "      <td>Ok tbh is he...? And on top of all how favouri...</td>\n",
       "      <td>-0.694444</td>\n",
       "      <td>-1.0</td>\n",
       "    </tr>\n",
       "  </tbody>\n",
       "</table>\n",
       "</div>"
      ],
      "text/plain": [
       "  comment_id                                      clean_comment  \\\n",
       "0    j0uassz  Lets take the argument that its not provided i...   \n",
       "1    j0vbu5s  Bullshit. If same sex wants to get married the...   \n",
       "2    j0wkxz5  I don't support this MP's views culture has op...   \n",
       "3    j0w3jyf  Mark my words, BJP is building the nation with...   \n",
       "4    j0uq3k8  Ok tbh is he...? And on top of all how favouri...   \n",
       "\n",
       "   predicted_score  predicted_label  \n",
       "0        -0.416667             -1.0  \n",
       "1         0.000000              0.0  \n",
       "2        -0.750000             -1.0  \n",
       "3        -1.000000             -1.0  \n",
       "4        -0.694444             -1.0  "
      ]
     },
     "execution_count": 152,
     "metadata": {},
     "output_type": "execute_result"
    }
   ],
   "source": [
    "temp_df = final_preds[['comment_id', 'clean_comment', 'predicted_score', 'predicted_label']].copy()\n",
    "temp_df.head()"
   ]
  },
  {
   "cell_type": "code",
   "execution_count": 153,
   "id": "a68a1a21",
   "metadata": {},
   "outputs": [],
   "source": [
    "temp_df.to_csv('full_6k_preds.csv', index=False)"
   ]
  },
  {
   "cell_type": "code",
   "execution_count": null,
   "id": "4aa8b887",
   "metadata": {},
   "outputs": [],
   "source": []
  }
 ],
 "metadata": {
  "kernelspec": {
   "display_name": "Python 3",
   "language": "python",
   "name": "python3"
  },
  "language_info": {
   "codemirror_mode": {
    "name": "ipython",
    "version": 3
   },
   "file_extension": ".py",
   "mimetype": "text/x-python",
   "name": "python",
   "nbconvert_exporter": "python",
   "pygments_lexer": "ipython3",
   "version": "3.8.8"
  }
 },
 "nbformat": 4,
 "nbformat_minor": 5
}
