{
 "cells": [
  {
   "cell_type": "code",
   "execution_count": 1,
   "id": "1a3cb0a9",
   "metadata": {},
   "outputs": [
    {
     "name": "stderr",
     "output_type": "stream",
     "text": [
      "/Users/abhishekvaidyanathan/Desktop/RedPILS/redpils/lib/python3.9/site-packages/tqdm/auto.py:21: TqdmWarning: IProgress not found. Please update jupyter and ipywidgets. See https://ipywidgets.readthedocs.io/en/stable/user_install.html\n",
      "  from .autonotebook import tqdm as notebook_tqdm\n",
      "[nltk_data] Error loading vader_lexicon: <urlopen error [SSL:\n",
      "[nltk_data]     CERTIFICATE_VERIFY_FAILED] certificate verify failed:\n",
      "[nltk_data]     unable to get local issuer certificate (_ssl.c:1129)>\n"
     ]
    },
    {
     "data": {
      "text/plain": [
       "device(type='cpu')"
      ]
     },
     "execution_count": 1,
     "metadata": {},
     "output_type": "execute_result"
    }
   ],
   "source": [
    "import numpy as np\n",
    "import pandas as pd\n",
    "import matplotlib.pyplot as plt\n",
    "import re\n",
    "import json\n",
    "import xgboost as xg\n",
    "from sklearn.model_selection import train_test_split\n",
    "from sklearn.metrics import mean_squared_error, r2_score, confusion_matrix, classification_report\n",
    "from sklearn.preprocessing import StandardScaler\n",
    "from sklearn import linear_model\n",
    "from sklearn.decomposition import PCA, TruncatedSVD\n",
    "from sklearn.feature_extraction.text import TfidfVectorizer\n",
    "from collections import Counter\n",
    "from textblob import TextBlob\n",
    "import torch\n",
    "from torch import nn\n",
    "from transformers import AutoModelForSequenceClassification, AutoTokenizer, AutoModel\n",
    "import nltk\n",
    "from nltk.sentiment import SentimentIntensityAnalyzer\n",
    "nltk.download('vader_lexicon')\n",
    "device = torch.device('cuda' if torch.cuda.is_available() else 'cpu')\n",
    "device"
   ]
  },
  {
   "cell_type": "code",
   "execution_count": null,
   "id": "2d8b0c28",
   "metadata": {},
   "outputs": [],
   "source": []
  },
  {
   "cell_type": "markdown",
   "id": "724aa8da",
   "metadata": {},
   "source": [
    "## Cleaning and splitting\n",
    "Skip to bottom to read in final CSVs"
   ]
  },
  {
   "cell_type": "code",
   "execution_count": 2,
   "id": "d3ba3954",
   "metadata": {},
   "outputs": [
    {
     "data": {
      "text/html": [
       "<div>\n",
       "<style scoped>\n",
       "    .dataframe tbody tr th:only-of-type {\n",
       "        vertical-align: middle;\n",
       "    }\n",
       "\n",
       "    .dataframe tbody tr th {\n",
       "        vertical-align: top;\n",
       "    }\n",
       "\n",
       "    .dataframe thead th {\n",
       "        text-align: right;\n",
       "    }\n",
       "</style>\n",
       "<table border=\"1\" class=\"dataframe\">\n",
       "  <thead>\n",
       "    <tr style=\"text-align: right;\">\n",
       "      <th></th>\n",
       "      <th>submission_title</th>\n",
       "      <th>comment</th>\n",
       "      <th>comment_id</th>\n",
       "      <th>url</th>\n",
       "      <th>subreddit_id</th>\n",
       "      <th>label1</th>\n",
       "      <th>label2</th>\n",
       "    </tr>\n",
       "  </thead>\n",
       "  <tbody>\n",
       "    <tr>\n",
       "      <th>0</th>\n",
       "      <td>Shashi Tharoor Set To Run For Congress Preside...</td>\n",
       "      <td>Extremely valid points but I believe he has th...</td>\n",
       "      <td>ip5g6vu</td>\n",
       "      <td>/r/india/comments/xif8wm/shashi_tharoor_set_to...</td>\n",
       "      <td>2qh1q</td>\n",
       "      <td>-1</td>\n",
       "      <td>-1</td>\n",
       "    </tr>\n",
       "    <tr>\n",
       "      <th>1</th>\n",
       "      <td>Yogi government puts Kolkata's image as part o...</td>\n",
       "      <td>Even if the ad was designed by the newspaper -...</td>\n",
       "      <td>hcontm8</td>\n",
       "      <td>/r/india/comments/pmn9o3/yogi_government_puts_...</td>\n",
       "      <td>2qh1q</td>\n",
       "      <td>-1</td>\n",
       "      <td>-1</td>\n",
       "    </tr>\n",
       "    <tr>\n",
       "      <th>2</th>\n",
       "      <td>An attempt to address the list of \"simplified\"...</td>\n",
       "      <td>Diverse population including Muslims. Welcomin...</td>\n",
       "      <td>fbhlv40</td>\n",
       "      <td>/r/india/comments/ebdeup/an_attempt_to_address...</td>\n",
       "      <td>2qh1q</td>\n",
       "      <td>-1</td>\n",
       "      <td>-2</td>\n",
       "    </tr>\n",
       "    <tr>\n",
       "      <th>3</th>\n",
       "      <td>You guys noticing what's happening in Sri Lanka?</td>\n",
       "      <td>&gt;The blockade was done by your own people.\\n\\n...</td>\n",
       "      <td>i2yrud3</td>\n",
       "      <td>/r/india/comments/tt1ryh/you_guys_noticing_wha...</td>\n",
       "      <td>2qh1q</td>\n",
       "      <td>0</td>\n",
       "      <td>0</td>\n",
       "    </tr>\n",
       "    <tr>\n",
       "      <th>4</th>\n",
       "      <td>Just got abused on the train by a hyper-nation...</td>\n",
       "      <td>Ohoo bahut bura laga ye sunke ki aap Undergarm...</td>\n",
       "      <td>hooi92k</td>\n",
       "      <td>/r/india/comments/rh2kcs/just_got_abused_on_th...</td>\n",
       "      <td>2qh1q</td>\n",
       "      <td>-2</td>\n",
       "      <td>-2</td>\n",
       "    </tr>\n",
       "  </tbody>\n",
       "</table>\n",
       "</div>"
      ],
      "text/plain": [
       "                                    submission_title  \\\n",
       "0  Shashi Tharoor Set To Run For Congress Preside...   \n",
       "1  Yogi government puts Kolkata's image as part o...   \n",
       "2  An attempt to address the list of \"simplified\"...   \n",
       "3   You guys noticing what's happening in Sri Lanka?   \n",
       "4  Just got abused on the train by a hyper-nation...   \n",
       "\n",
       "                                             comment comment_id  \\\n",
       "0  Extremely valid points but I believe he has th...    ip5g6vu   \n",
       "1  Even if the ad was designed by the newspaper -...    hcontm8   \n",
       "2  Diverse population including Muslims. Welcomin...    fbhlv40   \n",
       "3  >The blockade was done by your own people.\\n\\n...    i2yrud3   \n",
       "4  Ohoo bahut bura laga ye sunke ki aap Undergarm...    hooi92k   \n",
       "\n",
       "                                                 url subreddit_id  label1  \\\n",
       "0  /r/india/comments/xif8wm/shashi_tharoor_set_to...        2qh1q      -1   \n",
       "1  /r/india/comments/pmn9o3/yogi_government_puts_...        2qh1q      -1   \n",
       "2  /r/india/comments/ebdeup/an_attempt_to_address...        2qh1q      -1   \n",
       "3  /r/india/comments/tt1ryh/you_guys_noticing_wha...        2qh1q       0   \n",
       "4  /r/india/comments/rh2kcs/just_got_abused_on_th...        2qh1q      -2   \n",
       "\n",
       "   label2  \n",
       "0      -1  \n",
       "1      -1  \n",
       "2      -2  \n",
       "3       0  \n",
       "4      -2  "
      ]
     },
     "execution_count": 2,
     "metadata": {},
     "output_type": "execute_result"
    }
   ],
   "source": [
    "full_data = pd.read_csv('full_data.csv')\n",
    "full_data.head()"
   ]
  },
  {
   "cell_type": "code",
   "execution_count": 3,
   "id": "9f3e0cb6",
   "metadata": {},
   "outputs": [
    {
     "name": "stdout",
     "output_type": "stream",
     "text": [
      "<class 'pandas.core.frame.DataFrame'>\n",
      "RangeIndex: 3000 entries, 0 to 2999\n",
      "Data columns (total 7 columns):\n",
      " #   Column            Non-Null Count  Dtype \n",
      "---  ------            --------------  ----- \n",
      " 0   submission_title  3000 non-null   object\n",
      " 1   comment           3000 non-null   object\n",
      " 2   comment_id        3000 non-null   object\n",
      " 3   url               3000 non-null   object\n",
      " 4   subreddit_id      3000 non-null   object\n",
      " 5   label1            3000 non-null   int64 \n",
      " 6   label2            3000 non-null   int64 \n",
      "dtypes: int64(2), object(5)\n",
      "memory usage: 164.2+ KB\n"
     ]
    }
   ],
   "source": [
    "full_data.info()"
   ]
  },
  {
   "cell_type": "code",
   "execution_count": 4,
   "id": "0a5c336f",
   "metadata": {},
   "outputs": [],
   "source": [
    "def clean_quotations(text):\n",
    "    temp = re.sub(r'>.*?\\n', '', text)\n",
    "    return temp\n",
    "def clean_url(text):\n",
    "    temp = re.sub(r'(http(s)?:\\/\\/.)?(www\\.)?[-a-zA-Z0-9@:%._\\+~#=]{2,256}\\.[a-z]{2,6}\\b([-a-zA-Z0-9@:%_\\+\\.~#?&\\/=]*)', '', text)\n",
    "    return temp\n",
    "def clean_text(text):\n",
    "    temp = clean_quotations(text)\n",
    "    temp = clean_url(temp)\n",
    "    temp = re.sub('\\’', \"\\'\", temp)  # apostrophe formatting is occasionally incorrect\n",
    "    temp = re.sub(r'[^a-zA-Z0-9\\s\\.,?!\\'\\\"]', ' ', temp)\n",
    "    temp = re.sub(r'\\s+', ' ', temp)  # replace multiple spaces with single space\n",
    "    return temp.strip()"
   ]
  },
  {
   "cell_type": "code",
   "execution_count": 5,
   "id": "93080b9d",
   "metadata": {},
   "outputs": [
    {
     "data": {
      "text/html": [
       "<div>\n",
       "<style scoped>\n",
       "    .dataframe tbody tr th:only-of-type {\n",
       "        vertical-align: middle;\n",
       "    }\n",
       "\n",
       "    .dataframe tbody tr th {\n",
       "        vertical-align: top;\n",
       "    }\n",
       "\n",
       "    .dataframe thead th {\n",
       "        text-align: right;\n",
       "    }\n",
       "</style>\n",
       "<table border=\"1\" class=\"dataframe\">\n",
       "  <thead>\n",
       "    <tr style=\"text-align: right;\">\n",
       "      <th></th>\n",
       "      <th>clean_title</th>\n",
       "      <th>clean_comment</th>\n",
       "      <th>comment_id</th>\n",
       "      <th>url</th>\n",
       "      <th>target</th>\n",
       "    </tr>\n",
       "  </thead>\n",
       "  <tbody>\n",
       "    <tr>\n",
       "      <th>0</th>\n",
       "      <td>Shashi Tharoor Set To Run For Congress Preside...</td>\n",
       "      <td>Extremely valid points but I believe he has th...</td>\n",
       "      <td>ip5g6vu</td>\n",
       "      <td>/r/india/comments/xif8wm/shashi_tharoor_set_to...</td>\n",
       "      <td>-0.50</td>\n",
       "    </tr>\n",
       "    <tr>\n",
       "      <th>1</th>\n",
       "      <td>Yogi government puts Kolkata's image as part o...</td>\n",
       "      <td>Even if the ad was designed by the newspaper t...</td>\n",
       "      <td>hcontm8</td>\n",
       "      <td>/r/india/comments/pmn9o3/yogi_government_puts_...</td>\n",
       "      <td>-0.50</td>\n",
       "    </tr>\n",
       "    <tr>\n",
       "      <th>2</th>\n",
       "      <td>An attempt to address the list of \"simplified\"...</td>\n",
       "      <td>Diverse population including Muslims. Welcomin...</td>\n",
       "      <td>fbhlv40</td>\n",
       "      <td>/r/india/comments/ebdeup/an_attempt_to_address...</td>\n",
       "      <td>-0.75</td>\n",
       "    </tr>\n",
       "    <tr>\n",
       "      <th>3</th>\n",
       "      <td>You guys noticing what's happening in Sri Lanka?</td>\n",
       "      <td>What a joke. They didn't create any propaganda...</td>\n",
       "      <td>i2yrud3</td>\n",
       "      <td>/r/india/comments/tt1ryh/you_guys_noticing_wha...</td>\n",
       "      <td>0.00</td>\n",
       "    </tr>\n",
       "    <tr>\n",
       "      <th>4</th>\n",
       "      <td>Just got abused on the train by a hyper nation...</td>\n",
       "      <td>Ohoo bahut bura laga ye sunke ki aap Undergarm...</td>\n",
       "      <td>hooi92k</td>\n",
       "      <td>/r/india/comments/rh2kcs/just_got_abused_on_th...</td>\n",
       "      <td>-1.00</td>\n",
       "    </tr>\n",
       "  </tbody>\n",
       "</table>\n",
       "</div>"
      ],
      "text/plain": [
       "                                         clean_title  \\\n",
       "0  Shashi Tharoor Set To Run For Congress Preside...   \n",
       "1  Yogi government puts Kolkata's image as part o...   \n",
       "2  An attempt to address the list of \"simplified\"...   \n",
       "3   You guys noticing what's happening in Sri Lanka?   \n",
       "4  Just got abused on the train by a hyper nation...   \n",
       "\n",
       "                                       clean_comment comment_id  \\\n",
       "0  Extremely valid points but I believe he has th...    ip5g6vu   \n",
       "1  Even if the ad was designed by the newspaper t...    hcontm8   \n",
       "2  Diverse population including Muslims. Welcomin...    fbhlv40   \n",
       "3  What a joke. They didn't create any propaganda...    i2yrud3   \n",
       "4  Ohoo bahut bura laga ye sunke ki aap Undergarm...    hooi92k   \n",
       "\n",
       "                                                 url  target  \n",
       "0  /r/india/comments/xif8wm/shashi_tharoor_set_to...   -0.50  \n",
       "1  /r/india/comments/pmn9o3/yogi_government_puts_...   -0.50  \n",
       "2  /r/india/comments/ebdeup/an_attempt_to_address...   -0.75  \n",
       "3  /r/india/comments/tt1ryh/you_guys_noticing_wha...    0.00  \n",
       "4  /r/india/comments/rh2kcs/just_got_abused_on_th...   -1.00  "
      ]
     },
     "execution_count": 5,
     "metadata": {},
     "output_type": "execute_result"
    }
   ],
   "source": [
    "full_clean_df = pd.DataFrame()\n",
    "full_clean_df['clean_title'] = full_data.apply(lambda x: clean_text(x['submission_title']), axis=1)\n",
    "full_clean_df['clean_comment'] = full_data.apply(lambda x: clean_text(x['comment']), axis=1)\n",
    "full_clean_df[['comment_id', 'url']] = full_data[['comment_id', 'url']].copy()\n",
    "full_clean_df['target'] = full_data.apply(lambda x: np.mean([x['label1'], x['label2']])/2, axis=1)\n",
    "# making sure to remove comments that are empty after cleaning\n",
    "full_clean_df['clean_comment'].replace('', np.nan, inplace=True)\n",
    "full_clean_df.dropna(inplace=True)\n",
    "full_clean_df.head()"
   ]
  },
  {
   "cell_type": "code",
   "execution_count": 6,
   "id": "c4f89ac5",
   "metadata": {},
   "outputs": [
    {
     "name": "stdout",
     "output_type": "stream",
     "text": [
      "<class 'pandas.core.frame.DataFrame'>\n",
      "Int64Index: 2999 entries, 0 to 2999\n",
      "Data columns (total 5 columns):\n",
      " #   Column         Non-Null Count  Dtype  \n",
      "---  ------         --------------  -----  \n",
      " 0   clean_title    2999 non-null   object \n",
      " 1   clean_comment  2999 non-null   object \n",
      " 2   comment_id     2999 non-null   object \n",
      " 3   url            2999 non-null   object \n",
      " 4   target         2999 non-null   float64\n",
      "dtypes: float64(1), object(4)\n",
      "memory usage: 140.6+ KB\n"
     ]
    }
   ],
   "source": [
    "full_clean_df.info()"
   ]
  },
  {
   "cell_type": "code",
   "execution_count": 17,
   "id": "ac381a5e",
   "metadata": {},
   "outputs": [],
   "source": [
    "temp = full_clean_df.sample(frac=1, random_state=123).reset_index(drop=True)  # shuflling before split\n",
    "eval_df = temp[:1000].copy()\n",
    "train_df = temp[1000:].copy().reset_index(drop=True)"
   ]
  },
  {
   "cell_type": "code",
   "execution_count": 20,
   "id": "31788f44",
   "metadata": {},
   "outputs": [],
   "source": [
    "full_clean_df.to_csv('cleaned_full_data.csv', index=False)\n",
    "train_df.to_csv('train_full.csv', index=False)\n",
    "eval_df.to_csv('eval_full.csv', index=False)"
   ]
  },
  {
   "cell_type": "code",
   "execution_count": null,
   "id": "3273b27b",
   "metadata": {},
   "outputs": [],
   "source": []
  },
  {
   "cell_type": "code",
   "execution_count": 7,
   "id": "713e53e0",
   "metadata": {},
   "outputs": [],
   "source": [
    "# start here\n",
    "train_df = pd.read_csv('train_full.csv')\n",
    "eval_df = pd.read_csv('eval_full.csv')"
   ]
  },
  {
   "cell_type": "code",
   "execution_count": null,
   "id": "f114f432",
   "metadata": {},
   "outputs": [],
   "source": []
  },
  {
   "cell_type": "markdown",
   "id": "24c05a45",
   "metadata": {},
   "source": [
    "## Rule-Based"
   ]
  },
  {
   "cell_type": "code",
   "execution_count": 8,
   "id": "212ea7ba",
   "metadata": {},
   "outputs": [
    {
     "data": {
      "text/plain": [
       "(62, 60)"
      ]
     },
     "execution_count": 8,
     "metadata": {},
     "output_type": "execute_result"
    }
   ],
   "source": [
    "right = \"\"\"right wing, RW, authority, hierarchy, order, duty, tradition, reaction, nationalism, conservative, right-libertarian, \\\n",
    "neoconservative, imperialist, monarchist, fascist, reactionaries, traditionalist, traditional, death penalty, \\\n",
    "religion, Bhajpa, BJP, Shiv Sena, RSS, MNS, Sanatan, dharm, Hindutva, Islamophobia, Narendra, Modi, Amit, Shah, \\\n",
    "mandir, ram, valmiki, ramayan, Bharatiya, Janata, Democratic Alliance, NDA, AIADMK, Janta Dal, bhakt, CAA, NRC, hindu majority, \\\n",
    "hindu unity, hindu pride, nationalist, sangh, sanghi, yogi, brahmin, brahman, smriti irani, hindu rashtra, jai shri ram, \\\n",
    "pm cares, pmcares, adani, hindu\"\"\".lower()\n",
    "left = \"\"\"left wing, LW, leftists, freedom, equality, fraternity, rights, progress, reform, internationalism, anarchist, communist, socialist, \\\n",
    "democratic socialist, social democrat, left-libertarian, progressive, social, liberal, western, Congress, UPA, RG, mamata, \\\n",
    "Aam, aadmi, AAP, CPI, Welfare, Protectionism, Commies, Rahul, gandhi, indira, yatra, arvind, kejriwal, inclusivity, \\\n",
    "libby, libbies, sjw, libtard, hinduphobia, LGBTQ, masjid, pappu, christian, muslim, secular, minority, minorities, Shashi, Tharoor, \\\n",
    "gay, lesbian, transgender, trans, reservation, abrahamic, godi\"\"\".lower()\n",
    "\n",
    "right_terms = set(right.split(', '))\n",
    "left_terms = set(left.split(', '))\n",
    "len(right_terms), len(left_terms)"
   ]
  },
  {
   "cell_type": "code",
   "execution_count": 9,
   "id": "e0c5c4b7",
   "metadata": {},
   "outputs": [],
   "source": [
    "vader = SentimentIntensityAnalyzer()"
   ]
  },
  {
   "cell_type": "code",
   "execution_count": 10,
   "id": "23ccb4b1",
   "metadata": {},
   "outputs": [],
   "source": [
    "def unsupervised_prediction(clean_text):\n",
    "    # rule-based scoring\n",
    "    sentiment = vader.polarity_scores(clean_text)['compound']\n",
    "    lw = rw = 0\n",
    "    clean_text = clean_text.lower()\n",
    "    for t in left_terms:\n",
    "        if re.search(r'\\b'+t, clean_text):\n",
    "            lw += 1\n",
    "    for t in right_terms:\n",
    "        if re.search(r'\\b'+t, clean_text):\n",
    "            rw += 1\n",
    "    score = np.sign(rw - lw)*(abs(rw + lw)**0.05)*sentiment\n",
    "    # print(sentiment)\n",
    "    # normalize by length of text\n",
    "    # score = np.nan_to_num(score)\n",
    "    score /= len(clean_text.split())/20\n",
    "    \n",
    "    return score, sentiment\n",
    "\n",
    "def conv_to_label(val, threshold=0.1):\n",
    "    # converts rule-based score to label\n",
    "    if abs(val)<threshold:\n",
    "        return 0.\n",
    "    else:\n",
    "        return np.sign(val)"
   ]
  },
  {
   "cell_type": "code",
   "execution_count": 11,
   "id": "477b675e",
   "metadata": {},
   "outputs": [
    {
     "data": {
      "text/html": [
       "<div>\n",
       "<style scoped>\n",
       "    .dataframe tbody tr th:only-of-type {\n",
       "        vertical-align: middle;\n",
       "    }\n",
       "\n",
       "    .dataframe tbody tr th {\n",
       "        vertical-align: top;\n",
       "    }\n",
       "\n",
       "    .dataframe thead th {\n",
       "        text-align: right;\n",
       "    }\n",
       "</style>\n",
       "<table border=\"1\" class=\"dataframe\">\n",
       "  <thead>\n",
       "    <tr style=\"text-align: right;\">\n",
       "      <th></th>\n",
       "      <th>clean_title</th>\n",
       "      <th>clean_comment</th>\n",
       "      <th>comment_id</th>\n",
       "      <th>url</th>\n",
       "      <th>target</th>\n",
       "      <th>true_label</th>\n",
       "      <th>vader_score</th>\n",
       "      <th>vader_sentiment</th>\n",
       "      <th>vader_label</th>\n",
       "    </tr>\n",
       "  </thead>\n",
       "  <tbody>\n",
       "    <tr>\n",
       "      <th>0</th>\n",
       "      <td>ResignModi trending in India on 1 with 200k tw...</td>\n",
       "      <td>People tend to look down on \"social media acti...</td>\n",
       "      <td>gwe056n</td>\n",
       "      <td>/r/india/comments/n11sqc/resignmodi_trending_i...</td>\n",
       "      <td>-0.5</td>\n",
       "      <td>-1.0</td>\n",
       "      <td>-0.000000</td>\n",
       "      <td>-0.5594</td>\n",
       "      <td>0.0</td>\n",
       "    </tr>\n",
       "    <tr>\n",
       "      <th>1</th>\n",
       "      <td>Put 'The Kashmir Files' on YouTube, everyone w...</td>\n",
       "      <td>I remember it was made to release twice, and t...</td>\n",
       "      <td>i1y3pv3</td>\n",
       "      <td>/r/india/comments/tmcun4/put_the_kashmir_files...</td>\n",
       "      <td>0.0</td>\n",
       "      <td>0.0</td>\n",
       "      <td>0.000000</td>\n",
       "      <td>0.7343</td>\n",
       "      <td>0.0</td>\n",
       "    </tr>\n",
       "    <tr>\n",
       "      <th>2</th>\n",
       "      <td>Kejriwal says 'The Kashmir Files' is a jhoothi...</td>\n",
       "      <td>Bhai delhi m hindu bht h but ye aur caste k lo...</td>\n",
       "      <td>i21haf8</td>\n",
       "      <td>/r/IndiaSpeaks/comments/tmhqqg/kejriwal_says_t...</td>\n",
       "      <td>0.5</td>\n",
       "      <td>1.0</td>\n",
       "      <td>0.320255</td>\n",
       "      <td>0.8807</td>\n",
       "      <td>1.0</td>\n",
       "    </tr>\n",
       "    <tr>\n",
       "      <th>3</th>\n",
       "      <td>Government of India has Blacklisted Karl Rock ...</td>\n",
       "      <td>mahatma gandhi's shadows are fading. retards w...</td>\n",
       "      <td>h4lazw7</td>\n",
       "      <td>/r/india/comments/ogrc0d/government_of_india_h...</td>\n",
       "      <td>-1.0</td>\n",
       "      <td>-1.0</td>\n",
       "      <td>-0.138984</td>\n",
       "      <td>-0.2960</td>\n",
       "      <td>-1.0</td>\n",
       "    </tr>\n",
       "    <tr>\n",
       "      <th>4</th>\n",
       "      <td>Kejriwal says 'The Kashmir Files' is a jhoothi...</td>\n",
       "      <td>Isn't this kejru the same guy who kept tweetin...</td>\n",
       "      <td>i1yrkwx</td>\n",
       "      <td>/r/IndiaSpeaks/comments/tmhqqg/kejriwal_says_t...</td>\n",
       "      <td>0.5</td>\n",
       "      <td>1.0</td>\n",
       "      <td>0.000000</td>\n",
       "      <td>0.4404</td>\n",
       "      <td>0.0</td>\n",
       "    </tr>\n",
       "  </tbody>\n",
       "</table>\n",
       "</div>"
      ],
      "text/plain": [
       "                                         clean_title  \\\n",
       "0  ResignModi trending in India on 1 with 200k tw...   \n",
       "1  Put 'The Kashmir Files' on YouTube, everyone w...   \n",
       "2  Kejriwal says 'The Kashmir Files' is a jhoothi...   \n",
       "3  Government of India has Blacklisted Karl Rock ...   \n",
       "4  Kejriwal says 'The Kashmir Files' is a jhoothi...   \n",
       "\n",
       "                                       clean_comment comment_id  \\\n",
       "0  People tend to look down on \"social media acti...    gwe056n   \n",
       "1  I remember it was made to release twice, and t...    i1y3pv3   \n",
       "2  Bhai delhi m hindu bht h but ye aur caste k lo...    i21haf8   \n",
       "3  mahatma gandhi's shadows are fading. retards w...    h4lazw7   \n",
       "4  Isn't this kejru the same guy who kept tweetin...    i1yrkwx   \n",
       "\n",
       "                                                 url  target  true_label  \\\n",
       "0  /r/india/comments/n11sqc/resignmodi_trending_i...    -0.5        -1.0   \n",
       "1  /r/india/comments/tmcun4/put_the_kashmir_files...     0.0         0.0   \n",
       "2  /r/IndiaSpeaks/comments/tmhqqg/kejriwal_says_t...     0.5         1.0   \n",
       "3  /r/india/comments/ogrc0d/government_of_india_h...    -1.0        -1.0   \n",
       "4  /r/IndiaSpeaks/comments/tmhqqg/kejriwal_says_t...     0.5         1.0   \n",
       "\n",
       "   vader_score  vader_sentiment  vader_label  \n",
       "0    -0.000000          -0.5594          0.0  \n",
       "1     0.000000           0.7343          0.0  \n",
       "2     0.320255           0.8807          1.0  \n",
       "3    -0.138984          -0.2960         -1.0  \n",
       "4     0.000000           0.4404          0.0  "
      ]
     },
     "execution_count": 11,
     "metadata": {},
     "output_type": "execute_result"
    }
   ],
   "source": [
    "pred_df = eval_df.copy()\n",
    "pred_df['true_label'] = pred_df.apply(lambda x: np.sign(x['target']), axis=1)\n",
    "pred_df['vader_score'] = pred_df.apply(lambda x: unsupervised_prediction(x['clean_comment'])[0], axis=1)\n",
    "pred_df['vader_sentiment'] = pred_df.apply(lambda x: unsupervised_prediction(x['clean_comment'])[1], axis=1)\n",
    "pred_df['vader_label'] = pred_df.apply(lambda x: conv_to_label(x['vader_score'], threshold=0.01), axis=1)\n",
    "pred_df.head()"
   ]
  },
  {
   "cell_type": "code",
   "execution_count": 12,
   "id": "dbe90715",
   "metadata": {},
   "outputs": [
    {
     "data": {
      "text/html": [
       "<div>\n",
       "<style scoped>\n",
       "    .dataframe tbody tr th:only-of-type {\n",
       "        vertical-align: middle;\n",
       "    }\n",
       "\n",
       "    .dataframe tbody tr th {\n",
       "        vertical-align: top;\n",
       "    }\n",
       "\n",
       "    .dataframe thead th {\n",
       "        text-align: right;\n",
       "    }\n",
       "</style>\n",
       "<table border=\"1\" class=\"dataframe\">\n",
       "  <thead>\n",
       "    <tr style=\"text-align: right;\">\n",
       "      <th></th>\n",
       "      <th>target</th>\n",
       "      <th>true_label</th>\n",
       "      <th>vader_score</th>\n",
       "      <th>vader_sentiment</th>\n",
       "      <th>vader_label</th>\n",
       "    </tr>\n",
       "  </thead>\n",
       "  <tbody>\n",
       "    <tr>\n",
       "      <th>count</th>\n",
       "      <td>1000.000000</td>\n",
       "      <td>1000.000000</td>\n",
       "      <td>1000.000000</td>\n",
       "      <td>1000.000000</td>\n",
       "      <td>1000.000000</td>\n",
       "    </tr>\n",
       "    <tr>\n",
       "      <th>mean</th>\n",
       "      <td>-0.033750</td>\n",
       "      <td>-0.084000</td>\n",
       "      <td>-0.003991</td>\n",
       "      <td>0.024146</td>\n",
       "      <td>-0.024000</td>\n",
       "    </tr>\n",
       "    <tr>\n",
       "      <th>std</th>\n",
       "      <td>0.463965</td>\n",
       "      <td>0.761264</td>\n",
       "      <td>0.165419</td>\n",
       "      <td>0.641495</td>\n",
       "      <td>0.670726</td>\n",
       "    </tr>\n",
       "    <tr>\n",
       "      <th>min</th>\n",
       "      <td>-1.000000</td>\n",
       "      <td>-1.000000</td>\n",
       "      <td>-0.661680</td>\n",
       "      <td>-0.994100</td>\n",
       "      <td>-1.000000</td>\n",
       "    </tr>\n",
       "    <tr>\n",
       "      <th>25%</th>\n",
       "      <td>-0.250000</td>\n",
       "      <td>-1.000000</td>\n",
       "      <td>0.000000</td>\n",
       "      <td>-0.602550</td>\n",
       "      <td>0.000000</td>\n",
       "    </tr>\n",
       "    <tr>\n",
       "      <th>50%</th>\n",
       "      <td>0.000000</td>\n",
       "      <td>0.000000</td>\n",
       "      <td>-0.000000</td>\n",
       "      <td>0.027850</td>\n",
       "      <td>0.000000</td>\n",
       "    </tr>\n",
       "    <tr>\n",
       "      <th>75%</th>\n",
       "      <td>0.250000</td>\n",
       "      <td>1.000000</td>\n",
       "      <td>0.000000</td>\n",
       "      <td>0.632850</td>\n",
       "      <td>0.000000</td>\n",
       "    </tr>\n",
       "    <tr>\n",
       "      <th>max</th>\n",
       "      <td>1.000000</td>\n",
       "      <td>1.000000</td>\n",
       "      <td>0.560581</td>\n",
       "      <td>0.993600</td>\n",
       "      <td>1.000000</td>\n",
       "    </tr>\n",
       "  </tbody>\n",
       "</table>\n",
       "</div>"
      ],
      "text/plain": [
       "            target   true_label  vader_score  vader_sentiment  vader_label\n",
       "count  1000.000000  1000.000000  1000.000000      1000.000000  1000.000000\n",
       "mean     -0.033750    -0.084000    -0.003991         0.024146    -0.024000\n",
       "std       0.463965     0.761264     0.165419         0.641495     0.670726\n",
       "min      -1.000000    -1.000000    -0.661680        -0.994100    -1.000000\n",
       "25%      -0.250000    -1.000000     0.000000        -0.602550     0.000000\n",
       "50%       0.000000     0.000000    -0.000000         0.027850     0.000000\n",
       "75%       0.250000     1.000000     0.000000         0.632850     0.000000\n",
       "max       1.000000     1.000000     0.560581         0.993600     1.000000"
      ]
     },
     "execution_count": 12,
     "metadata": {},
     "output_type": "execute_result"
    }
   ],
   "source": [
    "pred_df.describe()"
   ]
  },
  {
   "cell_type": "code",
   "execution_count": 13,
   "id": "b0824781",
   "metadata": {},
   "outputs": [
    {
     "data": {
      "text/plain": [
       " 0.0    550\n",
       "-1.0    237\n",
       " 1.0    213\n",
       "Name: vader_label, dtype: int64"
      ]
     },
     "execution_count": 13,
     "metadata": {},
     "output_type": "execute_result"
    }
   ],
   "source": [
    "pred_df[\"vader_label\"].value_counts()"
   ]
  },
  {
   "cell_type": "code",
   "execution_count": 14,
   "id": "124bb384",
   "metadata": {},
   "outputs": [
    {
     "data": {
      "text/plain": [
       "0.516"
      ]
     },
     "execution_count": 14,
     "metadata": {},
     "output_type": "execute_result"
    }
   ],
   "source": [
    "np.mean(pred_df['true_label']==pred_df['vader_label'])  # 3-class accuracy"
   ]
  },
  {
   "cell_type": "code",
   "execution_count": 15,
   "id": "fec2508e",
   "metadata": {},
   "outputs": [
    {
     "data": {
      "text/plain": [
       "array([[120, 133,  82],\n",
       "       [ 45, 317,  52],\n",
       "       [ 72, 100,  79]])"
      ]
     },
     "execution_count": 15,
     "metadata": {},
     "output_type": "execute_result"
    }
   ],
   "source": [
    "confusion_matrix(pred_df['true_label'], pred_df['vader_label'])"
   ]
  },
  {
   "cell_type": "code",
   "execution_count": 16,
   "id": "c55c1859",
   "metadata": {},
   "outputs": [
    {
     "name": "stdout",
     "output_type": "stream",
     "text": [
      "              precision    recall  f1-score   support\n",
      "\n",
      "        Left       0.51      0.36      0.42       335\n",
      "     Neutral       0.58      0.77      0.66       414\n",
      "       Right       0.37      0.31      0.34       251\n",
      "\n",
      "    accuracy                           0.52      1000\n",
      "   macro avg       0.48      0.48      0.47      1000\n",
      "weighted avg       0.50      0.52      0.50      1000\n",
      "\n"
     ]
    }
   ],
   "source": [
    "print(classification_report(pred_df['true_label'], pred_df['vader_label'], target_names=['Left', 'Neutral', 'Right']))"
   ]
  },
  {
   "cell_type": "code",
   "execution_count": 17,
   "id": "5891c5c8",
   "metadata": {},
   "outputs": [
    {
     "data": {
      "text/plain": [
       "<Axes: ylabel='Density'>"
      ]
     },
     "execution_count": 17,
     "metadata": {},
     "output_type": "execute_result"
    },
    {
     "data": {
      "image/png": "[encoded data removed]",
      "text/plain": [
       "<Figure size 640x480 with 1 Axes>"
      ]
     },
     "metadata": {},
     "output_type": "display_data"
    }
   ],
   "source": [
    "pred_df['target'].plot.kde()\n",
    "pred_df['vader_score'].plot.kde()"
   ]
  },
  {
   "cell_type": "code",
   "execution_count": 18,
   "id": "b4920924",
   "metadata": {},
   "outputs": [],
   "source": [
    "y_rule_based = list(pred_df['vader_label']+1)"
   ]
  },
  {
   "cell_type": "code",
   "execution_count": null,
   "id": "f06a80ac",
   "metadata": {},
   "outputs": [],
   "source": []
  },
  {
   "cell_type": "markdown",
   "id": "2805f0d5",
   "metadata": {},
   "source": [
    "## Feature Extracted XGBoost"
   ]
  },
  {
   "cell_type": "code",
   "execution_count": 19,
   "id": "1a6a1260",
   "metadata": {},
   "outputs": [],
   "source": [
    "def feature_extraction(clean_text):\n",
    "    clean_text = clean_text.lower()\n",
    "    features = []\n",
    "    for t in left_terms:\n",
    "        features.append(len(re.findall(r'\\b'+t, clean_text)))\n",
    "    for t in right_terms:\n",
    "        features.append(len(re.findall(r'\\b'+t, clean_text)))\n",
    "    \n",
    "    return features\n",
    "\n",
    "def add_sentiment_features(clean_text, extracted_feat):\n",
    "    # appends sentiment scores onto extracted features\n",
    "    temp = extracted_feat.copy()\n",
    "    temp.append(vader.polarity_scores(clean_text)['compound'])\n",
    "    tb = TextBlob(clean_text)\n",
    "    temp.append(tb.sentiment.polarity)\n",
    "    temp.append(tb.sentiment.subjectivity)\n",
    "    return temp"
   ]
  },
  {
   "cell_type": "code",
   "execution_count": 20,
   "id": "6e7acea7",
   "metadata": {},
   "outputs": [
    {
     "name": "stdout",
     "output_type": "stream",
     "text": [
      "1999 1999 1000 1000\n"
     ]
    }
   ],
   "source": [
    "# getting train embeddings\n",
    "temp_df = train_df.copy()\n",
    "temp_df['extracted_features'] = temp_df.apply(lambda x: feature_extraction(x['clean_comment']), axis=1)\n",
    "# temp_df['final_features'] = temp_df.apply(lambda x: add_sentiment_features(x['clean_comment'], x['extracted_features']), axis=1)\n",
    "X_train, y_train = list(temp_df['extracted_features']), [np.sign(x)+1 for x in list(temp_df['target'])]\n",
    "\n",
    "# getting eval embeddings\n",
    "temp_df = eval_df.copy()\n",
    "temp_df['extracted_features'] = temp_df.apply(lambda x: feature_extraction(x['clean_comment']), axis=1)\n",
    "# temp_df['final_features'] = temp_df.apply(lambda x: add_sentiment_features(x['clean_comment'], x['extracted_features']), axis=1)\n",
    "X_test, y_test = list(temp_df['extracted_features']), [np.sign(x)+1 for x in list(temp_df['target'])]\n",
    "\n",
    "print(len(X_train), len(y_train), len(X_test), len(y_test))"
   ]
  },
  {
   "cell_type": "code",
   "execution_count": 21,
   "id": "d6d01f65",
   "metadata": {},
   "outputs": [
    {
     "name": "stdout",
     "output_type": "stream",
     "text": [
      "3-class classification accuracy: 0.581\n"
     ]
    }
   ],
   "source": [
    "xgb = xg.XGBClassifier(n_estimators=100, max_depth=4, learning_rate=0.1)\n",
    "xgb.fit(X_train, y_train)\n",
    "y_pred = xgb.predict(X_test)\n",
    "print(\"3-class classification accuracy:\", np.mean([int(y_test[i]==y_pred[i]) for i in range(len(y_test))]))"
   ]
  },
  {
   "cell_type": "code",
   "execution_count": 22,
   "id": "615d50bd",
   "metadata": {},
   "outputs": [
    {
     "data": {
      "text/plain": [
       "array([[151, 149,  35],\n",
       "       [ 35, 361,  18],\n",
       "       [ 70, 112,  69]])"
      ]
     },
     "execution_count": 22,
     "metadata": {},
     "output_type": "execute_result"
    }
   ],
   "source": [
    "confusion_matrix(y_test, y_pred)"
   ]
  },
  {
   "cell_type": "code",
   "execution_count": 23,
   "id": "46dff7fd",
   "metadata": {},
   "outputs": [
    {
     "name": "stdout",
     "output_type": "stream",
     "text": [
      "              precision    recall  f1-score   support\n",
      "\n",
      "        Left       0.59      0.45      0.51       335\n",
      "     Neutral       0.58      0.87      0.70       414\n",
      "       Right       0.57      0.27      0.37       251\n",
      "\n",
      "    accuracy                           0.58      1000\n",
      "   macro avg       0.58      0.53      0.53      1000\n",
      "weighted avg       0.58      0.58      0.55      1000\n",
      "\n"
     ]
    }
   ],
   "source": [
    "print(classification_report(y_test, y_pred, target_names=['Left', 'Neutral', 'Right']))"
   ]
  },
  {
   "cell_type": "code",
   "execution_count": 24,
   "id": "33a12612",
   "metadata": {},
   "outputs": [],
   "source": [
    "y_feat_ext = y_pred"
   ]
  },
  {
   "cell_type": "code",
   "execution_count": null,
   "id": "96529f60",
   "metadata": {},
   "outputs": [],
   "source": []
  },
  {
   "cell_type": "markdown",
   "id": "80997fdb",
   "metadata": {},
   "source": [
    "## Feature Extraction with PCA"
   ]
  },
  {
   "cell_type": "code",
   "execution_count": 25,
   "id": "8c815d2b",
   "metadata": {},
   "outputs": [
    {
     "name": "stdout",
     "output_type": "stream",
     "text": [
      "1999 1999 1000 1000\n"
     ]
    }
   ],
   "source": [
    "pca = PCA(n_components=8)\n",
    "\n",
    "# getting train embeddings\n",
    "temp_df = train_df.copy()\n",
    "temp_df['extracted_features'] = temp_df.apply(lambda x: feature_extraction(x['clean_comment']), axis=1)\n",
    "temp_df['extracted_features'] = pca.fit_transform(list(temp_df['extracted_features'])).tolist()  # fit transform PCA\n",
    "# temp_df['final_features'] = temp_df.apply(lambda x: add_sentiment_features(x['clean_comment'], x['extracted_features']), axis=1)\n",
    "X_train, y_train = list(temp_df['extracted_features']), [np.sign(x)+1 for x in list(temp_df['target'])]\n",
    "\n",
    "# getting eval embeddings\n",
    "temp_df = eval_df.copy()\n",
    "temp_df['extracted_features'] = temp_df.apply(lambda x: feature_extraction(x['clean_comment']), axis=1)\n",
    "temp_df['extracted_features'] = pca.transform(list(temp_df['extracted_features'])).tolist()  # transform PCA without re-fitting\n",
    "# temp_df['final_features'] = temp_df.apply(lambda x: add_sentiment_features(x['clean_comment'], x['extracted_features']), axis=1)\n",
    "X_test, y_test = list(temp_df['extracted_features']), [np.sign(x)+1 for x in list(temp_df['target'])]\n",
    "\n",
    "print(len(X_train), len(y_train), len(X_test), len(y_test))"
   ]
  },
  {
   "cell_type": "code",
   "execution_count": 26,
   "id": "7695fbf0",
   "metadata": {},
   "outputs": [
    {
     "name": "stdout",
     "output_type": "stream",
     "text": [
      "3-class classification accuracy: 0.565\n"
     ]
    }
   ],
   "source": [
    "xgb = xg.XGBClassifier(n_estimators=100, max_depth=4, learning_rate=0.01)\n",
    "xgb.fit(X_train, y_train)\n",
    "y_pred = xgb.predict(X_test)\n",
    "print(\"3-class classification accuracy:\", np.mean([int(y_test[i]==y_pred[i]) for i in range(len(y_test))]))"
   ]
  },
  {
   "cell_type": "code",
   "execution_count": 27,
   "id": "10ef5953",
   "metadata": {},
   "outputs": [
    {
     "data": {
      "text/plain": [
       "array([[171, 118,  46],\n",
       "       [ 58, 330,  26],\n",
       "       [ 99,  88,  64]])"
      ]
     },
     "execution_count": 27,
     "metadata": {},
     "output_type": "execute_result"
    }
   ],
   "source": [
    "confusion_matrix(y_test, y_pred)"
   ]
  },
  {
   "cell_type": "code",
   "execution_count": 28,
   "id": "62fb4be6",
   "metadata": {},
   "outputs": [
    {
     "name": "stdout",
     "output_type": "stream",
     "text": [
      "              precision    recall  f1-score   support\n",
      "\n",
      "        Left       0.52      0.51      0.52       335\n",
      "     Neutral       0.62      0.80      0.69       414\n",
      "       Right       0.47      0.25      0.33       251\n",
      "\n",
      "    accuracy                           0.56      1000\n",
      "   macro avg       0.54      0.52      0.51      1000\n",
      "weighted avg       0.55      0.56      0.54      1000\n",
      "\n"
     ]
    }
   ],
   "source": [
    "print(classification_report(y_test, y_pred, target_names=['Left', 'Neutral', 'Right']))"
   ]
  },
  {
   "cell_type": "code",
   "execution_count": 29,
   "id": "3db89bf7",
   "metadata": {},
   "outputs": [],
   "source": [
    "y_feat_pca = y_pred"
   ]
  },
  {
   "cell_type": "code",
   "execution_count": null,
   "id": "29ad8494",
   "metadata": {},
   "outputs": [],
   "source": []
  },
  {
   "cell_type": "markdown",
   "id": "31d2dc0c",
   "metadata": {},
   "source": [
    "## tf-idf word embeddings with XGBoost"
   ]
  },
  {
   "cell_type": "code",
   "execution_count": 30,
   "id": "3faa558c",
   "metadata": {},
   "outputs": [
    {
     "name": "stdout",
     "output_type": "stream",
     "text": [
      "(1999, 92418) (1000, 92418)\n"
     ]
    }
   ],
   "source": [
    "vectorizer = TfidfVectorizer(ngram_range=(1, 2), analyzer='word')\n",
    "\n",
    "X_train = vectorizer.fit_transform(list(train_df['clean_comment']))\n",
    "X_test = vectorizer.transform(list(eval_df['clean_comment']))\n",
    "y_train, y_test = [np.sign(x)+1 for x in list(train_df['target'])], [np.sign(x)+1 for x in list(eval_df['target'])]\n",
    "\n",
    "print(X_train.shape, X_test.shape)"
   ]
  },
  {
   "cell_type": "code",
   "execution_count": 31,
   "id": "f365189f",
   "metadata": {},
   "outputs": [
    {
     "name": "stdout",
     "output_type": "stream",
     "text": [
      "{'order': 0, 'bjp': 1, 'aap': 2, 'congress': 3, 'shashi': 4, 'tharoor': 5, 'hindu': 6, 'modi': 7, 'hindutva': 8, 'rights': 9, 'caa': 10, 'fascist': 11, 'western': 12, 'trans': 13, 'nationalism': 14, 'christian': 15, 'religion': 16, 'freedom': 17, 'social': 18, 'muslim': 19, 'right wing': 20, 'minority': 21, 'amit': 22, 'shah': 23, 'bharatiya': 24, 'janata': 25, 'kejriwal': 26, 'nationalist': 27, 'ram': 28, 'secular': 29, 'upa': 30, 'gandhi': 31, 'nda': 32, 'rw': 33, 'duty': 34, 'cpi': 35, 'hindu rashtra': 36, 'pappu': 37, 'minorities': 38, 'equality': 39, 'reservation': 40, 'commies': 41, 'yogi': 42, 'liberal': 43, 'mandir': 44, 'yatra': 45, 'smriti irani': 46, 'conservative': 47, 'lgbtq': 48, 'nrc': 49, 'progressive': 50, 'adani': 51, 'hierarchy': 52, 'reaction': 53, 'rahul': 54, 'welfare': 55, 'gay': 56, 'brahmin': 57, 'rss': 58, 'progress': 59, 'left wing': 60, 'ramayan': 61, 'indira': 62, 'janta dal': 63, 'islamophobia': 64, 'sangh': 65, 'bhakt': 66, 'leftists': 67, 'aam': 68, 'aadmi': 69, 'sanatan': 70, 'dharm': 71, 'sanghi': 72, 'socialist': 73, 'democratic socialist': 74, 'hindu unity': 75, 'narendra': 76, 'communist': 77, 'valmiki': 78, 'reform': 79, 'abrahamic': 80, 'arvind': 81, 'lw': 82, 'authority': 83, 'mamata': 84, 'aiadmk': 85, 'traditional': 86, 'transgender': 87, 'rg': 88, 'fraternity': 89, 'tradition': 90, 'hinduphobia': 91, 'pm cares': 92, 'masjid': 93, 'godi': 94, 'pmcares': 95, 'sjw': 96}\n"
     ]
    }
   ],
   "source": [
    "count = 0\n",
    "\n",
    "new_voc = {}\n",
    "for i in vectorizer.vocabulary_:\n",
    "    if (i in left_terms) or (i in right_terms):\n",
    "        new_voc[i] = count \n",
    "        count += 1 \n",
    "print(new_voc)"
   ]
  },
  {
   "cell_type": "code",
   "execution_count": 32,
   "id": "cc407120",
   "metadata": {},
   "outputs": [
    {
     "name": "stdout",
     "output_type": "stream",
     "text": [
      "(1999, 97) (1000, 97)\n"
     ]
    }
   ],
   "source": [
    "vectorizer = TfidfVectorizer(ngram_range=(1, 2), analyzer='word', vocabulary=new_voc)\n",
    "\n",
    "X_train = vectorizer.fit_transform(list(train_df['clean_comment']))\n",
    "X_test = vectorizer.transform(list(eval_df['clean_comment']))\n",
    "y_train, y_test = [np.sign(x)+1 for x in list(train_df['target'])], [np.sign(x)+1 for x in list(eval_df['target'])]\n",
    "\n",
    "print(X_train.shape, X_test.shape)"
   ]
  },
  {
   "cell_type": "code",
   "execution_count": 33,
   "id": "ed0ef9b1",
   "metadata": {},
   "outputs": [
    {
     "name": "stdout",
     "output_type": "stream",
     "text": [
      "3-class classification accuracy: 0.529\n"
     ]
    }
   ],
   "source": [
    "xgb = xg.XGBClassifier(n_estimators=100, max_depth=4, learning_rate=0.05)\n",
    "xgb.fit(X_train, y_train)\n",
    "y_pred = xgb.predict(X_test)\n",
    "print(\"3-class classification accuracy:\", np.mean([int(y_test[i]==y_pred[i]) for i in range(len(y_test))]))"
   ]
  },
  {
   "cell_type": "code",
   "execution_count": 34,
   "id": "f50d6731",
   "metadata": {},
   "outputs": [
    {
     "data": {
      "text/plain": [
       "array([[115, 191,  29],\n",
       "       [ 30, 367,  17],\n",
       "       [ 59, 145,  47]])"
      ]
     },
     "execution_count": 34,
     "metadata": {},
     "output_type": "execute_result"
    }
   ],
   "source": [
    "confusion_matrix(y_test, y_pred)"
   ]
  },
  {
   "cell_type": "code",
   "execution_count": 35,
   "id": "48d7d558",
   "metadata": {},
   "outputs": [
    {
     "name": "stdout",
     "output_type": "stream",
     "text": [
      "              precision    recall  f1-score   support\n",
      "\n",
      "        Left       0.56      0.34      0.43       335\n",
      "     Neutral       0.52      0.89      0.66       414\n",
      "       Right       0.51      0.19      0.27       251\n",
      "\n",
      "    accuracy                           0.53      1000\n",
      "   macro avg       0.53      0.47      0.45      1000\n",
      "weighted avg       0.53      0.53      0.48      1000\n",
      "\n"
     ]
    }
   ],
   "source": [
    "print(classification_report(y_test, y_pred, target_names=['Left', 'Neutral', 'Right']))"
   ]
  },
  {
   "cell_type": "code",
   "execution_count": 36,
   "id": "ee8b3dbc",
   "metadata": {},
   "outputs": [],
   "source": [
    "y_w_tfidf = y_pred"
   ]
  },
  {
   "cell_type": "code",
   "execution_count": null,
   "id": "d0558576",
   "metadata": {},
   "outputs": [],
   "source": []
  },
  {
   "cell_type": "markdown",
   "id": "fcb3af30",
   "metadata": {},
   "source": [
    "## tf-idf word embeddings with PCA and sentiment\n",
    "Since PCA doesn't work for sparse data, we use TruncatedSVD for the same effect"
   ]
  },
  {
   "cell_type": "code",
   "execution_count": 37,
   "id": "6ddc92ac",
   "metadata": {},
   "outputs": [],
   "source": [
    "vectorizer = TfidfVectorizer(ngram_range=(1, 2), analyzer='word', vocabulary=new_voc)\n",
    "tsvd = TruncatedSVD(n_components=5, random_state=123)\n",
    "\n",
    "temp_df = train_df.copy()\n",
    "X_train = vectorizer.fit_transform(list(temp_df['clean_comment']))\n",
    "temp_df['extracted_features'] = tsvd.fit_transform(X_train).tolist()\n",
    "# temp_df['final_features'] = temp_df.apply(lambda x: add_sentiment_features(x['clean_comment'], x['extracted_features']), axis=1)\n",
    "X_train, y_train = list(temp_df['extracted_features']), [np.sign(x)+1 for x in list(temp_df['target'])]\n",
    "\n",
    "temp_df = eval_df.copy()\n",
    "X_test = vectorizer.transform(list(temp_df['clean_comment']))\n",
    "temp_df['extracted_features'] = tsvd.transform(X_test).tolist()\n",
    "# temp_df['final_features'] = temp_df.apply(lambda x: add_sentiment_features(x['clean_comment'], x['extracted_features']), axis=1)\n",
    "X_test, y_test = list(temp_df['extracted_features']), [np.sign(x)+1 for x in list(temp_df['target'])]"
   ]
  },
  {
   "cell_type": "code",
   "execution_count": 38,
   "id": "a5c5de76",
   "metadata": {},
   "outputs": [
    {
     "name": "stdout",
     "output_type": "stream",
     "text": [
      "3-class classification accuracy: 0.552\n"
     ]
    }
   ],
   "source": [
    "xgb = xg.XGBClassifier(n_estimators=100, max_depth=4, learning_rate=0.01)\n",
    "xgb.fit(X_train, y_train)\n",
    "y_pred = xgb.predict(X_test)\n",
    "print(\"3-class classification accuracy:\", np.mean([int(y_test[i]==y_pred[i]) for i in range(len(y_test))]))"
   ]
  },
  {
   "cell_type": "code",
   "execution_count": 39,
   "id": "03578014",
   "metadata": {},
   "outputs": [
    {
     "data": {
      "text/plain": [
       "array([[160, 139,  36],\n",
       "       [ 45, 346,  23],\n",
       "       [ 93, 112,  46]])"
      ]
     },
     "execution_count": 39,
     "metadata": {},
     "output_type": "execute_result"
    }
   ],
   "source": [
    "confusion_matrix(y_test, y_pred)"
   ]
  },
  {
   "cell_type": "code",
   "execution_count": 40,
   "id": "6db99405",
   "metadata": {},
   "outputs": [
    {
     "name": "stdout",
     "output_type": "stream",
     "text": [
      "              precision    recall  f1-score   support\n",
      "\n",
      "        Left       0.54      0.48      0.51       335\n",
      "     Neutral       0.58      0.84      0.68       414\n",
      "       Right       0.44      0.18      0.26       251\n",
      "\n",
      "    accuracy                           0.55      1000\n",
      "   macro avg       0.52      0.50      0.48      1000\n",
      "weighted avg       0.53      0.55      0.52      1000\n",
      "\n"
     ]
    }
   ],
   "source": [
    "print(classification_report(y_test, y_pred, target_names=['Left', 'Neutral', 'Right']))"
   ]
  },
  {
   "cell_type": "code",
   "execution_count": 41,
   "id": "7213e90c",
   "metadata": {},
   "outputs": [],
   "source": [
    "y_tfidf_pca = y_pred"
   ]
  },
  {
   "cell_type": "code",
   "execution_count": null,
   "id": "dcf71e74",
   "metadata": {},
   "outputs": [],
   "source": []
  },
  {
   "cell_type": "markdown",
   "id": "bc621327",
   "metadata": {},
   "source": [
    "## tf-idf sub-word embeddings"
   ]
  },
  {
   "cell_type": "code",
   "execution_count": 42,
   "id": "8fe43652",
   "metadata": {},
   "outputs": [
    {
     "name": "stdout",
     "output_type": "stream",
     "text": [
      "(1999, 97) (1000, 97)\n"
     ]
    }
   ],
   "source": [
    "vectorizer = TfidfVectorizer(ngram_range=(2, 10), analyzer='char_wb', vocabulary=new_voc)\n",
    "\n",
    "X_train = vectorizer.fit_transform(list(train_df['clean_comment']))\n",
    "X_test = vectorizer.transform(list(eval_df['clean_comment']))\n",
    "y_train, y_test = [np.sign(x)+1 for x in list(train_df['target'])], [np.sign(x)+1 for x in list(eval_df['target'])]\n",
    "\n",
    "print(X_train.shape, X_test.shape)"
   ]
  },
  {
   "cell_type": "code",
   "execution_count": 43,
   "id": "c315366a",
   "metadata": {},
   "outputs": [
    {
     "name": "stdout",
     "output_type": "stream",
     "text": [
      "3-class classification accuracy: 0.569\n"
     ]
    }
   ],
   "source": [
    "xgb = xg.XGBClassifier(n_estimators=100, max_depth=4, learning_rate=0.05)\n",
    "xgb.fit(X_train, y_train)\n",
    "y_pred = xgb.predict(X_test)\n",
    "print(\"3-class classification accuracy:\", np.mean([int(y_test[i]==y_pred[i]) for i in range(len(y_test))]))"
   ]
  },
  {
   "cell_type": "code",
   "execution_count": 44,
   "id": "0d233d17",
   "metadata": {},
   "outputs": [
    {
     "data": {
      "text/plain": [
       "array([[135, 167,  33],\n",
       "       [ 33, 363,  18],\n",
       "       [ 64, 116,  71]])"
      ]
     },
     "execution_count": 44,
     "metadata": {},
     "output_type": "execute_result"
    }
   ],
   "source": [
    "confusion_matrix(y_test, y_pred)"
   ]
  },
  {
   "cell_type": "code",
   "execution_count": 45,
   "id": "cad80d01",
   "metadata": {},
   "outputs": [
    {
     "name": "stdout",
     "output_type": "stream",
     "text": [
      "              precision    recall  f1-score   support\n",
      "\n",
      "        Left       0.58      0.40      0.48       335\n",
      "     Neutral       0.56      0.88      0.68       414\n",
      "       Right       0.58      0.28      0.38       251\n",
      "\n",
      "    accuracy                           0.57      1000\n",
      "   macro avg       0.58      0.52      0.51      1000\n",
      "weighted avg       0.57      0.57      0.54      1000\n",
      "\n"
     ]
    }
   ],
   "source": [
    "print(classification_report(y_test, y_pred, target_names=['Left', 'Neutral', 'Right']))"
   ]
  },
  {
   "cell_type": "code",
   "execution_count": 46,
   "id": "37d50796",
   "metadata": {},
   "outputs": [],
   "source": [
    "y_sw_tfidf = y_pred"
   ]
  },
  {
   "cell_type": "code",
   "execution_count": null,
   "id": "6d2886f9",
   "metadata": {},
   "outputs": [],
   "source": []
  },
  {
   "cell_type": "markdown",
   "id": "cc9eeb4c",
   "metadata": {},
   "source": [
    "## Data Augmentation with tf-idf/XGBoost"
   ]
  },
  {
   "cell_type": "code",
   "execution_count": 47,
   "id": "6bf3e675",
   "metadata": {},
   "outputs": [],
   "source": [
    "list_right_terms = list(right_terms)\n",
    "list_left_terms = list(left_terms)\n",
    "full_terms = left_terms.union(right_terms)"
   ]
  },
  {
   "cell_type": "code",
   "execution_count": 48,
   "id": "ef1ee287",
   "metadata": {},
   "outputs": [],
   "source": [
    "def random_swap(term):\n",
    "    if term in left_terms:\n",
    "        # LW term being swapped\n",
    "        return np.random.choice(list_right_terms)\n",
    "    elif term in right_terms:\n",
    "        # RW term being swapped\n",
    "        return np.random.choice(list_left_terms)\n",
    "    print(f\"Error with: {term}\")\n",
    "\n",
    "def swap_terms(text):\n",
    "    term_match = re.compile('|'.join([r'\\b'+t for t in full_terms]))\n",
    "    \n",
    "    temp = term_match.sub(lambda m: random_swap(m.group()), text.lower())\n",
    "    return temp"
   ]
  },
  {
   "cell_type": "code",
   "execution_count": 167,
   "id": "b427e89c",
   "metadata": {},
   "outputs": [
    {
     "data": {
      "text/html": [
       "<div>\n",
       "<style scoped>\n",
       "    .dataframe tbody tr th:only-of-type {\n",
       "        vertical-align: middle;\n",
       "    }\n",
       "\n",
       "    .dataframe tbody tr th {\n",
       "        vertical-align: top;\n",
       "    }\n",
       "\n",
       "    .dataframe thead th {\n",
       "        text-align: right;\n",
       "    }\n",
       "</style>\n",
       "<table border=\"1\" class=\"dataframe\">\n",
       "  <thead>\n",
       "    <tr style=\"text-align: right;\">\n",
       "      <th></th>\n",
       "      <th>clean_comment</th>\n",
       "      <th>target</th>\n",
       "    </tr>\n",
       "  </thead>\n",
       "  <tbody>\n",
       "    <tr>\n",
       "      <th>0</th>\n",
       "      <td>there are two types of parties those that prom...</td>\n",
       "      <td>0.00</td>\n",
       "    </tr>\n",
       "    <tr>\n",
       "      <th>1</th>\n",
       "      <td>if fundamentals are sound then, faith can help...</td>\n",
       "      <td>0.75</td>\n",
       "    </tr>\n",
       "    <tr>\n",
       "      <th>2</th>\n",
       "      <td>if fundamentals are sound then, faith can help...</td>\n",
       "      <td>-0.75</td>\n",
       "    </tr>\n",
       "    <tr>\n",
       "      <th>3</th>\n",
       "      <td>contrary to popular belief, until modi, india ...</td>\n",
       "      <td>-0.50</td>\n",
       "    </tr>\n",
       "    <tr>\n",
       "      <th>4</th>\n",
       "      <td>bro inhone bahut land hijack kiya hai kisse pa...</td>\n",
       "      <td>-0.25</td>\n",
       "    </tr>\n",
       "    <tr>\n",
       "      <th>...</th>\n",
       "      <td>...</td>\n",
       "      <td>...</td>\n",
       "    </tr>\n",
       "    <tr>\n",
       "      <th>2512</th>\n",
       "      <td>if you had spent 5 min looking at the actual s...</td>\n",
       "      <td>0.00</td>\n",
       "    </tr>\n",
       "    <tr>\n",
       "      <th>2513</th>\n",
       "      <td>he can look at education. that is something he...</td>\n",
       "      <td>0.00</td>\n",
       "    </tr>\n",
       "    <tr>\n",
       "      <th>2514</th>\n",
       "      <td>it is good a initiative but the plastic in roa...</td>\n",
       "      <td>0.00</td>\n",
       "    </tr>\n",
       "    <tr>\n",
       "      <th>2515</th>\n",
       "      <td>yup, been reading about it since couple of wee...</td>\n",
       "      <td>0.00</td>\n",
       "    </tr>\n",
       "    <tr>\n",
       "      <th>2516</th>\n",
       "      <td>first i thought christmas ke chakkar me. then ...</td>\n",
       "      <td>0.00</td>\n",
       "    </tr>\n",
       "  </tbody>\n",
       "</table>\n",
       "<p>2517 rows × 2 columns</p>\n",
       "</div>"
      ],
      "text/plain": [
       "                                          clean_comment  target\n",
       "0     there are two types of parties those that prom...    0.00\n",
       "1     if fundamentals are sound then, faith can help...    0.75\n",
       "2     if fundamentals are sound then, faith can help...   -0.75\n",
       "3     contrary to popular belief, until modi, india ...   -0.50\n",
       "4     bro inhone bahut land hijack kiya hai kisse pa...   -0.25\n",
       "...                                                 ...     ...\n",
       "2512  if you had spent 5 min looking at the actual s...    0.00\n",
       "2513  he can look at education. that is something he...    0.00\n",
       "2514  it is good a initiative but the plastic in roa...    0.00\n",
       "2515  yup, been reading about it since couple of wee...    0.00\n",
       "2516  first i thought christmas ke chakkar me. then ...    0.00\n",
       "\n",
       "[2517 rows x 2 columns]"
      ]
     },
     "execution_count": 167,
     "metadata": {},
     "output_type": "execute_result"
    }
   ],
   "source": [
    "aug_records = []\n",
    "for i, row in train_df.iterrows():\n",
    "    aug_records.append({'clean_comment':row['clean_comment'].lower(), 'target':row['target']})\n",
    "    # adding in record with swapped terms and opposite score\n",
    "    if(row['target']>0.0):\n",
    "        aug_records.append({'clean_comment':swap_terms(row['clean_comment']), 'target':-row['target']})\n",
    "        # aug_records.append({'clean_comment':swap_terms(row['clean_comment']), 'target':-row['target']})\n",
    "aug_df = pd.DataFrame.from_records(aug_records)\n",
    "aug_df"
   ]
  },
  {
   "cell_type": "code",
   "execution_count": 168,
   "id": "486df003",
   "metadata": {},
   "outputs": [
    {
     "name": "stdout",
     "output_type": "stream",
     "text": [
      "(2517, 97) (1000, 97)\n"
     ]
    }
   ],
   "source": [
    "vectorizer = TfidfVectorizer(ngram_range=(2, 10), analyzer='char_wb', vocabulary=new_voc)\n",
    "\n",
    "X_train = vectorizer.fit_transform(list(aug_df['clean_comment']))\n",
    "X_test = vectorizer.transform(list(eval_df['clean_comment']))\n",
    "y_train, y_test = [np.sign(x)+1 for x in list(aug_df['target'])], [np.sign(x)+1 for x in list(eval_df['target'])]\n",
    "\n",
    "print(X_train.shape, X_test.shape)"
   ]
  },
  {
   "cell_type": "code",
   "execution_count": 172,
   "id": "2d021d89",
   "metadata": {},
   "outputs": [
    {
     "name": "stdout",
     "output_type": "stream",
     "text": [
      "3-class classification accuracy: 0.562\n"
     ]
    }
   ],
   "source": [
    "xgb = xg.XGBClassifier(n_estimators=100, max_depth=4, learning_rate=0.1)\n",
    "xgb.fit(X_train, y_train)\n",
    "y_pred = xgb.predict(X_test)\n",
    "print(\"3-class classification accuracy:\", np.mean([int(y_test[i]==y_pred[i]) for i in range(len(y_test))]))"
   ]
  },
  {
   "cell_type": "code",
   "execution_count": 173,
   "id": "eaa6d027",
   "metadata": {},
   "outputs": [
    {
     "data": {
      "text/plain": [
       "array([[198, 108,  29],\n",
       "       [ 89, 312,  13],\n",
       "       [107,  92,  52]])"
      ]
     },
     "execution_count": 173,
     "metadata": {},
     "output_type": "execute_result"
    }
   ],
   "source": [
    "confusion_matrix(y_test, y_pred)"
   ]
  },
  {
   "cell_type": "code",
   "execution_count": 174,
   "id": "1377092b",
   "metadata": {},
   "outputs": [
    {
     "name": "stdout",
     "output_type": "stream",
     "text": [
      "              precision    recall  f1-score   support\n",
      "\n",
      "        Left       0.50      0.59      0.54       335\n",
      "     Neutral       0.61      0.75      0.67       414\n",
      "       Right       0.55      0.21      0.30       251\n",
      "\n",
      "    accuracy                           0.56      1000\n",
      "   macro avg       0.56      0.52      0.51      1000\n",
      "weighted avg       0.56      0.56      0.54      1000\n",
      "\n"
     ]
    }
   ],
   "source": [
    "print(classification_report(y_test, y_pred, target_names=['Left', 'Neutral', 'Right']))"
   ]
  },
  {
   "cell_type": "code",
   "execution_count": 175,
   "id": "09ecdd0a",
   "metadata": {},
   "outputs": [],
   "source": [
    "y_aug = y_pred"
   ]
  },
  {
   "cell_type": "code",
   "execution_count": null,
   "id": "00fa123d",
   "metadata": {},
   "outputs": [],
   "source": []
  },
  {
   "cell_type": "markdown",
   "id": "cae37113",
   "metadata": {},
   "source": [
    "## Frozen Indian-sBERT embeddings with XGBoost\n",
    "### Note: do NOT re-run this section without a powerful GPU. The pretrained model is massive."
   ]
  },
  {
   "cell_type": "code",
   "execution_count": 56,
   "id": "8ea39f37",
   "metadata": {},
   "outputs": [],
   "source": [
    "model_name = \"meedan/indian-sbert\"\n",
    "tokenizer = AutoTokenizer.from_pretrained(model_name)\n",
    "model = AutoModel.from_pretrained(model_name).to(device)\n",
    "\n",
    "# freezing everything\n",
    "modules = [model.embeddings, *model.encoder.layer]\n",
    "for module in modules:\n",
    "    for param in module.parameters():\n",
    "        param.requires_grad = False"
   ]
  },
  {
   "cell_type": "code",
   "execution_count": 57,
   "id": "425294d0",
   "metadata": {},
   "outputs": [
    {
     "name": "stdout",
     "output_type": "stream",
     "text": [
      "1999 768\n"
     ]
    }
   ],
   "source": [
    "# getting train embeddings from model\n",
    "with torch.no_grad():\n",
    "    model.eval()\n",
    "    X_train = []\n",
    "    batch_size = 16\n",
    "    for i in range(0, len(train_df), batch_size):\n",
    "        temp = tokenizer(list(train_df['clean_comment'][i:i+batch_size]), padding='max_length', max_length = 256, truncation=True, return_tensors=\"pt\")\n",
    "        X_train.extend(model(temp['input_ids'].to(device), temp['attention_mask'].to(device)).pooler_output.cpu().detach().numpy().tolist())\n",
    "      \n",
    "print(len(X_train), len(X_train[0]))"
   ]
  },
  {
   "cell_type": "code",
   "execution_count": 58,
   "id": "6e4d6273",
   "metadata": {},
   "outputs": [
    {
     "name": "stdout",
     "output_type": "stream",
     "text": [
      "1000 768\n"
     ]
    }
   ],
   "source": [
    "# getting eval embeddings from model\n",
    "with torch.no_grad():\n",
    "    model.eval()\n",
    "    X_test = []\n",
    "    batch_size = 16\n",
    "    for i in range(0, len(eval_df), batch_size):\n",
    "        temp = tokenizer(list(eval_df['clean_comment'][i:i+batch_size]), padding='max_length', max_length = 256, truncation=True, return_tensors=\"pt\")\n",
    "        X_test.extend(model(temp['input_ids'].to(device), temp['attention_mask'].to(device)).pooler_output.cpu().detach().numpy().tolist())\n",
    "      \n",
    "print(len(X_test), len(X_test[0]))"
   ]
  },
  {
   "cell_type": "code",
   "execution_count": 59,
   "id": "957d2d82",
   "metadata": {},
   "outputs": [],
   "source": [
    "y_train, y_test = [np.sign(x)+1 for x in list(train_df['target'])], [np.sign(x)+1 for x in list(eval_df['target'])]"
   ]
  },
  {
   "cell_type": "code",
   "execution_count": 60,
   "id": "92f9aef1",
   "metadata": {},
   "outputs": [
    {
     "name": "stdout",
     "output_type": "stream",
     "text": [
      "3-class classification accuracy: 0.518\n"
     ]
    }
   ],
   "source": [
    "xgb = xg.XGBClassifier(n_estimators=100, max_depth=5, learning_rate=0.1)\n",
    "xgb.fit(X_train, y_train)\n",
    "y_pred = xgb.predict(X_test)\n",
    "print(\"3-class classification accuracy:\", np.mean([int(y_test[i]==y_pred[i]) for i in range(len(y_test))]))"
   ]
  },
  {
   "cell_type": "code",
   "execution_count": 61,
   "id": "0fa65784",
   "metadata": {},
   "outputs": [
    {
     "data": {
      "text/plain": [
       "array([[149, 123,  63],\n",
       "       [ 82, 296,  36],\n",
       "       [ 77, 101,  73]], dtype=int64)"
      ]
     },
     "execution_count": 61,
     "metadata": {},
     "output_type": "execute_result"
    }
   ],
   "source": [
    "confusion_matrix(y_test, y_pred)"
   ]
  },
  {
   "cell_type": "code",
   "execution_count": 62,
   "id": "396dad4f",
   "metadata": {},
   "outputs": [
    {
     "name": "stdout",
     "output_type": "stream",
     "text": [
      "              precision    recall  f1-score   support\n",
      "\n",
      "        Left       0.48      0.44      0.46       335\n",
      "     Neutral       0.57      0.71      0.63       414\n",
      "       Right       0.42      0.29      0.35       251\n",
      "\n",
      "    accuracy                           0.52      1000\n",
      "   macro avg       0.49      0.48      0.48      1000\n",
      "weighted avg       0.50      0.52      0.50      1000\n",
      "\n"
     ]
    }
   ],
   "source": [
    "print(classification_report(y_test, y_pred, target_names=['Left', 'Neutral', 'Right']))"
   ]
  },
  {
   "cell_type": "code",
   "execution_count": 63,
   "id": "a86ac0f4",
   "metadata": {},
   "outputs": [],
   "source": [
    "y_bert_frozen = y_pred"
   ]
  },
  {
   "cell_type": "code",
   "execution_count": null,
   "id": "d8501b7b",
   "metadata": {},
   "outputs": [],
   "source": []
  },
  {
   "cell_type": "markdown",
   "id": "a08d2a9e",
   "metadata": {},
   "source": [
    "## Ensemble of Models"
   ]
  },
  {
   "cell_type": "code",
   "execution_count": null,
   "id": "3dded9a4",
   "metadata": {},
   "outputs": [],
   "source": [
    "# we have the models and accuracies:\n",
    "# y_rule_based    0.502\n",
    "# y_feat_ext      0.574\n",
    "# y_feat_pca      0.562\n",
    "# y_w_tfidf       0.528\n",
    "# y_tfidf_pca     0.493\n",
    "# y_sw_tfidf      0.563\n",
    "# y_aug           0.541\n",
    "# y_bert_frozen   0.518"
   ]
  },
  {
   "cell_type": "code",
   "execution_count": 176,
   "id": "4cc33ad3",
   "metadata": {},
   "outputs": [],
   "source": [
    "def majority_voting(pred_list):\n",
    "    # provide in decreasing order of confidence for tie-breaks\n",
    "    n = len(pred_list[0])\n",
    "    y_ensembled = []\n",
    "    for i in range(n):\n",
    "        temp = [x[i] for x in pred_list]\n",
    "        y_ensembled.append(Counter(temp).most_common(1)[0][0])\n",
    "    return y_ensembled"
   ]
  },
  {
   "cell_type": "code",
   "execution_count": 177,
   "id": "4667a4f9",
   "metadata": {},
   "outputs": [
    {
     "name": "stdout",
     "output_type": "stream",
     "text": [
      "3-class classification accuracy: 0.58\n"
     ]
    }
   ],
   "source": [
    "# y_ensembled = majority_voting([y_feat_ext, y_sw_tfidf, y_feat_pca, y_aug, y_w_tfidf, y_tfidf_pca])\n",
    "y_ensembled = majority_voting([y_feat_ext, y_sw_tfidf, y_feat_pca, y_aug])\n",
    "y_test = [np.sign(x)+1 for x in list(eval_df['target'])]\n",
    "y_pred = y_ensembled\n",
    "print(\"3-class classification accuracy:\", np.mean([int(y_test[i]==y_pred[i]) for i in range(len(y_test))]))"
   ]
  },
  {
   "cell_type": "code",
   "execution_count": 178,
   "id": "da8869e5",
   "metadata": {},
   "outputs": [
    {
     "data": {
      "text/plain": [
       "array([[152, 149,  34],\n",
       "       [ 41, 357,  16],\n",
       "       [ 71, 109,  71]])"
      ]
     },
     "execution_count": 178,
     "metadata": {},
     "output_type": "execute_result"
    }
   ],
   "source": [
    "confusion_matrix(y_test, y_pred)"
   ]
  },
  {
   "cell_type": "code",
   "execution_count": 179,
   "id": "cc5797cf",
   "metadata": {},
   "outputs": [
    {
     "name": "stdout",
     "output_type": "stream",
     "text": [
      "              precision    recall  f1-score   support\n",
      "\n",
      "        Left       0.58      0.45      0.51       335\n",
      "     Neutral       0.58      0.86      0.69       414\n",
      "       Right       0.59      0.28      0.38       251\n",
      "\n",
      "    accuracy                           0.58      1000\n",
      "   macro avg       0.58      0.53      0.53      1000\n",
      "weighted avg       0.58      0.58      0.55      1000\n",
      "\n"
     ]
    }
   ],
   "source": [
    "print(classification_report(y_test, y_pred, target_names=['Left', 'Neutral', 'Right']))"
   ]
  },
  {
   "cell_type": "code",
   "execution_count": 180,
   "id": "951030f6",
   "metadata": {},
   "outputs": [],
   "source": [
    "y_majority = y_pred"
   ]
  },
  {
   "cell_type": "code",
   "execution_count": 181,
   "id": "e45779ed",
   "metadata": {},
   "outputs": [],
   "source": [
    "def weighted_avg(pred_list):\n",
    "    # pred_list should contain tuples of (y_pred, weight)\n",
    "    n = len(pred_list[0][0])\n",
    "    y_ensembled = []\n",
    "    weight_sum = sum([m[1] for m in pred_list])\n",
    "    for i in range(n):\n",
    "        score = 0\n",
    "        for m in pred_list:\n",
    "            score += m[0][i]*m[1]/weight_sum\n",
    "        y_ensembled.append(score-1)\n",
    "    return y_ensembled"
   ]
  },
  {
   "cell_type": "code",
   "execution_count": 182,
   "id": "8943e4e9",
   "metadata": {},
   "outputs": [],
   "source": [
    "y_ensembled = weighted_avg([(y_feat_ext, 10), \n",
    "                           (y_sw_tfidf, 10), \n",
    "                           (y_feat_pca,8), \n",
    "                           (y_aug, 7), \n",
    "                           # (y_w_tfidf, 20), \n",
    "                        #    (y_bert_frozen, 0), \n",
    "                           (y_rule_based, 0), \n",
    "                           (y_tfidf_pca, 0)])"
   ]
  },
  {
   "cell_type": "code",
   "execution_count": 183,
   "id": "9ad86065",
   "metadata": {},
   "outputs": [
    {
     "data": {
      "text/plain": [
       "(array([186.,  22.,  78.,  95.,  11., 492.,  21.,  32.,   9.,  54.]),\n",
       " array([-1. , -0.8, -0.6, -0.4, -0.2,  0. ,  0.2,  0.4,  0.6,  0.8,  1. ]),\n",
       " <BarContainer object of 10 artists>)"
      ]
     },
     "execution_count": 183,
     "metadata": {},
     "output_type": "execute_result"
    },
    {
     "data": {
      "image/png": "[encoded data removed]",
      "text/plain": [
       "<Figure size 640x480 with 1 Axes>"
      ]
     },
     "metadata": {},
     "output_type": "display_data"
    }
   ],
   "source": [
    "plt.hist(y_ensembled)"
   ]
  },
  {
   "cell_type": "code",
   "execution_count": 184,
   "id": "58917168",
   "metadata": {},
   "outputs": [
    {
     "name": "stdout",
     "output_type": "stream",
     "text": [
      "3-class classification accuracy: 0.591\n"
     ]
    }
   ],
   "source": [
    "y_pred = [conv_to_label(x, threshold=0.1)+1 for x in y_ensembled]\n",
    "# y_pred = [1 if -0.25<x<0.15 else np.sign(x)+1 for x in y_ensembled]\n",
    "print(\"3-class classification accuracy:\", np.mean([int(y_test[i]==y_pred[i]) for i in range(len(y_test))]))"
   ]
  },
  {
   "cell_type": "code",
   "execution_count": 185,
   "id": "3b767466",
   "metadata": {},
   "outputs": [
    {
     "data": {
      "text/plain": [
       "array([[209,  93,  33],\n",
       "       [ 86, 308,  20],\n",
       "       [ 89,  88,  74]])"
      ]
     },
     "execution_count": 185,
     "metadata": {},
     "output_type": "execute_result"
    }
   ],
   "source": [
    "confusion_matrix(y_test, y_pred)"
   ]
  },
  {
   "cell_type": "code",
   "execution_count": 186,
   "id": "0dea1ddc",
   "metadata": {},
   "outputs": [
    {
     "name": "stdout",
     "output_type": "stream",
     "text": [
      "              precision    recall  f1-score   support\n",
      "\n",
      "        Left       0.54      0.62      0.58       335\n",
      "     Neutral       0.63      0.74      0.68       414\n",
      "       Right       0.58      0.29      0.39       251\n",
      "\n",
      "    accuracy                           0.59      1000\n",
      "   macro avg       0.59      0.55      0.55      1000\n",
      "weighted avg       0.59      0.59      0.58      1000\n",
      "\n"
     ]
    }
   ],
   "source": [
    "print(classification_report(y_test, y_pred, target_names=['Left', 'Neutral', 'Right']))"
   ]
  },
  {
   "cell_type": "code",
   "execution_count": null,
   "id": "aa91ade1",
   "metadata": {},
   "outputs": [],
   "source": [
    "# normal bert fine-tuning, aug+bert, lstm"
   ]
  },
  {
   "cell_type": "markdown",
   "id": "e38a73fd",
   "metadata": {},
   "source": []
  },
  {
   "cell_type": "code",
   "execution_count": null,
   "id": "2438ad43",
   "metadata": {},
   "outputs": [],
   "source": []
  },
  {
   "cell_type": "markdown",
   "id": "4b3a9153",
   "metadata": {},
   "source": [
    "## Propogating results of ensemble"
   ]
  },
  {
   "cell_type": "code",
   "execution_count": null,
   "id": "74c4cf8a",
   "metadata": {},
   "outputs": [],
   "source": []
  },
  {
   "cell_type": "code",
   "execution_count": null,
   "id": "0be3aad8",
   "metadata": {},
   "outputs": [],
   "source": []
  }
 ],
 "metadata": {
  "kernelspec": {
   "display_name": "Python 3",
   "language": "python",
   "name": "python3"
  },
  "language_info": {
   "codemirror_mode": {
    "name": "ipython",
    "version": 3
   },
   "file_extension": ".py",
   "mimetype": "text/x-python",
   "name": "python",
   "nbconvert_exporter": "python",
   "pygments_lexer": "ipython3",
   "version": "3.9.6"
  }
 },
 "nbformat": 4,
 "nbformat_minor": 5
}
