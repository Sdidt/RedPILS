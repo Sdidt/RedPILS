{
 "cells": [
  {
   "cell_type": "code",
   "execution_count": 1,
   "id": "1ea67f38",
   "metadata": {},
   "outputs": [
    {
     "name": "stderr",
     "output_type": "stream",
     "text": [
      "[nltk_data] Downloading package vader_lexicon to\n",
      "[nltk_data]     C:\\Users\\iyeng\\AppData\\Roaming\\nltk_data...\n",
      "[nltk_data]   Package vader_lexicon is already up-to-date!\n"
     ]
    },
    {
     "data": {
      "text/plain": [
       "device(type='cuda')"
      ]
     },
     "execution_count": 1,
     "metadata": {},
     "output_type": "execute_result"
    }
   ],
   "source": [
    "import numpy as np\n",
    "import pandas as pd\n",
    "import matplotlib.pyplot as plt\n",
    "import re\n",
    "import json\n",
    "import xgboost as xg\n",
    "from sklearn.model_selection import train_test_split\n",
    "from sklearn.metrics import mean_squared_error, r2_score, confusion_matrix, classification_report\n",
    "from sklearn.preprocessing import StandardScaler\n",
    "from sklearn import linear_model\n",
    "from sklearn.decomposition import PCA, TruncatedSVD\n",
    "from sklearn.feature_extraction.text import TfidfVectorizer\n",
    "from collections import Counter\n",
    "from textblob import TextBlob\n",
    "import torch\n",
    "from torch import nn\n",
    "from transformers import AutoModelForSequenceClassification, AutoTokenizer, AutoModel\n",
    "import nltk\n",
    "from nltk.sentiment import SentimentIntensityAnalyzer\n",
    "nltk.download('vader_lexicon')\n",
    "device = torch.device('cuda' if torch.cuda.is_available() else 'cpu')\n",
    "device"
   ]
  },
  {
   "cell_type": "code",
   "execution_count": null,
   "id": "4d7ce132",
   "metadata": {},
   "outputs": [],
   "source": []
  },
  {
   "cell_type": "markdown",
   "id": "c5d83695",
   "metadata": {},
   "source": [
    "## Cleaning and splitting\n",
    "Skip to bottom to read in final CSVs"
   ]
  },
  {
   "cell_type": "code",
   "execution_count": 2,
   "id": "3abc916d",
   "metadata": {},
   "outputs": [
    {
     "data": {
      "text/html": [
       "<div>\n",
       "<style scoped>\n",
       "    .dataframe tbody tr th:only-of-type {\n",
       "        vertical-align: middle;\n",
       "    }\n",
       "\n",
       "    .dataframe tbody tr th {\n",
       "        vertical-align: top;\n",
       "    }\n",
       "\n",
       "    .dataframe thead th {\n",
       "        text-align: right;\n",
       "    }\n",
       "</style>\n",
       "<table border=\"1\" class=\"dataframe\">\n",
       "  <thead>\n",
       "    <tr style=\"text-align: right;\">\n",
       "      <th></th>\n",
       "      <th>submission_title</th>\n",
       "      <th>comment</th>\n",
       "      <th>comment_id</th>\n",
       "      <th>url</th>\n",
       "      <th>subreddit_id</th>\n",
       "      <th>label1</th>\n",
       "      <th>label2</th>\n",
       "    </tr>\n",
       "  </thead>\n",
       "  <tbody>\n",
       "    <tr>\n",
       "      <th>0</th>\n",
       "      <td>Shashi Tharoor Set To Run For Congress Preside...</td>\n",
       "      <td>Extremely valid points but I believe he has th...</td>\n",
       "      <td>ip5g6vu</td>\n",
       "      <td>/r/india/comments/xif8wm/shashi_tharoor_set_to...</td>\n",
       "      <td>2qh1q</td>\n",
       "      <td>-1</td>\n",
       "      <td>-1</td>\n",
       "    </tr>\n",
       "    <tr>\n",
       "      <th>1</th>\n",
       "      <td>Yogi government puts Kolkata's image as part o...</td>\n",
       "      <td>Even if the ad was designed by the newspaper -...</td>\n",
       "      <td>hcontm8</td>\n",
       "      <td>/r/india/comments/pmn9o3/yogi_government_puts_...</td>\n",
       "      <td>2qh1q</td>\n",
       "      <td>-1</td>\n",
       "      <td>-1</td>\n",
       "    </tr>\n",
       "    <tr>\n",
       "      <th>2</th>\n",
       "      <td>An attempt to address the list of \"simplified\"...</td>\n",
       "      <td>Diverse population including Muslims. Welcomin...</td>\n",
       "      <td>fbhlv40</td>\n",
       "      <td>/r/india/comments/ebdeup/an_attempt_to_address...</td>\n",
       "      <td>2qh1q</td>\n",
       "      <td>-1</td>\n",
       "      <td>-2</td>\n",
       "    </tr>\n",
       "    <tr>\n",
       "      <th>3</th>\n",
       "      <td>You guys noticing what's happening in Sri Lanka?</td>\n",
       "      <td>&gt;The blockade was done by your own people.\\n\\n...</td>\n",
       "      <td>i2yrud3</td>\n",
       "      <td>/r/india/comments/tt1ryh/you_guys_noticing_wha...</td>\n",
       "      <td>2qh1q</td>\n",
       "      <td>0</td>\n",
       "      <td>0</td>\n",
       "    </tr>\n",
       "    <tr>\n",
       "      <th>4</th>\n",
       "      <td>Just got abused on the train by a hyper-nation...</td>\n",
       "      <td>Ohoo bahut bura laga ye sunke ki aap Undergarm...</td>\n",
       "      <td>hooi92k</td>\n",
       "      <td>/r/india/comments/rh2kcs/just_got_abused_on_th...</td>\n",
       "      <td>2qh1q</td>\n",
       "      <td>-2</td>\n",
       "      <td>-2</td>\n",
       "    </tr>\n",
       "  </tbody>\n",
       "</table>\n",
       "</div>"
      ],
      "text/plain": [
       "                                    submission_title  \\\n",
       "0  Shashi Tharoor Set To Run For Congress Preside...   \n",
       "1  Yogi government puts Kolkata's image as part o...   \n",
       "2  An attempt to address the list of \"simplified\"...   \n",
       "3   You guys noticing what's happening in Sri Lanka?   \n",
       "4  Just got abused on the train by a hyper-nation...   \n",
       "\n",
       "                                             comment comment_id  \\\n",
       "0  Extremely valid points but I believe he has th...    ip5g6vu   \n",
       "1  Even if the ad was designed by the newspaper -...    hcontm8   \n",
       "2  Diverse population including Muslims. Welcomin...    fbhlv40   \n",
       "3  >The blockade was done by your own people.\\n\\n...    i2yrud3   \n",
       "4  Ohoo bahut bura laga ye sunke ki aap Undergarm...    hooi92k   \n",
       "\n",
       "                                                 url subreddit_id  label1  \\\n",
       "0  /r/india/comments/xif8wm/shashi_tharoor_set_to...        2qh1q      -1   \n",
       "1  /r/india/comments/pmn9o3/yogi_government_puts_...        2qh1q      -1   \n",
       "2  /r/india/comments/ebdeup/an_attempt_to_address...        2qh1q      -1   \n",
       "3  /r/india/comments/tt1ryh/you_guys_noticing_wha...        2qh1q       0   \n",
       "4  /r/india/comments/rh2kcs/just_got_abused_on_th...        2qh1q      -2   \n",
       "\n",
       "   label2  \n",
       "0      -1  \n",
       "1      -1  \n",
       "2      -2  \n",
       "3       0  \n",
       "4      -2  "
      ]
     },
     "execution_count": 2,
     "metadata": {},
     "output_type": "execute_result"
    }
   ],
   "source": [
    "full_data = pd.read_csv('full_data.csv')\n",
    "full_data.head()"
   ]
  },
  {
   "cell_type": "code",
   "execution_count": 3,
   "id": "27e35a0d",
   "metadata": {},
   "outputs": [
    {
     "name": "stdout",
     "output_type": "stream",
     "text": [
      "<class 'pandas.core.frame.DataFrame'>\n",
      "RangeIndex: 3000 entries, 0 to 2999\n",
      "Data columns (total 7 columns):\n",
      " #   Column            Non-Null Count  Dtype \n",
      "---  ------            --------------  ----- \n",
      " 0   submission_title  3000 non-null   object\n",
      " 1   comment           3000 non-null   object\n",
      " 2   comment_id        3000 non-null   object\n",
      " 3   url               3000 non-null   object\n",
      " 4   subreddit_id      3000 non-null   object\n",
      " 5   label1            3000 non-null   int64 \n",
      " 6   label2            3000 non-null   int64 \n",
      "dtypes: int64(2), object(5)\n",
      "memory usage: 164.2+ KB\n"
     ]
    }
   ],
   "source": [
    "full_data.info()"
   ]
  },
  {
   "cell_type": "code",
   "execution_count": 298,
   "id": "48ddfe13",
   "metadata": {},
   "outputs": [],
   "source": [
    "def clean_quotations(text):\n",
    "    temp = re.sub(r'>.*?\\n', '', text)\n",
    "    return temp\n",
    "def clean_url(text):\n",
    "    temp = re.sub(r'(http(s)?:\\/\\/.)?(www\\.)?[-a-zA-Z0-9@:%._\\+~#=]{2,256}\\.[a-z]{2,6}\\b([-a-zA-Z0-9@:%_\\+\\.~#?&\\/=]*)', '', text)\n",
    "    return temp\n",
    "def clean_text(text):\n",
    "    temp = clean_quotations(text)\n",
    "    temp = clean_url(temp)\n",
    "    temp = re.sub('\\’', \"\\'\", temp)  # apostrophe formatting is occasionally incorrect\n",
    "    temp = re.sub(r'[^a-zA-Z0-9\\s\\.,?!\\'\\\"]', ' ', temp)\n",
    "    temp = re.sub(r'\\s+', ' ', temp)  # replace multiple spaces with single space\n",
    "    return temp.strip()"
   ]
  },
  {
   "cell_type": "code",
   "execution_count": 12,
   "id": "f1f21f46",
   "metadata": {},
   "outputs": [
    {
     "data": {
      "text/html": [
       "<div>\n",
       "<style scoped>\n",
       "    .dataframe tbody tr th:only-of-type {\n",
       "        vertical-align: middle;\n",
       "    }\n",
       "\n",
       "    .dataframe tbody tr th {\n",
       "        vertical-align: top;\n",
       "    }\n",
       "\n",
       "    .dataframe thead th {\n",
       "        text-align: right;\n",
       "    }\n",
       "</style>\n",
       "<table border=\"1\" class=\"dataframe\">\n",
       "  <thead>\n",
       "    <tr style=\"text-align: right;\">\n",
       "      <th></th>\n",
       "      <th>clean_title</th>\n",
       "      <th>clean_comment</th>\n",
       "      <th>comment_id</th>\n",
       "      <th>url</th>\n",
       "      <th>target</th>\n",
       "    </tr>\n",
       "  </thead>\n",
       "  <tbody>\n",
       "    <tr>\n",
       "      <th>0</th>\n",
       "      <td>Shashi Tharoor Set To Run For Congress Preside...</td>\n",
       "      <td>Extremely valid points but I believe he has th...</td>\n",
       "      <td>ip5g6vu</td>\n",
       "      <td>/r/india/comments/xif8wm/shashi_tharoor_set_to...</td>\n",
       "      <td>-0.50</td>\n",
       "    </tr>\n",
       "    <tr>\n",
       "      <th>1</th>\n",
       "      <td>Yogi government puts Kolkata's image as part o...</td>\n",
       "      <td>Even if the ad was designed by the newspaper t...</td>\n",
       "      <td>hcontm8</td>\n",
       "      <td>/r/india/comments/pmn9o3/yogi_government_puts_...</td>\n",
       "      <td>-0.50</td>\n",
       "    </tr>\n",
       "    <tr>\n",
       "      <th>2</th>\n",
       "      <td>An attempt to address the list of \"simplified\"...</td>\n",
       "      <td>Diverse population including Muslims. Welcomin...</td>\n",
       "      <td>fbhlv40</td>\n",
       "      <td>/r/india/comments/ebdeup/an_attempt_to_address...</td>\n",
       "      <td>-0.75</td>\n",
       "    </tr>\n",
       "    <tr>\n",
       "      <th>3</th>\n",
       "      <td>You guys noticing what's happening in Sri Lanka?</td>\n",
       "      <td>What a joke. They didn't create any propaganda...</td>\n",
       "      <td>i2yrud3</td>\n",
       "      <td>/r/india/comments/tt1ryh/you_guys_noticing_wha...</td>\n",
       "      <td>0.00</td>\n",
       "    </tr>\n",
       "    <tr>\n",
       "      <th>4</th>\n",
       "      <td>Just got abused on the train by a hyper nation...</td>\n",
       "      <td>Ohoo bahut bura laga ye sunke ki aap Undergarm...</td>\n",
       "      <td>hooi92k</td>\n",
       "      <td>/r/india/comments/rh2kcs/just_got_abused_on_th...</td>\n",
       "      <td>-1.00</td>\n",
       "    </tr>\n",
       "  </tbody>\n",
       "</table>\n",
       "</div>"
      ],
      "text/plain": [
       "                                         clean_title  \\\n",
       "0  Shashi Tharoor Set To Run For Congress Preside...   \n",
       "1  Yogi government puts Kolkata's image as part o...   \n",
       "2  An attempt to address the list of \"simplified\"...   \n",
       "3   You guys noticing what's happening in Sri Lanka?   \n",
       "4  Just got abused on the train by a hyper nation...   \n",
       "\n",
       "                                       clean_comment comment_id  \\\n",
       "0  Extremely valid points but I believe he has th...    ip5g6vu   \n",
       "1  Even if the ad was designed by the newspaper t...    hcontm8   \n",
       "2  Diverse population including Muslims. Welcomin...    fbhlv40   \n",
       "3  What a joke. They didn't create any propaganda...    i2yrud3   \n",
       "4  Ohoo bahut bura laga ye sunke ki aap Undergarm...    hooi92k   \n",
       "\n",
       "                                                 url  target  \n",
       "0  /r/india/comments/xif8wm/shashi_tharoor_set_to...   -0.50  \n",
       "1  /r/india/comments/pmn9o3/yogi_government_puts_...   -0.50  \n",
       "2  /r/india/comments/ebdeup/an_attempt_to_address...   -0.75  \n",
       "3  /r/india/comments/tt1ryh/you_guys_noticing_wha...    0.00  \n",
       "4  /r/india/comments/rh2kcs/just_got_abused_on_th...   -1.00  "
      ]
     },
     "execution_count": 12,
     "metadata": {},
     "output_type": "execute_result"
    }
   ],
   "source": [
    "full_clean_df = pd.DataFrame()\n",
    "full_clean_df['clean_title'] = full_data.apply(lambda x: clean_text(x['submission_title']), axis=1)\n",
    "full_clean_df['clean_comment'] = full_data.apply(lambda x: clean_text(x['comment']), axis=1)\n",
    "full_clean_df[['comment_id', 'url']] = full_data[['comment_id', 'url']].copy()\n",
    "full_clean_df['target'] = full_data.apply(lambda x: np.mean([x['label1'], x['label2']])/2, axis=1)\n",
    "# making sure to remove comments that are empty after cleaning\n",
    "full_clean_df['clean_comment'].replace('', np.nan, inplace=True)\n",
    "full_clean_df.dropna(inplace=True)\n",
    "full_clean_df.head()"
   ]
  },
  {
   "cell_type": "code",
   "execution_count": 13,
   "id": "49e55537",
   "metadata": {},
   "outputs": [
    {
     "name": "stdout",
     "output_type": "stream",
     "text": [
      "<class 'pandas.core.frame.DataFrame'>\n",
      "Int64Index: 2999 entries, 0 to 2999\n",
      "Data columns (total 5 columns):\n",
      " #   Column         Non-Null Count  Dtype  \n",
      "---  ------         --------------  -----  \n",
      " 0   clean_title    2999 non-null   object \n",
      " 1   clean_comment  2999 non-null   object \n",
      " 2   comment_id     2999 non-null   object \n",
      " 3   url            2999 non-null   object \n",
      " 4   target         2999 non-null   float64\n",
      "dtypes: float64(1), object(4)\n",
      "memory usage: 140.6+ KB\n"
     ]
    }
   ],
   "source": [
    "full_clean_df.info()"
   ]
  },
  {
   "cell_type": "code",
   "execution_count": 17,
   "id": "40ec7d31",
   "metadata": {},
   "outputs": [],
   "source": [
    "temp = full_clean_df.sample(frac=1, random_state=123).reset_index(drop=True)  # shuflling before split\n",
    "eval_df = temp[:1000].copy()\n",
    "train_df = temp[1000:].copy().reset_index(drop=True)"
   ]
  },
  {
   "cell_type": "code",
   "execution_count": 20,
   "id": "974a2ab9",
   "metadata": {},
   "outputs": [],
   "source": [
    "full_clean_df.to_csv('cleaned_full_data.csv', index=False)\n",
    "train_df.to_csv('train_full.csv', index=False)\n",
    "eval_df.to_csv('eval_full.csv', index=False)"
   ]
  },
  {
   "cell_type": "code",
   "execution_count": null,
   "id": "518dcc17",
   "metadata": {},
   "outputs": [],
   "source": []
  },
  {
   "cell_type": "code",
   "execution_count": 2,
   "id": "801dd2d4",
   "metadata": {},
   "outputs": [],
   "source": [
    "# start here\n",
    "train_df = pd.read_csv('train_full.csv')\n",
    "eval_df = pd.read_csv('eval_full.csv')"
   ]
  },
  {
   "cell_type": "code",
   "execution_count": null,
   "id": "2372da60",
   "metadata": {},
   "outputs": [],
   "source": []
  },
  {
   "cell_type": "markdown",
   "id": "9582f4d1",
   "metadata": {},
   "source": [
    "## Rule-Based"
   ]
  },
  {
   "cell_type": "code",
   "execution_count": 3,
   "id": "addd7197",
   "metadata": {},
   "outputs": [
    {
     "data": {
      "text/plain": [
       "(62, 59)"
      ]
     },
     "execution_count": 3,
     "metadata": {},
     "output_type": "execute_result"
    }
   ],
   "source": [
    "right = \"\"\"right wing, RW, authority, hierarchy, order, duty, tradition, reaction, nationalism, conservative, right-libertarian, \\\n",
    "neoconservative, imperialist, monarchist, fascist, reactionaries, traditionalist, traditional, death penalty, \\\n",
    "religion, Bhajpa, BJP, Shiv Sena, RSS, MNS, Sanatan, dharm, Hindutva, Islamophobia, Narendra, Modi, Amit, Shah, \\\n",
    "mandir, ram, valmiki, ramayan, Bharatiya, Janata, Democratic Alliance, NDA, AIADMK, Janta Dal, bhakt, CAA, NRC, hindu majority, \\\n",
    "hindu unity, hindu pride, nationalist, sangh, sanghi, yogi, brahmin, brahman, smriti irani, hindu rashtra, jai shri ram, \\\n",
    "pm cares, pmcares, adani, hindu\"\"\".lower()\n",
    "left = \"\"\"left wing, LW, leftists, freedom, equality, fraternity, rights, progress, reform, internationalism, anarchist, communist, socialist, \\\n",
    "democratic socialist, social democrat, left-libertarian, progressive, social, liberal, western, Congress, UPA, RG, mamata, \\\n",
    "Aam, aadmi, AAP, CPI, Welfare, Protectionism, Commies, Rahul, gandhi, indira, yatra, arvind, kejriwal, inclusivity, \\\n",
    "libby, libbies, sjw, libtard, hinduphobia, LGBTQ, masjid, pappu, christian, muslim, secular, minority, minorities, Shashi, Tharoor, \\\n",
    "gay, lesbian, transgender, trans, reservation, abrahamic\"\"\".lower()\n",
    "\n",
    "right_terms = set(right.split(', '))\n",
    "left_terms = set(left.split(', '))\n",
    "len(right_terms), len(left_terms)"
   ]
  },
  {
   "cell_type": "code",
   "execution_count": 4,
   "id": "a38e925d",
   "metadata": {},
   "outputs": [],
   "source": [
    "vader = SentimentIntensityAnalyzer()"
   ]
  },
  {
   "cell_type": "code",
   "execution_count": 5,
   "id": "e017f931",
   "metadata": {},
   "outputs": [],
   "source": [
    "def unsupervised_prediction(clean_text):\n",
    "    # rule-based scoring\n",
    "    sentiment = vader.polarity_scores(clean_text)['compound']\n",
    "    lw = rw = 0\n",
    "    clean_text = clean_text.lower()\n",
    "    for t in left_terms:\n",
    "        if re.search(r'\\b'+t, clean_text):\n",
    "            lw += 1\n",
    "    for t in right_terms:\n",
    "        if re.search(r'\\b'+t, clean_text):\n",
    "            rw += 1\n",
    "    \n",
    "    score = (rw-lw)*sentiment\n",
    "    # normalize by length of text\n",
    "    score /= len(clean_text.split())/20\n",
    "    \n",
    "    return score\n",
    "\n",
    "def conv_to_label(val, threshold=0.1):\n",
    "    # converts rule-based score to label\n",
    "    if abs(val)<threshold:\n",
    "        return 0.\n",
    "    else:\n",
    "        return np.sign(val)"
   ]
  },
  {
   "cell_type": "code",
   "execution_count": 6,
   "id": "1c4e4717",
   "metadata": {},
   "outputs": [
    {
     "data": {
      "text/html": [
       "<div>\n",
       "<style scoped>\n",
       "    .dataframe tbody tr th:only-of-type {\n",
       "        vertical-align: middle;\n",
       "    }\n",
       "\n",
       "    .dataframe tbody tr th {\n",
       "        vertical-align: top;\n",
       "    }\n",
       "\n",
       "    .dataframe thead th {\n",
       "        text-align: right;\n",
       "    }\n",
       "</style>\n",
       "<table border=\"1\" class=\"dataframe\">\n",
       "  <thead>\n",
       "    <tr style=\"text-align: right;\">\n",
       "      <th></th>\n",
       "      <th>clean_title</th>\n",
       "      <th>clean_comment</th>\n",
       "      <th>comment_id</th>\n",
       "      <th>url</th>\n",
       "      <th>target</th>\n",
       "      <th>true_label</th>\n",
       "      <th>vader_score</th>\n",
       "      <th>vader_label</th>\n",
       "    </tr>\n",
       "  </thead>\n",
       "  <tbody>\n",
       "    <tr>\n",
       "      <th>0</th>\n",
       "      <td>ResignModi trending in India on 1 with 200k tw...</td>\n",
       "      <td>People tend to look down on \"social media acti...</td>\n",
       "      <td>gwe056n</td>\n",
       "      <td>/r/india/comments/n11sqc/resignmodi_trending_i...</td>\n",
       "      <td>-0.5</td>\n",
       "      <td>-1.0</td>\n",
       "      <td>-0.000000</td>\n",
       "      <td>0.0</td>\n",
       "    </tr>\n",
       "    <tr>\n",
       "      <th>1</th>\n",
       "      <td>Put 'The Kashmir Files' on YouTube, everyone w...</td>\n",
       "      <td>I remember it was made to release twice, and t...</td>\n",
       "      <td>i1y3pv3</td>\n",
       "      <td>/r/india/comments/tmcun4/put_the_kashmir_files...</td>\n",
       "      <td>0.0</td>\n",
       "      <td>0.0</td>\n",
       "      <td>0.000000</td>\n",
       "      <td>0.0</td>\n",
       "    </tr>\n",
       "    <tr>\n",
       "      <th>2</th>\n",
       "      <td>Kejriwal says 'The Kashmir Files' is a jhoothi...</td>\n",
       "      <td>Bhai delhi m hindu bht h but ye aur caste k lo...</td>\n",
       "      <td>i21haf8</td>\n",
       "      <td>/r/IndiaSpeaks/comments/tmhqqg/kejriwal_says_t...</td>\n",
       "      <td>0.5</td>\n",
       "      <td>1.0</td>\n",
       "      <td>0.320255</td>\n",
       "      <td>1.0</td>\n",
       "    </tr>\n",
       "    <tr>\n",
       "      <th>3</th>\n",
       "      <td>Government of India has Blacklisted Karl Rock ...</td>\n",
       "      <td>mahatma gandhi's shadows are fading. retards w...</td>\n",
       "      <td>h4lazw7</td>\n",
       "      <td>/r/india/comments/ogrc0d/government_of_india_h...</td>\n",
       "      <td>-1.0</td>\n",
       "      <td>-1.0</td>\n",
       "      <td>-0.131556</td>\n",
       "      <td>-1.0</td>\n",
       "    </tr>\n",
       "    <tr>\n",
       "      <th>4</th>\n",
       "      <td>Kejriwal says 'The Kashmir Files' is a jhoothi...</td>\n",
       "      <td>Isn't this kejru the same guy who kept tweetin...</td>\n",
       "      <td>i1yrkwx</td>\n",
       "      <td>/r/IndiaSpeaks/comments/tmhqqg/kejriwal_says_t...</td>\n",
       "      <td>0.5</td>\n",
       "      <td>1.0</td>\n",
       "      <td>0.000000</td>\n",
       "      <td>0.0</td>\n",
       "    </tr>\n",
       "  </tbody>\n",
       "</table>\n",
       "</div>"
      ],
      "text/plain": [
       "                                         clean_title  \\\n",
       "0  ResignModi trending in India on 1 with 200k tw...   \n",
       "1  Put 'The Kashmir Files' on YouTube, everyone w...   \n",
       "2  Kejriwal says 'The Kashmir Files' is a jhoothi...   \n",
       "3  Government of India has Blacklisted Karl Rock ...   \n",
       "4  Kejriwal says 'The Kashmir Files' is a jhoothi...   \n",
       "\n",
       "                                       clean_comment comment_id  \\\n",
       "0  People tend to look down on \"social media acti...    gwe056n   \n",
       "1  I remember it was made to release twice, and t...    i1y3pv3   \n",
       "2  Bhai delhi m hindu bht h but ye aur caste k lo...    i21haf8   \n",
       "3  mahatma gandhi's shadows are fading. retards w...    h4lazw7   \n",
       "4  Isn't this kejru the same guy who kept tweetin...    i1yrkwx   \n",
       "\n",
       "                                                 url  target  true_label  \\\n",
       "0  /r/india/comments/n11sqc/resignmodi_trending_i...    -0.5        -1.0   \n",
       "1  /r/india/comments/tmcun4/put_the_kashmir_files...     0.0         0.0   \n",
       "2  /r/IndiaSpeaks/comments/tmhqqg/kejriwal_says_t...     0.5         1.0   \n",
       "3  /r/india/comments/ogrc0d/government_of_india_h...    -1.0        -1.0   \n",
       "4  /r/IndiaSpeaks/comments/tmhqqg/kejriwal_says_t...     0.5         1.0   \n",
       "\n",
       "   vader_score  vader_label  \n",
       "0    -0.000000          0.0  \n",
       "1     0.000000          0.0  \n",
       "2     0.320255          1.0  \n",
       "3    -0.131556         -1.0  \n",
       "4     0.000000          0.0  "
      ]
     },
     "execution_count": 6,
     "metadata": {},
     "output_type": "execute_result"
    }
   ],
   "source": [
    "pred_df = eval_df.copy()\n",
    "pred_df['true_label'] = pred_df.apply(lambda x: np.sign(x['target']), axis=1)\n",
    "pred_df['vader_score'] = pred_df.apply(lambda x: unsupervised_prediction(x['clean_comment']), axis=1)\n",
    "pred_df['vader_label'] = pred_df.apply(lambda x: conv_to_label(x['vader_score'], threshold=0.1), axis=1)\n",
    "pred_df.head()"
   ]
  },
  {
   "cell_type": "code",
   "execution_count": 7,
   "id": "9b29cabc",
   "metadata": {},
   "outputs": [
    {
     "data": {
      "text/plain": [
       "0.502"
      ]
     },
     "execution_count": 7,
     "metadata": {},
     "output_type": "execute_result"
    }
   ],
   "source": [
    "np.mean(pred_df['true_label']==pred_df['vader_label'])  # 3-class accuracy"
   ]
  },
  {
   "cell_type": "code",
   "execution_count": 8,
   "id": "388b15d2",
   "metadata": {},
   "outputs": [
    {
     "data": {
      "text/plain": [
       "array([[ 98, 166,  71],\n",
       "       [ 28, 339,  47],\n",
       "       [ 58, 128,  65]], dtype=int64)"
      ]
     },
     "execution_count": 8,
     "metadata": {},
     "output_type": "execute_result"
    }
   ],
   "source": [
    "confusion_matrix(pred_df['true_label'], pred_df['vader_label'])"
   ]
  },
  {
   "cell_type": "code",
   "execution_count": 9,
   "id": "a807a873",
   "metadata": {},
   "outputs": [
    {
     "name": "stdout",
     "output_type": "stream",
     "text": [
      "              precision    recall  f1-score   support\n",
      "\n",
      "        Left       0.53      0.29      0.38       335\n",
      "     Neutral       0.54      0.82      0.65       414\n",
      "       Right       0.36      0.26      0.30       251\n",
      "\n",
      "    accuracy                           0.50      1000\n",
      "   macro avg       0.47      0.46      0.44      1000\n",
      "weighted avg       0.49      0.50      0.47      1000\n",
      "\n"
     ]
    }
   ],
   "source": [
    "print(classification_report(pred_df['true_label'], pred_df['vader_label'], target_names=['Left', 'Neutral', 'Right']))"
   ]
  },
  {
   "cell_type": "code",
   "execution_count": 10,
   "id": "c8a494bf",
   "metadata": {},
   "outputs": [
    {
     "data": {
      "text/plain": [
       "<AxesSubplot:ylabel='Density'>"
      ]
     },
     "execution_count": 10,
     "metadata": {},
     "output_type": "execute_result"
    },
    {
     "data": {
      "image/png": "[encoded data removed]",
      "text/plain": [
       "<Figure size 432x288 with 1 Axes>"
      ]
     },
     "metadata": {
      "needs_background": "light"
     },
     "output_type": "display_data"
    }
   ],
   "source": [
    "pred_df['target'].plot.kde()\n",
    "pred_df['vader_score'].plot.kde()"
   ]
  },
  {
   "cell_type": "code",
   "execution_count": 18,
   "id": "fd3a6310",
   "metadata": {},
   "outputs": [],
   "source": [
    "y_rule_based = list(pred_df['vader_label']+1)"
   ]
  },
  {
   "cell_type": "code",
   "execution_count": null,
   "id": "7b700144",
   "metadata": {},
   "outputs": [],
   "source": []
  },
  {
   "cell_type": "markdown",
   "id": "ef77f7bb",
   "metadata": {},
   "source": [
    "## Feature Extracted XGBoost"
   ]
  },
  {
   "cell_type": "code",
   "execution_count": 12,
   "id": "3fb2b03b",
   "metadata": {},
   "outputs": [],
   "source": [
    "def feature_extraction(clean_text):\n",
    "    clean_text = clean_text.lower()\n",
    "    features = []\n",
    "    for t in left_terms:\n",
    "        features.append(len(re.findall(r'\\b'+t, clean_text)))\n",
    "    for t in right_terms:\n",
    "        features.append(len(re.findall(r'\\b'+t, clean_text)))\n",
    "    \n",
    "    return features\n",
    "\n",
    "def add_sentiment_features(clean_text, extracted_feat):\n",
    "    # appends sentiment scores onto extracted features\n",
    "    temp = extracted_feat.copy()\n",
    "    temp.append(vader.polarity_scores(clean_text)['compound'])\n",
    "    tb = TextBlob(clean_text)\n",
    "    temp.append(tb.sentiment.polarity)\n",
    "    temp.append(tb.sentiment.subjectivity)\n",
    "    return temp"
   ]
  },
  {
   "cell_type": "code",
   "execution_count": 165,
   "id": "3a88125e",
   "metadata": {},
   "outputs": [
    {
     "name": "stdout",
     "output_type": "stream",
     "text": [
      "1999 1999 1000 1000\n"
     ]
    }
   ],
   "source": [
    "# getting train embeddings\n",
    "temp_df = train_df.copy()\n",
    "temp_df['extracted_features'] = temp_df.apply(lambda x: feature_extraction(x['clean_comment']), axis=1)\n",
    "temp_df['final_features'] = temp_df.apply(lambda x: add_sentiment_features(x['clean_comment'], x['extracted_features']), axis=1)\n",
    "X_train, y_train = list(temp_df['final_features']), [np.sign(x)+1 for x in list(temp_df['target'])]\n",
    "\n",
    "# getting eval embeddings\n",
    "temp_df = eval_df.copy()\n",
    "temp_df['extracted_features'] = temp_df.apply(lambda x: feature_extraction(x['clean_comment']), axis=1)\n",
    "temp_df['final_features'] = temp_df.apply(lambda x: add_sentiment_features(x['clean_comment'], x['extracted_features']), axis=1)\n",
    "X_test, y_test = list(temp_df['final_features']), [np.sign(x)+1 for x in list(temp_df['target'])]\n",
    "\n",
    "print(len(X_train), len(y_train), len(X_test), len(y_test))"
   ]
  },
  {
   "cell_type": "code",
   "execution_count": 175,
   "id": "69c2d06f",
   "metadata": {},
   "outputs": [
    {
     "name": "stdout",
     "output_type": "stream",
     "text": [
      "3-class classification accuracy: 0.574\n"
     ]
    }
   ],
   "source": [
    "xgb = xg.XGBClassifier(n_estimators=100, max_depth=4, learning_rate=0.1)\n",
    "xgb.fit(X_train, y_train)\n",
    "y_pred = xgb.predict(X_test)\n",
    "print(\"3-class classification accuracy:\", np.mean([int(y_test[i]==y_pred[i]) for i in range(len(y_test))]))"
   ]
  },
  {
   "cell_type": "code",
   "execution_count": 15,
   "id": "5aacf57c",
   "metadata": {},
   "outputs": [
    {
     "data": {
      "text/plain": [
       "array([[138, 161,  36],\n",
       "       [ 43, 364,   7],\n",
       "       [ 62, 117,  72]], dtype=int64)"
      ]
     },
     "execution_count": 15,
     "metadata": {},
     "output_type": "execute_result"
    }
   ],
   "source": [
    "confusion_matrix(y_test, y_pred)"
   ]
  },
  {
   "cell_type": "code",
   "execution_count": 16,
   "id": "c4b2dcb0",
   "metadata": {},
   "outputs": [
    {
     "name": "stdout",
     "output_type": "stream",
     "text": [
      "              precision    recall  f1-score   support\n",
      "\n",
      "        Left       0.57      0.41      0.48       335\n",
      "     Neutral       0.57      0.88      0.69       414\n",
      "       Right       0.63      0.29      0.39       251\n",
      "\n",
      "    accuracy                           0.57      1000\n",
      "   macro avg       0.59      0.53      0.52      1000\n",
      "weighted avg       0.58      0.57      0.54      1000\n",
      "\n"
     ]
    }
   ],
   "source": [
    "print(classification_report(y_test, y_pred, target_names=['Left', 'Neutral', 'Right']))"
   ]
  },
  {
   "cell_type": "code",
   "execution_count": 17,
   "id": "3a67ccff",
   "metadata": {},
   "outputs": [],
   "source": [
    "y_feat_ext = y_pred"
   ]
  },
  {
   "cell_type": "code",
   "execution_count": null,
   "id": "84a13b92",
   "metadata": {},
   "outputs": [],
   "source": []
  },
  {
   "cell_type": "markdown",
   "id": "8ae73f42",
   "metadata": {},
   "source": [
    "## Feature Extraction with PCA"
   ]
  },
  {
   "cell_type": "code",
   "execution_count": 19,
   "id": "58dc6bd8",
   "metadata": {},
   "outputs": [
    {
     "name": "stdout",
     "output_type": "stream",
     "text": [
      "1999 1999 1000 1000\n"
     ]
    }
   ],
   "source": [
    "pca = PCA(n_components=8)\n",
    "\n",
    "# getting train embeddings\n",
    "temp_df = train_df.copy()\n",
    "temp_df['extracted_features'] = temp_df.apply(lambda x: feature_extraction(x['clean_comment']), axis=1)\n",
    "temp_df['extracted_features'] = pca.fit_transform(list(temp_df['extracted_features'])).tolist()  # fit transform PCA\n",
    "temp_df['final_features'] = temp_df.apply(lambda x: add_sentiment_features(x['clean_comment'], x['extracted_features']), axis=1)\n",
    "X_train, y_train = list(temp_df['final_features']), [np.sign(x)+1 for x in list(temp_df['target'])]\n",
    "\n",
    "# getting eval embeddings\n",
    "temp_df = eval_df.copy()\n",
    "temp_df['extracted_features'] = temp_df.apply(lambda x: feature_extraction(x['clean_comment']), axis=1)\n",
    "temp_df['extracted_features'] = pca.transform(list(temp_df['extracted_features'])).tolist()  # transform PCA without re-fitting\n",
    "temp_df['final_features'] = temp_df.apply(lambda x: add_sentiment_features(x['clean_comment'], x['extracted_features']), axis=1)\n",
    "X_test, y_test = list(temp_df['final_features']), [np.sign(x)+1 for x in list(temp_df['target'])]\n",
    "\n",
    "print(len(X_train), len(y_train), len(X_test), len(y_test))"
   ]
  },
  {
   "cell_type": "code",
   "execution_count": 20,
   "id": "8d8e1b3d",
   "metadata": {},
   "outputs": [
    {
     "name": "stdout",
     "output_type": "stream",
     "text": [
      "3-class classification accuracy: 0.562\n"
     ]
    }
   ],
   "source": [
    "xgb = xg.XGBClassifier(n_estimators=100, max_depth=4, learning_rate=0.005)\n",
    "xgb.fit(X_train, y_train)\n",
    "y_pred = xgb.predict(X_test)\n",
    "print(\"3-class classification accuracy:\", np.mean([int(y_test[i]==y_pred[i]) for i in range(len(y_test))]))"
   ]
  },
  {
   "cell_type": "code",
   "execution_count": 21,
   "id": "64d782c5",
   "metadata": {},
   "outputs": [
    {
     "data": {
      "text/plain": [
       "array([[167, 121,  47],\n",
       "       [ 55, 327,  32],\n",
       "       [ 93,  90,  68]], dtype=int64)"
      ]
     },
     "execution_count": 21,
     "metadata": {},
     "output_type": "execute_result"
    }
   ],
   "source": [
    "confusion_matrix(y_test, y_pred)"
   ]
  },
  {
   "cell_type": "code",
   "execution_count": 22,
   "id": "c40a50ee",
   "metadata": {},
   "outputs": [
    {
     "name": "stdout",
     "output_type": "stream",
     "text": [
      "              precision    recall  f1-score   support\n",
      "\n",
      "        Left       0.53      0.50      0.51       335\n",
      "     Neutral       0.61      0.79      0.69       414\n",
      "       Right       0.46      0.27      0.34       251\n",
      "\n",
      "    accuracy                           0.56      1000\n",
      "   macro avg       0.53      0.52      0.51      1000\n",
      "weighted avg       0.55      0.56      0.54      1000\n",
      "\n"
     ]
    }
   ],
   "source": [
    "print(classification_report(y_test, y_pred, target_names=['Left', 'Neutral', 'Right']))"
   ]
  },
  {
   "cell_type": "code",
   "execution_count": 23,
   "id": "4ef99434",
   "metadata": {},
   "outputs": [],
   "source": [
    "y_feat_pca = y_pred"
   ]
  },
  {
   "cell_type": "code",
   "execution_count": null,
   "id": "00a1d5d9",
   "metadata": {},
   "outputs": [],
   "source": []
  },
  {
   "cell_type": "markdown",
   "id": "6e2ad803",
   "metadata": {},
   "source": [
    "## tf-idf word embeddings with XGBoost"
   ]
  },
  {
   "cell_type": "code",
   "execution_count": 24,
   "id": "b54ac1a0",
   "metadata": {},
   "outputs": [
    {
     "name": "stdout",
     "output_type": "stream",
     "text": [
      "(1999, 92418) (1000, 92418)\n"
     ]
    }
   ],
   "source": [
    "vectorizer = TfidfVectorizer(ngram_range=(1, 2), analyzer='word')\n",
    "\n",
    "X_train = vectorizer.fit_transform(list(train_df['clean_comment']))\n",
    "X_test = vectorizer.transform(list(eval_df['clean_comment']))\n",
    "y_train, y_test = [np.sign(x)+1 for x in list(train_df['target'])], [np.sign(x)+1 for x in list(eval_df['target'])]\n",
    "\n",
    "print(X_train.shape, X_test.shape)"
   ]
  },
  {
   "cell_type": "code",
   "execution_count": 25,
   "id": "dba37792",
   "metadata": {},
   "outputs": [
    {
     "name": "stdout",
     "output_type": "stream",
     "text": [
      "3-class classification accuracy: 0.528\n"
     ]
    }
   ],
   "source": [
    "xgb = xg.XGBClassifier(n_estimators=100, max_depth=4, learning_rate=0.001)\n",
    "xgb.fit(X_train, y_train)\n",
    "y_pred = xgb.predict(X_test)\n",
    "print(\"3-class classification accuracy:\", np.mean([int(y_test[i]==y_pred[i]) for i in range(len(y_test))]))"
   ]
  },
  {
   "cell_type": "code",
   "execution_count": 26,
   "id": "94eba340",
   "metadata": {},
   "outputs": [
    {
     "data": {
      "text/plain": [
       "array([[112, 209,  14],\n",
       "       [ 26, 376,  12],\n",
       "       [ 53, 158,  40]], dtype=int64)"
      ]
     },
     "execution_count": 26,
     "metadata": {},
     "output_type": "execute_result"
    }
   ],
   "source": [
    "confusion_matrix(y_test, y_pred)"
   ]
  },
  {
   "cell_type": "code",
   "execution_count": 27,
   "id": "0f6f9b30",
   "metadata": {},
   "outputs": [
    {
     "name": "stdout",
     "output_type": "stream",
     "text": [
      "              precision    recall  f1-score   support\n",
      "\n",
      "        Left       0.59      0.33      0.43       335\n",
      "     Neutral       0.51      0.91      0.65       414\n",
      "       Right       0.61      0.16      0.25       251\n",
      "\n",
      "    accuracy                           0.53      1000\n",
      "   macro avg       0.57      0.47      0.44      1000\n",
      "weighted avg       0.56      0.53      0.48      1000\n",
      "\n"
     ]
    }
   ],
   "source": [
    "print(classification_report(y_test, y_pred, target_names=['Left', 'Neutral', 'Right']))"
   ]
  },
  {
   "cell_type": "code",
   "execution_count": 28,
   "id": "810fe09d",
   "metadata": {},
   "outputs": [],
   "source": [
    "y_w_tfidf = y_pred"
   ]
  },
  {
   "cell_type": "code",
   "execution_count": null,
   "id": "9837d620",
   "metadata": {},
   "outputs": [],
   "source": []
  },
  {
   "cell_type": "markdown",
   "id": "060516c9",
   "metadata": {},
   "source": [
    "## tf-idf word embeddings with PCA and sentiment\n",
    "Since PCA doesn't work for sparse data, we use TruncatedSVD for the same effect"
   ]
  },
  {
   "cell_type": "code",
   "execution_count": 29,
   "id": "740005b4",
   "metadata": {},
   "outputs": [],
   "source": [
    "vectorizer = TfidfVectorizer(ngram_range=(1, 2), analyzer='word')\n",
    "tsvd = TruncatedSVD(n_components=200, random_state=123)\n",
    "\n",
    "temp_df = train_df.copy()\n",
    "X_train = vectorizer.fit_transform(list(temp_df['clean_comment']))\n",
    "temp_df['extracted_features'] = tsvd.fit_transform(X_train).tolist()\n",
    "temp_df['final_features'] = temp_df.apply(lambda x: add_sentiment_features(x['clean_comment'], x['extracted_features']), axis=1)\n",
    "X_train, y_train = list(temp_df['final_features']), [np.sign(x)+1 for x in list(temp_df['target'])]\n",
    "\n",
    "temp_df = eval_df.copy()\n",
    "X_test = vectorizer.transform(list(temp_df['clean_comment']))\n",
    "temp_df['extracted_features'] = tsvd.transform(X_test).tolist()\n",
    "temp_df['final_features'] = temp_df.apply(lambda x: add_sentiment_features(x['clean_comment'], x['extracted_features']), axis=1)\n",
    "X_test, y_test = list(temp_df['final_features']), [np.sign(x)+1 for x in list(temp_df['target'])]"
   ]
  },
  {
   "cell_type": "code",
   "execution_count": 30,
   "id": "f2736357",
   "metadata": {},
   "outputs": [
    {
     "name": "stdout",
     "output_type": "stream",
     "text": [
      "3-class classification accuracy: 0.493\n"
     ]
    }
   ],
   "source": [
    "xgb = xg.XGBClassifier(n_estimators=100, max_depth=4, learning_rate=0.1)\n",
    "xgb.fit(X_train, y_train)\n",
    "y_pred = xgb.predict(X_test)\n",
    "print(\"3-class classification accuracy:\", np.mean([int(y_test[i]==y_pred[i]) for i in range(len(y_test))]))"
   ]
  },
  {
   "cell_type": "code",
   "execution_count": 31,
   "id": "cc586830",
   "metadata": {},
   "outputs": [
    {
     "data": {
      "text/plain": [
       "array([[139, 147,  49],\n",
       "       [ 81, 294,  39],\n",
       "       [ 89, 102,  60]], dtype=int64)"
      ]
     },
     "execution_count": 31,
     "metadata": {},
     "output_type": "execute_result"
    }
   ],
   "source": [
    "confusion_matrix(y_test, y_pred)"
   ]
  },
  {
   "cell_type": "code",
   "execution_count": 32,
   "id": "fedb0a6d",
   "metadata": {},
   "outputs": [
    {
     "name": "stdout",
     "output_type": "stream",
     "text": [
      "              precision    recall  f1-score   support\n",
      "\n",
      "        Left       0.45      0.41      0.43       335\n",
      "     Neutral       0.54      0.71      0.61       414\n",
      "       Right       0.41      0.24      0.30       251\n",
      "\n",
      "    accuracy                           0.49      1000\n",
      "   macro avg       0.47      0.45      0.45      1000\n",
      "weighted avg       0.48      0.49      0.47      1000\n",
      "\n"
     ]
    }
   ],
   "source": [
    "print(classification_report(y_test, y_pred, target_names=['Left', 'Neutral', 'Right']))"
   ]
  },
  {
   "cell_type": "code",
   "execution_count": 33,
   "id": "4e6ece06",
   "metadata": {},
   "outputs": [],
   "source": [
    "y_tfidf_pca = y_pred"
   ]
  },
  {
   "cell_type": "code",
   "execution_count": null,
   "id": "44786d37",
   "metadata": {},
   "outputs": [],
   "source": []
  },
  {
   "cell_type": "markdown",
   "id": "351d3be7",
   "metadata": {},
   "source": [
    "## tf-idf sub-word embeddings"
   ]
  },
  {
   "cell_type": "code",
   "execution_count": 34,
   "id": "a92b2232",
   "metadata": {},
   "outputs": [
    {
     "name": "stdout",
     "output_type": "stream",
     "text": [
      "(1999, 222782) (1000, 222782)\n"
     ]
    }
   ],
   "source": [
    "vectorizer = TfidfVectorizer(ngram_range=(2, 10), analyzer='char_wb')\n",
    "\n",
    "X_train = vectorizer.fit_transform(list(train_df['clean_comment']))\n",
    "X_test = vectorizer.transform(list(eval_df['clean_comment']))\n",
    "y_train, y_test = [np.sign(x)+1 for x in list(train_df['target'])], [np.sign(x)+1 for x in list(eval_df['target'])]\n",
    "\n",
    "print(X_train.shape, X_test.shape)"
   ]
  },
  {
   "cell_type": "code",
   "execution_count": 35,
   "id": "49ac83c3",
   "metadata": {},
   "outputs": [
    {
     "name": "stdout",
     "output_type": "stream",
     "text": [
      "3-class classification accuracy: 0.563\n"
     ]
    }
   ],
   "source": [
    "xgb = xg.XGBClassifier(n_estimators=100, max_depth=4, learning_rate=0.05)\n",
    "xgb.fit(X_train, y_train)\n",
    "y_pred = xgb.predict(X_test)\n",
    "print(\"3-class classification accuracy:\", np.mean([int(y_test[i]==y_pred[i]) for i in range(len(y_test))]))"
   ]
  },
  {
   "cell_type": "code",
   "execution_count": 36,
   "id": "bc4c9ad5",
   "metadata": {},
   "outputs": [
    {
     "data": {
      "text/plain": [
       "array([[135, 158,  42],\n",
       "       [ 44, 350,  20],\n",
       "       [ 55, 118,  78]], dtype=int64)"
      ]
     },
     "execution_count": 36,
     "metadata": {},
     "output_type": "execute_result"
    }
   ],
   "source": [
    "confusion_matrix(y_test, y_pred)"
   ]
  },
  {
   "cell_type": "code",
   "execution_count": 37,
   "id": "28c2fbc4",
   "metadata": {},
   "outputs": [
    {
     "name": "stdout",
     "output_type": "stream",
     "text": [
      "              precision    recall  f1-score   support\n",
      "\n",
      "        Left       0.58      0.40      0.47       335\n",
      "     Neutral       0.56      0.85      0.67       414\n",
      "       Right       0.56      0.31      0.40       251\n",
      "\n",
      "    accuracy                           0.56      1000\n",
      "   macro avg       0.56      0.52      0.52      1000\n",
      "weighted avg       0.56      0.56      0.54      1000\n",
      "\n"
     ]
    }
   ],
   "source": [
    "print(classification_report(y_test, y_pred, target_names=['Left', 'Neutral', 'Right']))"
   ]
  },
  {
   "cell_type": "code",
   "execution_count": 38,
   "id": "f17f6253",
   "metadata": {},
   "outputs": [],
   "source": [
    "y_sw_tfidf = y_pred"
   ]
  },
  {
   "cell_type": "code",
   "execution_count": null,
   "id": "dabc81b5",
   "metadata": {},
   "outputs": [],
   "source": []
  },
  {
   "cell_type": "markdown",
   "id": "72332c35",
   "metadata": {},
   "source": [
    "## Data Augmentation with tf-idf/XGBoost"
   ]
  },
  {
   "cell_type": "code",
   "execution_count": 39,
   "id": "c0c1759a",
   "metadata": {},
   "outputs": [],
   "source": [
    "list_right_terms = list(right_terms)\n",
    "list_left_terms = list(left_terms)\n",
    "full_terms = left_terms.union(right_terms)"
   ]
  },
  {
   "cell_type": "code",
   "execution_count": 40,
   "id": "937ded18",
   "metadata": {},
   "outputs": [],
   "source": [
    "def random_swap(term):\n",
    "    if term in left_terms:\n",
    "        # LW term being swapped\n",
    "        return np.random.choice(list_right_terms)\n",
    "    elif term in right_terms:\n",
    "        # RW term being swapped\n",
    "        return np.random.choice(list_left_terms)\n",
    "    print(f\"Error with: {term}\")\n",
    "\n",
    "def swap_terms(text):\n",
    "    term_match = re.compile('|'.join([r'\\b'+t for t in full_terms]))\n",
    "    \n",
    "    temp = term_match.sub(lambda m: random_swap(m.group()), text.lower())\n",
    "    return temp"
   ]
  },
  {
   "cell_type": "code",
   "execution_count": 50,
   "id": "607faaf6",
   "metadata": {},
   "outputs": [
    {
     "data": {
      "text/html": [
       "<div>\n",
       "<style scoped>\n",
       "    .dataframe tbody tr th:only-of-type {\n",
       "        vertical-align: middle;\n",
       "    }\n",
       "\n",
       "    .dataframe tbody tr th {\n",
       "        vertical-align: top;\n",
       "    }\n",
       "\n",
       "    .dataframe thead th {\n",
       "        text-align: right;\n",
       "    }\n",
       "</style>\n",
       "<table border=\"1\" class=\"dataframe\">\n",
       "  <thead>\n",
       "    <tr style=\"text-align: right;\">\n",
       "      <th></th>\n",
       "      <th>clean_comment</th>\n",
       "      <th>target</th>\n",
       "    </tr>\n",
       "  </thead>\n",
       "  <tbody>\n",
       "    <tr>\n",
       "      <th>0</th>\n",
       "      <td>there are two types of parties those that prom...</td>\n",
       "      <td>0.00</td>\n",
       "    </tr>\n",
       "    <tr>\n",
       "      <th>1</th>\n",
       "      <td>there are two types of parties those that prom...</td>\n",
       "      <td>-0.00</td>\n",
       "    </tr>\n",
       "    <tr>\n",
       "      <th>2</th>\n",
       "      <td>if fundamentals are sound then, faith can help...</td>\n",
       "      <td>0.75</td>\n",
       "    </tr>\n",
       "    <tr>\n",
       "      <th>3</th>\n",
       "      <td>if fundamentals are sound then, faith can help...</td>\n",
       "      <td>-0.75</td>\n",
       "    </tr>\n",
       "    <tr>\n",
       "      <th>4</th>\n",
       "      <td>contrary to popular belief, until modi, india ...</td>\n",
       "      <td>-0.50</td>\n",
       "    </tr>\n",
       "    <tr>\n",
       "      <th>...</th>\n",
       "      <td>...</td>\n",
       "      <td>...</td>\n",
       "    </tr>\n",
       "    <tr>\n",
       "      <th>3993</th>\n",
       "      <td>it is good a initiative but the plastic in roa...</td>\n",
       "      <td>-0.00</td>\n",
       "    </tr>\n",
       "    <tr>\n",
       "      <th>3994</th>\n",
       "      <td>yup, been reading about it since couple of wee...</td>\n",
       "      <td>0.00</td>\n",
       "    </tr>\n",
       "    <tr>\n",
       "      <th>3995</th>\n",
       "      <td>yup, been reading about it since couple of wee...</td>\n",
       "      <td>-0.00</td>\n",
       "    </tr>\n",
       "    <tr>\n",
       "      <th>3996</th>\n",
       "      <td>first i thought christmas ke chakkar me. then ...</td>\n",
       "      <td>0.00</td>\n",
       "    </tr>\n",
       "    <tr>\n",
       "      <th>3997</th>\n",
       "      <td>first i thought christmas ke chakkar me. then ...</td>\n",
       "      <td>-0.00</td>\n",
       "    </tr>\n",
       "  </tbody>\n",
       "</table>\n",
       "<p>3998 rows × 2 columns</p>\n",
       "</div>"
      ],
      "text/plain": [
       "                                          clean_comment  target\n",
       "0     there are two types of parties those that prom...    0.00\n",
       "1     there are two types of parties those that prom...   -0.00\n",
       "2     if fundamentals are sound then, faith can help...    0.75\n",
       "3     if fundamentals are sound then, faith can help...   -0.75\n",
       "4     contrary to popular belief, until modi, india ...   -0.50\n",
       "...                                                 ...     ...\n",
       "3993  it is good a initiative but the plastic in roa...   -0.00\n",
       "3994  yup, been reading about it since couple of wee...    0.00\n",
       "3995  yup, been reading about it since couple of wee...   -0.00\n",
       "3996  first i thought christmas ke chakkar me. then ...    0.00\n",
       "3997  first i thought christmas ke chakkar me. then ...   -0.00\n",
       "\n",
       "[3998 rows x 2 columns]"
      ]
     },
     "execution_count": 50,
     "metadata": {},
     "output_type": "execute_result"
    }
   ],
   "source": [
    "aug_records = []\n",
    "for i, row in train_df.iterrows():\n",
    "    aug_records.append({'clean_comment':row['clean_comment'].lower(), 'target':row['target']})\n",
    "    # adding in record with swapped terms and opposite score\n",
    "    aug_records.append({'clean_comment':swap_terms(row['clean_comment']), 'target':-row['target']})\n",
    "aug_df = pd.DataFrame.from_records(aug_records)\n",
    "aug_df"
   ]
  },
  {
   "cell_type": "code",
   "execution_count": 306,
   "id": "cee1635f",
   "metadata": {},
   "outputs": [
    {
     "name": "stdout",
     "output_type": "stream",
     "text": [
      "(3998, 232104) (1000, 232104)\n"
     ]
    }
   ],
   "source": [
    "vectorizer = TfidfVectorizer(ngram_range=(2, 10), analyzer='char_wb')\n",
    "\n",
    "X_train = vectorizer.fit_transform(list(aug_df['clean_comment']))\n",
    "X_test = vectorizer.transform(list(eval_df['clean_comment']))\n",
    "y_train, y_test = [np.sign(x)+1 for x in list(aug_df['target'])], [np.sign(x)+1 for x in list(eval_df['target'])]\n",
    "\n",
    "print(X_train.shape, X_test.shape)"
   ]
  },
  {
   "cell_type": "code",
   "execution_count": 307,
   "id": "6e680828",
   "metadata": {},
   "outputs": [
    {
     "name": "stdout",
     "output_type": "stream",
     "text": [
      "3-class classification accuracy: 0.541\n"
     ]
    }
   ],
   "source": [
    "xgb = xg.XGBClassifier(n_estimators=100, max_depth=4, learning_rate=0.1)\n",
    "xgb.fit(X_train, y_train)\n",
    "y_pred = xgb.predict(X_test)\n",
    "print(\"3-class classification accuracy:\", np.mean([int(y_test[i]==y_pred[i]) for i in range(len(y_test))]))"
   ]
  },
  {
   "cell_type": "code",
   "execution_count": 308,
   "id": "3edf0c2c",
   "metadata": {},
   "outputs": [
    {
     "data": {
      "text/plain": [
       "array([[117, 179,  39],\n",
       "       [ 45, 343,  26],\n",
       "       [ 59, 111,  81]], dtype=int64)"
      ]
     },
     "execution_count": 308,
     "metadata": {},
     "output_type": "execute_result"
    }
   ],
   "source": [
    "confusion_matrix(y_test, y_pred)"
   ]
  },
  {
   "cell_type": "code",
   "execution_count": 309,
   "id": "0b70e2fa",
   "metadata": {},
   "outputs": [
    {
     "name": "stdout",
     "output_type": "stream",
     "text": [
      "              precision    recall  f1-score   support\n",
      "\n",
      "        Left       0.53      0.35      0.42       335\n",
      "     Neutral       0.54      0.83      0.66       414\n",
      "       Right       0.55      0.32      0.41       251\n",
      "\n",
      "    accuracy                           0.54      1000\n",
      "   macro avg       0.54      0.50      0.49      1000\n",
      "weighted avg       0.54      0.54      0.51      1000\n",
      "\n"
     ]
    }
   ],
   "source": [
    "print(classification_report(y_test, y_pred, target_names=['Left', 'Neutral', 'Right']))"
   ]
  },
  {
   "cell_type": "code",
   "execution_count": 55,
   "id": "fd521e81",
   "metadata": {},
   "outputs": [],
   "source": [
    "y_aug = y_pred"
   ]
  },
  {
   "cell_type": "code",
   "execution_count": null,
   "id": "18afb010",
   "metadata": {},
   "outputs": [],
   "source": []
  },
  {
   "cell_type": "markdown",
   "id": "c8d8be70",
   "metadata": {},
   "source": [
    "## Frozen Indian-sBERT embeddings with XGBoost\n",
    "### Note: do NOT re-run this section without a powerful GPU. The pretrained model is massive."
   ]
  },
  {
   "cell_type": "code",
   "execution_count": 56,
   "id": "5e34bc8a",
   "metadata": {},
   "outputs": [],
   "source": [
    "model_name = \"meedan/indian-sbert\"\n",
    "tokenizer = AutoTokenizer.from_pretrained(model_name)\n",
    "model = AutoModel.from_pretrained(model_name).to(device)\n",
    "\n",
    "# freezing everything\n",
    "modules = [model.embeddings, *model.encoder.layer]\n",
    "for module in modules:\n",
    "    for param in module.parameters():\n",
    "        param.requires_grad = False"
   ]
  },
  {
   "cell_type": "code",
   "execution_count": 57,
   "id": "f81115c7",
   "metadata": {},
   "outputs": [
    {
     "name": "stdout",
     "output_type": "stream",
     "text": [
      "1999 768\n"
     ]
    }
   ],
   "source": [
    "# getting train embeddings from model\n",
    "with torch.no_grad():\n",
    "    model.eval()\n",
    "    X_train = []\n",
    "    batch_size = 16\n",
    "    for i in range(0, len(train_df), batch_size):\n",
    "        temp = tokenizer(list(train_df['clean_comment'][i:i+batch_size]), padding='max_length', max_length = 256, truncation=True, return_tensors=\"pt\")\n",
    "        X_train.extend(model(temp['input_ids'].to(device), temp['attention_mask'].to(device)).pooler_output.cpu().detach().numpy().tolist())\n",
    "      \n",
    "print(len(X_train), len(X_train[0]))"
   ]
  },
  {
   "cell_type": "code",
   "execution_count": 58,
   "id": "dc6dc99e",
   "metadata": {},
   "outputs": [
    {
     "name": "stdout",
     "output_type": "stream",
     "text": [
      "1000 768\n"
     ]
    }
   ],
   "source": [
    "# getting eval embeddings from model\n",
    "with torch.no_grad():\n",
    "    model.eval()\n",
    "    X_test = []\n",
    "    batch_size = 16\n",
    "    for i in range(0, len(eval_df), batch_size):\n",
    "        temp = tokenizer(list(eval_df['clean_comment'][i:i+batch_size]), padding='max_length', max_length = 256, truncation=True, return_tensors=\"pt\")\n",
    "        X_test.extend(model(temp['input_ids'].to(device), temp['attention_mask'].to(device)).pooler_output.cpu().detach().numpy().tolist())\n",
    "      \n",
    "print(len(X_test), len(X_test[0]))"
   ]
  },
  {
   "cell_type": "code",
   "execution_count": 59,
   "id": "80fc9a5a",
   "metadata": {},
   "outputs": [],
   "source": [
    "y_train, y_test = [np.sign(x)+1 for x in list(train_df['target'])], [np.sign(x)+1 for x in list(eval_df['target'])]"
   ]
  },
  {
   "cell_type": "code",
   "execution_count": 60,
   "id": "cb24c17f",
   "metadata": {},
   "outputs": [
    {
     "name": "stdout",
     "output_type": "stream",
     "text": [
      "3-class classification accuracy: 0.518\n"
     ]
    }
   ],
   "source": [
    "xgb = xg.XGBClassifier(n_estimators=100, max_depth=5, learning_rate=0.1)\n",
    "xgb.fit(X_train, y_train)\n",
    "y_pred = xgb.predict(X_test)\n",
    "print(\"3-class classification accuracy:\", np.mean([int(y_test[i]==y_pred[i]) for i in range(len(y_test))]))"
   ]
  },
  {
   "cell_type": "code",
   "execution_count": 61,
   "id": "8262f327",
   "metadata": {},
   "outputs": [
    {
     "data": {
      "text/plain": [
       "array([[149, 123,  63],\n",
       "       [ 82, 296,  36],\n",
       "       [ 77, 101,  73]], dtype=int64)"
      ]
     },
     "execution_count": 61,
     "metadata": {},
     "output_type": "execute_result"
    }
   ],
   "source": [
    "confusion_matrix(y_test, y_pred)"
   ]
  },
  {
   "cell_type": "code",
   "execution_count": 62,
   "id": "9bf96670",
   "metadata": {},
   "outputs": [
    {
     "name": "stdout",
     "output_type": "stream",
     "text": [
      "              precision    recall  f1-score   support\n",
      "\n",
      "        Left       0.48      0.44      0.46       335\n",
      "     Neutral       0.57      0.71      0.63       414\n",
      "       Right       0.42      0.29      0.35       251\n",
      "\n",
      "    accuracy                           0.52      1000\n",
      "   macro avg       0.49      0.48      0.48      1000\n",
      "weighted avg       0.50      0.52      0.50      1000\n",
      "\n"
     ]
    }
   ],
   "source": [
    "print(classification_report(y_test, y_pred, target_names=['Left', 'Neutral', 'Right']))"
   ]
  },
  {
   "cell_type": "code",
   "execution_count": 63,
   "id": "dd44f5a3",
   "metadata": {},
   "outputs": [],
   "source": [
    "y_bert_frozen = y_pred"
   ]
  },
  {
   "cell_type": "code",
   "execution_count": null,
   "id": "9c9e1e37",
   "metadata": {},
   "outputs": [],
   "source": []
  },
  {
   "cell_type": "markdown",
   "id": "164a2f23",
   "metadata": {},
   "source": [
    "## Ensemble of Models"
   ]
  },
  {
   "cell_type": "code",
   "execution_count": null,
   "id": "ee3a3d90",
   "metadata": {},
   "outputs": [],
   "source": [
    "# we have the models and accuracies:\n",
    "# y_rule_based    0.502\n",
    "# y_feat_ext      0.574\n",
    "# y_feat_pca      0.562\n",
    "# y_w_tfidf       0.528\n",
    "# y_tfidf_pca     0.493\n",
    "# y_sw_tfidf      0.563\n",
    "# y_aug           0.541\n",
    "# y_bert_frozen   0.518"
   ]
  },
  {
   "cell_type": "code",
   "execution_count": 64,
   "id": "cbeabdcb",
   "metadata": {},
   "outputs": [],
   "source": [
    "def majority_voting(pred_list):\n",
    "    # provide in decreasing order of confidence for tie-breaks\n",
    "    n = len(pred_list[0])\n",
    "    y_ensembled = []\n",
    "    for i in range(n):\n",
    "        temp = [x[i] for x in pred_list]\n",
    "        y_ensembled.append(Counter(temp).most_common(1)[0][0])\n",
    "    return y_ensembled"
   ]
  },
  {
   "cell_type": "code",
   "execution_count": 72,
   "id": "31274015",
   "metadata": {},
   "outputs": [
    {
     "name": "stdout",
     "output_type": "stream",
     "text": [
      "3-class classification accuracy: 0.58\n"
     ]
    }
   ],
   "source": [
    "# y_ensembled = majority_voting([y_feat_ext, y_sw_tfidf, y_feat_pca, y_aug, y_w_tfidf, y_bert_frozen, y_rule_based, y_tfidf_pca])\n",
    "y_ensembled = majority_voting([y_feat_ext, y_sw_tfidf, y_feat_pca, y_aug])\n",
    "y_test = [np.sign(x)+1 for x in list(eval_df['target'])]\n",
    "y_pred = y_ensembled\n",
    "print(\"3-class classification accuracy:\", np.mean([int(y_test[i]==y_pred[i]) for i in range(len(y_test))]))"
   ]
  },
  {
   "cell_type": "code",
   "execution_count": 73,
   "id": "79fa5f80",
   "metadata": {},
   "outputs": [
    {
     "data": {
      "text/plain": [
       "array([[141, 163,  31],\n",
       "       [ 38, 367,   9],\n",
       "       [ 63, 116,  72]], dtype=int64)"
      ]
     },
     "execution_count": 73,
     "metadata": {},
     "output_type": "execute_result"
    }
   ],
   "source": [
    "confusion_matrix(y_test, y_pred)"
   ]
  },
  {
   "cell_type": "code",
   "execution_count": 74,
   "id": "ac477bbf",
   "metadata": {},
   "outputs": [
    {
     "name": "stdout",
     "output_type": "stream",
     "text": [
      "              precision    recall  f1-score   support\n",
      "\n",
      "        Left       0.58      0.42      0.49       335\n",
      "     Neutral       0.57      0.89      0.69       414\n",
      "       Right       0.64      0.29      0.40       251\n",
      "\n",
      "    accuracy                           0.58      1000\n",
      "   macro avg       0.60      0.53      0.53      1000\n",
      "weighted avg       0.59      0.58      0.55      1000\n",
      "\n"
     ]
    }
   ],
   "source": [
    "print(classification_report(y_test, y_pred, target_names=['Left', 'Neutral', 'Right']))"
   ]
  },
  {
   "cell_type": "code",
   "execution_count": null,
   "id": "581af6c6",
   "metadata": {},
   "outputs": [],
   "source": []
  },
  {
   "cell_type": "code",
   "execution_count": 83,
   "id": "23eb1860",
   "metadata": {},
   "outputs": [],
   "source": [
    "def weighted_avg(pred_list):\n",
    "    # pred_list should contain tuples of (y_pred, weight)\n",
    "    n = len(pred_list[0][0])\n",
    "    y_ensembled = []\n",
    "    weight_sum = sum([m[1] for m in pred_list])\n",
    "    for i in range(n):\n",
    "        score = 0\n",
    "        for m in pred_list:\n",
    "            score += m[0][i]*m[1]/weight_sum\n",
    "        y_ensembled.append(score-1)\n",
    "    return y_ensembled"
   ]
  },
  {
   "cell_type": "code",
   "execution_count": 340,
   "id": "5ebb4321",
   "metadata": {},
   "outputs": [],
   "source": [
    "y_ensembled = weighted_avg([(y_feat_ext, 10), \n",
    "                           (y_sw_tfidf, 10), \n",
    "                           (y_feat_pca, 8), \n",
    "                           (y_aug, 7), \n",
    "                           (y_w_tfidf, 5), \n",
    "                           (y_bert_frozen, 4), \n",
    "                           (y_rule_based, 0), \n",
    "                           (y_tfidf_pca, 0)])"
   ]
  },
  {
   "cell_type": "code",
   "execution_count": 341,
   "id": "e6a8e79f",
   "metadata": {},
   "outputs": [
    {
     "data": {
      "text/plain": [
       "(array([105.,  36.,  57.,  97., 137., 442.,  57.,  28.,  24.,  17.]),\n",
       " array([-1. , -0.8, -0.6, -0.4, -0.2,  0. ,  0.2,  0.4,  0.6,  0.8,  1. ]),\n",
       " <BarContainer object of 10 artists>)"
      ]
     },
     "execution_count": 341,
     "metadata": {},
     "output_type": "execute_result"
    },
    {
     "data": {
      "image/png": "[encoded data removed]",
      "text/plain": [
       "<Figure size 432x288 with 1 Axes>"
      ]
     },
     "metadata": {
      "needs_background": "light"
     },
     "output_type": "display_data"
    }
   ],
   "source": [
    "plt.hist(y_ensembled)"
   ]
  },
  {
   "cell_type": "code",
   "execution_count": 342,
   "id": "f9c127ad",
   "metadata": {},
   "outputs": [
    {
     "data": {
      "text/plain": [
       "<AxesSubplot:ylabel='Density'>"
      ]
     },
     "execution_count": 342,
     "metadata": {},
     "output_type": "execute_result"
    },
    {
     "data": {
      "image/png": "[encoded data removed]",
      "text/plain": [
       "<Figure size 432x288 with 1 Axes>"
      ]
     },
     "metadata": {
      "needs_background": "light"
     },
     "output_type": "display_data"
    }
   ],
   "source": [
    "pd.DataFrame(y_ensembled).plot.kde()\n",
    "eval_df['target'].plot.kde()"
   ]
  },
  {
   "cell_type": "code",
   "execution_count": 343,
   "id": "641e1cac",
   "metadata": {},
   "outputs": [
    {
     "data": {
      "text/plain": [
       "0.5077615557726491"
      ]
     },
     "execution_count": 343,
     "metadata": {},
     "output_type": "execute_result"
    }
   ],
   "source": [
    "np.sqrt(mean_squared_error(eval_df['target'], y_ensembled))"
   ]
  },
  {
   "cell_type": "code",
   "execution_count": 344,
   "id": "5b6366e2",
   "metadata": {},
   "outputs": [
    {
     "name": "stdout",
     "output_type": "stream",
     "text": [
      "3-class classification accuracy: 0.582\n"
     ]
    }
   ],
   "source": [
    "# y_pred = [conv_to_label(x, threshold=0.1)+1 for x in y_ensembled]\n",
    "y_pred = [1 if -0.25<x<0.15 else np.sign(x)+1 for x in y_ensembled]\n",
    "print(\"3-class classification accuracy:\", np.mean([int(y_test[i]==y_pred[i]) for i in range(len(y_test))]))"
   ]
  },
  {
   "cell_type": "code",
   "execution_count": 345,
   "id": "993fe323",
   "metadata": {},
   "outputs": [
    {
     "data": {
      "text/plain": [
       "array([[162, 143,  30],\n",
       "       [ 50, 329,  35],\n",
       "       [ 61,  99,  91]], dtype=int64)"
      ]
     },
     "execution_count": 345,
     "metadata": {},
     "output_type": "execute_result"
    }
   ],
   "source": [
    "confusion_matrix(y_test, y_pred)"
   ]
  },
  {
   "cell_type": "code",
   "execution_count": 346,
   "id": "ff1d0123",
   "metadata": {},
   "outputs": [
    {
     "name": "stdout",
     "output_type": "stream",
     "text": [
      "              precision    recall  f1-score   support\n",
      "\n",
      "        Left       0.59      0.48      0.53       335\n",
      "     Neutral       0.58      0.79      0.67       414\n",
      "       Right       0.58      0.36      0.45       251\n",
      "\n",
      "    accuracy                           0.58      1000\n",
      "   macro avg       0.58      0.55      0.55      1000\n",
      "weighted avg       0.58      0.58      0.57      1000\n",
      "\n"
     ]
    }
   ],
   "source": [
    "print(classification_report(y_test, y_pred, target_names=['Left', 'Neutral', 'Right']))"
   ]
  },
  {
   "cell_type": "code",
   "execution_count": null,
   "id": "86a9f3bf",
   "metadata": {},
   "outputs": [],
   "source": [
    "# normal bert fine-tuning, aug+bert, lstm"
   ]
  },
  {
   "cell_type": "code",
   "execution_count": null,
   "id": "361c4b9f",
   "metadata": {},
   "outputs": [],
   "source": []
  },
  {
   "cell_type": "markdown",
   "id": "22fc2bc1",
   "metadata": {},
   "source": [
    "## Propagating results of ensemble"
   ]
  },
  {
   "cell_type": "code",
   "execution_count": 296,
   "id": "cb96fd55",
   "metadata": {},
   "outputs": [],
   "source": [
    "with open('backup_before_reindex.json', 'r') as fileobj:\n",
    "    full_records = json.load(fileobj)"
   ]
  },
  {
   "cell_type": "code",
   "execution_count": 297,
   "id": "b79eadfb",
   "metadata": {},
   "outputs": [
    {
     "data": {
      "text/plain": [
       "[{'submission_id': 'zpre2v',\n",
       "  'submission_title': '\"2 Judges Can\\'t Decide\": BJP MP\\'s Strong Objection On Same-Sex Marriages',\n",
       "  'subreddit_id': '3d4x4',\n",
       "  'subreddit_name': 't5_3d4x4',\n",
       "  'comment_id': 'j0uassz',\n",
       "  'comment': 'Lets take the argument that its not provided in Indian culture. OK, SO WHAT ? There is no provision saying we have to live according to Indian culture only. We have to live according to our rights and duties in the Constitution and the laws based on it. Dont make Gay Marriage in Hindu Marriage Act, but Special Marriage Act exists so that non-dharmic marriages can exist. Whats the problem there ? Forcing people to live according to your culture is tyranny.',\n",
       "  'timestamp': '2022-12-19T21:58:40',\n",
       "  'url': '/r/IndiaSpeaks/comments/zpre2v/2_judges_cant_decide_bjp_mps_strong_objection_on/j0uassz/',\n",
       "  'reddit_score': 68,\n",
       "  'redditor_id': 'bu6k2huu',\n",
       "  'id': '4b5f4c75-9914-4a6d-be95-5b753d4200e6',\n",
       "  '_version_': 1760900444169699328},\n",
       " {'submission_id': 'zpre2v',\n",
       "  'submission_title': '\"2 Judges Can\\'t Decide\": BJP MP\\'s Strong Objection On Same-Sex Marriages',\n",
       "  'subreddit_id': '3d4x4',\n",
       "  'subreddit_name': 't5_3d4x4',\n",
       "  'comment_id': 'j0vbu5s',\n",
       "  'comment': \"Bullshit. If same sex wants to get married they get married. Why the all powerful God is not interfereing? \\n\\nWhy the god wish let the same sex attract each other? All powerful right? Why the god can't wire human beings as just heterosexuals?\",\n",
       "  'timestamp': '2022-12-20T02:17:15',\n",
       "  'url': '/r/IndiaSpeaks/comments/zpre2v/2_judges_cant_decide_bjp_mps_strong_objection_on/j0vbu5s/',\n",
       "  'reddit_score': 11,\n",
       "  'redditor_id': 'di592y39',\n",
       "  'id': '3b1289cc-f03a-4efa-a200-e27f3afb3d09',\n",
       "  '_version_': 1760900444174942208},\n",
       " {'submission_id': 'zpre2v',\n",
       "  'submission_title': '\"2 Judges Can\\'t Decide\": BJP MP\\'s Strong Objection On Same-Sex Marriages',\n",
       "  'subreddit_id': '3d4x4',\n",
       "  'subreddit_name': 't5_3d4x4',\n",
       "  'comment_id': 'j0wkxz5',\n",
       "  'comment': \"I don't support this MP's views culture has open gay and LGBT elements rather that being banned in the culture..  kuch bhi?\\nWe even have intersex god avarar of Mahadev, Ardhanareshwar\",\n",
       "  'timestamp': '2022-12-20T07:19:05',\n",
       "  'url': '/r/IndiaSpeaks/comments/zpre2v/2_judges_cant_decide_bjp_mps_strong_objection_on/j0wkxz5/',\n",
       "  'reddit_score': 5,\n",
       "  'redditor_id': '3twfreo5',\n",
       "  'id': 'fc431a8c-e233-46e2-adfe-7eba939c1723',\n",
       "  '_version_': 1760900444175990784}]"
      ]
     },
     "execution_count": 297,
     "metadata": {},
     "output_type": "execute_result"
    }
   ],
   "source": [
    "full_records[:3]"
   ]
  },
  {
   "cell_type": "code",
   "execution_count": 318,
   "id": "a70724bd",
   "metadata": {},
   "outputs": [
    {
     "data": {
      "text/html": [
       "<div>\n",
       "<style scoped>\n",
       "    .dataframe tbody tr th:only-of-type {\n",
       "        vertical-align: middle;\n",
       "    }\n",
       "\n",
       "    .dataframe tbody tr th {\n",
       "        vertical-align: top;\n",
       "    }\n",
       "\n",
       "    .dataframe thead th {\n",
       "        text-align: right;\n",
       "    }\n",
       "</style>\n",
       "<table border=\"1\" class=\"dataframe\">\n",
       "  <thead>\n",
       "    <tr style=\"text-align: right;\">\n",
       "      <th></th>\n",
       "      <th>comment_id</th>\n",
       "      <th>clean_comment</th>\n",
       "    </tr>\n",
       "  </thead>\n",
       "  <tbody>\n",
       "    <tr>\n",
       "      <th>0</th>\n",
       "      <td>j0uassz</td>\n",
       "      <td>Lets take the argument that its not provided i...</td>\n",
       "    </tr>\n",
       "    <tr>\n",
       "      <th>1</th>\n",
       "      <td>j0vbu5s</td>\n",
       "      <td>Bullshit. If same sex wants to get married the...</td>\n",
       "    </tr>\n",
       "    <tr>\n",
       "      <th>2</th>\n",
       "      <td>j0wkxz5</td>\n",
       "      <td>I don't support this MP's views culture has op...</td>\n",
       "    </tr>\n",
       "    <tr>\n",
       "      <th>3</th>\n",
       "      <td>j0w3jyf</td>\n",
       "      <td>Mark my words, BJP is building the nation with...</td>\n",
       "    </tr>\n",
       "    <tr>\n",
       "      <th>4</th>\n",
       "      <td>j0uq3k8</td>\n",
       "      <td>Ok tbh is he...? And on top of all how favouri...</td>\n",
       "    </tr>\n",
       "    <tr>\n",
       "      <th>...</th>\n",
       "      <td>...</td>\n",
       "      <td>...</td>\n",
       "    </tr>\n",
       "    <tr>\n",
       "      <th>6674</th>\n",
       "      <td>ffqq001</td>\n",
       "      <td>the 20 have drunk the koolaid. In the last ele...</td>\n",
       "    </tr>\n",
       "    <tr>\n",
       "      <th>6675</th>\n",
       "      <td>ffq6zn1</td>\n",
       "      <td>Not really possible. Rest of India, elections ...</td>\n",
       "    </tr>\n",
       "    <tr>\n",
       "      <th>6676</th>\n",
       "      <td>ffq9dxt</td>\n",
       "      <td>I think that cant be further from the truth. S...</td>\n",
       "    </tr>\n",
       "    <tr>\n",
       "      <th>6677</th>\n",
       "      <td>ffqcpfc</td>\n",
       "      <td>If they focused on campaigning in urban areas ...</td>\n",
       "    </tr>\n",
       "    <tr>\n",
       "      <th>6678</th>\n",
       "      <td>ffqa1nt</td>\n",
       "      <td>They tried really hard in Maharashtra. Anajali...</td>\n",
       "    </tr>\n",
       "  </tbody>\n",
       "</table>\n",
       "<p>6674 rows × 2 columns</p>\n",
       "</div>"
      ],
      "text/plain": [
       "     comment_id                                      clean_comment\n",
       "0       j0uassz  Lets take the argument that its not provided i...\n",
       "1       j0vbu5s  Bullshit. If same sex wants to get married the...\n",
       "2       j0wkxz5  I don't support this MP's views culture has op...\n",
       "3       j0w3jyf  Mark my words, BJP is building the nation with...\n",
       "4       j0uq3k8  Ok tbh is he...? And on top of all how favouri...\n",
       "...         ...                                                ...\n",
       "6674    ffqq001  the 20 have drunk the koolaid. In the last ele...\n",
       "6675    ffq6zn1  Not really possible. Rest of India, elections ...\n",
       "6676    ffq9dxt  I think that cant be further from the truth. S...\n",
       "6677    ffqcpfc  If they focused on campaigning in urban areas ...\n",
       "6678    ffqa1nt  They tried really hard in Maharashtra. Anajali...\n",
       "\n",
       "[6674 rows x 2 columns]"
      ]
     },
     "execution_count": 318,
     "metadata": {},
     "output_type": "execute_result"
    }
   ],
   "source": [
    "cids = []\n",
    "comments = []\n",
    "for record in full_records:\n",
    "    cids.append(record['comment_id'])\n",
    "    comments.append(clean_text(record['comment']))\n",
    "final_preds = pd.DataFrame.from_dict({'comment_id':cids, 'clean_comment':comments})\n",
    "final_preds['clean_comment'].replace('', np.nan, inplace=True)\n",
    "final_preds.dropna(inplace=True)\n",
    "final_preds"
   ]
  },
  {
   "cell_type": "code",
   "execution_count": 319,
   "id": "0cb3a6d6",
   "metadata": {},
   "outputs": [
    {
     "name": "stdout",
     "output_type": "stream",
     "text": [
      "1999 1999 6674\n"
     ]
    },
    {
     "data": {
      "text/html": [
       "<div>\n",
       "<style scoped>\n",
       "    .dataframe tbody tr th:only-of-type {\n",
       "        vertical-align: middle;\n",
       "    }\n",
       "\n",
       "    .dataframe tbody tr th {\n",
       "        vertical-align: top;\n",
       "    }\n",
       "\n",
       "    .dataframe thead th {\n",
       "        text-align: right;\n",
       "    }\n",
       "</style>\n",
       "<table border=\"1\" class=\"dataframe\">\n",
       "  <thead>\n",
       "    <tr style=\"text-align: right;\">\n",
       "      <th></th>\n",
       "      <th>comment_id</th>\n",
       "      <th>clean_comment</th>\n",
       "      <th>y_feat_ext</th>\n",
       "    </tr>\n",
       "  </thead>\n",
       "  <tbody>\n",
       "    <tr>\n",
       "      <th>0</th>\n",
       "      <td>j0uassz</td>\n",
       "      <td>Lets take the argument that its not provided i...</td>\n",
       "      <td>0</td>\n",
       "    </tr>\n",
       "    <tr>\n",
       "      <th>1</th>\n",
       "      <td>j0vbu5s</td>\n",
       "      <td>Bullshit. If same sex wants to get married the...</td>\n",
       "      <td>1</td>\n",
       "    </tr>\n",
       "    <tr>\n",
       "      <th>2</th>\n",
       "      <td>j0wkxz5</td>\n",
       "      <td>I don't support this MP's views culture has op...</td>\n",
       "      <td>1</td>\n",
       "    </tr>\n",
       "    <tr>\n",
       "      <th>3</th>\n",
       "      <td>j0w3jyf</td>\n",
       "      <td>Mark my words, BJP is building the nation with...</td>\n",
       "      <td>0</td>\n",
       "    </tr>\n",
       "    <tr>\n",
       "      <th>4</th>\n",
       "      <td>j0uq3k8</td>\n",
       "      <td>Ok tbh is he...? And on top of all how favouri...</td>\n",
       "      <td>1</td>\n",
       "    </tr>\n",
       "  </tbody>\n",
       "</table>\n",
       "</div>"
      ],
      "text/plain": [
       "  comment_id                                      clean_comment  y_feat_ext\n",
       "0    j0uassz  Lets take the argument that its not provided i...           0\n",
       "1    j0vbu5s  Bullshit. If same sex wants to get married the...           1\n",
       "2    j0wkxz5  I don't support this MP's views culture has op...           1\n",
       "3    j0w3jyf  Mark my words, BJP is building the nation with...           0\n",
       "4    j0uq3k8  Ok tbh is he...? And on top of all how favouri...           1"
      ]
     },
     "execution_count": 319,
     "metadata": {},
     "output_type": "execute_result"
    }
   ],
   "source": [
    "# feature extraction model\n",
    "\n",
    "# getting train embeddings\n",
    "temp_df = train_df.copy()\n",
    "temp_df['extracted_features'] = temp_df.apply(lambda x: feature_extraction(x['clean_comment']), axis=1)\n",
    "temp_df['final_features'] = temp_df.apply(lambda x: add_sentiment_features(x['clean_comment'], x['extracted_features']), axis=1)\n",
    "X_train, y_train = list(temp_df['final_features']), [np.sign(x)+1 for x in list(temp_df['target'])]\n",
    "\n",
    "# getting prediction embeddings\n",
    "temp_df = final_preds.copy()\n",
    "temp_df['extracted_features'] = temp_df.apply(lambda x: feature_extraction(x['clean_comment']), axis=1)\n",
    "temp_df['final_features'] = temp_df.apply(lambda x: add_sentiment_features(x['clean_comment'], x['extracted_features']), axis=1)\n",
    "X_eval = list(temp_df['final_features'])\n",
    "\n",
    "print(len(X_train), len(y_train), len(X_eval))\n",
    "\n",
    "xgb = xg.XGBClassifier(n_estimators=100, max_depth=4, learning_rate=0.1)\n",
    "xgb.fit(X_train, y_train)\n",
    "final_preds['y_feat_ext'] = xgb.predict(X_eval)\n",
    "final_preds.head()"
   ]
  },
  {
   "cell_type": "code",
   "execution_count": 321,
   "id": "3e766920",
   "metadata": {},
   "outputs": [
    {
     "name": "stdout",
     "output_type": "stream",
     "text": [
      "1999 1999 6674\n"
     ]
    },
    {
     "data": {
      "text/html": [
       "<div>\n",
       "<style scoped>\n",
       "    .dataframe tbody tr th:only-of-type {\n",
       "        vertical-align: middle;\n",
       "    }\n",
       "\n",
       "    .dataframe tbody tr th {\n",
       "        vertical-align: top;\n",
       "    }\n",
       "\n",
       "    .dataframe thead th {\n",
       "        text-align: right;\n",
       "    }\n",
       "</style>\n",
       "<table border=\"1\" class=\"dataframe\">\n",
       "  <thead>\n",
       "    <tr style=\"text-align: right;\">\n",
       "      <th></th>\n",
       "      <th>comment_id</th>\n",
       "      <th>clean_comment</th>\n",
       "      <th>y_feat_ext</th>\n",
       "      <th>y_feat_pca</th>\n",
       "    </tr>\n",
       "  </thead>\n",
       "  <tbody>\n",
       "    <tr>\n",
       "      <th>0</th>\n",
       "      <td>j0uassz</td>\n",
       "      <td>Lets take the argument that its not provided i...</td>\n",
       "      <td>0</td>\n",
       "      <td>2</td>\n",
       "    </tr>\n",
       "    <tr>\n",
       "      <th>1</th>\n",
       "      <td>j0vbu5s</td>\n",
       "      <td>Bullshit. If same sex wants to get married the...</td>\n",
       "      <td>1</td>\n",
       "      <td>1</td>\n",
       "    </tr>\n",
       "    <tr>\n",
       "      <th>2</th>\n",
       "      <td>j0wkxz5</td>\n",
       "      <td>I don't support this MP's views culture has op...</td>\n",
       "      <td>1</td>\n",
       "      <td>0</td>\n",
       "    </tr>\n",
       "    <tr>\n",
       "      <th>3</th>\n",
       "      <td>j0w3jyf</td>\n",
       "      <td>Mark my words, BJP is building the nation with...</td>\n",
       "      <td>0</td>\n",
       "      <td>0</td>\n",
       "    </tr>\n",
       "    <tr>\n",
       "      <th>4</th>\n",
       "      <td>j0uq3k8</td>\n",
       "      <td>Ok tbh is he...? And on top of all how favouri...</td>\n",
       "      <td>1</td>\n",
       "      <td>0</td>\n",
       "    </tr>\n",
       "  </tbody>\n",
       "</table>\n",
       "</div>"
      ],
      "text/plain": [
       "  comment_id                                      clean_comment  y_feat_ext  \\\n",
       "0    j0uassz  Lets take the argument that its not provided i...           0   \n",
       "1    j0vbu5s  Bullshit. If same sex wants to get married the...           1   \n",
       "2    j0wkxz5  I don't support this MP's views culture has op...           1   \n",
       "3    j0w3jyf  Mark my words, BJP is building the nation with...           0   \n",
       "4    j0uq3k8  Ok tbh is he...? And on top of all how favouri...           1   \n",
       "\n",
       "   y_feat_pca  \n",
       "0           2  \n",
       "1           1  \n",
       "2           0  \n",
       "3           0  \n",
       "4           0  "
      ]
     },
     "execution_count": 321,
     "metadata": {},
     "output_type": "execute_result"
    }
   ],
   "source": [
    "# feature extraction with pca and sentiment\n",
    "\n",
    "pca = PCA(n_components=8)\n",
    "\n",
    "# getting train embeddings\n",
    "temp_df = train_df.copy()\n",
    "temp_df['extracted_features'] = temp_df.apply(lambda x: feature_extraction(x['clean_comment']), axis=1)\n",
    "temp_df['extracted_features'] = pca.fit_transform(list(temp_df['extracted_features'])).tolist()  # fit transform PCA\n",
    "temp_df['final_features'] = temp_df.apply(lambda x: add_sentiment_features(x['clean_comment'], x['extracted_features']), axis=1)\n",
    "X_train, y_train = list(temp_df['final_features']), [np.sign(x)+1 for x in list(temp_df['target'])]\n",
    "\n",
    "# getting prediction embeddings\n",
    "temp_df = final_preds.copy()\n",
    "temp_df['extracted_features'] = temp_df.apply(lambda x: feature_extraction(x['clean_comment']), axis=1)\n",
    "temp_df['extracted_features'] = pca.transform(list(temp_df['extracted_features'])).tolist()  # transform PCA without re-fitting\n",
    "temp_df['final_features'] = temp_df.apply(lambda x: add_sentiment_features(x['clean_comment'], x['extracted_features']), axis=1)\n",
    "X_eval = list(temp_df['final_features'])\n",
    "\n",
    "print(len(X_train), len(y_train), len(X_eval))\n",
    "\n",
    "xgb = xg.XGBClassifier(n_estimators=100, max_depth=4, learning_rate=0.005)\n",
    "xgb.fit(X_train, y_train)\n",
    "final_preds['y_feat_pca'] = xgb.predict(X_eval)\n",
    "final_preds.head()"
   ]
  },
  {
   "cell_type": "code",
   "execution_count": 348,
   "id": "6f986154",
   "metadata": {},
   "outputs": [
    {
     "name": "stdout",
     "output_type": "stream",
     "text": [
      "(1999, 92418) (6674, 92418)\n"
     ]
    },
    {
     "data": {
      "text/html": [
       "<div>\n",
       "<style scoped>\n",
       "    .dataframe tbody tr th:only-of-type {\n",
       "        vertical-align: middle;\n",
       "    }\n",
       "\n",
       "    .dataframe tbody tr th {\n",
       "        vertical-align: top;\n",
       "    }\n",
       "\n",
       "    .dataframe thead th {\n",
       "        text-align: right;\n",
       "    }\n",
       "</style>\n",
       "<table border=\"1\" class=\"dataframe\">\n",
       "  <thead>\n",
       "    <tr style=\"text-align: right;\">\n",
       "      <th></th>\n",
       "      <th>comment_id</th>\n",
       "      <th>clean_comment</th>\n",
       "      <th>y_feat_ext</th>\n",
       "      <th>y_feat_pca</th>\n",
       "      <th>y_w_tfidf</th>\n",
       "    </tr>\n",
       "  </thead>\n",
       "  <tbody>\n",
       "    <tr>\n",
       "      <th>0</th>\n",
       "      <td>j0uassz</td>\n",
       "      <td>Lets take the argument that its not provided i...</td>\n",
       "      <td>0</td>\n",
       "      <td>2</td>\n",
       "      <td>1</td>\n",
       "    </tr>\n",
       "    <tr>\n",
       "      <th>1</th>\n",
       "      <td>j0vbu5s</td>\n",
       "      <td>Bullshit. If same sex wants to get married the...</td>\n",
       "      <td>1</td>\n",
       "      <td>1</td>\n",
       "      <td>1</td>\n",
       "    </tr>\n",
       "    <tr>\n",
       "      <th>2</th>\n",
       "      <td>j0wkxz5</td>\n",
       "      <td>I don't support this MP's views culture has op...</td>\n",
       "      <td>1</td>\n",
       "      <td>0</td>\n",
       "      <td>1</td>\n",
       "    </tr>\n",
       "    <tr>\n",
       "      <th>3</th>\n",
       "      <td>j0w3jyf</td>\n",
       "      <td>Mark my words, BJP is building the nation with...</td>\n",
       "      <td>0</td>\n",
       "      <td>0</td>\n",
       "      <td>0</td>\n",
       "    </tr>\n",
       "    <tr>\n",
       "      <th>4</th>\n",
       "      <td>j0uq3k8</td>\n",
       "      <td>Ok tbh is he...? And on top of all how favouri...</td>\n",
       "      <td>1</td>\n",
       "      <td>0</td>\n",
       "      <td>1</td>\n",
       "    </tr>\n",
       "  </tbody>\n",
       "</table>\n",
       "</div>"
      ],
      "text/plain": [
       "  comment_id                                      clean_comment  y_feat_ext  \\\n",
       "0    j0uassz  Lets take the argument that its not provided i...           0   \n",
       "1    j0vbu5s  Bullshit. If same sex wants to get married the...           1   \n",
       "2    j0wkxz5  I don't support this MP's views culture has op...           1   \n",
       "3    j0w3jyf  Mark my words, BJP is building the nation with...           0   \n",
       "4    j0uq3k8  Ok tbh is he...? And on top of all how favouri...           1   \n",
       "\n",
       "   y_feat_pca  y_w_tfidf  \n",
       "0           2          1  \n",
       "1           1          1  \n",
       "2           0          1  \n",
       "3           0          0  \n",
       "4           0          1  "
      ]
     },
     "execution_count": 348,
     "metadata": {},
     "output_type": "execute_result"
    }
   ],
   "source": [
    "# word level tfidf\n",
    "\n",
    "vectorizer = TfidfVectorizer(ngram_range=(1, 2), analyzer='word')\n",
    "\n",
    "X_train = vectorizer.fit_transform(list(train_df['clean_comment']))\n",
    "X_eval = vectorizer.transform(list(final_preds['clean_comment']))\n",
    "y_train = [np.sign(x)+1 for x in list(train_df['target'])]\n",
    "\n",
    "print(X_train.shape, X_eval.shape)\n",
    "\n",
    "xgb = xg.XGBClassifier(n_estimators=100, max_depth=4, learning_rate=0.001)\n",
    "xgb.fit(X_train, y_train)\n",
    "final_preds['y_w_tfidf'] = xgb.predict(X_eval)\n",
    "final_preds.head()"
   ]
  },
  {
   "cell_type": "code",
   "execution_count": 349,
   "id": "e945ce7d",
   "metadata": {},
   "outputs": [
    {
     "name": "stdout",
     "output_type": "stream",
     "text": [
      "(1999, 222782) (6674, 222782)\n"
     ]
    },
    {
     "data": {
      "text/html": [
       "<div>\n",
       "<style scoped>\n",
       "    .dataframe tbody tr th:only-of-type {\n",
       "        vertical-align: middle;\n",
       "    }\n",
       "\n",
       "    .dataframe tbody tr th {\n",
       "        vertical-align: top;\n",
       "    }\n",
       "\n",
       "    .dataframe thead th {\n",
       "        text-align: right;\n",
       "    }\n",
       "</style>\n",
       "<table border=\"1\" class=\"dataframe\">\n",
       "  <thead>\n",
       "    <tr style=\"text-align: right;\">\n",
       "      <th></th>\n",
       "      <th>comment_id</th>\n",
       "      <th>clean_comment</th>\n",
       "      <th>y_feat_ext</th>\n",
       "      <th>y_feat_pca</th>\n",
       "      <th>y_w_tfidf</th>\n",
       "      <th>y_sw_tfidf</th>\n",
       "    </tr>\n",
       "  </thead>\n",
       "  <tbody>\n",
       "    <tr>\n",
       "      <th>0</th>\n",
       "      <td>j0uassz</td>\n",
       "      <td>Lets take the argument that its not provided i...</td>\n",
       "      <td>0</td>\n",
       "      <td>2</td>\n",
       "      <td>1</td>\n",
       "      <td>0</td>\n",
       "    </tr>\n",
       "    <tr>\n",
       "      <th>1</th>\n",
       "      <td>j0vbu5s</td>\n",
       "      <td>Bullshit. If same sex wants to get married the...</td>\n",
       "      <td>1</td>\n",
       "      <td>1</td>\n",
       "      <td>1</td>\n",
       "      <td>1</td>\n",
       "    </tr>\n",
       "    <tr>\n",
       "      <th>2</th>\n",
       "      <td>j0wkxz5</td>\n",
       "      <td>I don't support this MP's views culture has op...</td>\n",
       "      <td>1</td>\n",
       "      <td>0</td>\n",
       "      <td>1</td>\n",
       "      <td>0</td>\n",
       "    </tr>\n",
       "    <tr>\n",
       "      <th>3</th>\n",
       "      <td>j0w3jyf</td>\n",
       "      <td>Mark my words, BJP is building the nation with...</td>\n",
       "      <td>0</td>\n",
       "      <td>0</td>\n",
       "      <td>0</td>\n",
       "      <td>0</td>\n",
       "    </tr>\n",
       "    <tr>\n",
       "      <th>4</th>\n",
       "      <td>j0uq3k8</td>\n",
       "      <td>Ok tbh is he...? And on top of all how favouri...</td>\n",
       "      <td>1</td>\n",
       "      <td>0</td>\n",
       "      <td>1</td>\n",
       "      <td>1</td>\n",
       "    </tr>\n",
       "  </tbody>\n",
       "</table>\n",
       "</div>"
      ],
      "text/plain": [
       "  comment_id                                      clean_comment  y_feat_ext  \\\n",
       "0    j0uassz  Lets take the argument that its not provided i...           0   \n",
       "1    j0vbu5s  Bullshit. If same sex wants to get married the...           1   \n",
       "2    j0wkxz5  I don't support this MP's views culture has op...           1   \n",
       "3    j0w3jyf  Mark my words, BJP is building the nation with...           0   \n",
       "4    j0uq3k8  Ok tbh is he...? And on top of all how favouri...           1   \n",
       "\n",
       "   y_feat_pca  y_w_tfidf  y_sw_tfidf  \n",
       "0           2          1           0  \n",
       "1           1          1           1  \n",
       "2           0          1           0  \n",
       "3           0          0           0  \n",
       "4           0          1           1  "
      ]
     },
     "execution_count": 349,
     "metadata": {},
     "output_type": "execute_result"
    }
   ],
   "source": [
    "# subword tfidf\n",
    "\n",
    "vectorizer = TfidfVectorizer(ngram_range=(2, 10), analyzer='char_wb')\n",
    "\n",
    "X_train = vectorizer.fit_transform(list(train_df['clean_comment']))\n",
    "X_eval = vectorizer.transform(list(final_preds['clean_comment']))\n",
    "y_train = [np.sign(x)+1 for x in list(train_df['target'])]\n",
    "\n",
    "print(X_train.shape, X_eval.shape)\n",
    "\n",
    "xgb = xg.XGBClassifier(n_estimators=100, max_depth=4, learning_rate=0.05)\n",
    "xgb.fit(X_train, y_train)\n",
    "final_preds['y_sw_tfidf'] = xgb.predict(X_eval)\n",
    "final_preds.head()"
   ]
  },
  {
   "cell_type": "code",
   "execution_count": 350,
   "id": "3d4585e2",
   "metadata": {},
   "outputs": [
    {
     "name": "stdout",
     "output_type": "stream",
     "text": [
      "(3998, 232104) (6674, 232104)\n"
     ]
    },
    {
     "data": {
      "text/html": [
       "<div>\n",
       "<style scoped>\n",
       "    .dataframe tbody tr th:only-of-type {\n",
       "        vertical-align: middle;\n",
       "    }\n",
       "\n",
       "    .dataframe tbody tr th {\n",
       "        vertical-align: top;\n",
       "    }\n",
       "\n",
       "    .dataframe thead th {\n",
       "        text-align: right;\n",
       "    }\n",
       "</style>\n",
       "<table border=\"1\" class=\"dataframe\">\n",
       "  <thead>\n",
       "    <tr style=\"text-align: right;\">\n",
       "      <th></th>\n",
       "      <th>comment_id</th>\n",
       "      <th>clean_comment</th>\n",
       "      <th>y_feat_ext</th>\n",
       "      <th>y_feat_pca</th>\n",
       "      <th>y_w_tfidf</th>\n",
       "      <th>y_sw_tfidf</th>\n",
       "      <th>y_aug</th>\n",
       "    </tr>\n",
       "  </thead>\n",
       "  <tbody>\n",
       "    <tr>\n",
       "      <th>0</th>\n",
       "      <td>j0uassz</td>\n",
       "      <td>Lets take the argument that its not provided i...</td>\n",
       "      <td>0</td>\n",
       "      <td>2</td>\n",
       "      <td>1</td>\n",
       "      <td>0</td>\n",
       "      <td>1</td>\n",
       "    </tr>\n",
       "    <tr>\n",
       "      <th>1</th>\n",
       "      <td>j0vbu5s</td>\n",
       "      <td>Bullshit. If same sex wants to get married the...</td>\n",
       "      <td>1</td>\n",
       "      <td>1</td>\n",
       "      <td>1</td>\n",
       "      <td>1</td>\n",
       "      <td>1</td>\n",
       "    </tr>\n",
       "    <tr>\n",
       "      <th>2</th>\n",
       "      <td>j0wkxz5</td>\n",
       "      <td>I don't support this MP's views culture has op...</td>\n",
       "      <td>1</td>\n",
       "      <td>0</td>\n",
       "      <td>1</td>\n",
       "      <td>0</td>\n",
       "      <td>0</td>\n",
       "    </tr>\n",
       "    <tr>\n",
       "      <th>3</th>\n",
       "      <td>j0w3jyf</td>\n",
       "      <td>Mark my words, BJP is building the nation with...</td>\n",
       "      <td>0</td>\n",
       "      <td>0</td>\n",
       "      <td>0</td>\n",
       "      <td>0</td>\n",
       "      <td>0</td>\n",
       "    </tr>\n",
       "    <tr>\n",
       "      <th>4</th>\n",
       "      <td>j0uq3k8</td>\n",
       "      <td>Ok tbh is he...? And on top of all how favouri...</td>\n",
       "      <td>1</td>\n",
       "      <td>0</td>\n",
       "      <td>1</td>\n",
       "      <td>1</td>\n",
       "      <td>1</td>\n",
       "    </tr>\n",
       "  </tbody>\n",
       "</table>\n",
       "</div>"
      ],
      "text/plain": [
       "  comment_id                                      clean_comment  y_feat_ext  \\\n",
       "0    j0uassz  Lets take the argument that its not provided i...           0   \n",
       "1    j0vbu5s  Bullshit. If same sex wants to get married the...           1   \n",
       "2    j0wkxz5  I don't support this MP's views culture has op...           1   \n",
       "3    j0w3jyf  Mark my words, BJP is building the nation with...           0   \n",
       "4    j0uq3k8  Ok tbh is he...? And on top of all how favouri...           1   \n",
       "\n",
       "   y_feat_pca  y_w_tfidf  y_sw_tfidf  y_aug  \n",
       "0           2          1           0      1  \n",
       "1           1          1           1      1  \n",
       "2           0          1           0      0  \n",
       "3           0          0           0      0  \n",
       "4           0          1           1      1  "
      ]
     },
     "execution_count": 350,
     "metadata": {},
     "output_type": "execute_result"
    }
   ],
   "source": [
    "# augmented data\n",
    "\n",
    "vectorizer = TfidfVectorizer(ngram_range=(2, 10), analyzer='char_wb')\n",
    "\n",
    "X_train = vectorizer.fit_transform(list(aug_df['clean_comment']))\n",
    "X_eval = vectorizer.transform(list(final_preds['clean_comment']))\n",
    "y_train = [np.sign(x)+1 for x in list(aug_df['target'])]\n",
    "\n",
    "print(X_train.shape, X_eval.shape)\n",
    "\n",
    "xgb = xg.XGBClassifier(n_estimators=100, max_depth=4, learning_rate=0.1)\n",
    "xgb.fit(X_train, y_train)\n",
    "final_preds['y_aug'] = xgb.predict(X_eval)\n",
    "final_preds.head()"
   ]
  },
  {
   "cell_type": "code",
   "execution_count": 352,
   "id": "090b8288",
   "metadata": {},
   "outputs": [
    {
     "name": "stdout",
     "output_type": "stream",
     "text": [
      "1999 768\n",
      "6674 768\n"
     ]
    },
    {
     "data": {
      "text/html": [
       "<div>\n",
       "<style scoped>\n",
       "    .dataframe tbody tr th:only-of-type {\n",
       "        vertical-align: middle;\n",
       "    }\n",
       "\n",
       "    .dataframe tbody tr th {\n",
       "        vertical-align: top;\n",
       "    }\n",
       "\n",
       "    .dataframe thead th {\n",
       "        text-align: right;\n",
       "    }\n",
       "</style>\n",
       "<table border=\"1\" class=\"dataframe\">\n",
       "  <thead>\n",
       "    <tr style=\"text-align: right;\">\n",
       "      <th></th>\n",
       "      <th>comment_id</th>\n",
       "      <th>clean_comment</th>\n",
       "      <th>y_feat_ext</th>\n",
       "      <th>y_feat_pca</th>\n",
       "      <th>y_w_tfidf</th>\n",
       "      <th>y_sw_tfidf</th>\n",
       "      <th>y_aug</th>\n",
       "      <th>y_bert_frozen</th>\n",
       "    </tr>\n",
       "  </thead>\n",
       "  <tbody>\n",
       "    <tr>\n",
       "      <th>0</th>\n",
       "      <td>j0uassz</td>\n",
       "      <td>Lets take the argument that its not provided i...</td>\n",
       "      <td>0</td>\n",
       "      <td>2</td>\n",
       "      <td>1</td>\n",
       "      <td>0</td>\n",
       "      <td>1</td>\n",
       "      <td>0</td>\n",
       "    </tr>\n",
       "    <tr>\n",
       "      <th>1</th>\n",
       "      <td>j0vbu5s</td>\n",
       "      <td>Bullshit. If same sex wants to get married the...</td>\n",
       "      <td>1</td>\n",
       "      <td>1</td>\n",
       "      <td>1</td>\n",
       "      <td>1</td>\n",
       "      <td>1</td>\n",
       "      <td>0</td>\n",
       "    </tr>\n",
       "    <tr>\n",
       "      <th>2</th>\n",
       "      <td>j0wkxz5</td>\n",
       "      <td>I don't support this MP's views culture has op...</td>\n",
       "      <td>1</td>\n",
       "      <td>0</td>\n",
       "      <td>1</td>\n",
       "      <td>0</td>\n",
       "      <td>0</td>\n",
       "      <td>0</td>\n",
       "    </tr>\n",
       "    <tr>\n",
       "      <th>3</th>\n",
       "      <td>j0w3jyf</td>\n",
       "      <td>Mark my words, BJP is building the nation with...</td>\n",
       "      <td>0</td>\n",
       "      <td>0</td>\n",
       "      <td>0</td>\n",
       "      <td>0</td>\n",
       "      <td>0</td>\n",
       "      <td>0</td>\n",
       "    </tr>\n",
       "    <tr>\n",
       "      <th>4</th>\n",
       "      <td>j0uq3k8</td>\n",
       "      <td>Ok tbh is he...? And on top of all how favouri...</td>\n",
       "      <td>1</td>\n",
       "      <td>0</td>\n",
       "      <td>1</td>\n",
       "      <td>1</td>\n",
       "      <td>1</td>\n",
       "      <td>0</td>\n",
       "    </tr>\n",
       "  </tbody>\n",
       "</table>\n",
       "</div>"
      ],
      "text/plain": [
       "  comment_id                                      clean_comment  y_feat_ext  \\\n",
       "0    j0uassz  Lets take the argument that its not provided i...           0   \n",
       "1    j0vbu5s  Bullshit. If same sex wants to get married the...           1   \n",
       "2    j0wkxz5  I don't support this MP's views culture has op...           1   \n",
       "3    j0w3jyf  Mark my words, BJP is building the nation with...           0   \n",
       "4    j0uq3k8  Ok tbh is he...? And on top of all how favouri...           1   \n",
       "\n",
       "   y_feat_pca  y_w_tfidf  y_sw_tfidf  y_aug  y_bert_frozen  \n",
       "0           2          1           0      1              0  \n",
       "1           1          1           1      1              0  \n",
       "2           0          1           0      0              0  \n",
       "3           0          0           0      0              0  \n",
       "4           0          1           1      1              0  "
      ]
     },
     "execution_count": 352,
     "metadata": {},
     "output_type": "execute_result"
    }
   ],
   "source": [
    "# frozen bert embeddings\n",
    "\n",
    "# getting train embeddings from model\n",
    "with torch.no_grad():\n",
    "    model.eval()\n",
    "    X_train = []\n",
    "    batch_size = 16\n",
    "    for i in range(0, len(train_df), batch_size):\n",
    "        temp = tokenizer(list(train_df['clean_comment'][i:i+batch_size]), padding='max_length', max_length = 256, truncation=True, return_tensors=\"pt\")\n",
    "        X_train.extend(model(temp['input_ids'].to(device), temp['attention_mask'].to(device)).pooler_output.cpu().detach().numpy().tolist())\n",
    "      \n",
    "print(len(X_train), len(X_train[0]))\n",
    "\n",
    "# getting prediction embeddings from model\n",
    "with torch.no_grad():\n",
    "    model.eval()\n",
    "    X_eval = []\n",
    "    batch_size = 16\n",
    "    for i in range(0, len(final_preds), batch_size):\n",
    "        temp = tokenizer(list(final_preds['clean_comment'][i:i+batch_size]), padding='max_length', max_length = 256, truncation=True, return_tensors=\"pt\")\n",
    "        X_eval.extend(model(temp['input_ids'].to(device), temp['attention_mask'].to(device)).pooler_output.cpu().detach().numpy().tolist())\n",
    "      \n",
    "print(len(X_eval), len(X_eval[0]))\n",
    "\n",
    "y_train = [np.sign(x)+1 for x in list(train_df['target'])]\n",
    "\n",
    "xgb = xg.XGBClassifier(n_estimators=100, max_depth=5, learning_rate=0.1)\n",
    "xgb.fit(X_train, y_train)\n",
    "final_preds['y_bert_frozen'] = xgb.predict(X_eval)\n",
    "final_preds.head()"
   ]
  },
  {
   "cell_type": "code",
   "execution_count": 353,
   "id": "5dcdecbe",
   "metadata": {},
   "outputs": [
    {
     "data": {
      "text/html": [
       "<div>\n",
       "<style scoped>\n",
       "    .dataframe tbody tr th:only-of-type {\n",
       "        vertical-align: middle;\n",
       "    }\n",
       "\n",
       "    .dataframe tbody tr th {\n",
       "        vertical-align: top;\n",
       "    }\n",
       "\n",
       "    .dataframe thead th {\n",
       "        text-align: right;\n",
       "    }\n",
       "</style>\n",
       "<table border=\"1\" class=\"dataframe\">\n",
       "  <thead>\n",
       "    <tr style=\"text-align: right;\">\n",
       "      <th></th>\n",
       "      <th>y_feat_ext</th>\n",
       "      <th>y_feat_pca</th>\n",
       "      <th>y_w_tfidf</th>\n",
       "      <th>y_sw_tfidf</th>\n",
       "      <th>y_aug</th>\n",
       "      <th>y_bert_frozen</th>\n",
       "    </tr>\n",
       "  </thead>\n",
       "  <tbody>\n",
       "    <tr>\n",
       "      <th>count</th>\n",
       "      <td>6674.000000</td>\n",
       "      <td>6674.000000</td>\n",
       "      <td>6674.000000</td>\n",
       "      <td>6674.000000</td>\n",
       "      <td>6674.000000</td>\n",
       "      <td>6674.000000</td>\n",
       "    </tr>\n",
       "    <tr>\n",
       "      <th>mean</th>\n",
       "      <td>0.867696</td>\n",
       "      <td>0.802817</td>\n",
       "      <td>0.890770</td>\n",
       "      <td>0.878933</td>\n",
       "      <td>0.912346</td>\n",
       "      <td>0.863800</td>\n",
       "    </tr>\n",
       "    <tr>\n",
       "      <th>std</th>\n",
       "      <td>0.576030</td>\n",
       "      <td>0.649442</td>\n",
       "      <td>0.489569</td>\n",
       "      <td>0.608174</td>\n",
       "      <td>0.622006</td>\n",
       "      <td>0.698223</td>\n",
       "    </tr>\n",
       "    <tr>\n",
       "      <th>min</th>\n",
       "      <td>0.000000</td>\n",
       "      <td>0.000000</td>\n",
       "      <td>0.000000</td>\n",
       "      <td>0.000000</td>\n",
       "      <td>0.000000</td>\n",
       "      <td>0.000000</td>\n",
       "    </tr>\n",
       "    <tr>\n",
       "      <th>25%</th>\n",
       "      <td>1.000000</td>\n",
       "      <td>0.000000</td>\n",
       "      <td>1.000000</td>\n",
       "      <td>0.000000</td>\n",
       "      <td>1.000000</td>\n",
       "      <td>0.000000</td>\n",
       "    </tr>\n",
       "    <tr>\n",
       "      <th>50%</th>\n",
       "      <td>1.000000</td>\n",
       "      <td>1.000000</td>\n",
       "      <td>1.000000</td>\n",
       "      <td>1.000000</td>\n",
       "      <td>1.000000</td>\n",
       "      <td>1.000000</td>\n",
       "    </tr>\n",
       "    <tr>\n",
       "      <th>75%</th>\n",
       "      <td>1.000000</td>\n",
       "      <td>1.000000</td>\n",
       "      <td>1.000000</td>\n",
       "      <td>1.000000</td>\n",
       "      <td>1.000000</td>\n",
       "      <td>1.000000</td>\n",
       "    </tr>\n",
       "    <tr>\n",
       "      <th>max</th>\n",
       "      <td>2.000000</td>\n",
       "      <td>2.000000</td>\n",
       "      <td>2.000000</td>\n",
       "      <td>2.000000</td>\n",
       "      <td>2.000000</td>\n",
       "      <td>2.000000</td>\n",
       "    </tr>\n",
       "  </tbody>\n",
       "</table>\n",
       "</div>"
      ],
      "text/plain": [
       "        y_feat_ext   y_feat_pca    y_w_tfidf   y_sw_tfidf        y_aug  \\\n",
       "count  6674.000000  6674.000000  6674.000000  6674.000000  6674.000000   \n",
       "mean      0.867696     0.802817     0.890770     0.878933     0.912346   \n",
       "std       0.576030     0.649442     0.489569     0.608174     0.622006   \n",
       "min       0.000000     0.000000     0.000000     0.000000     0.000000   \n",
       "25%       1.000000     0.000000     1.000000     0.000000     1.000000   \n",
       "50%       1.000000     1.000000     1.000000     1.000000     1.000000   \n",
       "75%       1.000000     1.000000     1.000000     1.000000     1.000000   \n",
       "max       2.000000     2.000000     2.000000     2.000000     2.000000   \n",
       "\n",
       "       y_bert_frozen  \n",
       "count    6674.000000  \n",
       "mean        0.863800  \n",
       "std         0.698223  \n",
       "min         0.000000  \n",
       "25%         0.000000  \n",
       "50%         1.000000  \n",
       "75%         1.000000  \n",
       "max         2.000000  "
      ]
     },
     "execution_count": 353,
     "metadata": {},
     "output_type": "execute_result"
    }
   ],
   "source": [
    "final_preds.describe()"
   ]
  },
  {
   "cell_type": "code",
   "execution_count": 356,
   "id": "a49a7fc5",
   "metadata": {},
   "outputs": [
    {
     "data": {
      "text/html": [
       "<div>\n",
       "<style scoped>\n",
       "    .dataframe tbody tr th:only-of-type {\n",
       "        vertical-align: middle;\n",
       "    }\n",
       "\n",
       "    .dataframe tbody tr th {\n",
       "        vertical-align: top;\n",
       "    }\n",
       "\n",
       "    .dataframe thead th {\n",
       "        text-align: right;\n",
       "    }\n",
       "</style>\n",
       "<table border=\"1\" class=\"dataframe\">\n",
       "  <thead>\n",
       "    <tr style=\"text-align: right;\">\n",
       "      <th></th>\n",
       "      <th>comment_id</th>\n",
       "      <th>clean_comment</th>\n",
       "      <th>y_feat_ext</th>\n",
       "      <th>y_feat_pca</th>\n",
       "      <th>y_w_tfidf</th>\n",
       "      <th>y_sw_tfidf</th>\n",
       "      <th>y_aug</th>\n",
       "      <th>y_bert_frozen</th>\n",
       "      <th>predicted_score</th>\n",
       "      <th>predicted_label</th>\n",
       "    </tr>\n",
       "  </thead>\n",
       "  <tbody>\n",
       "    <tr>\n",
       "      <th>0</th>\n",
       "      <td>j0uassz</td>\n",
       "      <td>Lets take the argument that its not provided i...</td>\n",
       "      <td>0</td>\n",
       "      <td>2</td>\n",
       "      <td>1</td>\n",
       "      <td>0</td>\n",
       "      <td>1</td>\n",
       "      <td>0</td>\n",
       "      <td>-0.363636</td>\n",
       "      <td>-1.0</td>\n",
       "    </tr>\n",
       "    <tr>\n",
       "      <th>1</th>\n",
       "      <td>j0vbu5s</td>\n",
       "      <td>Bullshit. If same sex wants to get married the...</td>\n",
       "      <td>1</td>\n",
       "      <td>1</td>\n",
       "      <td>1</td>\n",
       "      <td>1</td>\n",
       "      <td>1</td>\n",
       "      <td>0</td>\n",
       "      <td>-0.090909</td>\n",
       "      <td>0.0</td>\n",
       "    </tr>\n",
       "    <tr>\n",
       "      <th>2</th>\n",
       "      <td>j0wkxz5</td>\n",
       "      <td>I don't support this MP's views culture has op...</td>\n",
       "      <td>1</td>\n",
       "      <td>0</td>\n",
       "      <td>1</td>\n",
       "      <td>0</td>\n",
       "      <td>0</td>\n",
       "      <td>0</td>\n",
       "      <td>-0.659091</td>\n",
       "      <td>-1.0</td>\n",
       "    </tr>\n",
       "    <tr>\n",
       "      <th>3</th>\n",
       "      <td>j0w3jyf</td>\n",
       "      <td>Mark my words, BJP is building the nation with...</td>\n",
       "      <td>0</td>\n",
       "      <td>0</td>\n",
       "      <td>0</td>\n",
       "      <td>0</td>\n",
       "      <td>0</td>\n",
       "      <td>0</td>\n",
       "      <td>-1.000000</td>\n",
       "      <td>-1.0</td>\n",
       "    </tr>\n",
       "    <tr>\n",
       "      <th>4</th>\n",
       "      <td>j0uq3k8</td>\n",
       "      <td>Ok tbh is he...? And on top of all how favouri...</td>\n",
       "      <td>1</td>\n",
       "      <td>0</td>\n",
       "      <td>1</td>\n",
       "      <td>1</td>\n",
       "      <td>1</td>\n",
       "      <td>0</td>\n",
       "      <td>-0.272727</td>\n",
       "      <td>-1.0</td>\n",
       "    </tr>\n",
       "  </tbody>\n",
       "</table>\n",
       "</div>"
      ],
      "text/plain": [
       "  comment_id                                      clean_comment  y_feat_ext  \\\n",
       "0    j0uassz  Lets take the argument that its not provided i...           0   \n",
       "1    j0vbu5s  Bullshit. If same sex wants to get married the...           1   \n",
       "2    j0wkxz5  I don't support this MP's views culture has op...           1   \n",
       "3    j0w3jyf  Mark my words, BJP is building the nation with...           0   \n",
       "4    j0uq3k8  Ok tbh is he...? And on top of all how favouri...           1   \n",
       "\n",
       "   y_feat_pca  y_w_tfidf  y_sw_tfidf  y_aug  y_bert_frozen  predicted_score  \\\n",
       "0           2          1           0      1              0        -0.363636   \n",
       "1           1          1           1      1              0        -0.090909   \n",
       "2           0          1           0      0              0        -0.659091   \n",
       "3           0          0           0      0              0        -1.000000   \n",
       "4           0          1           1      1              0        -0.272727   \n",
       "\n",
       "   predicted_label  \n",
       "0             -1.0  \n",
       "1              0.0  \n",
       "2             -1.0  \n",
       "3             -1.0  \n",
       "4             -1.0  "
      ]
     },
     "execution_count": 356,
     "metadata": {},
     "output_type": "execute_result"
    }
   ],
   "source": [
    "def final_ensemble(row):\n",
    "    score = row['y_feat_ext']*10 + row['y_sw_tfidf']*10 + row['y_feat_pca']*8 + row['y_aug']*7 + row['y_w_tfidf']*5 + row['y_bert_frozen']*4\n",
    "    score /= (10+10+8+7+5+4)\n",
    "    return score-1\n",
    "\n",
    "final_preds['predicted_score'] = final_preds.apply(lambda x: final_ensemble(x), axis=1)\n",
    "final_preds['predicted_label'] = final_preds.apply(lambda x: (0 if -0.25<x['predicted_score']<0.15 else np.sign(x['predicted_score'])), axis=1)\n",
    "final_preds.head()"
   ]
  },
  {
   "cell_type": "code",
   "execution_count": 357,
   "id": "96e662ad",
   "metadata": {},
   "outputs": [
    {
     "data": {
      "text/plain": [
       "<AxesSubplot:ylabel='Density'>"
      ]
     },
     "execution_count": 357,
     "metadata": {},
     "output_type": "execute_result"
    },
    {
     "data": {
      "image/png": "[encoded data removed]",
      "text/plain": [
       "<Figure size 432x288 with 1 Axes>"
      ]
     },
     "metadata": {
      "needs_background": "light"
     },
     "output_type": "display_data"
    }
   ],
   "source": [
    "final_preds['predicted_score'].plot.kde()"
   ]
  },
  {
   "cell_type": "code",
   "execution_count": 360,
   "id": "1e81de53",
   "metadata": {},
   "outputs": [
    {
     "data": {
      "text/html": [
       "<div>\n",
       "<style scoped>\n",
       "    .dataframe tbody tr th:only-of-type {\n",
       "        vertical-align: middle;\n",
       "    }\n",
       "\n",
       "    .dataframe tbody tr th {\n",
       "        vertical-align: top;\n",
       "    }\n",
       "\n",
       "    .dataframe thead th {\n",
       "        text-align: right;\n",
       "    }\n",
       "</style>\n",
       "<table border=\"1\" class=\"dataframe\">\n",
       "  <thead>\n",
       "    <tr style=\"text-align: right;\">\n",
       "      <th></th>\n",
       "      <th>comment_id</th>\n",
       "      <th>clean_comment</th>\n",
       "      <th>predicted_score</th>\n",
       "      <th>predicted_label</th>\n",
       "    </tr>\n",
       "  </thead>\n",
       "  <tbody>\n",
       "    <tr>\n",
       "      <th>0</th>\n",
       "      <td>j0uassz</td>\n",
       "      <td>Lets take the argument that its not provided i...</td>\n",
       "      <td>-0.363636</td>\n",
       "      <td>-1.0</td>\n",
       "    </tr>\n",
       "    <tr>\n",
       "      <th>1</th>\n",
       "      <td>j0vbu5s</td>\n",
       "      <td>Bullshit. If same sex wants to get married the...</td>\n",
       "      <td>-0.090909</td>\n",
       "      <td>0.0</td>\n",
       "    </tr>\n",
       "    <tr>\n",
       "      <th>2</th>\n",
       "      <td>j0wkxz5</td>\n",
       "      <td>I don't support this MP's views culture has op...</td>\n",
       "      <td>-0.659091</td>\n",
       "      <td>-1.0</td>\n",
       "    </tr>\n",
       "    <tr>\n",
       "      <th>3</th>\n",
       "      <td>j0w3jyf</td>\n",
       "      <td>Mark my words, BJP is building the nation with...</td>\n",
       "      <td>-1.000000</td>\n",
       "      <td>-1.0</td>\n",
       "    </tr>\n",
       "    <tr>\n",
       "      <th>4</th>\n",
       "      <td>j0uq3k8</td>\n",
       "      <td>Ok tbh is he...? And on top of all how favouri...</td>\n",
       "      <td>-0.272727</td>\n",
       "      <td>-1.0</td>\n",
       "    </tr>\n",
       "  </tbody>\n",
       "</table>\n",
       "</div>"
      ],
      "text/plain": [
       "  comment_id                                      clean_comment  \\\n",
       "0    j0uassz  Lets take the argument that its not provided i...   \n",
       "1    j0vbu5s  Bullshit. If same sex wants to get married the...   \n",
       "2    j0wkxz5  I don't support this MP's views culture has op...   \n",
       "3    j0w3jyf  Mark my words, BJP is building the nation with...   \n",
       "4    j0uq3k8  Ok tbh is he...? And on top of all how favouri...   \n",
       "\n",
       "   predicted_score  predicted_label  \n",
       "0        -0.363636             -1.0  \n",
       "1        -0.090909              0.0  \n",
       "2        -0.659091             -1.0  \n",
       "3        -1.000000             -1.0  \n",
       "4        -0.272727             -1.0  "
      ]
     },
     "execution_count": 360,
     "metadata": {},
     "output_type": "execute_result"
    }
   ],
   "source": [
    "temp_df = final_preds[['comment_id', 'clean_comment', 'predicted_score', 'predicted_label']].copy()\n",
    "temp_df.head()"
   ]
  },
  {
   "cell_type": "code",
   "execution_count": 363,
   "id": "f7a85745",
   "metadata": {},
   "outputs": [],
   "source": [
    "temp_df.to_csv('full_6k_preds.csv', index=False)"
   ]
  },
  {
   "cell_type": "code",
   "execution_count": null,
   "id": "cfb78e69",
   "metadata": {},
   "outputs": [],
   "source": []
  }
 ],
 "metadata": {
  "kernelspec": {
   "display_name": "Python 3",
   "language": "python",
   "name": "python3"
  },
  "language_info": {
   "codemirror_mode": {
    "name": "ipython",
    "version": 3
   },
   "file_extension": ".py",
   "mimetype": "text/x-python",
   "name": "python",
   "nbconvert_exporter": "python",
   "pygments_lexer": "ipython3",
   "version": "3.8.8"
  }
 },
 "nbformat": 4,
 "nbformat_minor": 5
}
