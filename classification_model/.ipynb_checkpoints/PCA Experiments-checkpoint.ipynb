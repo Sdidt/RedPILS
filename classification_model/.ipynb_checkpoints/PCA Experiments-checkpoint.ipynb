{
 "cells": [
  {
   "cell_type": "code",
   "execution_count": 1,
   "id": "4f7df1bf",
   "metadata": {},
   "outputs": [
    {
     "data": {
      "text/plain": [
       "device(type='cuda')"
      ]
     },
     "execution_count": 1,
     "metadata": {},
     "output_type": "execute_result"
    }
   ],
   "source": [
    "import numpy as np\n",
    "import pandas as pd\n",
    "import matplotlib.pyplot as plt\n",
    "import re\n",
    "import json\n",
    "import xgboost as xg\n",
    "from sklearn.model_selection import train_test_split\n",
    "from sklearn.metrics import mean_squared_error, r2_score\n",
    "from sklearn.preprocessing import StandardScaler\n",
    "from sklearn import linear_model\n",
    "import torch\n",
    "from torch import nn\n",
    "device = torch.device('cuda' if torch.cuda.is_available() else 'cpu')\n",
    "device"
   ]
  },
  {
   "cell_type": "code",
   "execution_count": 17,
   "id": "7a4c30de",
   "metadata": {},
   "outputs": [
    {
     "name": "stderr",
     "output_type": "stream",
     "text": [
      "[nltk_data] Downloading package vader_lexicon to\n",
      "[nltk_data]     C:\\Users\\iyeng\\AppData\\Roaming\\nltk_data...\n"
     ]
    },
    {
     "data": {
      "text/plain": [
       "True"
      ]
     },
     "execution_count": 17,
     "metadata": {},
     "output_type": "execute_result"
    }
   ],
   "source": [
    "import nltk\n",
    "from nltk.sentiment import SentimentIntensityAnalyzer\n",
    "nltk.download('vader_lexicon')"
   ]
  },
  {
   "cell_type": "code",
   "execution_count": 196,
   "id": "2f20eae6",
   "metadata": {},
   "outputs": [],
   "source": [
    "from sklearn.decomposition import PCA\n",
    "from textblob import TextBlob\n",
    "from sklearn.metrics import confusion_matrix\n",
    "from sklearn.metrics import classification_report"
   ]
  },
  {
   "cell_type": "code",
   "execution_count": 2,
   "id": "1403c8a8",
   "metadata": {},
   "outputs": [
    {
     "name": "stdout",
     "output_type": "stream",
     "text": [
      "<class 'pandas.core.frame.DataFrame'>\n",
      "Int64Index: 2044 entries, 0 to 2044\n",
      "Data columns (total 5 columns):\n",
      " #   Column         Non-Null Count  Dtype  \n",
      "---  ------         --------------  -----  \n",
      " 0   clean_title    2044 non-null   object \n",
      " 1   clean_comment  2044 non-null   object \n",
      " 2   url            2044 non-null   object \n",
      " 3   avg_score      2044 non-null   float64\n",
      " 4   target         2044 non-null   float64\n",
      "dtypes: float64(2), object(3)\n",
      "memory usage: 95.8+ KB\n"
     ]
    }
   ],
   "source": [
    "clean_df = pd.read_csv(\"cleaned_subset.csv\")\n",
    "clean_df.dropna(inplace=True)\n",
    "clean_df['target'] = clean_df['avg_score']/2\n",
    "clean_df.info()"
   ]
  },
  {
   "cell_type": "code",
   "execution_count": null,
   "id": "22ff85b3",
   "metadata": {},
   "outputs": [],
   "source": [
    "# X_train, X_test, y_train, y_test = train_test_split(clean_df['clean_comment'], clean_df['target'], test_size = 0.2, random_state = 123)\n"
   ]
  },
  {
   "cell_type": "code",
   "execution_count": null,
   "id": "901b6cbf",
   "metadata": {},
   "outputs": [],
   "source": []
  },
  {
   "cell_type": "code",
   "execution_count": null,
   "id": "67beb585",
   "metadata": {},
   "outputs": [],
   "source": []
  },
  {
   "cell_type": "markdown",
   "id": "317fda31",
   "metadata": {},
   "source": [
    "## Custom models"
   ]
  },
  {
   "cell_type": "code",
   "execution_count": 285,
   "id": "9f9d4db3",
   "metadata": {},
   "outputs": [],
   "source": [
    "right = \"\"\"right wing, RW, authority, hierarchy, order, duty, tradition, reaction, nationalism, conservative, right-libertarian, \\\n",
    "neoconservative, imperialist, monarchist, fascist, reactionaries, traditionalist, traditional, death penalty, \\\n",
    "religion, Bhajpa, BJP, Shiv Sena, RSS, MNS, Sanatan, dharm, Hindutva, Islamophobia, Narendra, Modi, Amit, Shah, \\\n",
    "mandir, ram, valmiki, ramayan, Bharatiya, Janata, Democratic Alliance, NDA, AIADMK, Janta Dal, bhakt, CAA, NRC, hindu majority, \\\n",
    "hindu unity, hindu pride, nationalist, sangh, sanghi, yogi\"\"\".lower()\n",
    "left = \"\"\"left wing, LW, leftists, freedom, equality, fraternity, rights, progress, reform, internationalism, anarchist, communist, socialist, \\\n",
    "democratic socialist, social democrat, left-libertarian, progressive, social, liberal, Congress, UPA, \\\n",
    "INC, Aam, aadmi, AAP, CPI, CPI(M), Welfare, Protectionism, Commies, Rahul, gandhi, indira, yatra, arvind, kejriwal, \\\n",
    "libby, libbies, sjw, libtard, hinduphobia, LGBTQ, masjid, pappu, christian, muslim, secular, minority, minorities, Shashi, Tharoor\"\"\".lower()"
   ]
  },
  {
   "cell_type": "code",
   "execution_count": 286,
   "id": "ac279bf9",
   "metadata": {},
   "outputs": [
    {
     "data": {
      "text/plain": [
       "(53, 51)"
      ]
     },
     "execution_count": 286,
     "metadata": {},
     "output_type": "execute_result"
    }
   ],
   "source": [
    "right_terms = set(right.split(', '))\n",
    "left_terms = set(left.split(', '))\n",
    "len(right_terms), len(left_terms)"
   ]
  },
  {
   "cell_type": "code",
   "execution_count": 18,
   "id": "9c81e1c1",
   "metadata": {},
   "outputs": [],
   "source": [
    "vader = SentimentIntensityAnalyzer()"
   ]
  },
  {
   "cell_type": "code",
   "execution_count": 22,
   "id": "7a2d2251",
   "metadata": {},
   "outputs": [
    {
     "data": {
      "text/plain": [
       "'Extremely valid points but I believe he has the charisma to win over urban youth who is usually the most apathetic non voter. Although, I would keep my expectations low since Tharoor has a ton of intra party politics to deal with.'"
      ]
     },
     "execution_count": 22,
     "metadata": {},
     "output_type": "execute_result"
    }
   ],
   "source": [
    "clean_df['clean_comment'][0]"
   ]
  },
  {
   "cell_type": "code",
   "execution_count": 25,
   "id": "fc4eb436",
   "metadata": {},
   "outputs": [
    {
     "data": {
      "text/plain": [
       "0.5941"
      ]
     },
     "execution_count": 25,
     "metadata": {},
     "output_type": "execute_result"
    }
   ],
   "source": [
    "vader.polarity_scores(clean_df['clean_comment'][0])['compound']"
   ]
  },
  {
   "cell_type": "code",
   "execution_count": 306,
   "id": "7c2c165e",
   "metadata": {},
   "outputs": [],
   "source": [
    "def unsupervised_prediction(clean_text):\n",
    "    sentiment = vader.polarity_scores(clean_text)['compound']\n",
    "    lw = rw = 0\n",
    "    clean_text = clean_text.lower()\n",
    "    for t in left_terms:\n",
    "        if re.search(r'\\b'+t+r'\\b', clean_text):\n",
    "            lw += 1\n",
    "    for t in right_terms:\n",
    "        if re.search(r'\\b'+t+r'\\b', clean_text):\n",
    "            rw += 1\n",
    "    \n",
    "    score = (rw-lw)*sentiment\n",
    "    # normalize by length of text\n",
    "    score /= len(clean_text.split())/20\n",
    "    \n",
    "    return score"
   ]
  },
  {
   "cell_type": "code",
   "execution_count": 307,
   "id": "2da0e3df",
   "metadata": {},
   "outputs": [
    {
     "data": {
      "text/html": [
       "<div>\n",
       "<style scoped>\n",
       "    .dataframe tbody tr th:only-of-type {\n",
       "        vertical-align: middle;\n",
       "    }\n",
       "\n",
       "    .dataframe tbody tr th {\n",
       "        vertical-align: top;\n",
       "    }\n",
       "\n",
       "    .dataframe thead th {\n",
       "        text-align: right;\n",
       "    }\n",
       "</style>\n",
       "<table border=\"1\" class=\"dataframe\">\n",
       "  <thead>\n",
       "    <tr style=\"text-align: right;\">\n",
       "      <th></th>\n",
       "      <th>clean_title</th>\n",
       "      <th>clean_comment</th>\n",
       "      <th>url</th>\n",
       "      <th>avg_score</th>\n",
       "      <th>target</th>\n",
       "      <th>vader_pred</th>\n",
       "    </tr>\n",
       "  </thead>\n",
       "  <tbody>\n",
       "    <tr>\n",
       "      <th>0</th>\n",
       "      <td>Shashi Tharoor Set To Run For Congress Preside...</td>\n",
       "      <td>Extremely valid points but I believe he has th...</td>\n",
       "      <td>/r/india/comments/xif8wm/shashi_tharoor_set_to...</td>\n",
       "      <td>-1.0</td>\n",
       "      <td>-0.50</td>\n",
       "      <td>-0.282905</td>\n",
       "    </tr>\n",
       "    <tr>\n",
       "      <th>1</th>\n",
       "      <td>Yogi government puts Kolkata's image as part o...</td>\n",
       "      <td>Even if the ad was designed by the newspaper t...</td>\n",
       "      <td>/r/india/comments/pmn9o3/yogi_government_puts_...</td>\n",
       "      <td>-1.0</td>\n",
       "      <td>-0.50</td>\n",
       "      <td>-0.000000</td>\n",
       "    </tr>\n",
       "    <tr>\n",
       "      <th>2</th>\n",
       "      <td>An attempt to address the list of \"simplified\"...</td>\n",
       "      <td>Diverse population including Muslims. Welcomin...</td>\n",
       "      <td>/r/india/comments/ebdeup/an_attempt_to_address...</td>\n",
       "      <td>-1.5</td>\n",
       "      <td>-0.75</td>\n",
       "      <td>-0.254370</td>\n",
       "    </tr>\n",
       "    <tr>\n",
       "      <th>3</th>\n",
       "      <td>You guys noticing what's happening in Sri Lanka?</td>\n",
       "      <td>What a joke. They didn't create any propaganda...</td>\n",
       "      <td>/r/india/comments/tt1ryh/you_guys_noticing_wha...</td>\n",
       "      <td>0.0</td>\n",
       "      <td>0.00</td>\n",
       "      <td>-0.000000</td>\n",
       "    </tr>\n",
       "    <tr>\n",
       "      <th>4</th>\n",
       "      <td>Just got abused on the train by a hyper nation...</td>\n",
       "      <td>Ohoo bahut bura laga ye sunke ki aap Undergarm...</td>\n",
       "      <td>/r/india/comments/rh2kcs/just_got_abused_on_th...</td>\n",
       "      <td>-2.0</td>\n",
       "      <td>-1.00</td>\n",
       "      <td>-0.257458</td>\n",
       "    </tr>\n",
       "  </tbody>\n",
       "</table>\n",
       "</div>"
      ],
      "text/plain": [
       "                                         clean_title  \\\n",
       "0  Shashi Tharoor Set To Run For Congress Preside...   \n",
       "1  Yogi government puts Kolkata's image as part o...   \n",
       "2  An attempt to address the list of \"simplified\"...   \n",
       "3   You guys noticing what's happening in Sri Lanka?   \n",
       "4  Just got abused on the train by a hyper nation...   \n",
       "\n",
       "                                       clean_comment  \\\n",
       "0  Extremely valid points but I believe he has th...   \n",
       "1  Even if the ad was designed by the newspaper t...   \n",
       "2  Diverse population including Muslims. Welcomin...   \n",
       "3  What a joke. They didn't create any propaganda...   \n",
       "4  Ohoo bahut bura laga ye sunke ki aap Undergarm...   \n",
       "\n",
       "                                                 url  avg_score  target  \\\n",
       "0  /r/india/comments/xif8wm/shashi_tharoor_set_to...       -1.0   -0.50   \n",
       "1  /r/india/comments/pmn9o3/yogi_government_puts_...       -1.0   -0.50   \n",
       "2  /r/india/comments/ebdeup/an_attempt_to_address...       -1.5   -0.75   \n",
       "3  /r/india/comments/tt1ryh/you_guys_noticing_wha...        0.0    0.00   \n",
       "4  /r/india/comments/rh2kcs/just_got_abused_on_th...       -2.0   -1.00   \n",
       "\n",
       "   vader_pred  \n",
       "0   -0.282905  \n",
       "1   -0.000000  \n",
       "2   -0.254370  \n",
       "3   -0.000000  \n",
       "4   -0.257458  "
      ]
     },
     "execution_count": 307,
     "metadata": {},
     "output_type": "execute_result"
    }
   ],
   "source": [
    "pred_df = clean_df.copy()\n",
    "pred_df['vader_pred'] = pred_df.apply(lambda x: unsupervised_prediction(x['clean_comment']), axis=1)\n",
    "pred_df.head()"
   ]
  },
  {
   "cell_type": "code",
   "execution_count": 72,
   "id": "653e2d95",
   "metadata": {},
   "outputs": [],
   "source": [
    "def conv_to_label(val, threshold=0.25):\n",
    "    if abs(val)<threshold:\n",
    "        return 0.\n",
    "    else:\n",
    "        return np.sign(val)"
   ]
  },
  {
   "cell_type": "code",
   "execution_count": 308,
   "id": "63ebea31",
   "metadata": {},
   "outputs": [
    {
     "data": {
      "text/html": [
       "<div>\n",
       "<style scoped>\n",
       "    .dataframe tbody tr th:only-of-type {\n",
       "        vertical-align: middle;\n",
       "    }\n",
       "\n",
       "    .dataframe tbody tr th {\n",
       "        vertical-align: top;\n",
       "    }\n",
       "\n",
       "    .dataframe thead th {\n",
       "        text-align: right;\n",
       "    }\n",
       "</style>\n",
       "<table border=\"1\" class=\"dataframe\">\n",
       "  <thead>\n",
       "    <tr style=\"text-align: right;\">\n",
       "      <th></th>\n",
       "      <th>clean_title</th>\n",
       "      <th>clean_comment</th>\n",
       "      <th>url</th>\n",
       "      <th>avg_score</th>\n",
       "      <th>target</th>\n",
       "      <th>vader_pred</th>\n",
       "      <th>y_true</th>\n",
       "      <th>y_pred</th>\n",
       "    </tr>\n",
       "  </thead>\n",
       "  <tbody>\n",
       "    <tr>\n",
       "      <th>0</th>\n",
       "      <td>Shashi Tharoor Set To Run For Congress Preside...</td>\n",
       "      <td>Extremely valid points but I believe he has th...</td>\n",
       "      <td>/r/india/comments/xif8wm/shashi_tharoor_set_to...</td>\n",
       "      <td>-1.0</td>\n",
       "      <td>-0.50</td>\n",
       "      <td>-0.282905</td>\n",
       "      <td>-1.0</td>\n",
       "      <td>-1.0</td>\n",
       "    </tr>\n",
       "    <tr>\n",
       "      <th>1</th>\n",
       "      <td>Yogi government puts Kolkata's image as part o...</td>\n",
       "      <td>Even if the ad was designed by the newspaper t...</td>\n",
       "      <td>/r/india/comments/pmn9o3/yogi_government_puts_...</td>\n",
       "      <td>-1.0</td>\n",
       "      <td>-0.50</td>\n",
       "      <td>-0.000000</td>\n",
       "      <td>-1.0</td>\n",
       "      <td>0.0</td>\n",
       "    </tr>\n",
       "    <tr>\n",
       "      <th>2</th>\n",
       "      <td>An attempt to address the list of \"simplified\"...</td>\n",
       "      <td>Diverse population including Muslims. Welcomin...</td>\n",
       "      <td>/r/india/comments/ebdeup/an_attempt_to_address...</td>\n",
       "      <td>-1.5</td>\n",
       "      <td>-0.75</td>\n",
       "      <td>-0.254370</td>\n",
       "      <td>-1.0</td>\n",
       "      <td>-1.0</td>\n",
       "    </tr>\n",
       "    <tr>\n",
       "      <th>3</th>\n",
       "      <td>You guys noticing what's happening in Sri Lanka?</td>\n",
       "      <td>What a joke. They didn't create any propaganda...</td>\n",
       "      <td>/r/india/comments/tt1ryh/you_guys_noticing_wha...</td>\n",
       "      <td>0.0</td>\n",
       "      <td>0.00</td>\n",
       "      <td>-0.000000</td>\n",
       "      <td>0.0</td>\n",
       "      <td>0.0</td>\n",
       "    </tr>\n",
       "    <tr>\n",
       "      <th>4</th>\n",
       "      <td>Just got abused on the train by a hyper nation...</td>\n",
       "      <td>Ohoo bahut bura laga ye sunke ki aap Undergarm...</td>\n",
       "      <td>/r/india/comments/rh2kcs/just_got_abused_on_th...</td>\n",
       "      <td>-2.0</td>\n",
       "      <td>-1.00</td>\n",
       "      <td>-0.257458</td>\n",
       "      <td>-1.0</td>\n",
       "      <td>-1.0</td>\n",
       "    </tr>\n",
       "  </tbody>\n",
       "</table>\n",
       "</div>"
      ],
      "text/plain": [
       "                                         clean_title  \\\n",
       "0  Shashi Tharoor Set To Run For Congress Preside...   \n",
       "1  Yogi government puts Kolkata's image as part o...   \n",
       "2  An attempt to address the list of \"simplified\"...   \n",
       "3   You guys noticing what's happening in Sri Lanka?   \n",
       "4  Just got abused on the train by a hyper nation...   \n",
       "\n",
       "                                       clean_comment  \\\n",
       "0  Extremely valid points but I believe he has th...   \n",
       "1  Even if the ad was designed by the newspaper t...   \n",
       "2  Diverse population including Muslims. Welcomin...   \n",
       "3  What a joke. They didn't create any propaganda...   \n",
       "4  Ohoo bahut bura laga ye sunke ki aap Undergarm...   \n",
       "\n",
       "                                                 url  avg_score  target  \\\n",
       "0  /r/india/comments/xif8wm/shashi_tharoor_set_to...       -1.0   -0.50   \n",
       "1  /r/india/comments/pmn9o3/yogi_government_puts_...       -1.0   -0.50   \n",
       "2  /r/india/comments/ebdeup/an_attempt_to_address...       -1.5   -0.75   \n",
       "3  /r/india/comments/tt1ryh/you_guys_noticing_wha...        0.0    0.00   \n",
       "4  /r/india/comments/rh2kcs/just_got_abused_on_th...       -2.0   -1.00   \n",
       "\n",
       "   vader_pred  y_true  y_pred  \n",
       "0   -0.282905    -1.0    -1.0  \n",
       "1   -0.000000    -1.0     0.0  \n",
       "2   -0.254370    -1.0    -1.0  \n",
       "3   -0.000000     0.0     0.0  \n",
       "4   -0.257458    -1.0    -1.0  "
      ]
     },
     "execution_count": 308,
     "metadata": {},
     "output_type": "execute_result"
    }
   ],
   "source": [
    "pred_df['y_true'] = pred_df.apply(lambda x: np.sign(x['target']), axis=1)\n",
    "pred_df['y_pred'] = pred_df.apply(lambda x: conv_to_label(x['vader_pred'], threshold=0.2), axis=1)\n",
    "pred_df.head()"
   ]
  },
  {
   "cell_type": "code",
   "execution_count": 309,
   "id": "9906cf50",
   "metadata": {},
   "outputs": [
    {
     "data": {
      "text/plain": [
       "0.450587084148728"
      ]
     },
     "execution_count": 309,
     "metadata": {},
     "output_type": "execute_result"
    }
   ],
   "source": [
    "np.mean(pred_df['y_true']==pred_df['y_pred'])  # 3-class accuracy"
   ]
  },
  {
   "cell_type": "code",
   "execution_count": null,
   "id": "08e215b0",
   "metadata": {},
   "outputs": [],
   "source": []
  },
  {
   "cell_type": "code",
   "execution_count": null,
   "id": "60a7f318",
   "metadata": {},
   "outputs": [],
   "source": []
  },
  {
   "cell_type": "code",
   "execution_count": null,
   "id": "bc807e90",
   "metadata": {},
   "outputs": [],
   "source": []
  },
  {
   "cell_type": "code",
   "execution_count": null,
   "id": "fe590203",
   "metadata": {},
   "outputs": [],
   "source": []
  },
  {
   "cell_type": "code",
   "execution_count": 267,
   "id": "da4ffc6f",
   "metadata": {},
   "outputs": [],
   "source": [
    "def feature_extraction(clean_text):\n",
    "    clean_text = clean_text.lower()\n",
    "    features = []\n",
    "    for t in left_terms:\n",
    "        features.append(len(re.findall(r'\\b'+t+r'\\b', clean_text)))\n",
    "    for t in right_terms:\n",
    "        features.append(len(re.findall(r'\\b'+t+r'\\b', clean_text)))\n",
    "    \n",
    "    return features"
   ]
  },
  {
   "cell_type": "code",
   "execution_count": 268,
   "id": "51061255",
   "metadata": {
    "scrolled": true
   },
   "outputs": [
    {
     "data": {
      "text/plain": [
       "[0,\n",
       " 0,\n",
       " 0,\n",
       " 0,\n",
       " 0,\n",
       " 1,\n",
       " 0,\n",
       " 0,\n",
       " 0,\n",
       " 0,\n",
       " 0,\n",
       " 0,\n",
       " 0,\n",
       " 0,\n",
       " 0,\n",
       " 0,\n",
       " 0,\n",
       " 0,\n",
       " 0,\n",
       " 0,\n",
       " 0,\n",
       " 0,\n",
       " 0,\n",
       " 0,\n",
       " 0,\n",
       " 0,\n",
       " 0,\n",
       " 0,\n",
       " 0,\n",
       " 0,\n",
       " 0,\n",
       " 0,\n",
       " 0,\n",
       " 0,\n",
       " 0,\n",
       " 0,\n",
       " 0,\n",
       " 0,\n",
       " 0,\n",
       " 0,\n",
       " 0,\n",
       " 0,\n",
       " 0,\n",
       " 0,\n",
       " 0,\n",
       " 0,\n",
       " 0,\n",
       " 0,\n",
       " 0,\n",
       " 0,\n",
       " 0,\n",
       " 0,\n",
       " 0,\n",
       " 0,\n",
       " 0,\n",
       " 0,\n",
       " 0,\n",
       " 0,\n",
       " 0,\n",
       " 0,\n",
       " 0,\n",
       " 0,\n",
       " 0,\n",
       " 0,\n",
       " 0,\n",
       " 0,\n",
       " 0,\n",
       " 0,\n",
       " 0,\n",
       " 0,\n",
       " 0,\n",
       " 0,\n",
       " 0,\n",
       " 0,\n",
       " 0,\n",
       " 0,\n",
       " 0,\n",
       " 0,\n",
       " 0,\n",
       " 0,\n",
       " 0,\n",
       " 0,\n",
       " 0,\n",
       " 0,\n",
       " 0,\n",
       " 0,\n",
       " 0,\n",
       " 0,\n",
       " 0,\n",
       " 0,\n",
       " 0,\n",
       " 0,\n",
       " 0,\n",
       " 0,\n",
       " 0,\n",
       " 0,\n",
       " 0,\n",
       " 0,\n",
       " 0,\n",
       " 0,\n",
       " 0,\n",
       " 0,\n",
       " 0]"
      ]
     },
     "execution_count": 268,
     "metadata": {},
     "output_type": "execute_result"
    }
   ],
   "source": [
    "feature_extraction(clean_df['clean_comment'][0])"
   ]
  },
  {
   "cell_type": "code",
   "execution_count": 189,
   "id": "3c3b89f8",
   "metadata": {},
   "outputs": [],
   "source": [
    "def add_sentiment_features(clean_text, extracted_feat):\n",
    "    temp = extracted_feat.copy()\n",
    "    temp.append(vader.polarity_scores(clean_text)['compound'])\n",
    "    tb = TextBlob(clean_text)\n",
    "    temp.append(tb.sentiment.polarity)\n",
    "    temp.append(tb.sentiment.subjectivity)\n",
    "    return temp"
   ]
  },
  {
   "cell_type": "code",
   "execution_count": 120,
   "id": "14c9a476",
   "metadata": {},
   "outputs": [
    {
     "data": {
      "text/html": [
       "<div>\n",
       "<style scoped>\n",
       "    .dataframe tbody tr th:only-of-type {\n",
       "        vertical-align: middle;\n",
       "    }\n",
       "\n",
       "    .dataframe tbody tr th {\n",
       "        vertical-align: top;\n",
       "    }\n",
       "\n",
       "    .dataframe thead th {\n",
       "        text-align: right;\n",
       "    }\n",
       "</style>\n",
       "<table border=\"1\" class=\"dataframe\">\n",
       "  <thead>\n",
       "    <tr style=\"text-align: right;\">\n",
       "      <th></th>\n",
       "      <th>clean_title</th>\n",
       "      <th>clean_comment</th>\n",
       "      <th>url</th>\n",
       "      <th>avg_score</th>\n",
       "      <th>target</th>\n",
       "      <th>extracted_features</th>\n",
       "      <th>final_features</th>\n",
       "    </tr>\n",
       "  </thead>\n",
       "  <tbody>\n",
       "    <tr>\n",
       "      <th>0</th>\n",
       "      <td>Shashi Tharoor Set To Run For Congress Preside...</td>\n",
       "      <td>Extremely valid points but I believe he has th...</td>\n",
       "      <td>/r/india/comments/xif8wm/shashi_tharoor_set_to...</td>\n",
       "      <td>-1.0</td>\n",
       "      <td>-0.50</td>\n",
       "      <td>[0, 0, 0, 0, 0, 1, 0, 0, 0, 0, 0, 0, 0, 0, 0, ...</td>\n",
       "      <td>[0, 0, 0, 0, 0, 1, 0, 0, 0, 0, 0, 0, 0, 0, 0, ...</td>\n",
       "    </tr>\n",
       "    <tr>\n",
       "      <th>1</th>\n",
       "      <td>Yogi government puts Kolkata's image as part o...</td>\n",
       "      <td>Even if the ad was designed by the newspaper t...</td>\n",
       "      <td>/r/india/comments/pmn9o3/yogi_government_puts_...</td>\n",
       "      <td>-1.0</td>\n",
       "      <td>-0.50</td>\n",
       "      <td>[0, 0, 0, 0, 0, 0, 0, 0, 0, 0, 0, 0, 0, 0, 0, ...</td>\n",
       "      <td>[0, 0, 0, 0, 0, 0, 0, 0, 0, 0, 0, 0, 0, 0, 0, ...</td>\n",
       "    </tr>\n",
       "    <tr>\n",
       "      <th>2</th>\n",
       "      <td>An attempt to address the list of \"simplified\"...</td>\n",
       "      <td>Diverse population including Muslims. Welcomin...</td>\n",
       "      <td>/r/india/comments/ebdeup/an_attempt_to_address...</td>\n",
       "      <td>-1.5</td>\n",
       "      <td>-0.75</td>\n",
       "      <td>[0, 0, 0, 0, 0, 0, 0, 0, 0, 0, 0, 0, 0, 0, 0, ...</td>\n",
       "      <td>[0, 0, 0, 0, 0, 0, 0, 0, 0, 0, 0, 0, 0, 0, 0, ...</td>\n",
       "    </tr>\n",
       "    <tr>\n",
       "      <th>3</th>\n",
       "      <td>You guys noticing what's happening in Sri Lanka?</td>\n",
       "      <td>What a joke. They didn't create any propaganda...</td>\n",
       "      <td>/r/india/comments/tt1ryh/you_guys_noticing_wha...</td>\n",
       "      <td>0.0</td>\n",
       "      <td>0.00</td>\n",
       "      <td>[0, 0, 0, 0, 0, 0, 0, 0, 0, 0, 0, 0, 0, 0, 0, ...</td>\n",
       "      <td>[0, 0, 0, 0, 0, 0, 0, 0, 0, 0, 0, 0, 0, 0, 0, ...</td>\n",
       "    </tr>\n",
       "    <tr>\n",
       "      <th>4</th>\n",
       "      <td>Just got abused on the train by a hyper nation...</td>\n",
       "      <td>Ohoo bahut bura laga ye sunke ki aap Undergarm...</td>\n",
       "      <td>/r/india/comments/rh2kcs/just_got_abused_on_th...</td>\n",
       "      <td>-2.0</td>\n",
       "      <td>-1.00</td>\n",
       "      <td>[0, 0, 0, 0, 0, 0, 0, 0, 0, 0, 0, 0, 0, 0, 0, ...</td>\n",
       "      <td>[0, 0, 0, 0, 0, 0, 0, 0, 0, 0, 0, 0, 0, 0, 0, ...</td>\n",
       "    </tr>\n",
       "    <tr>\n",
       "      <th>...</th>\n",
       "      <td>...</td>\n",
       "      <td>...</td>\n",
       "      <td>...</td>\n",
       "      <td>...</td>\n",
       "      <td>...</td>\n",
       "      <td>...</td>\n",
       "      <td>...</td>\n",
       "    </tr>\n",
       "    <tr>\n",
       "      <th>2040</th>\n",
       "      <td>An attempt to address the list of \"simplified\"...</td>\n",
       "      <td>They dont have to prove persecution. It will b...</td>\n",
       "      <td>/r/india/comments/ebdeup/an_attempt_to_address...</td>\n",
       "      <td>0.0</td>\n",
       "      <td>0.00</td>\n",
       "      <td>[0, 0, 0, 0, 0, 0, 0, 0, 0, 0, 0, 0, 0, 0, 0, ...</td>\n",
       "      <td>[0, 0, 0, 0, 0, 0, 0, 0, 0, 0, 0, 0, 0, 0, 0, ...</td>\n",
       "    </tr>\n",
       "    <tr>\n",
       "      <th>2041</th>\n",
       "      <td>ResignModi trending in India on 1 with 200k tw...</td>\n",
       "      <td>Both parties are busy in just fighting and win...</td>\n",
       "      <td>/r/india/comments/n11sqc/resignmodi_trending_i...</td>\n",
       "      <td>1.0</td>\n",
       "      <td>0.50</td>\n",
       "      <td>[0, 0, 0, 0, 0, 0, 0, 0, 0, 0, 0, 0, 0, 0, 0, ...</td>\n",
       "      <td>[0, 0, 0, 0, 0, 0, 0, 0, 0, 0, 0, 0, 0, 0, 0, ...</td>\n",
       "    </tr>\n",
       "    <tr>\n",
       "      <th>2042</th>\n",
       "      <td>Suresh Chavanke Not a Dalit Sikh but a Christi...</td>\n",
       "      <td>My main point is that separatist movement isn'...</td>\n",
       "      <td>/r/IndiaSpeaks/comments/prtiwo/suresh_chavanke...</td>\n",
       "      <td>-1.0</td>\n",
       "      <td>-0.50</td>\n",
       "      <td>[0, 0, 0, 0, 0, 0, 0, 0, 0, 0, 0, 1, 0, 0, 0, ...</td>\n",
       "      <td>[0, 0, 0, 0, 0, 0, 0, 0, 0, 0, 0, 1, 0, 0, 0, ...</td>\n",
       "    </tr>\n",
       "    <tr>\n",
       "      <th>2043</th>\n",
       "      <td>Bahut jagah hai arey nahin jagah hai.. ft. CON...</td>\n",
       "      <td>when the opposition become so incompetent...Mo...</td>\n",
       "      <td>/r/IndiaSpeaks/comments/w8ib4s/bahut_jagah_hai...</td>\n",
       "      <td>1.5</td>\n",
       "      <td>0.75</td>\n",
       "      <td>[0, 0, 0, 0, 0, 0, 0, 0, 0, 0, 0, 0, 0, 0, 0, ...</td>\n",
       "      <td>[0, 0, 0, 0, 0, 0, 0, 0, 0, 0, 0, 0, 0, 0, 0, ...</td>\n",
       "    </tr>\n",
       "    <tr>\n",
       "      <th>2044</th>\n",
       "      <td>Priorities of respective governments</td>\n",
       "      <td>Haha, yeah! 3 sides surrounded by water and an...</td>\n",
       "      <td>/r/india/comments/l6t78h/priorities_of_respect...</td>\n",
       "      <td>0.0</td>\n",
       "      <td>0.00</td>\n",
       "      <td>[0, 0, 0, 0, 0, 0, 0, 0, 0, 0, 0, 0, 0, 0, 0, ...</td>\n",
       "      <td>[0, 0, 0, 0, 0, 0, 0, 0, 0, 0, 0, 0, 0, 0, 0, ...</td>\n",
       "    </tr>\n",
       "  </tbody>\n",
       "</table>\n",
       "<p>2044 rows × 7 columns</p>\n",
       "</div>"
      ],
      "text/plain": [
       "                                            clean_title  \\\n",
       "0     Shashi Tharoor Set To Run For Congress Preside...   \n",
       "1     Yogi government puts Kolkata's image as part o...   \n",
       "2     An attempt to address the list of \"simplified\"...   \n",
       "3      You guys noticing what's happening in Sri Lanka?   \n",
       "4     Just got abused on the train by a hyper nation...   \n",
       "...                                                 ...   \n",
       "2040  An attempt to address the list of \"simplified\"...   \n",
       "2041  ResignModi trending in India on 1 with 200k tw...   \n",
       "2042  Suresh Chavanke Not a Dalit Sikh but a Christi...   \n",
       "2043  Bahut jagah hai arey nahin jagah hai.. ft. CON...   \n",
       "2044               Priorities of respective governments   \n",
       "\n",
       "                                          clean_comment  \\\n",
       "0     Extremely valid points but I believe he has th...   \n",
       "1     Even if the ad was designed by the newspaper t...   \n",
       "2     Diverse population including Muslims. Welcomin...   \n",
       "3     What a joke. They didn't create any propaganda...   \n",
       "4     Ohoo bahut bura laga ye sunke ki aap Undergarm...   \n",
       "...                                                 ...   \n",
       "2040  They dont have to prove persecution. It will b...   \n",
       "2041  Both parties are busy in just fighting and win...   \n",
       "2042  My main point is that separatist movement isn'...   \n",
       "2043  when the opposition become so incompetent...Mo...   \n",
       "2044  Haha, yeah! 3 sides surrounded by water and an...   \n",
       "\n",
       "                                                    url  avg_score  target  \\\n",
       "0     /r/india/comments/xif8wm/shashi_tharoor_set_to...       -1.0   -0.50   \n",
       "1     /r/india/comments/pmn9o3/yogi_government_puts_...       -1.0   -0.50   \n",
       "2     /r/india/comments/ebdeup/an_attempt_to_address...       -1.5   -0.75   \n",
       "3     /r/india/comments/tt1ryh/you_guys_noticing_wha...        0.0    0.00   \n",
       "4     /r/india/comments/rh2kcs/just_got_abused_on_th...       -2.0   -1.00   \n",
       "...                                                 ...        ...     ...   \n",
       "2040  /r/india/comments/ebdeup/an_attempt_to_address...        0.0    0.00   \n",
       "2041  /r/india/comments/n11sqc/resignmodi_trending_i...        1.0    0.50   \n",
       "2042  /r/IndiaSpeaks/comments/prtiwo/suresh_chavanke...       -1.0   -0.50   \n",
       "2043  /r/IndiaSpeaks/comments/w8ib4s/bahut_jagah_hai...        1.5    0.75   \n",
       "2044  /r/india/comments/l6t78h/priorities_of_respect...        0.0    0.00   \n",
       "\n",
       "                                     extracted_features  \\\n",
       "0     [0, 0, 0, 0, 0, 1, 0, 0, 0, 0, 0, 0, 0, 0, 0, ...   \n",
       "1     [0, 0, 0, 0, 0, 0, 0, 0, 0, 0, 0, 0, 0, 0, 0, ...   \n",
       "2     [0, 0, 0, 0, 0, 0, 0, 0, 0, 0, 0, 0, 0, 0, 0, ...   \n",
       "3     [0, 0, 0, 0, 0, 0, 0, 0, 0, 0, 0, 0, 0, 0, 0, ...   \n",
       "4     [0, 0, 0, 0, 0, 0, 0, 0, 0, 0, 0, 0, 0, 0, 0, ...   \n",
       "...                                                 ...   \n",
       "2040  [0, 0, 0, 0, 0, 0, 0, 0, 0, 0, 0, 0, 0, 0, 0, ...   \n",
       "2041  [0, 0, 0, 0, 0, 0, 0, 0, 0, 0, 0, 0, 0, 0, 0, ...   \n",
       "2042  [0, 0, 0, 0, 0, 0, 0, 0, 0, 0, 0, 1, 0, 0, 0, ...   \n",
       "2043  [0, 0, 0, 0, 0, 0, 0, 0, 0, 0, 0, 0, 0, 0, 0, ...   \n",
       "2044  [0, 0, 0, 0, 0, 0, 0, 0, 0, 0, 0, 0, 0, 0, 0, ...   \n",
       "\n",
       "                                         final_features  \n",
       "0     [0, 0, 0, 0, 0, 1, 0, 0, 0, 0, 0, 0, 0, 0, 0, ...  \n",
       "1     [0, 0, 0, 0, 0, 0, 0, 0, 0, 0, 0, 0, 0, 0, 0, ...  \n",
       "2     [0, 0, 0, 0, 0, 0, 0, 0, 0, 0, 0, 0, 0, 0, 0, ...  \n",
       "3     [0, 0, 0, 0, 0, 0, 0, 0, 0, 0, 0, 0, 0, 0, 0, ...  \n",
       "4     [0, 0, 0, 0, 0, 0, 0, 0, 0, 0, 0, 0, 0, 0, 0, ...  \n",
       "...                                                 ...  \n",
       "2040  [0, 0, 0, 0, 0, 0, 0, 0, 0, 0, 0, 0, 0, 0, 0, ...  \n",
       "2041  [0, 0, 0, 0, 0, 0, 0, 0, 0, 0, 0, 0, 0, 0, 0, ...  \n",
       "2042  [0, 0, 0, 0, 0, 0, 0, 0, 0, 0, 0, 1, 0, 0, 0, ...  \n",
       "2043  [0, 0, 0, 0, 0, 0, 0, 0, 0, 0, 0, 0, 0, 0, 0, ...  \n",
       "2044  [0, 0, 0, 0, 0, 0, 0, 0, 0, 0, 0, 0, 0, 0, 0, ...  \n",
       "\n",
       "[2044 rows x 7 columns]"
      ]
     },
     "execution_count": 120,
     "metadata": {},
     "output_type": "execute_result"
    }
   ],
   "source": [
    "feature_df = clean_df.copy()\n",
    "feature_df['extracted_features'] = feature_df.apply(lambda x: feature_extraction(x['clean_comment']), axis=1)\n",
    "feature_df['final_features'] = feature_df.apply(lambda x: add_sentiment_features(x['clean_comment'], x['extracted_features']), axis=1)\n",
    "feature_df"
   ]
  },
  {
   "cell_type": "code",
   "execution_count": 121,
   "id": "a8834fe9",
   "metadata": {},
   "outputs": [],
   "source": [
    "X_train, X_test, y_train, y_test = train_test_split(list(feature_df['final_features']), list(feature_df['target']), test_size = 0.2, random_state = 123)"
   ]
  },
  {
   "cell_type": "code",
   "execution_count": 122,
   "id": "2da4117d",
   "metadata": {},
   "outputs": [
    {
     "data": {
      "text/plain": [
       "0.41188267362749953"
      ]
     },
     "execution_count": 122,
     "metadata": {},
     "output_type": "execute_result"
    }
   ],
   "source": [
    "xgb = xg.XGBRegressor(n_estimators=100, max_depth=4, learning_rate=0.05)\n",
    "xgb.fit(X_train, y_train)\n",
    "y_pred = xgb.predict(X_test)\n",
    "np.sqrt(mean_squared_error(y_test, y_pred))"
   ]
  },
  {
   "cell_type": "code",
   "execution_count": null,
   "id": "81fe7140",
   "metadata": {},
   "outputs": [],
   "source": []
  },
  {
   "cell_type": "code",
   "execution_count": 269,
   "id": "2d0b7700",
   "metadata": {},
   "outputs": [
    {
     "data": {
      "text/html": [
       "<div>\n",
       "<style scoped>\n",
       "    .dataframe tbody tr th:only-of-type {\n",
       "        vertical-align: middle;\n",
       "    }\n",
       "\n",
       "    .dataframe tbody tr th {\n",
       "        vertical-align: top;\n",
       "    }\n",
       "\n",
       "    .dataframe thead th {\n",
       "        text-align: right;\n",
       "    }\n",
       "</style>\n",
       "<table border=\"1\" class=\"dataframe\">\n",
       "  <thead>\n",
       "    <tr style=\"text-align: right;\">\n",
       "      <th></th>\n",
       "      <th>clean_title</th>\n",
       "      <th>clean_comment</th>\n",
       "      <th>url</th>\n",
       "      <th>avg_score</th>\n",
       "      <th>target</th>\n",
       "      <th>extracted_features</th>\n",
       "      <th>pca_features</th>\n",
       "    </tr>\n",
       "  </thead>\n",
       "  <tbody>\n",
       "    <tr>\n",
       "      <th>0</th>\n",
       "      <td>Shashi Tharoor Set To Run For Congress Preside...</td>\n",
       "      <td>Extremely valid points but I believe he has th...</td>\n",
       "      <td>/r/india/comments/xif8wm/shashi_tharoor_set_to...</td>\n",
       "      <td>-1.0</td>\n",
       "      <td>-0.50</td>\n",
       "      <td>[0, 0, 0, 0, 0, 1, 0, 0, 0, 0, 0, 0, 0, 0, 0, ...</td>\n",
       "      <td>[-0.23297564254883493, -0.13876301901895569, 0...</td>\n",
       "    </tr>\n",
       "    <tr>\n",
       "      <th>1</th>\n",
       "      <td>Yogi government puts Kolkata's image as part o...</td>\n",
       "      <td>Even if the ad was designed by the newspaper t...</td>\n",
       "      <td>/r/india/comments/pmn9o3/yogi_government_puts_...</td>\n",
       "      <td>-1.0</td>\n",
       "      <td>-0.50</td>\n",
       "      <td>[0, 0, 0, 0, 0, 0, 0, 0, 0, 0, 0, 0, 0, 0, 0, ...</td>\n",
       "      <td>[-0.23515893815269628, -0.13195145112349999, -...</td>\n",
       "    </tr>\n",
       "    <tr>\n",
       "      <th>2</th>\n",
       "      <td>An attempt to address the list of \"simplified\"...</td>\n",
       "      <td>Diverse population including Muslims. Welcomin...</td>\n",
       "      <td>/r/india/comments/ebdeup/an_attempt_to_address...</td>\n",
       "      <td>-1.5</td>\n",
       "      <td>-0.75</td>\n",
       "      <td>[0, 0, 0, 0, 0, 0, 0, 0, 0, 0, 0, 0, 0, 0, 0, ...</td>\n",
       "      <td>[-0.20015210423580698, -0.05676285540707755, -...</td>\n",
       "    </tr>\n",
       "    <tr>\n",
       "      <th>3</th>\n",
       "      <td>You guys noticing what's happening in Sri Lanka?</td>\n",
       "      <td>What a joke. They didn't create any propaganda...</td>\n",
       "      <td>/r/india/comments/tt1ryh/you_guys_noticing_wha...</td>\n",
       "      <td>0.0</td>\n",
       "      <td>0.00</td>\n",
       "      <td>[0, 0, 0, 0, 0, 0, 0, 0, 0, 0, 0, 0, 0, 0, 0, ...</td>\n",
       "      <td>[-0.23515893815269623, -0.13195145112349838, -...</td>\n",
       "    </tr>\n",
       "    <tr>\n",
       "      <th>4</th>\n",
       "      <td>Just got abused on the train by a hyper nation...</td>\n",
       "      <td>Ohoo bahut bura laga ye sunke ki aap Undergarm...</td>\n",
       "      <td>/r/india/comments/rh2kcs/just_got_abused_on_th...</td>\n",
       "      <td>-2.0</td>\n",
       "      <td>-1.00</td>\n",
       "      <td>[0, 0, 0, 0, 0, 0, 0, 0, 0, 0, 0, 0, 0, 0, 0, ...</td>\n",
       "      <td>[-0.15069254877229663, -0.13615278613879428, -...</td>\n",
       "    </tr>\n",
       "  </tbody>\n",
       "</table>\n",
       "</div>"
      ],
      "text/plain": [
       "                                         clean_title  \\\n",
       "0  Shashi Tharoor Set To Run For Congress Preside...   \n",
       "1  Yogi government puts Kolkata's image as part o...   \n",
       "2  An attempt to address the list of \"simplified\"...   \n",
       "3   You guys noticing what's happening in Sri Lanka?   \n",
       "4  Just got abused on the train by a hyper nation...   \n",
       "\n",
       "                                       clean_comment  \\\n",
       "0  Extremely valid points but I believe he has th...   \n",
       "1  Even if the ad was designed by the newspaper t...   \n",
       "2  Diverse population including Muslims. Welcomin...   \n",
       "3  What a joke. They didn't create any propaganda...   \n",
       "4  Ohoo bahut bura laga ye sunke ki aap Undergarm...   \n",
       "\n",
       "                                                 url  avg_score  target  \\\n",
       "0  /r/india/comments/xif8wm/shashi_tharoor_set_to...       -1.0   -0.50   \n",
       "1  /r/india/comments/pmn9o3/yogi_government_puts_...       -1.0   -0.50   \n",
       "2  /r/india/comments/ebdeup/an_attempt_to_address...       -1.5   -0.75   \n",
       "3  /r/india/comments/tt1ryh/you_guys_noticing_wha...        0.0    0.00   \n",
       "4  /r/india/comments/rh2kcs/just_got_abused_on_th...       -2.0   -1.00   \n",
       "\n",
       "                                  extracted_features  \\\n",
       "0  [0, 0, 0, 0, 0, 1, 0, 0, 0, 0, 0, 0, 0, 0, 0, ...   \n",
       "1  [0, 0, 0, 0, 0, 0, 0, 0, 0, 0, 0, 0, 0, 0, 0, ...   \n",
       "2  [0, 0, 0, 0, 0, 0, 0, 0, 0, 0, 0, 0, 0, 0, 0, ...   \n",
       "3  [0, 0, 0, 0, 0, 0, 0, 0, 0, 0, 0, 0, 0, 0, 0, ...   \n",
       "4  [0, 0, 0, 0, 0, 0, 0, 0, 0, 0, 0, 0, 0, 0, 0, ...   \n",
       "\n",
       "                                        pca_features  \n",
       "0  [-0.23297564254883493, -0.13876301901895569, 0...  \n",
       "1  [-0.23515893815269628, -0.13195145112349999, -...  \n",
       "2  [-0.20015210423580698, -0.05676285540707755, -...  \n",
       "3  [-0.23515893815269623, -0.13195145112349838, -...  \n",
       "4  [-0.15069254877229663, -0.13615278613879428, -...  "
      ]
     },
     "execution_count": 269,
     "metadata": {},
     "output_type": "execute_result"
    }
   ],
   "source": [
    "pca = PCA(n_components=8)\n",
    "feature_df = clean_df.copy()\n",
    "feature_df['extracted_features'] = feature_df.apply(lambda x: feature_extraction(x['clean_comment']), axis=1)\n",
    "feature_df['pca_features'] = pca.fit_transform(list(feature_df['extracted_features'])).tolist()\n",
    "feature_df.head()"
   ]
  },
  {
   "cell_type": "code",
   "execution_count": 270,
   "id": "60e1bb2f",
   "metadata": {},
   "outputs": [
    {
     "data": {
      "text/html": [
       "<div>\n",
       "<style scoped>\n",
       "    .dataframe tbody tr th:only-of-type {\n",
       "        vertical-align: middle;\n",
       "    }\n",
       "\n",
       "    .dataframe tbody tr th {\n",
       "        vertical-align: top;\n",
       "    }\n",
       "\n",
       "    .dataframe thead th {\n",
       "        text-align: right;\n",
       "    }\n",
       "</style>\n",
       "<table border=\"1\" class=\"dataframe\">\n",
       "  <thead>\n",
       "    <tr style=\"text-align: right;\">\n",
       "      <th></th>\n",
       "      <th>clean_title</th>\n",
       "      <th>clean_comment</th>\n",
       "      <th>url</th>\n",
       "      <th>avg_score</th>\n",
       "      <th>target</th>\n",
       "      <th>extracted_features</th>\n",
       "      <th>pca_features</th>\n",
       "      <th>final_features</th>\n",
       "    </tr>\n",
       "  </thead>\n",
       "  <tbody>\n",
       "    <tr>\n",
       "      <th>0</th>\n",
       "      <td>Shashi Tharoor Set To Run For Congress Preside...</td>\n",
       "      <td>Extremely valid points but I believe he has th...</td>\n",
       "      <td>/r/india/comments/xif8wm/shashi_tharoor_set_to...</td>\n",
       "      <td>-1.0</td>\n",
       "      <td>-0.50</td>\n",
       "      <td>[0, 0, 0, 0, 0, 1, 0, 0, 0, 0, 0, 0, 0, 0, 0, ...</td>\n",
       "      <td>[-0.23297564254883493, -0.13876301901895569, 0...</td>\n",
       "      <td>[-0.23297564254883493, -0.13876301901895569, 0...</td>\n",
       "    </tr>\n",
       "    <tr>\n",
       "      <th>1</th>\n",
       "      <td>Yogi government puts Kolkata's image as part o...</td>\n",
       "      <td>Even if the ad was designed by the newspaper t...</td>\n",
       "      <td>/r/india/comments/pmn9o3/yogi_government_puts_...</td>\n",
       "      <td>-1.0</td>\n",
       "      <td>-0.50</td>\n",
       "      <td>[0, 0, 0, 0, 0, 0, 0, 0, 0, 0, 0, 0, 0, 0, 0, ...</td>\n",
       "      <td>[-0.23515893815269628, -0.13195145112349999, -...</td>\n",
       "      <td>[-0.23515893815269628, -0.13195145112349999, -...</td>\n",
       "    </tr>\n",
       "    <tr>\n",
       "      <th>2</th>\n",
       "      <td>An attempt to address the list of \"simplified\"...</td>\n",
       "      <td>Diverse population including Muslims. Welcomin...</td>\n",
       "      <td>/r/india/comments/ebdeup/an_attempt_to_address...</td>\n",
       "      <td>-1.5</td>\n",
       "      <td>-0.75</td>\n",
       "      <td>[0, 0, 0, 0, 0, 0, 0, 0, 0, 0, 0, 0, 0, 0, 0, ...</td>\n",
       "      <td>[-0.20015210423580698, -0.05676285540707755, -...</td>\n",
       "      <td>[-0.20015210423580698, -0.05676285540707755, -...</td>\n",
       "    </tr>\n",
       "    <tr>\n",
       "      <th>3</th>\n",
       "      <td>You guys noticing what's happening in Sri Lanka?</td>\n",
       "      <td>What a joke. They didn't create any propaganda...</td>\n",
       "      <td>/r/india/comments/tt1ryh/you_guys_noticing_wha...</td>\n",
       "      <td>0.0</td>\n",
       "      <td>0.00</td>\n",
       "      <td>[0, 0, 0, 0, 0, 0, 0, 0, 0, 0, 0, 0, 0, 0, 0, ...</td>\n",
       "      <td>[-0.23515893815269623, -0.13195145112349838, -...</td>\n",
       "      <td>[-0.23515893815269623, -0.13195145112349838, -...</td>\n",
       "    </tr>\n",
       "    <tr>\n",
       "      <th>4</th>\n",
       "      <td>Just got abused on the train by a hyper nation...</td>\n",
       "      <td>Ohoo bahut bura laga ye sunke ki aap Undergarm...</td>\n",
       "      <td>/r/india/comments/rh2kcs/just_got_abused_on_th...</td>\n",
       "      <td>-2.0</td>\n",
       "      <td>-1.00</td>\n",
       "      <td>[0, 0, 0, 0, 0, 0, 0, 0, 0, 0, 0, 0, 0, 0, 0, ...</td>\n",
       "      <td>[-0.15069254877229663, -0.13615278613879428, -...</td>\n",
       "      <td>[-0.15069254877229663, -0.13615278613879428, -...</td>\n",
       "    </tr>\n",
       "  </tbody>\n",
       "</table>\n",
       "</div>"
      ],
      "text/plain": [
       "                                         clean_title  \\\n",
       "0  Shashi Tharoor Set To Run For Congress Preside...   \n",
       "1  Yogi government puts Kolkata's image as part o...   \n",
       "2  An attempt to address the list of \"simplified\"...   \n",
       "3   You guys noticing what's happening in Sri Lanka?   \n",
       "4  Just got abused on the train by a hyper nation...   \n",
       "\n",
       "                                       clean_comment  \\\n",
       "0  Extremely valid points but I believe he has th...   \n",
       "1  Even if the ad was designed by the newspaper t...   \n",
       "2  Diverse population including Muslims. Welcomin...   \n",
       "3  What a joke. They didn't create any propaganda...   \n",
       "4  Ohoo bahut bura laga ye sunke ki aap Undergarm...   \n",
       "\n",
       "                                                 url  avg_score  target  \\\n",
       "0  /r/india/comments/xif8wm/shashi_tharoor_set_to...       -1.0   -0.50   \n",
       "1  /r/india/comments/pmn9o3/yogi_government_puts_...       -1.0   -0.50   \n",
       "2  /r/india/comments/ebdeup/an_attempt_to_address...       -1.5   -0.75   \n",
       "3  /r/india/comments/tt1ryh/you_guys_noticing_wha...        0.0    0.00   \n",
       "4  /r/india/comments/rh2kcs/just_got_abused_on_th...       -2.0   -1.00   \n",
       "\n",
       "                                  extracted_features  \\\n",
       "0  [0, 0, 0, 0, 0, 1, 0, 0, 0, 0, 0, 0, 0, 0, 0, ...   \n",
       "1  [0, 0, 0, 0, 0, 0, 0, 0, 0, 0, 0, 0, 0, 0, 0, ...   \n",
       "2  [0, 0, 0, 0, 0, 0, 0, 0, 0, 0, 0, 0, 0, 0, 0, ...   \n",
       "3  [0, 0, 0, 0, 0, 0, 0, 0, 0, 0, 0, 0, 0, 0, 0, ...   \n",
       "4  [0, 0, 0, 0, 0, 0, 0, 0, 0, 0, 0, 0, 0, 0, 0, ...   \n",
       "\n",
       "                                        pca_features  \\\n",
       "0  [-0.23297564254883493, -0.13876301901895569, 0...   \n",
       "1  [-0.23515893815269628, -0.13195145112349999, -...   \n",
       "2  [-0.20015210423580698, -0.05676285540707755, -...   \n",
       "3  [-0.23515893815269623, -0.13195145112349838, -...   \n",
       "4  [-0.15069254877229663, -0.13615278613879428, -...   \n",
       "\n",
       "                                      final_features  \n",
       "0  [-0.23297564254883493, -0.13876301901895569, 0...  \n",
       "1  [-0.23515893815269628, -0.13195145112349999, -...  \n",
       "2  [-0.20015210423580698, -0.05676285540707755, -...  \n",
       "3  [-0.23515893815269623, -0.13195145112349838, -...  \n",
       "4  [-0.15069254877229663, -0.13615278613879428, -...  "
      ]
     },
     "execution_count": 270,
     "metadata": {},
     "output_type": "execute_result"
    }
   ],
   "source": [
    "feature_df['final_features'] = feature_df.apply(lambda x: add_sentiment_features(x['clean_comment'], x['pca_features']), axis=1)\n",
    "feature_df.head()"
   ]
  },
  {
   "cell_type": "code",
   "execution_count": 153,
   "id": "ffd6ba39",
   "metadata": {},
   "outputs": [],
   "source": [
    "def convert_to_classifier(targets, preds, threshold=1/3):\n",
    "    new_targets = [np.sign(x) for x in targets]\n",
    "    new_preds = [np.sign(x) if abs(x)>threshold else 0. for x in preds]\n",
    "    return new_targets, new_preds"
   ]
  },
  {
   "cell_type": "code",
   "execution_count": 192,
   "id": "7d101c47",
   "metadata": {},
   "outputs": [
    {
     "data": {
      "text/plain": [
       "0.4196762246523906"
      ]
     },
     "execution_count": 192,
     "metadata": {},
     "output_type": "execute_result"
    }
   ],
   "source": [
    "X_train, X_test, y_train, y_test = train_test_split(list(feature_df['final_features']), list(feature_df['target']), test_size = 0.2, random_state = 123)\n",
    "xgb = xg.XGBRegressor(n_estimators=100, max_depth=4, learning_rate=0.05)\n",
    "xgb.fit(X_train, y_train)\n",
    "y_pred = xgb.predict(X_test)\n",
    "np.sqrt(mean_squared_error(y_test, y_pred))"
   ]
  },
  {
   "cell_type": "code",
   "execution_count": 193,
   "id": "5fce80dd",
   "metadata": {},
   "outputs": [
    {
     "data": {
      "text/plain": [
       "0.5036674816625917"
      ]
     },
     "execution_count": 193,
     "metadata": {},
     "output_type": "execute_result"
    }
   ],
   "source": [
    "new_y_test, new_y_pred = convert_to_classifier(y_test, y_pred, threshold=0.08)\n",
    "np.mean([int(new_y_test[i]==new_y_pred[i]) for i in range(len(new_y_test))])"
   ]
  },
  {
   "cell_type": "code",
   "execution_count": null,
   "id": "04f512da",
   "metadata": {},
   "outputs": [],
   "source": []
  },
  {
   "cell_type": "code",
   "execution_count": 311,
   "id": "15fbb1cf",
   "metadata": {},
   "outputs": [
    {
     "data": {
      "text/plain": [
       "0.508557457212714"
      ]
     },
     "execution_count": 311,
     "metadata": {},
     "output_type": "execute_result"
    }
   ],
   "source": [
    "X_train, X_test, y_train, y_test = train_test_split(list(feature_df['final_features']), [np.sign(x)+1 for x in list(feature_df['target'])], test_size = 0.2, random_state = 123)\n",
    "xgb = xg.XGBClassifier(n_estimators=100, max_depth=4, learning_rate=0.005)\n",
    "xgb.fit(X_train, y_train)\n",
    "y_pred = xgb.predict(X_test)\n",
    "np.mean([int(y_test[i]==y_pred[i]) for i in range(len(y_test))])"
   ]
  },
  {
   "cell_type": "code",
   "execution_count": 281,
   "id": "a6f7045a",
   "metadata": {},
   "outputs": [
    {
     "data": {
      "text/plain": [
       "array([[ 58,  72,  10],\n",
       "       [ 31, 134,   7],\n",
       "       [ 27,  54,  16]], dtype=int64)"
      ]
     },
     "execution_count": 281,
     "metadata": {},
     "output_type": "execute_result"
    }
   ],
   "source": [
    "confusion_matrix(y_test, y_pred)"
   ]
  },
  {
   "cell_type": "code",
   "execution_count": 282,
   "id": "b6e12803",
   "metadata": {},
   "outputs": [
    {
     "name": "stdout",
     "output_type": "stream",
     "text": [
      "              precision    recall  f1-score   support\n",
      "\n",
      "        Left       0.50      0.41      0.45       140\n",
      "     Neutral       0.52      0.78      0.62       172\n",
      "       Right       0.48      0.16      0.25        97\n",
      "\n",
      "    accuracy                           0.51       409\n",
      "   macro avg       0.50      0.45      0.44       409\n",
      "weighted avg       0.50      0.51      0.47       409\n",
      "\n"
     ]
    }
   ],
   "source": [
    "print(classification_report(y_test, y_pred, target_names=['Left', 'Neutral', 'Right']))"
   ]
  },
  {
   "cell_type": "code",
   "execution_count": null,
   "id": "0464603a",
   "metadata": {},
   "outputs": [],
   "source": []
  },
  {
   "cell_type": "markdown",
   "id": "86c0ac90",
   "metadata": {},
   "source": [
    "##"
   ]
  },
  {
   "cell_type": "code",
   "execution_count": null,
   "id": "06c47c9c",
   "metadata": {},
   "outputs": [],
   "source": []
  },
  {
   "cell_type": "code",
   "execution_count": null,
   "id": "5900bff6",
   "metadata": {},
   "outputs": [],
   "source": []
  },
  {
   "cell_type": "code",
   "execution_count": null,
   "id": "20668ba0",
   "metadata": {},
   "outputs": [],
   "source": []
  },
  {
   "cell_type": "code",
   "execution_count": null,
   "id": "cf95b7cf",
   "metadata": {},
   "outputs": [],
   "source": []
  },
  {
   "cell_type": "code",
   "execution_count": null,
   "id": "d0ec4ed7",
   "metadata": {},
   "outputs": [],
   "source": []
  },
  {
   "cell_type": "code",
   "execution_count": null,
   "id": "d6a4c968",
   "metadata": {},
   "outputs": [],
   "source": []
  },
  {
   "cell_type": "code",
   "execution_count": null,
   "id": "5d69c5a4",
   "metadata": {},
   "outputs": [],
   "source": []
  },
  {
   "cell_type": "code",
   "execution_count": null,
   "id": "7f9abdb3",
   "metadata": {},
   "outputs": [],
   "source": []
  },
  {
   "cell_type": "markdown",
   "id": "9b485bfb",
   "metadata": {},
   "source": [
    "## Binary classification"
   ]
  },
  {
   "cell_type": "code",
   "execution_count": 216,
   "id": "83cfd686",
   "metadata": {},
   "outputs": [
    {
     "data": {
      "text/html": [
       "<div>\n",
       "<style scoped>\n",
       "    .dataframe tbody tr th:only-of-type {\n",
       "        vertical-align: middle;\n",
       "    }\n",
       "\n",
       "    .dataframe tbody tr th {\n",
       "        vertical-align: top;\n",
       "    }\n",
       "\n",
       "    .dataframe thead th {\n",
       "        text-align: right;\n",
       "    }\n",
       "</style>\n",
       "<table border=\"1\" class=\"dataframe\">\n",
       "  <thead>\n",
       "    <tr style=\"text-align: right;\">\n",
       "      <th></th>\n",
       "      <th>clean_title</th>\n",
       "      <th>clean_comment</th>\n",
       "      <th>url</th>\n",
       "      <th>avg_score</th>\n",
       "      <th>target</th>\n",
       "      <th>extracted_features</th>\n",
       "      <th>pca_features</th>\n",
       "      <th>final_features</th>\n",
       "    </tr>\n",
       "  </thead>\n",
       "  <tbody>\n",
       "    <tr>\n",
       "      <th>0</th>\n",
       "      <td>Shashi Tharoor Set To Run For Congress Preside...</td>\n",
       "      <td>Extremely valid points but I believe he has th...</td>\n",
       "      <td>/r/india/comments/xif8wm/shashi_tharoor_set_to...</td>\n",
       "      <td>-1.0</td>\n",
       "      <td>-0.50</td>\n",
       "      <td>[0, 0, 0, 0, 0, 1, 0, 0, 0, 0, 0, 0, 0, 0, 0, ...</td>\n",
       "      <td>[-0.3234842281799675, -0.1535394331148085, -0....</td>\n",
       "      <td>[-0.3234842281799675, -0.1535394331148085, -0....</td>\n",
       "    </tr>\n",
       "    <tr>\n",
       "      <th>1</th>\n",
       "      <td>Yogi government puts Kolkata's image as part o...</td>\n",
       "      <td>Even if the ad was designed by the newspaper t...</td>\n",
       "      <td>/r/india/comments/pmn9o3/yogi_government_puts_...</td>\n",
       "      <td>-1.0</td>\n",
       "      <td>-0.50</td>\n",
       "      <td>[0, 0, 0, 0, 0, 0, 0, 0, 0, 0, 0, 0, 0, 0, 0, ...</td>\n",
       "      <td>[-0.3209315480018639, -0.14966917135297017, -0...</td>\n",
       "      <td>[-0.3209315480018639, -0.14966917135297017, -0...</td>\n",
       "    </tr>\n",
       "    <tr>\n",
       "      <th>2</th>\n",
       "      <td>An attempt to address the list of \"simplified\"...</td>\n",
       "      <td>Diverse population including Muslims. Welcomin...</td>\n",
       "      <td>/r/india/comments/ebdeup/an_attempt_to_address...</td>\n",
       "      <td>-1.5</td>\n",
       "      <td>-0.75</td>\n",
       "      <td>[0, 0, 0, 0, 0, 0, 0, 0, 0, 0, 0, 0, 0, 0, 0, ...</td>\n",
       "      <td>[-0.3046462399679741, -0.07725001302534959, 0....</td>\n",
       "      <td>[-0.3046462399679741, -0.07725001302534959, 0....</td>\n",
       "    </tr>\n",
       "    <tr>\n",
       "      <th>3</th>\n",
       "      <td>Just got abused on the train by a hyper nation...</td>\n",
       "      <td>Ohoo bahut bura laga ye sunke ki aap Undergarm...</td>\n",
       "      <td>/r/india/comments/rh2kcs/just_got_abused_on_th...</td>\n",
       "      <td>-2.0</td>\n",
       "      <td>-1.00</td>\n",
       "      <td>[0, 0, 0, 0, 0, 0, 0, 0, 0, 0, 0, 0, 0, 0, 0, ...</td>\n",
       "      <td>[-0.24153951013944386, -0.1863100882540193, -0...</td>\n",
       "      <td>[-0.24153951013944386, -0.1863100882540193, -0...</td>\n",
       "    </tr>\n",
       "    <tr>\n",
       "      <th>4</th>\n",
       "      <td>Defeat BJP Mission Uttar Pradesh,' Farmers to ...</td>\n",
       "      <td>Not really. As the country has seen for the la...</td>\n",
       "      <td>/r/india/comments/nmyqu4/defeat_bjp_mission_ut...</td>\n",
       "      <td>-2.0</td>\n",
       "      <td>-1.00</td>\n",
       "      <td>[0, 0, 0, 0, 0, 0, 0, 0, 0, 0, 0, 0, 0, 0, 0, ...</td>\n",
       "      <td>[0.5873634681978407, -0.3885404504189382, 0.24...</td>\n",
       "      <td>[0.5873634681978407, -0.3885404504189382, 0.24...</td>\n",
       "    </tr>\n",
       "    <tr>\n",
       "      <th>...</th>\n",
       "      <td>...</td>\n",
       "      <td>...</td>\n",
       "      <td>...</td>\n",
       "      <td>...</td>\n",
       "      <td>...</td>\n",
       "      <td>...</td>\n",
       "      <td>...</td>\n",
       "      <td>...</td>\n",
       "    </tr>\n",
       "    <tr>\n",
       "      <th>1188</th>\n",
       "      <td>BJP Gujarat 2022 Manifesto.</td>\n",
       "      <td>this is why bjp wins and would keep winning, r...</td>\n",
       "      <td>/r/IndiaSpeaks/comments/z5u6kf/bjp_gujarat_202...</td>\n",
       "      <td>2.0</td>\n",
       "      <td>1.00</td>\n",
       "      <td>[0, 0, 0, 0, 0, 0, 0, 0, 0, 0, 0, 0, 0, 0, 0, ...</td>\n",
       "      <td>[0.9493788158936218, 0.0938133025320356, -0.30...</td>\n",
       "      <td>[0.9493788158936218, 0.0938133025320356, -0.30...</td>\n",
       "    </tr>\n",
       "    <tr>\n",
       "      <th>1189</th>\n",
       "      <td>Kejriwal says The Kashmir Files is a jhoothi f...</td>\n",
       "      <td>Mujhe ghanta fark nahi padta. Ghabrana tujhe h...</td>\n",
       "      <td>/r/IndiaSpeaks/comments/tmhqqg/kejriwal_says_t...</td>\n",
       "      <td>1.5</td>\n",
       "      <td>0.75</td>\n",
       "      <td>[0, 0, 0, 0, 0, 0, 0, 0, 0, 0, 0, 0, 0, 0, 0, ...</td>\n",
       "      <td>[-0.3209315480018639, -0.14966917135296984, -0...</td>\n",
       "      <td>[-0.3209315480018639, -0.14966917135296984, -0...</td>\n",
       "    </tr>\n",
       "    <tr>\n",
       "      <th>1190</th>\n",
       "      <td>ResignModi trending in India on 1 with 200k tw...</td>\n",
       "      <td>Both parties are busy in just fighting and win...</td>\n",
       "      <td>/r/india/comments/n11sqc/resignmodi_trending_i...</td>\n",
       "      <td>1.0</td>\n",
       "      <td>0.50</td>\n",
       "      <td>[0, 0, 0, 0, 0, 0, 0, 0, 0, 0, 0, 0, 0, 0, 0, ...</td>\n",
       "      <td>[0.6101148015384652, -0.42920286864883467, 0.2...</td>\n",
       "      <td>[0.6101148015384652, -0.42920286864883467, 0.2...</td>\n",
       "    </tr>\n",
       "    <tr>\n",
       "      <th>1191</th>\n",
       "      <td>Suresh Chavanke Not a Dalit Sikh but a Christi...</td>\n",
       "      <td>My main point is that separatist movement isn'...</td>\n",
       "      <td>/r/IndiaSpeaks/comments/prtiwo/suresh_chavanke...</td>\n",
       "      <td>-1.0</td>\n",
       "      <td>-0.50</td>\n",
       "      <td>[0, 0, 0, 0, 0, 0, 0, 0, 0, 0, 0, 1, 0, 0, 0, ...</td>\n",
       "      <td>[-0.36731868940660556, 0.44877057569072865, 0....</td>\n",
       "      <td>[-0.36731868940660556, 0.44877057569072865, 0....</td>\n",
       "    </tr>\n",
       "    <tr>\n",
       "      <th>1192</th>\n",
       "      <td>Bahut jagah hai arey nahin jagah hai.. ft. CON...</td>\n",
       "      <td>when the opposition become so incompetent...Mo...</td>\n",
       "      <td>/r/IndiaSpeaks/comments/w8ib4s/bahut_jagah_hai...</td>\n",
       "      <td>1.5</td>\n",
       "      <td>0.75</td>\n",
       "      <td>[0, 0, 0, 0, 0, 0, 0, 0, 0, 0, 0, 0, 0, 0, 0, ...</td>\n",
       "      <td>[0.8478221341080189, 0.0007985165312074118, -0...</td>\n",
       "      <td>[0.8478221341080189, 0.0007985165312074118, -0...</td>\n",
       "    </tr>\n",
       "  </tbody>\n",
       "</table>\n",
       "<p>1193 rows × 8 columns</p>\n",
       "</div>"
      ],
      "text/plain": [
       "                                            clean_title  \\\n",
       "0     Shashi Tharoor Set To Run For Congress Preside...   \n",
       "1     Yogi government puts Kolkata's image as part o...   \n",
       "2     An attempt to address the list of \"simplified\"...   \n",
       "3     Just got abused on the train by a hyper nation...   \n",
       "4     Defeat BJP Mission Uttar Pradesh,' Farmers to ...   \n",
       "...                                                 ...   \n",
       "1188                        BJP Gujarat 2022 Manifesto.   \n",
       "1189  Kejriwal says The Kashmir Files is a jhoothi f...   \n",
       "1190  ResignModi trending in India on 1 with 200k tw...   \n",
       "1191  Suresh Chavanke Not a Dalit Sikh but a Christi...   \n",
       "1192  Bahut jagah hai arey nahin jagah hai.. ft. CON...   \n",
       "\n",
       "                                          clean_comment  \\\n",
       "0     Extremely valid points but I believe he has th...   \n",
       "1     Even if the ad was designed by the newspaper t...   \n",
       "2     Diverse population including Muslims. Welcomin...   \n",
       "3     Ohoo bahut bura laga ye sunke ki aap Undergarm...   \n",
       "4     Not really. As the country has seen for the la...   \n",
       "...                                                 ...   \n",
       "1188  this is why bjp wins and would keep winning, r...   \n",
       "1189  Mujhe ghanta fark nahi padta. Ghabrana tujhe h...   \n",
       "1190  Both parties are busy in just fighting and win...   \n",
       "1191  My main point is that separatist movement isn'...   \n",
       "1192  when the opposition become so incompetent...Mo...   \n",
       "\n",
       "                                                    url  avg_score  target  \\\n",
       "0     /r/india/comments/xif8wm/shashi_tharoor_set_to...       -1.0   -0.50   \n",
       "1     /r/india/comments/pmn9o3/yogi_government_puts_...       -1.0   -0.50   \n",
       "2     /r/india/comments/ebdeup/an_attempt_to_address...       -1.5   -0.75   \n",
       "3     /r/india/comments/rh2kcs/just_got_abused_on_th...       -2.0   -1.00   \n",
       "4     /r/india/comments/nmyqu4/defeat_bjp_mission_ut...       -2.0   -1.00   \n",
       "...                                                 ...        ...     ...   \n",
       "1188  /r/IndiaSpeaks/comments/z5u6kf/bjp_gujarat_202...        2.0    1.00   \n",
       "1189  /r/IndiaSpeaks/comments/tmhqqg/kejriwal_says_t...        1.5    0.75   \n",
       "1190  /r/india/comments/n11sqc/resignmodi_trending_i...        1.0    0.50   \n",
       "1191  /r/IndiaSpeaks/comments/prtiwo/suresh_chavanke...       -1.0   -0.50   \n",
       "1192  /r/IndiaSpeaks/comments/w8ib4s/bahut_jagah_hai...        1.5    0.75   \n",
       "\n",
       "                                     extracted_features  \\\n",
       "0     [0, 0, 0, 0, 0, 1, 0, 0, 0, 0, 0, 0, 0, 0, 0, ...   \n",
       "1     [0, 0, 0, 0, 0, 0, 0, 0, 0, 0, 0, 0, 0, 0, 0, ...   \n",
       "2     [0, 0, 0, 0, 0, 0, 0, 0, 0, 0, 0, 0, 0, 0, 0, ...   \n",
       "3     [0, 0, 0, 0, 0, 0, 0, 0, 0, 0, 0, 0, 0, 0, 0, ...   \n",
       "4     [0, 0, 0, 0, 0, 0, 0, 0, 0, 0, 0, 0, 0, 0, 0, ...   \n",
       "...                                                 ...   \n",
       "1188  [0, 0, 0, 0, 0, 0, 0, 0, 0, 0, 0, 0, 0, 0, 0, ...   \n",
       "1189  [0, 0, 0, 0, 0, 0, 0, 0, 0, 0, 0, 0, 0, 0, 0, ...   \n",
       "1190  [0, 0, 0, 0, 0, 0, 0, 0, 0, 0, 0, 0, 0, 0, 0, ...   \n",
       "1191  [0, 0, 0, 0, 0, 0, 0, 0, 0, 0, 0, 1, 0, 0, 0, ...   \n",
       "1192  [0, 0, 0, 0, 0, 0, 0, 0, 0, 0, 0, 0, 0, 0, 0, ...   \n",
       "\n",
       "                                           pca_features  \\\n",
       "0     [-0.3234842281799675, -0.1535394331148085, -0....   \n",
       "1     [-0.3209315480018639, -0.14966917135297017, -0...   \n",
       "2     [-0.3046462399679741, -0.07725001302534959, 0....   \n",
       "3     [-0.24153951013944386, -0.1863100882540193, -0...   \n",
       "4     [0.5873634681978407, -0.3885404504189382, 0.24...   \n",
       "...                                                 ...   \n",
       "1188  [0.9493788158936218, 0.0938133025320356, -0.30...   \n",
       "1189  [-0.3209315480018639, -0.14966917135296984, -0...   \n",
       "1190  [0.6101148015384652, -0.42920286864883467, 0.2...   \n",
       "1191  [-0.36731868940660556, 0.44877057569072865, 0....   \n",
       "1192  [0.8478221341080189, 0.0007985165312074118, -0...   \n",
       "\n",
       "                                         final_features  \n",
       "0     [-0.3234842281799675, -0.1535394331148085, -0....  \n",
       "1     [-0.3209315480018639, -0.14966917135297017, -0...  \n",
       "2     [-0.3046462399679741, -0.07725001302534959, 0....  \n",
       "3     [-0.24153951013944386, -0.1863100882540193, -0...  \n",
       "4     [0.5873634681978407, -0.3885404504189382, 0.24...  \n",
       "...                                                 ...  \n",
       "1188  [0.9493788158936218, 0.0938133025320356, -0.30...  \n",
       "1189  [-0.3209315480018639, -0.14966917135296984, -0...  \n",
       "1190  [0.6101148015384652, -0.42920286864883467, 0.2...  \n",
       "1191  [-0.36731868940660556, 0.44877057569072865, 0....  \n",
       "1192  [0.8478221341080189, 0.0007985165312074118, -0...  \n",
       "\n",
       "[1193 rows x 8 columns]"
      ]
     },
     "execution_count": 216,
     "metadata": {},
     "output_type": "execute_result"
    }
   ],
   "source": [
    "pca = PCA(n_components=8)\n",
    "feature_df = clean_df[clean_df['target']!=0].copy()\n",
    "feature_df.reset_index(inplace=True, drop=True)\n",
    "feature_df['extracted_features'] = feature_df.apply(lambda x: feature_extraction(x['clean_comment']), axis=1)\n",
    "feature_df['pca_features'] = pca.fit_transform(list(feature_df['extracted_features'])).tolist()\n",
    "feature_df['final_features'] = feature_df.apply(lambda x: add_sentiment_features(x['clean_comment'], x['pca_features']), axis=1)\n",
    "feature_df"
   ]
  },
  {
   "cell_type": "code",
   "execution_count": 317,
   "id": "8905fa0f",
   "metadata": {},
   "outputs": [
    {
     "data": {
      "text/plain": [
       "0.7408312958435208"
      ]
     },
     "execution_count": 317,
     "metadata": {},
     "output_type": "execute_result"
    }
   ],
   "source": [
    "X_train, X_test, y_train, y_test = train_test_split(list(feature_df['final_features']), [1 if x>0 else 0 for x in list(feature_df['target'])], test_size = 0.2, random_state = 123)\n",
    "xgb = xg.XGBClassifier(n_estimators=100, max_depth=10, learning_rate=0.1)\n",
    "xgb.fit(X_train, y_train)\n",
    "y_pred = xgb.predict(X_test)\n",
    "np.mean([int(y_test[i]==y_pred[i]) for i in range(len(y_test))])"
   ]
  },
  {
   "cell_type": "code",
   "execution_count": 248,
   "id": "2da592b1",
   "metadata": {},
   "outputs": [
    {
     "data": {
      "text/plain": [
       "array([[87, 35],\n",
       "       [70, 47]], dtype=int64)"
      ]
     },
     "execution_count": 248,
     "metadata": {},
     "output_type": "execute_result"
    }
   ],
   "source": [
    "confusion_matrix(y_test, y_pred)"
   ]
  },
  {
   "cell_type": "code",
   "execution_count": 249,
   "id": "dd03e49b",
   "metadata": {},
   "outputs": [
    {
     "name": "stdout",
     "output_type": "stream",
     "text": [
      "              precision    recall  f1-score   support\n",
      "\n",
      "           0       0.55      0.71      0.62       122\n",
      "           1       0.57      0.40      0.47       117\n",
      "\n",
      "    accuracy                           0.56       239\n",
      "   macro avg       0.56      0.56      0.55       239\n",
      "weighted avg       0.56      0.56      0.55       239\n",
      "\n"
     ]
    }
   ],
   "source": [
    "print(classification_report(y_test, y_pred))"
   ]
  },
  {
   "cell_type": "code",
   "execution_count": null,
   "id": "dc77dc25",
   "metadata": {},
   "outputs": [],
   "source": []
  }
 ],
 "metadata": {
  "kernelspec": {
   "display_name": "Python 3",
   "language": "python",
   "name": "python3"
  },
  "language_info": {
   "codemirror_mode": {
    "name": "ipython",
    "version": 3
   },
   "file_extension": ".py",
   "mimetype": "text/x-python",
   "name": "python",
   "nbconvert_exporter": "python",
   "pygments_lexer": "ipython3",
   "version": "3.8.8"
  }
 },
 "nbformat": 4,
 "nbformat_minor": 5
}
