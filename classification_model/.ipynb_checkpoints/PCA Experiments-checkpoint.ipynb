{
 "cells": [
  {
   "cell_type": "code",
   "execution_count": 1,
   "id": "daac8f59",
   "metadata": {},
   "outputs": [
    {
     "data": {
      "text/plain": [
       "device(type='cuda')"
      ]
     },
     "execution_count": 1,
     "metadata": {},
     "output_type": "execute_result"
    }
   ],
   "source": [
    "import numpy as np\n",
    "import pandas as pd\n",
    "import matplotlib.pyplot as plt\n",
    "import re\n",
    "import json\n",
    "import xgboost as xg\n",
    "from sklearn.model_selection import train_test_split\n",
    "from sklearn.metrics import mean_squared_error, r2_score\n",
    "from sklearn.preprocessing import StandardScaler\n",
    "from sklearn import linear_model\n",
    "import torch\n",
    "from torch import nn\n",
    "device = torch.device('cuda' if torch.cuda.is_available() else 'cpu')\n",
    "device"
   ]
  },
  {
   "cell_type": "code",
   "execution_count": 17,
   "id": "6d6873ff",
   "metadata": {},
   "outputs": [
    {
     "name": "stderr",
     "output_type": "stream",
     "text": [
      "[nltk_data] Downloading package vader_lexicon to\n",
      "[nltk_data]     C:\\Users\\iyeng\\AppData\\Roaming\\nltk_data...\n"
     ]
    },
    {
     "data": {
      "text/plain": [
       "True"
      ]
     },
     "execution_count": 17,
     "metadata": {},
     "output_type": "execute_result"
    }
   ],
   "source": [
    "import nltk\n",
    "from nltk.sentiment import SentimentIntensityAnalyzer\n",
    "nltk.download('vader_lexicon')"
   ]
  },
  {
   "cell_type": "code",
   "execution_count": 196,
   "id": "eb28c1fe",
   "metadata": {},
   "outputs": [],
   "source": [
    "from sklearn.decomposition import PCA\n",
    "from textblob import TextBlob\n",
    "from sklearn.metrics import confusion_matrix\n",
    "from sklearn.metrics import classification_report"
   ]
  },
  {
   "cell_type": "code",
   "execution_count": 2,
   "id": "de469fab",
   "metadata": {},
   "outputs": [
    {
     "name": "stdout",
     "output_type": "stream",
     "text": [
      "<class 'pandas.core.frame.DataFrame'>\n",
      "Int64Index: 2044 entries, 0 to 2044\n",
      "Data columns (total 5 columns):\n",
      " #   Column         Non-Null Count  Dtype  \n",
      "---  ------         --------------  -----  \n",
      " 0   clean_title    2044 non-null   object \n",
      " 1   clean_comment  2044 non-null   object \n",
      " 2   url            2044 non-null   object \n",
      " 3   avg_score      2044 non-null   float64\n",
      " 4   target         2044 non-null   float64\n",
      "dtypes: float64(2), object(3)\n",
      "memory usage: 95.8+ KB\n"
     ]
    }
   ],
   "source": [
    "clean_df = pd.read_csv(\"cleaned_subset.csv\")\n",
    "clean_df.dropna(inplace=True)\n",
    "clean_df['target'] = clean_df['avg_score']/2\n",
    "clean_df.info()"
   ]
  },
  {
   "cell_type": "code",
   "execution_count": null,
   "id": "eb899187",
   "metadata": {},
   "outputs": [],
   "source": [
    "# X_train, X_test, y_train, y_test = train_test_split(clean_df['clean_comment'], clean_df['target'], test_size = 0.2, random_state = 123)\n"
   ]
  },
  {
   "cell_type": "code",
   "execution_count": null,
   "id": "f74a6ee6",
   "metadata": {},
   "outputs": [],
   "source": []
  },
  {
   "cell_type": "code",
   "execution_count": null,
   "id": "e6c3eddb",
   "metadata": {},
   "outputs": [],
   "source": []
  },
  {
   "cell_type": "markdown",
   "id": "732fe0ab",
   "metadata": {},
   "source": [
    "## Custom models"
   ]
  },
  {
   "cell_type": "code",
   "execution_count": 739,
   "id": "6ee23a26",
   "metadata": {},
   "outputs": [],
   "source": [
    "right = \"\"\"right wing, RW, authority, hierarchy, order, duty, tradition, reaction, nationalism, conservative, right-libertarian, \\\n",
    "neoconservative, imperialist, monarchist, fascist, reactionaries, traditionalist, traditional, death penalty, \\\n",
    "religion, Bhajpa, BJP, Shiv Sena, RSS, MNS, Sanatan, dharm, Hindutva, Islamophobia, Narendra, Modi, Amit, Shah, \\\n",
    "mandir, ram, valmiki, ramayan, Bharatiya, Janata, Democratic Alliance, NDA, AIADMK, Janta Dal, bhakt, CAA, NRC, hindu majority, \\\n",
    "hindu unity, hindu pride, nationalist, sangh, sanghi, yogi, brahmin, brahman, smriti irani, hindu rashtra, jai shri ram, \\\n",
    "pm cares, pmcares, adani, hindu\"\"\".lower()\n",
    "left = \"\"\"left wing, LW, leftists, freedom, equality, fraternity, rights, progress, reform, internationalism, anarchist, communist, socialist, \\\n",
    "democratic socialist, social democrat, left-libertarian, progressive, social, liberal, western, Congress, UPA, RG, mamata, \\\n",
    "Aam, aadmi, AAP, CPI, Welfare, Protectionism, Commies, Rahul, gandhi, indira, yatra, arvind, kejriwal, inclusivity, \\\n",
    "libby, libbies, sjw, libtard, hinduphobia, LGBTQ, masjid, pappu, christian, muslim, secular, minority, minorities, Shashi, Tharoor, \\\n",
    "gay, lesbian, transgender, trans, reservation, abrahamic\"\"\".lower()"
   ]
  },
  {
   "cell_type": "code",
   "execution_count": 740,
   "id": "b974db5a",
   "metadata": {},
   "outputs": [
    {
     "data": {
      "text/plain": [
       "(62, 59)"
      ]
     },
     "execution_count": 740,
     "metadata": {},
     "output_type": "execute_result"
    }
   ],
   "source": [
    "right_terms = set(right.split(', '))\n",
    "left_terms = set(left.split(', '))\n",
    "len(right_terms), len(left_terms)"
   ]
  },
  {
   "cell_type": "code",
   "execution_count": 18,
   "id": "8309adad",
   "metadata": {},
   "outputs": [],
   "source": [
    "vader = SentimentIntensityAnalyzer()"
   ]
  },
  {
   "cell_type": "code",
   "execution_count": 22,
   "id": "89469b5e",
   "metadata": {},
   "outputs": [
    {
     "data": {
      "text/plain": [
       "'Extremely valid points but I believe he has the charisma to win over urban youth who is usually the most apathetic non voter. Although, I would keep my expectations low since Tharoor has a ton of intra party politics to deal with.'"
      ]
     },
     "execution_count": 22,
     "metadata": {},
     "output_type": "execute_result"
    }
   ],
   "source": [
    "clean_df['clean_comment'][0]"
   ]
  },
  {
   "cell_type": "code",
   "execution_count": 25,
   "id": "17ca7a4c",
   "metadata": {},
   "outputs": [
    {
     "data": {
      "text/plain": [
       "0.5941"
      ]
     },
     "execution_count": 25,
     "metadata": {},
     "output_type": "execute_result"
    }
   ],
   "source": [
    "vader.polarity_scores(clean_df['clean_comment'][0])['compound']"
   ]
  },
  {
   "cell_type": "code",
   "execution_count": 651,
   "id": "61f759ec",
   "metadata": {},
   "outputs": [],
   "source": [
    "def unsupervised_prediction(clean_text):\n",
    "    sentiment = vader.polarity_scores(clean_text)['compound']\n",
    "    lw = rw = 0\n",
    "    clean_text = clean_text.lower()\n",
    "    for t in left_terms:\n",
    "        if re.search(r'\\b'+t, clean_text):\n",
    "            lw += 1\n",
    "    for t in right_terms:\n",
    "        if re.search(r'\\b'+t, clean_text):\n",
    "            rw += 1\n",
    "    \n",
    "    score = (rw-lw)*sentiment\n",
    "    # normalize by length of text\n",
    "    score /= len(clean_text.split())/20\n",
    "    \n",
    "    return score"
   ]
  },
  {
   "cell_type": "code",
   "execution_count": 692,
   "id": "0f62bba0",
   "metadata": {},
   "outputs": [
    {
     "data": {
      "text/html": [
       "<div>\n",
       "<style scoped>\n",
       "    .dataframe tbody tr th:only-of-type {\n",
       "        vertical-align: middle;\n",
       "    }\n",
       "\n",
       "    .dataframe tbody tr th {\n",
       "        vertical-align: top;\n",
       "    }\n",
       "\n",
       "    .dataframe thead th {\n",
       "        text-align: right;\n",
       "    }\n",
       "</style>\n",
       "<table border=\"1\" class=\"dataframe\">\n",
       "  <thead>\n",
       "    <tr style=\"text-align: right;\">\n",
       "      <th></th>\n",
       "      <th>clean_title</th>\n",
       "      <th>clean_comment</th>\n",
       "      <th>url</th>\n",
       "      <th>avg_score</th>\n",
       "      <th>target</th>\n",
       "      <th>vader_pred</th>\n",
       "    </tr>\n",
       "  </thead>\n",
       "  <tbody>\n",
       "    <tr>\n",
       "      <th>0</th>\n",
       "      <td>Shashi Tharoor Set To Run For Congress Preside...</td>\n",
       "      <td>Extremely valid points but I believe he has th...</td>\n",
       "      <td>/r/india/comments/xif8wm/shashi_tharoor_set_to...</td>\n",
       "      <td>-1.0</td>\n",
       "      <td>-0.50</td>\n",
       "      <td>-0.282905</td>\n",
       "    </tr>\n",
       "    <tr>\n",
       "      <th>1</th>\n",
       "      <td>Yogi government puts Kolkata's image as part o...</td>\n",
       "      <td>Even if the ad was designed by the newspaper t...</td>\n",
       "      <td>/r/india/comments/pmn9o3/yogi_government_puts_...</td>\n",
       "      <td>-1.0</td>\n",
       "      <td>-0.50</td>\n",
       "      <td>-0.000000</td>\n",
       "    </tr>\n",
       "    <tr>\n",
       "      <th>2</th>\n",
       "      <td>An attempt to address the list of \"simplified\"...</td>\n",
       "      <td>Diverse population including Muslims. Welcomin...</td>\n",
       "      <td>/r/india/comments/ebdeup/an_attempt_to_address...</td>\n",
       "      <td>-1.5</td>\n",
       "      <td>-0.75</td>\n",
       "      <td>-0.508741</td>\n",
       "    </tr>\n",
       "    <tr>\n",
       "      <th>3</th>\n",
       "      <td>You guys noticing what's happening in Sri Lanka?</td>\n",
       "      <td>What a joke. They didn't create any propaganda...</td>\n",
       "      <td>/r/india/comments/tt1ryh/you_guys_noticing_wha...</td>\n",
       "      <td>0.0</td>\n",
       "      <td>0.00</td>\n",
       "      <td>-0.000000</td>\n",
       "    </tr>\n",
       "    <tr>\n",
       "      <th>4</th>\n",
       "      <td>Just got abused on the train by a hyper nation...</td>\n",
       "      <td>Ohoo bahut bura laga ye sunke ki aap Undergarm...</td>\n",
       "      <td>/r/india/comments/rh2kcs/just_got_abused_on_th...</td>\n",
       "      <td>-2.0</td>\n",
       "      <td>-1.00</td>\n",
       "      <td>-0.257458</td>\n",
       "    </tr>\n",
       "  </tbody>\n",
       "</table>\n",
       "</div>"
      ],
      "text/plain": [
       "                                         clean_title  \\\n",
       "0  Shashi Tharoor Set To Run For Congress Preside...   \n",
       "1  Yogi government puts Kolkata's image as part o...   \n",
       "2  An attempt to address the list of \"simplified\"...   \n",
       "3   You guys noticing what's happening in Sri Lanka?   \n",
       "4  Just got abused on the train by a hyper nation...   \n",
       "\n",
       "                                       clean_comment  \\\n",
       "0  Extremely valid points but I believe he has th...   \n",
       "1  Even if the ad was designed by the newspaper t...   \n",
       "2  Diverse population including Muslims. Welcomin...   \n",
       "3  What a joke. They didn't create any propaganda...   \n",
       "4  Ohoo bahut bura laga ye sunke ki aap Undergarm...   \n",
       "\n",
       "                                                 url  avg_score  target  \\\n",
       "0  /r/india/comments/xif8wm/shashi_tharoor_set_to...       -1.0   -0.50   \n",
       "1  /r/india/comments/pmn9o3/yogi_government_puts_...       -1.0   -0.50   \n",
       "2  /r/india/comments/ebdeup/an_attempt_to_address...       -1.5   -0.75   \n",
       "3  /r/india/comments/tt1ryh/you_guys_noticing_wha...        0.0    0.00   \n",
       "4  /r/india/comments/rh2kcs/just_got_abused_on_th...       -2.0   -1.00   \n",
       "\n",
       "   vader_pred  \n",
       "0   -0.282905  \n",
       "1   -0.000000  \n",
       "2   -0.508741  \n",
       "3   -0.000000  \n",
       "4   -0.257458  "
      ]
     },
     "execution_count": 692,
     "metadata": {},
     "output_type": "execute_result"
    }
   ],
   "source": [
    "pred_df = clean_df.copy()\n",
    "pred_df['vader_pred'] = pred_df.apply(lambda x: unsupervised_prediction(x['clean_comment']), axis=1)\n",
    "pred_df.head()"
   ]
  },
  {
   "cell_type": "code",
   "execution_count": 72,
   "id": "a09d25f5",
   "metadata": {},
   "outputs": [],
   "source": [
    "def conv_to_label(val, threshold=0.25):\n",
    "    if abs(val)<threshold:\n",
    "        return 0.\n",
    "    else:\n",
    "        return np.sign(val)"
   ]
  },
  {
   "cell_type": "code",
   "execution_count": 697,
   "id": "5d46fe02",
   "metadata": {},
   "outputs": [
    {
     "data": {
      "text/html": [
       "<div>\n",
       "<style scoped>\n",
       "    .dataframe tbody tr th:only-of-type {\n",
       "        vertical-align: middle;\n",
       "    }\n",
       "\n",
       "    .dataframe tbody tr th {\n",
       "        vertical-align: top;\n",
       "    }\n",
       "\n",
       "    .dataframe thead th {\n",
       "        text-align: right;\n",
       "    }\n",
       "</style>\n",
       "<table border=\"1\" class=\"dataframe\">\n",
       "  <thead>\n",
       "    <tr style=\"text-align: right;\">\n",
       "      <th></th>\n",
       "      <th>clean_title</th>\n",
       "      <th>clean_comment</th>\n",
       "      <th>url</th>\n",
       "      <th>avg_score</th>\n",
       "      <th>target</th>\n",
       "      <th>vader_pred</th>\n",
       "      <th>y_true</th>\n",
       "      <th>y_pred</th>\n",
       "    </tr>\n",
       "  </thead>\n",
       "  <tbody>\n",
       "    <tr>\n",
       "      <th>0</th>\n",
       "      <td>Shashi Tharoor Set To Run For Congress Preside...</td>\n",
       "      <td>Extremely valid points but I believe he has th...</td>\n",
       "      <td>/r/india/comments/xif8wm/shashi_tharoor_set_to...</td>\n",
       "      <td>-1.0</td>\n",
       "      <td>-0.50</td>\n",
       "      <td>-0.282905</td>\n",
       "      <td>-1.0</td>\n",
       "      <td>-1.0</td>\n",
       "    </tr>\n",
       "    <tr>\n",
       "      <th>1</th>\n",
       "      <td>Yogi government puts Kolkata's image as part o...</td>\n",
       "      <td>Even if the ad was designed by the newspaper t...</td>\n",
       "      <td>/r/india/comments/pmn9o3/yogi_government_puts_...</td>\n",
       "      <td>-1.0</td>\n",
       "      <td>-0.50</td>\n",
       "      <td>-0.000000</td>\n",
       "      <td>-1.0</td>\n",
       "      <td>0.0</td>\n",
       "    </tr>\n",
       "    <tr>\n",
       "      <th>2</th>\n",
       "      <td>An attempt to address the list of \"simplified\"...</td>\n",
       "      <td>Diverse population including Muslims. Welcomin...</td>\n",
       "      <td>/r/india/comments/ebdeup/an_attempt_to_address...</td>\n",
       "      <td>-1.5</td>\n",
       "      <td>-0.75</td>\n",
       "      <td>-0.508741</td>\n",
       "      <td>-1.0</td>\n",
       "      <td>-1.0</td>\n",
       "    </tr>\n",
       "    <tr>\n",
       "      <th>3</th>\n",
       "      <td>You guys noticing what's happening in Sri Lanka?</td>\n",
       "      <td>What a joke. They didn't create any propaganda...</td>\n",
       "      <td>/r/india/comments/tt1ryh/you_guys_noticing_wha...</td>\n",
       "      <td>0.0</td>\n",
       "      <td>0.00</td>\n",
       "      <td>-0.000000</td>\n",
       "      <td>0.0</td>\n",
       "      <td>0.0</td>\n",
       "    </tr>\n",
       "    <tr>\n",
       "      <th>4</th>\n",
       "      <td>Just got abused on the train by a hyper nation...</td>\n",
       "      <td>Ohoo bahut bura laga ye sunke ki aap Undergarm...</td>\n",
       "      <td>/r/india/comments/rh2kcs/just_got_abused_on_th...</td>\n",
       "      <td>-2.0</td>\n",
       "      <td>-1.00</td>\n",
       "      <td>-0.257458</td>\n",
       "      <td>-1.0</td>\n",
       "      <td>-1.0</td>\n",
       "    </tr>\n",
       "  </tbody>\n",
       "</table>\n",
       "</div>"
      ],
      "text/plain": [
       "                                         clean_title  \\\n",
       "0  Shashi Tharoor Set To Run For Congress Preside...   \n",
       "1  Yogi government puts Kolkata's image as part o...   \n",
       "2  An attempt to address the list of \"simplified\"...   \n",
       "3   You guys noticing what's happening in Sri Lanka?   \n",
       "4  Just got abused on the train by a hyper nation...   \n",
       "\n",
       "                                       clean_comment  \\\n",
       "0  Extremely valid points but I believe he has th...   \n",
       "1  Even if the ad was designed by the newspaper t...   \n",
       "2  Diverse population including Muslims. Welcomin...   \n",
       "3  What a joke. They didn't create any propaganda...   \n",
       "4  Ohoo bahut bura laga ye sunke ki aap Undergarm...   \n",
       "\n",
       "                                                 url  avg_score  target  \\\n",
       "0  /r/india/comments/xif8wm/shashi_tharoor_set_to...       -1.0   -0.50   \n",
       "1  /r/india/comments/pmn9o3/yogi_government_puts_...       -1.0   -0.50   \n",
       "2  /r/india/comments/ebdeup/an_attempt_to_address...       -1.5   -0.75   \n",
       "3  /r/india/comments/tt1ryh/you_guys_noticing_wha...        0.0    0.00   \n",
       "4  /r/india/comments/rh2kcs/just_got_abused_on_th...       -2.0   -1.00   \n",
       "\n",
       "   vader_pred  y_true  y_pred  \n",
       "0   -0.282905    -1.0    -1.0  \n",
       "1   -0.000000    -1.0     0.0  \n",
       "2   -0.508741    -1.0    -1.0  \n",
       "3   -0.000000     0.0     0.0  \n",
       "4   -0.257458    -1.0    -1.0  "
      ]
     },
     "execution_count": 697,
     "metadata": {},
     "output_type": "execute_result"
    }
   ],
   "source": [
    "pred_df['y_true'] = pred_df.apply(lambda x: np.sign(x['target']), axis=1)\n",
    "pred_df['y_pred'] = pred_df.apply(lambda x: conv_to_label(x['vader_pred'], threshold=0.1), axis=1)\n",
    "pred_df.head()"
   ]
  },
  {
   "cell_type": "code",
   "execution_count": 698,
   "id": "a82c40f9",
   "metadata": {},
   "outputs": [
    {
     "data": {
      "text/plain": [
       "0.4706457925636008"
      ]
     },
     "execution_count": 698,
     "metadata": {},
     "output_type": "execute_result"
    }
   ],
   "source": [
    "np.mean(pred_df['y_true']==pred_df['y_pred'])  # 3-class accuracy"
   ]
  },
  {
   "cell_type": "code",
   "execution_count": null,
   "id": "f8b8e913",
   "metadata": {},
   "outputs": [],
   "source": []
  },
  {
   "cell_type": "code",
   "execution_count": null,
   "id": "bc2f4b19",
   "metadata": {},
   "outputs": [],
   "source": []
  },
  {
   "cell_type": "code",
   "execution_count": 667,
   "id": "e3640e84",
   "metadata": {},
   "outputs": [],
   "source": [
    "def feature_extraction(clean_text):\n",
    "    clean_text = clean_text.lower()\n",
    "    features = []\n",
    "    for t in left_terms:\n",
    "        features.append(len(re.findall(r'\\b'+t, clean_text)))\n",
    "    for t in right_terms:\n",
    "        features.append(len(re.findall(r'\\b'+t, clean_text)))\n",
    "    \n",
    "    return features"
   ]
  },
  {
   "cell_type": "code",
   "execution_count": 699,
   "id": "e57d838e",
   "metadata": {
    "scrolled": true
   },
   "outputs": [
    {
     "data": {
      "text/plain": [
       "[0,\n",
       " 0,\n",
       " 0,\n",
       " 0,\n",
       " 0,\n",
       " 1,\n",
       " 0,\n",
       " 0,\n",
       " 0,\n",
       " 0,\n",
       " 0,\n",
       " 0,\n",
       " 0,\n",
       " 0,\n",
       " 0,\n",
       " 0,\n",
       " 0,\n",
       " 0,\n",
       " 0,\n",
       " 0,\n",
       " 0,\n",
       " 0,\n",
       " 0,\n",
       " 0,\n",
       " 0,\n",
       " 0,\n",
       " 0,\n",
       " 0,\n",
       " 0,\n",
       " 0,\n",
       " 0,\n",
       " 0,\n",
       " 0,\n",
       " 0,\n",
       " 0,\n",
       " 0,\n",
       " 0,\n",
       " 0,\n",
       " 0,\n",
       " 0,\n",
       " 0,\n",
       " 0,\n",
       " 0,\n",
       " 0,\n",
       " 0,\n",
       " 0,\n",
       " 0,\n",
       " 0,\n",
       " 0,\n",
       " 0,\n",
       " 0,\n",
       " 0,\n",
       " 0,\n",
       " 0,\n",
       " 0,\n",
       " 0,\n",
       " 0,\n",
       " 0,\n",
       " 0,\n",
       " 0,\n",
       " 0,\n",
       " 0,\n",
       " 0,\n",
       " 0,\n",
       " 0,\n",
       " 0,\n",
       " 0,\n",
       " 0,\n",
       " 0,\n",
       " 0,\n",
       " 0,\n",
       " 0,\n",
       " 0,\n",
       " 0,\n",
       " 0,\n",
       " 0,\n",
       " 0,\n",
       " 0,\n",
       " 0,\n",
       " 0,\n",
       " 0,\n",
       " 0,\n",
       " 0,\n",
       " 0,\n",
       " 0,\n",
       " 0,\n",
       " 0,\n",
       " 0,\n",
       " 0,\n",
       " 0,\n",
       " 0,\n",
       " 0,\n",
       " 0,\n",
       " 0,\n",
       " 0,\n",
       " 0,\n",
       " 0,\n",
       " 0,\n",
       " 0,\n",
       " 0,\n",
       " 0,\n",
       " 0,\n",
       " 0,\n",
       " 0,\n",
       " 0,\n",
       " 0,\n",
       " 0,\n",
       " 0,\n",
       " 0,\n",
       " 0,\n",
       " 0,\n",
       " 0,\n",
       " 0,\n",
       " 0,\n",
       " 0,\n",
       " 0,\n",
       " 0,\n",
       " 0,\n",
       " 0,\n",
       " 0,\n",
       " 0,\n",
       " 0]"
      ]
     },
     "execution_count": 699,
     "metadata": {},
     "output_type": "execute_result"
    }
   ],
   "source": [
    "feature_extraction(clean_df['clean_comment'][0])"
   ]
  },
  {
   "cell_type": "code",
   "execution_count": 189,
   "id": "b69fcb78",
   "metadata": {},
   "outputs": [],
   "source": [
    "def add_sentiment_features(clean_text, extracted_feat):\n",
    "    temp = extracted_feat.copy()\n",
    "    temp.append(vader.polarity_scores(clean_text)['compound'])\n",
    "    tb = TextBlob(clean_text)\n",
    "    temp.append(tb.sentiment.polarity)\n",
    "    temp.append(tb.sentiment.subjectivity)\n",
    "    return temp"
   ]
  },
  {
   "cell_type": "code",
   "execution_count": 700,
   "id": "3be94ebb",
   "metadata": {},
   "outputs": [
    {
     "data": {
      "text/html": [
       "<div>\n",
       "<style scoped>\n",
       "    .dataframe tbody tr th:only-of-type {\n",
       "        vertical-align: middle;\n",
       "    }\n",
       "\n",
       "    .dataframe tbody tr th {\n",
       "        vertical-align: top;\n",
       "    }\n",
       "\n",
       "    .dataframe thead th {\n",
       "        text-align: right;\n",
       "    }\n",
       "</style>\n",
       "<table border=\"1\" class=\"dataframe\">\n",
       "  <thead>\n",
       "    <tr style=\"text-align: right;\">\n",
       "      <th></th>\n",
       "      <th>clean_title</th>\n",
       "      <th>clean_comment</th>\n",
       "      <th>url</th>\n",
       "      <th>avg_score</th>\n",
       "      <th>target</th>\n",
       "      <th>extracted_features</th>\n",
       "      <th>final_features</th>\n",
       "    </tr>\n",
       "  </thead>\n",
       "  <tbody>\n",
       "    <tr>\n",
       "      <th>0</th>\n",
       "      <td>Shashi Tharoor Set To Run For Congress Preside...</td>\n",
       "      <td>Extremely valid points but I believe he has th...</td>\n",
       "      <td>/r/india/comments/xif8wm/shashi_tharoor_set_to...</td>\n",
       "      <td>-1.0</td>\n",
       "      <td>-0.50</td>\n",
       "      <td>[0, 0, 0, 0, 0, 1, 0, 0, 0, 0, 0, 0, 0, 0, 0, ...</td>\n",
       "      <td>[0, 0, 0, 0, 0, 1, 0, 0, 0, 0, 0, 0, 0, 0, 0, ...</td>\n",
       "    </tr>\n",
       "    <tr>\n",
       "      <th>1</th>\n",
       "      <td>Yogi government puts Kolkata's image as part o...</td>\n",
       "      <td>Even if the ad was designed by the newspaper t...</td>\n",
       "      <td>/r/india/comments/pmn9o3/yogi_government_puts_...</td>\n",
       "      <td>-1.0</td>\n",
       "      <td>-0.50</td>\n",
       "      <td>[0, 0, 0, 0, 0, 0, 0, 0, 0, 0, 0, 0, 0, 0, 0, ...</td>\n",
       "      <td>[0, 0, 0, 0, 0, 0, 0, 0, 0, 0, 0, 0, 0, 0, 0, ...</td>\n",
       "    </tr>\n",
       "    <tr>\n",
       "      <th>2</th>\n",
       "      <td>An attempt to address the list of \"simplified\"...</td>\n",
       "      <td>Diverse population including Muslims. Welcomin...</td>\n",
       "      <td>/r/india/comments/ebdeup/an_attempt_to_address...</td>\n",
       "      <td>-1.5</td>\n",
       "      <td>-0.75</td>\n",
       "      <td>[0, 0, 0, 0, 0, 0, 0, 0, 0, 2, 0, 0, 0, 0, 0, ...</td>\n",
       "      <td>[0, 0, 0, 0, 0, 0, 0, 0, 0, 2, 0, 0, 0, 0, 0, ...</td>\n",
       "    </tr>\n",
       "    <tr>\n",
       "      <th>3</th>\n",
       "      <td>You guys noticing what's happening in Sri Lanka?</td>\n",
       "      <td>What a joke. They didn't create any propaganda...</td>\n",
       "      <td>/r/india/comments/tt1ryh/you_guys_noticing_wha...</td>\n",
       "      <td>0.0</td>\n",
       "      <td>0.00</td>\n",
       "      <td>[0, 0, 0, 0, 0, 0, 0, 0, 0, 0, 0, 0, 0, 0, 0, ...</td>\n",
       "      <td>[0, 0, 0, 0, 0, 0, 0, 0, 0, 0, 0, 0, 0, 0, 0, ...</td>\n",
       "    </tr>\n",
       "    <tr>\n",
       "      <th>4</th>\n",
       "      <td>Just got abused on the train by a hyper nation...</td>\n",
       "      <td>Ohoo bahut bura laga ye sunke ki aap Undergarm...</td>\n",
       "      <td>/r/india/comments/rh2kcs/just_got_abused_on_th...</td>\n",
       "      <td>-2.0</td>\n",
       "      <td>-1.00</td>\n",
       "      <td>[0, 0, 0, 0, 0, 0, 0, 0, 0, 0, 0, 0, 0, 0, 0, ...</td>\n",
       "      <td>[0, 0, 0, 0, 0, 0, 0, 0, 0, 0, 0, 0, 0, 0, 0, ...</td>\n",
       "    </tr>\n",
       "    <tr>\n",
       "      <th>...</th>\n",
       "      <td>...</td>\n",
       "      <td>...</td>\n",
       "      <td>...</td>\n",
       "      <td>...</td>\n",
       "      <td>...</td>\n",
       "      <td>...</td>\n",
       "      <td>...</td>\n",
       "    </tr>\n",
       "    <tr>\n",
       "      <th>2040</th>\n",
       "      <td>An attempt to address the list of \"simplified\"...</td>\n",
       "      <td>They dont have to prove persecution. It will b...</td>\n",
       "      <td>/r/india/comments/ebdeup/an_attempt_to_address...</td>\n",
       "      <td>0.0</td>\n",
       "      <td>0.00</td>\n",
       "      <td>[0, 0, 0, 0, 0, 0, 0, 0, 0, 0, 0, 0, 0, 0, 0, ...</td>\n",
       "      <td>[0, 0, 0, 0, 0, 0, 0, 0, 0, 0, 0, 0, 0, 0, 0, ...</td>\n",
       "    </tr>\n",
       "    <tr>\n",
       "      <th>2041</th>\n",
       "      <td>ResignModi trending in India on 1 with 200k tw...</td>\n",
       "      <td>Both parties are busy in just fighting and win...</td>\n",
       "      <td>/r/india/comments/n11sqc/resignmodi_trending_i...</td>\n",
       "      <td>1.0</td>\n",
       "      <td>0.50</td>\n",
       "      <td>[0, 0, 0, 0, 0, 0, 0, 0, 0, 0, 0, 0, 0, 0, 0, ...</td>\n",
       "      <td>[0, 0, 0, 0, 0, 0, 0, 0, 0, 0, 0, 0, 0, 0, 0, ...</td>\n",
       "    </tr>\n",
       "    <tr>\n",
       "      <th>2042</th>\n",
       "      <td>Suresh Chavanke Not a Dalit Sikh but a Christi...</td>\n",
       "      <td>My main point is that separatist movement isn'...</td>\n",
       "      <td>/r/IndiaSpeaks/comments/prtiwo/suresh_chavanke...</td>\n",
       "      <td>-1.0</td>\n",
       "      <td>-0.50</td>\n",
       "      <td>[0, 0, 0, 0, 0, 0, 0, 0, 0, 0, 0, 0, 1, 0, 1, ...</td>\n",
       "      <td>[0, 0, 0, 0, 0, 0, 0, 0, 0, 0, 0, 0, 1, 0, 1, ...</td>\n",
       "    </tr>\n",
       "    <tr>\n",
       "      <th>2043</th>\n",
       "      <td>Bahut jagah hai arey nahin jagah hai.. ft. CON...</td>\n",
       "      <td>when the opposition become so incompetent...Mo...</td>\n",
       "      <td>/r/IndiaSpeaks/comments/w8ib4s/bahut_jagah_hai...</td>\n",
       "      <td>1.5</td>\n",
       "      <td>0.75</td>\n",
       "      <td>[0, 0, 0, 0, 0, 0, 0, 0, 0, 0, 0, 0, 0, 0, 0, ...</td>\n",
       "      <td>[0, 0, 0, 0, 0, 0, 0, 0, 0, 0, 0, 0, 0, 0, 0, ...</td>\n",
       "    </tr>\n",
       "    <tr>\n",
       "      <th>2044</th>\n",
       "      <td>Priorities of respective governments</td>\n",
       "      <td>Haha, yeah! 3 sides surrounded by water and an...</td>\n",
       "      <td>/r/india/comments/l6t78h/priorities_of_respect...</td>\n",
       "      <td>0.0</td>\n",
       "      <td>0.00</td>\n",
       "      <td>[0, 0, 0, 0, 0, 0, 0, 0, 0, 0, 0, 0, 0, 0, 0, ...</td>\n",
       "      <td>[0, 0, 0, 0, 0, 0, 0, 0, 0, 0, 0, 0, 0, 0, 0, ...</td>\n",
       "    </tr>\n",
       "  </tbody>\n",
       "</table>\n",
       "<p>2044 rows × 7 columns</p>\n",
       "</div>"
      ],
      "text/plain": [
       "                                            clean_title  \\\n",
       "0     Shashi Tharoor Set To Run For Congress Preside...   \n",
       "1     Yogi government puts Kolkata's image as part o...   \n",
       "2     An attempt to address the list of \"simplified\"...   \n",
       "3      You guys noticing what's happening in Sri Lanka?   \n",
       "4     Just got abused on the train by a hyper nation...   \n",
       "...                                                 ...   \n",
       "2040  An attempt to address the list of \"simplified\"...   \n",
       "2041  ResignModi trending in India on 1 with 200k tw...   \n",
       "2042  Suresh Chavanke Not a Dalit Sikh but a Christi...   \n",
       "2043  Bahut jagah hai arey nahin jagah hai.. ft. CON...   \n",
       "2044               Priorities of respective governments   \n",
       "\n",
       "                                          clean_comment  \\\n",
       "0     Extremely valid points but I believe he has th...   \n",
       "1     Even if the ad was designed by the newspaper t...   \n",
       "2     Diverse population including Muslims. Welcomin...   \n",
       "3     What a joke. They didn't create any propaganda...   \n",
       "4     Ohoo bahut bura laga ye sunke ki aap Undergarm...   \n",
       "...                                                 ...   \n",
       "2040  They dont have to prove persecution. It will b...   \n",
       "2041  Both parties are busy in just fighting and win...   \n",
       "2042  My main point is that separatist movement isn'...   \n",
       "2043  when the opposition become so incompetent...Mo...   \n",
       "2044  Haha, yeah! 3 sides surrounded by water and an...   \n",
       "\n",
       "                                                    url  avg_score  target  \\\n",
       "0     /r/india/comments/xif8wm/shashi_tharoor_set_to...       -1.0   -0.50   \n",
       "1     /r/india/comments/pmn9o3/yogi_government_puts_...       -1.0   -0.50   \n",
       "2     /r/india/comments/ebdeup/an_attempt_to_address...       -1.5   -0.75   \n",
       "3     /r/india/comments/tt1ryh/you_guys_noticing_wha...        0.0    0.00   \n",
       "4     /r/india/comments/rh2kcs/just_got_abused_on_th...       -2.0   -1.00   \n",
       "...                                                 ...        ...     ...   \n",
       "2040  /r/india/comments/ebdeup/an_attempt_to_address...        0.0    0.00   \n",
       "2041  /r/india/comments/n11sqc/resignmodi_trending_i...        1.0    0.50   \n",
       "2042  /r/IndiaSpeaks/comments/prtiwo/suresh_chavanke...       -1.0   -0.50   \n",
       "2043  /r/IndiaSpeaks/comments/w8ib4s/bahut_jagah_hai...        1.5    0.75   \n",
       "2044  /r/india/comments/l6t78h/priorities_of_respect...        0.0    0.00   \n",
       "\n",
       "                                     extracted_features  \\\n",
       "0     [0, 0, 0, 0, 0, 1, 0, 0, 0, 0, 0, 0, 0, 0, 0, ...   \n",
       "1     [0, 0, 0, 0, 0, 0, 0, 0, 0, 0, 0, 0, 0, 0, 0, ...   \n",
       "2     [0, 0, 0, 0, 0, 0, 0, 0, 0, 2, 0, 0, 0, 0, 0, ...   \n",
       "3     [0, 0, 0, 0, 0, 0, 0, 0, 0, 0, 0, 0, 0, 0, 0, ...   \n",
       "4     [0, 0, 0, 0, 0, 0, 0, 0, 0, 0, 0, 0, 0, 0, 0, ...   \n",
       "...                                                 ...   \n",
       "2040  [0, 0, 0, 0, 0, 0, 0, 0, 0, 0, 0, 0, 0, 0, 0, ...   \n",
       "2041  [0, 0, 0, 0, 0, 0, 0, 0, 0, 0, 0, 0, 0, 0, 0, ...   \n",
       "2042  [0, 0, 0, 0, 0, 0, 0, 0, 0, 0, 0, 0, 1, 0, 1, ...   \n",
       "2043  [0, 0, 0, 0, 0, 0, 0, 0, 0, 0, 0, 0, 0, 0, 0, ...   \n",
       "2044  [0, 0, 0, 0, 0, 0, 0, 0, 0, 0, 0, 0, 0, 0, 0, ...   \n",
       "\n",
       "                                         final_features  \n",
       "0     [0, 0, 0, 0, 0, 1, 0, 0, 0, 0, 0, 0, 0, 0, 0, ...  \n",
       "1     [0, 0, 0, 0, 0, 0, 0, 0, 0, 0, 0, 0, 0, 0, 0, ...  \n",
       "2     [0, 0, 0, 0, 0, 0, 0, 0, 0, 2, 0, 0, 0, 0, 0, ...  \n",
       "3     [0, 0, 0, 0, 0, 0, 0, 0, 0, 0, 0, 0, 0, 0, 0, ...  \n",
       "4     [0, 0, 0, 0, 0, 0, 0, 0, 0, 0, 0, 0, 0, 0, 0, ...  \n",
       "...                                                 ...  \n",
       "2040  [0, 0, 0, 0, 0, 0, 0, 0, 0, 0, 0, 0, 0, 0, 0, ...  \n",
       "2041  [0, 0, 0, 0, 0, 0, 0, 0, 0, 0, 0, 0, 0, 0, 0, ...  \n",
       "2042  [0, 0, 0, 0, 0, 0, 0, 0, 0, 0, 0, 0, 1, 0, 1, ...  \n",
       "2043  [0, 0, 0, 0, 0, 0, 0, 0, 0, 0, 0, 0, 0, 0, 0, ...  \n",
       "2044  [0, 0, 0, 0, 0, 0, 0, 0, 0, 0, 0, 0, 0, 0, 0, ...  \n",
       "\n",
       "[2044 rows x 7 columns]"
      ]
     },
     "execution_count": 700,
     "metadata": {},
     "output_type": "execute_result"
    }
   ],
   "source": [
    "feature_df = clean_df.copy()\n",
    "feature_df['extracted_features'] = feature_df.apply(lambda x: feature_extraction(x['clean_comment']), axis=1)\n",
    "feature_df['final_features'] = feature_df.apply(lambda x: add_sentiment_features(x['clean_comment'], x['extracted_features']), axis=1)\n",
    "feature_df"
   ]
  },
  {
   "cell_type": "code",
   "execution_count": 701,
   "id": "f31ca9c9",
   "metadata": {},
   "outputs": [],
   "source": [
    "X_train, X_test, y_train, y_test = train_test_split(list(feature_df['final_features']), list(feature_df['target']), test_size = 0.2, random_state = 123)"
   ]
  },
  {
   "cell_type": "code",
   "execution_count": 702,
   "id": "dc68155f",
   "metadata": {},
   "outputs": [
    {
     "data": {
      "text/plain": [
       "0.4077036545629594"
      ]
     },
     "execution_count": 702,
     "metadata": {},
     "output_type": "execute_result"
    }
   ],
   "source": [
    "xgb = xg.XGBRegressor(n_estimators=100, max_depth=4, learning_rate=0.05)\n",
    "xgb.fit(X_train, y_train)\n",
    "y_pred = xgb.predict(X_test)\n",
    "np.sqrt(mean_squared_error(y_test, y_pred))"
   ]
  },
  {
   "cell_type": "code",
   "execution_count": null,
   "id": "c935d1f6",
   "metadata": {},
   "outputs": [],
   "source": []
  },
  {
   "cell_type": "code",
   "execution_count": 703,
   "id": "17e994e3",
   "metadata": {},
   "outputs": [
    {
     "data": {
      "text/html": [
       "<div>\n",
       "<style scoped>\n",
       "    .dataframe tbody tr th:only-of-type {\n",
       "        vertical-align: middle;\n",
       "    }\n",
       "\n",
       "    .dataframe tbody tr th {\n",
       "        vertical-align: top;\n",
       "    }\n",
       "\n",
       "    .dataframe thead th {\n",
       "        text-align: right;\n",
       "    }\n",
       "</style>\n",
       "<table border=\"1\" class=\"dataframe\">\n",
       "  <thead>\n",
       "    <tr style=\"text-align: right;\">\n",
       "      <th></th>\n",
       "      <th>clean_title</th>\n",
       "      <th>clean_comment</th>\n",
       "      <th>url</th>\n",
       "      <th>avg_score</th>\n",
       "      <th>target</th>\n",
       "      <th>extracted_features</th>\n",
       "      <th>pca_features</th>\n",
       "    </tr>\n",
       "  </thead>\n",
       "  <tbody>\n",
       "    <tr>\n",
       "      <th>0</th>\n",
       "      <td>Shashi Tharoor Set To Run For Congress Preside...</td>\n",
       "      <td>Extremely valid points but I believe he has th...</td>\n",
       "      <td>/r/india/comments/xif8wm/shashi_tharoor_set_to...</td>\n",
       "      <td>-1.0</td>\n",
       "      <td>-0.50</td>\n",
       "      <td>[0, 0, 0, 0, 0, 1, 0, 0, 0, 0, 0, 0, 0, 0, 0, ...</td>\n",
       "      <td>[-0.2777648797826343, -0.22920803883075838, 0....</td>\n",
       "    </tr>\n",
       "    <tr>\n",
       "      <th>1</th>\n",
       "      <td>Yogi government puts Kolkata's image as part o...</td>\n",
       "      <td>Even if the ad was designed by the newspaper t...</td>\n",
       "      <td>/r/india/comments/pmn9o3/yogi_government_puts_...</td>\n",
       "      <td>-1.0</td>\n",
       "      <td>-0.50</td>\n",
       "      <td>[0, 0, 0, 0, 0, 0, 0, 0, 0, 0, 0, 0, 0, 0, 0, ...</td>\n",
       "      <td>[-0.2741939351028704, -0.23196721060000777, 0....</td>\n",
       "    </tr>\n",
       "    <tr>\n",
       "      <th>2</th>\n",
       "      <td>An attempt to address the list of \"simplified\"...</td>\n",
       "      <td>Diverse population including Muslims. Welcomin...</td>\n",
       "      <td>/r/india/comments/ebdeup/an_attempt_to_address...</td>\n",
       "      <td>-1.5</td>\n",
       "      <td>-0.75</td>\n",
       "      <td>[0, 0, 0, 0, 0, 0, 0, 0, 0, 2, 0, 0, 0, 0, 0, ...</td>\n",
       "      <td>[0.696363471366104, 0.07232940416075247, 1.755...</td>\n",
       "    </tr>\n",
       "    <tr>\n",
       "      <th>3</th>\n",
       "      <td>You guys noticing what's happening in Sri Lanka?</td>\n",
       "      <td>What a joke. They didn't create any propaganda...</td>\n",
       "      <td>/r/india/comments/tt1ryh/you_guys_noticing_wha...</td>\n",
       "      <td>0.0</td>\n",
       "      <td>0.00</td>\n",
       "      <td>[0, 0, 0, 0, 0, 0, 0, 0, 0, 0, 0, 0, 0, 0, 0, ...</td>\n",
       "      <td>[-0.27419393510287055, -0.23196721060001066, 0...</td>\n",
       "    </tr>\n",
       "    <tr>\n",
       "      <th>4</th>\n",
       "      <td>Just got abused on the train by a hyper nation...</td>\n",
       "      <td>Ohoo bahut bura laga ye sunke ki aap Undergarm...</td>\n",
       "      <td>/r/india/comments/rh2kcs/just_got_abused_on_th...</td>\n",
       "      <td>-2.0</td>\n",
       "      <td>-1.00</td>\n",
       "      <td>[0, 0, 0, 0, 0, 0, 0, 0, 0, 0, 0, 0, 0, 0, 0, ...</td>\n",
       "      <td>[-0.2791521618278979, -0.14344842207183855, 0....</td>\n",
       "    </tr>\n",
       "  </tbody>\n",
       "</table>\n",
       "</div>"
      ],
      "text/plain": [
       "                                         clean_title  \\\n",
       "0  Shashi Tharoor Set To Run For Congress Preside...   \n",
       "1  Yogi government puts Kolkata's image as part o...   \n",
       "2  An attempt to address the list of \"simplified\"...   \n",
       "3   You guys noticing what's happening in Sri Lanka?   \n",
       "4  Just got abused on the train by a hyper nation...   \n",
       "\n",
       "                                       clean_comment  \\\n",
       "0  Extremely valid points but I believe he has th...   \n",
       "1  Even if the ad was designed by the newspaper t...   \n",
       "2  Diverse population including Muslims. Welcomin...   \n",
       "3  What a joke. They didn't create any propaganda...   \n",
       "4  Ohoo bahut bura laga ye sunke ki aap Undergarm...   \n",
       "\n",
       "                                                 url  avg_score  target  \\\n",
       "0  /r/india/comments/xif8wm/shashi_tharoor_set_to...       -1.0   -0.50   \n",
       "1  /r/india/comments/pmn9o3/yogi_government_puts_...       -1.0   -0.50   \n",
       "2  /r/india/comments/ebdeup/an_attempt_to_address...       -1.5   -0.75   \n",
       "3  /r/india/comments/tt1ryh/you_guys_noticing_wha...        0.0    0.00   \n",
       "4  /r/india/comments/rh2kcs/just_got_abused_on_th...       -2.0   -1.00   \n",
       "\n",
       "                                  extracted_features  \\\n",
       "0  [0, 0, 0, 0, 0, 1, 0, 0, 0, 0, 0, 0, 0, 0, 0, ...   \n",
       "1  [0, 0, 0, 0, 0, 0, 0, 0, 0, 0, 0, 0, 0, 0, 0, ...   \n",
       "2  [0, 0, 0, 0, 0, 0, 0, 0, 0, 2, 0, 0, 0, 0, 0, ...   \n",
       "3  [0, 0, 0, 0, 0, 0, 0, 0, 0, 0, 0, 0, 0, 0, 0, ...   \n",
       "4  [0, 0, 0, 0, 0, 0, 0, 0, 0, 0, 0, 0, 0, 0, 0, ...   \n",
       "\n",
       "                                        pca_features  \n",
       "0  [-0.2777648797826343, -0.22920803883075838, 0....  \n",
       "1  [-0.2741939351028704, -0.23196721060000777, 0....  \n",
       "2  [0.696363471366104, 0.07232940416075247, 1.755...  \n",
       "3  [-0.27419393510287055, -0.23196721060001066, 0...  \n",
       "4  [-0.2791521618278979, -0.14344842207183855, 0....  "
      ]
     },
     "execution_count": 703,
     "metadata": {},
     "output_type": "execute_result"
    }
   ],
   "source": [
    "pca = PCA(n_components=8)\n",
    "feature_df = clean_df.copy()\n",
    "feature_df['extracted_features'] = feature_df.apply(lambda x: feature_extraction(x['clean_comment']), axis=1)\n",
    "feature_df['pca_features'] = pca.fit_transform(list(feature_df['extracted_features'])).tolist()\n",
    "feature_df.head()"
   ]
  },
  {
   "cell_type": "code",
   "execution_count": 704,
   "id": "ce632de9",
   "metadata": {},
   "outputs": [
    {
     "data": {
      "text/html": [
       "<div>\n",
       "<style scoped>\n",
       "    .dataframe tbody tr th:only-of-type {\n",
       "        vertical-align: middle;\n",
       "    }\n",
       "\n",
       "    .dataframe tbody tr th {\n",
       "        vertical-align: top;\n",
       "    }\n",
       "\n",
       "    .dataframe thead th {\n",
       "        text-align: right;\n",
       "    }\n",
       "</style>\n",
       "<table border=\"1\" class=\"dataframe\">\n",
       "  <thead>\n",
       "    <tr style=\"text-align: right;\">\n",
       "      <th></th>\n",
       "      <th>clean_title</th>\n",
       "      <th>clean_comment</th>\n",
       "      <th>url</th>\n",
       "      <th>avg_score</th>\n",
       "      <th>target</th>\n",
       "      <th>extracted_features</th>\n",
       "      <th>pca_features</th>\n",
       "      <th>final_features</th>\n",
       "    </tr>\n",
       "  </thead>\n",
       "  <tbody>\n",
       "    <tr>\n",
       "      <th>0</th>\n",
       "      <td>Shashi Tharoor Set To Run For Congress Preside...</td>\n",
       "      <td>Extremely valid points but I believe he has th...</td>\n",
       "      <td>/r/india/comments/xif8wm/shashi_tharoor_set_to...</td>\n",
       "      <td>-1.0</td>\n",
       "      <td>-0.50</td>\n",
       "      <td>[0, 0, 0, 0, 0, 1, 0, 0, 0, 0, 0, 0, 0, 0, 0, ...</td>\n",
       "      <td>[-0.2777648797826343, -0.22920803883075838, 0....</td>\n",
       "      <td>[-0.2777648797826343, -0.22920803883075838, 0....</td>\n",
       "    </tr>\n",
       "    <tr>\n",
       "      <th>1</th>\n",
       "      <td>Yogi government puts Kolkata's image as part o...</td>\n",
       "      <td>Even if the ad was designed by the newspaper t...</td>\n",
       "      <td>/r/india/comments/pmn9o3/yogi_government_puts_...</td>\n",
       "      <td>-1.0</td>\n",
       "      <td>-0.50</td>\n",
       "      <td>[0, 0, 0, 0, 0, 0, 0, 0, 0, 0, 0, 0, 0, 0, 0, ...</td>\n",
       "      <td>[-0.2741939351028704, -0.23196721060000777, 0....</td>\n",
       "      <td>[-0.2741939351028704, -0.23196721060000777, 0....</td>\n",
       "    </tr>\n",
       "    <tr>\n",
       "      <th>2</th>\n",
       "      <td>An attempt to address the list of \"simplified\"...</td>\n",
       "      <td>Diverse population including Muslims. Welcomin...</td>\n",
       "      <td>/r/india/comments/ebdeup/an_attempt_to_address...</td>\n",
       "      <td>-1.5</td>\n",
       "      <td>-0.75</td>\n",
       "      <td>[0, 0, 0, 0, 0, 0, 0, 0, 0, 2, 0, 0, 0, 0, 0, ...</td>\n",
       "      <td>[0.696363471366104, 0.07232940416075247, 1.755...</td>\n",
       "      <td>[0.696363471366104, 0.07232940416075247, 1.755...</td>\n",
       "    </tr>\n",
       "    <tr>\n",
       "      <th>3</th>\n",
       "      <td>You guys noticing what's happening in Sri Lanka?</td>\n",
       "      <td>What a joke. They didn't create any propaganda...</td>\n",
       "      <td>/r/india/comments/tt1ryh/you_guys_noticing_wha...</td>\n",
       "      <td>0.0</td>\n",
       "      <td>0.00</td>\n",
       "      <td>[0, 0, 0, 0, 0, 0, 0, 0, 0, 0, 0, 0, 0, 0, 0, ...</td>\n",
       "      <td>[-0.27419393510287055, -0.23196721060001066, 0...</td>\n",
       "      <td>[-0.27419393510287055, -0.23196721060001066, 0...</td>\n",
       "    </tr>\n",
       "    <tr>\n",
       "      <th>4</th>\n",
       "      <td>Just got abused on the train by a hyper nation...</td>\n",
       "      <td>Ohoo bahut bura laga ye sunke ki aap Undergarm...</td>\n",
       "      <td>/r/india/comments/rh2kcs/just_got_abused_on_th...</td>\n",
       "      <td>-2.0</td>\n",
       "      <td>-1.00</td>\n",
       "      <td>[0, 0, 0, 0, 0, 0, 0, 0, 0, 0, 0, 0, 0, 0, 0, ...</td>\n",
       "      <td>[-0.2791521618278979, -0.14344842207183855, 0....</td>\n",
       "      <td>[-0.2791521618278979, -0.14344842207183855, 0....</td>\n",
       "    </tr>\n",
       "  </tbody>\n",
       "</table>\n",
       "</div>"
      ],
      "text/plain": [
       "                                         clean_title  \\\n",
       "0  Shashi Tharoor Set To Run For Congress Preside...   \n",
       "1  Yogi government puts Kolkata's image as part o...   \n",
       "2  An attempt to address the list of \"simplified\"...   \n",
       "3   You guys noticing what's happening in Sri Lanka?   \n",
       "4  Just got abused on the train by a hyper nation...   \n",
       "\n",
       "                                       clean_comment  \\\n",
       "0  Extremely valid points but I believe he has th...   \n",
       "1  Even if the ad was designed by the newspaper t...   \n",
       "2  Diverse population including Muslims. Welcomin...   \n",
       "3  What a joke. They didn't create any propaganda...   \n",
       "4  Ohoo bahut bura laga ye sunke ki aap Undergarm...   \n",
       "\n",
       "                                                 url  avg_score  target  \\\n",
       "0  /r/india/comments/xif8wm/shashi_tharoor_set_to...       -1.0   -0.50   \n",
       "1  /r/india/comments/pmn9o3/yogi_government_puts_...       -1.0   -0.50   \n",
       "2  /r/india/comments/ebdeup/an_attempt_to_address...       -1.5   -0.75   \n",
       "3  /r/india/comments/tt1ryh/you_guys_noticing_wha...        0.0    0.00   \n",
       "4  /r/india/comments/rh2kcs/just_got_abused_on_th...       -2.0   -1.00   \n",
       "\n",
       "                                  extracted_features  \\\n",
       "0  [0, 0, 0, 0, 0, 1, 0, 0, 0, 0, 0, 0, 0, 0, 0, ...   \n",
       "1  [0, 0, 0, 0, 0, 0, 0, 0, 0, 0, 0, 0, 0, 0, 0, ...   \n",
       "2  [0, 0, 0, 0, 0, 0, 0, 0, 0, 2, 0, 0, 0, 0, 0, ...   \n",
       "3  [0, 0, 0, 0, 0, 0, 0, 0, 0, 0, 0, 0, 0, 0, 0, ...   \n",
       "4  [0, 0, 0, 0, 0, 0, 0, 0, 0, 0, 0, 0, 0, 0, 0, ...   \n",
       "\n",
       "                                        pca_features  \\\n",
       "0  [-0.2777648797826343, -0.22920803883075838, 0....   \n",
       "1  [-0.2741939351028704, -0.23196721060000777, 0....   \n",
       "2  [0.696363471366104, 0.07232940416075247, 1.755...   \n",
       "3  [-0.27419393510287055, -0.23196721060001066, 0...   \n",
       "4  [-0.2791521618278979, -0.14344842207183855, 0....   \n",
       "\n",
       "                                      final_features  \n",
       "0  [-0.2777648797826343, -0.22920803883075838, 0....  \n",
       "1  [-0.2741939351028704, -0.23196721060000777, 0....  \n",
       "2  [0.696363471366104, 0.07232940416075247, 1.755...  \n",
       "3  [-0.27419393510287055, -0.23196721060001066, 0...  \n",
       "4  [-0.2791521618278979, -0.14344842207183855, 0....  "
      ]
     },
     "execution_count": 704,
     "metadata": {},
     "output_type": "execute_result"
    }
   ],
   "source": [
    "feature_df['final_features'] = feature_df.apply(lambda x: add_sentiment_features(x['clean_comment'], x['pca_features']), axis=1)\n",
    "feature_df.head()"
   ]
  },
  {
   "cell_type": "code",
   "execution_count": 153,
   "id": "7cee7004",
   "metadata": {},
   "outputs": [],
   "source": [
    "def convert_to_classifier(targets, preds, threshold=1/3):\n",
    "    new_targets = [np.sign(x) for x in targets]\n",
    "    new_preds = [np.sign(x) if abs(x)>threshold else 0. for x in preds]\n",
    "    return new_targets, new_preds"
   ]
  },
  {
   "cell_type": "code",
   "execution_count": 705,
   "id": "33ca09a4",
   "metadata": {},
   "outputs": [
    {
     "data": {
      "text/plain": [
       "0.42063870077805227"
      ]
     },
     "execution_count": 705,
     "metadata": {},
     "output_type": "execute_result"
    }
   ],
   "source": [
    "X_train, X_test, y_train, y_test = train_test_split(list(feature_df['final_features']), list(feature_df['target']), test_size = 0.2, random_state = 123)\n",
    "xgb = xg.XGBRegressor(n_estimators=100, max_depth=4, learning_rate=0.05)\n",
    "xgb.fit(X_train, y_train)\n",
    "y_pred = xgb.predict(X_test)\n",
    "np.sqrt(mean_squared_error(y_test, y_pred))"
   ]
  },
  {
   "cell_type": "code",
   "execution_count": 706,
   "id": "c92703c0",
   "metadata": {},
   "outputs": [
    {
     "data": {
      "text/plain": [
       "0.42053789731051344"
      ]
     },
     "execution_count": 706,
     "metadata": {},
     "output_type": "execute_result"
    }
   ],
   "source": [
    "new_y_test, new_y_pred = convert_to_classifier(y_test, y_pred, threshold=0.8)\n",
    "np.mean([int(new_y_test[i]==new_y_pred[i]) for i in range(len(new_y_test))])"
   ]
  },
  {
   "cell_type": "code",
   "execution_count": null,
   "id": "15fe49ba",
   "metadata": {},
   "outputs": [],
   "source": []
  },
  {
   "cell_type": "code",
   "execution_count": 707,
   "id": "230a9434",
   "metadata": {},
   "outputs": [
    {
     "data": {
      "text/plain": [
       "0.5183374083129584"
      ]
     },
     "execution_count": 707,
     "metadata": {},
     "output_type": "execute_result"
    }
   ],
   "source": [
    "X_train, X_test, y_train, y_test = train_test_split(list(feature_df['final_features']), [np.sign(x)+1 for x in list(feature_df['target'])], test_size = 0.2, random_state = 123)\n",
    "xgb = xg.XGBClassifier(n_estimators=100, max_depth=4, learning_rate=0.005)\n",
    "xgb.fit(X_train, y_train)\n",
    "y_pred = xgb.predict(X_test)\n",
    "np.mean([int(y_test[i]==y_pred[i]) for i in range(len(y_test))])"
   ]
  },
  {
   "cell_type": "code",
   "execution_count": 708,
   "id": "f2f321ca",
   "metadata": {},
   "outputs": [
    {
     "data": {
      "text/plain": [
       "array([[ 67,  61,  12],\n",
       "       [ 35, 127,  10],\n",
       "       [ 31,  48,  18]], dtype=int64)"
      ]
     },
     "execution_count": 708,
     "metadata": {},
     "output_type": "execute_result"
    }
   ],
   "source": [
    "confusion_matrix(y_test, y_pred)"
   ]
  },
  {
   "cell_type": "code",
   "execution_count": 709,
   "id": "5f277203",
   "metadata": {},
   "outputs": [
    {
     "name": "stdout",
     "output_type": "stream",
     "text": [
      "              precision    recall  f1-score   support\n",
      "\n",
      "        Left       0.50      0.48      0.49       140\n",
      "     Neutral       0.54      0.74      0.62       172\n",
      "       Right       0.45      0.19      0.26        97\n",
      "\n",
      "    accuracy                           0.52       409\n",
      "   macro avg       0.50      0.47      0.46       409\n",
      "weighted avg       0.51      0.52      0.49       409\n",
      "\n"
     ]
    }
   ],
   "source": [
    "print(classification_report(y_test, y_pred, target_names=['Left', 'Neutral', 'Right']))"
   ]
  },
  {
   "cell_type": "code",
   "execution_count": null,
   "id": "7810aed8",
   "metadata": {},
   "outputs": [],
   "source": []
  },
  {
   "cell_type": "markdown",
   "id": "b6f579d7",
   "metadata": {},
   "source": [
    "## tf-idf embeddings"
   ]
  },
  {
   "cell_type": "code",
   "execution_count": 466,
   "id": "31b7d143",
   "metadata": {},
   "outputs": [],
   "source": [
    "from sklearn.feature_extraction.text import TfidfVectorizer\n",
    "from sklearn.decomposition import TruncatedSVD\n",
    "from collections import Counter"
   ]
  },
  {
   "cell_type": "code",
   "execution_count": 461,
   "id": "54b3c4b7",
   "metadata": {},
   "outputs": [
    {
     "name": "stdout",
     "output_type": "stream",
     "text": [
      "(2044, 94530)\n"
     ]
    }
   ],
   "source": [
    "vectorizer = TfidfVectorizer(ngram_range=(1, 2), analyzer='word')\n",
    "temp = vectorizer.fit_transform(list(clean_df['clean_comment']))\n",
    "print(temp.shape)\n",
    "# tsvd = TruncatedSVD(n_components=200, random_state=123)\n",
    "# feat = tsvd.fit_transform(temp)\n",
    "# print(feat.shape)"
   ]
  },
  {
   "cell_type": "code",
   "execution_count": 462,
   "id": "e89613a2",
   "metadata": {},
   "outputs": [
    {
     "data": {
      "text/plain": [
       "0.5403422982885085"
      ]
     },
     "execution_count": 462,
     "metadata": {},
     "output_type": "execute_result"
    }
   ],
   "source": [
    "X_train, X_test, y_train, y_test = train_test_split(temp, [np.sign(x)+1 for x in list(feature_df['target'])], test_size = 0.2, random_state = 123)\n",
    "xgb = xg.XGBClassifier(n_estimators=100, max_depth=4, learning_rate=0.05)\n",
    "xgb.fit(X_train, y_train)\n",
    "y_pred = xgb.predict(X_test)\n",
    "np.mean([int(y_test[i]==y_pred[i]) for i in range(len(y_test))])"
   ]
  },
  {
   "cell_type": "code",
   "execution_count": 463,
   "id": "1e077f9c",
   "metadata": {},
   "outputs": [
    {
     "data": {
      "text/plain": [
       "array([[ 57,  75,   8],\n",
       "       [ 17, 148,   7],\n",
       "       [ 21,  60,  16]], dtype=int64)"
      ]
     },
     "execution_count": 463,
     "metadata": {},
     "output_type": "execute_result"
    }
   ],
   "source": [
    "confusion_matrix(y_test, y_pred)"
   ]
  },
  {
   "cell_type": "code",
   "execution_count": 464,
   "id": "7d011a11",
   "metadata": {},
   "outputs": [
    {
     "name": "stdout",
     "output_type": "stream",
     "text": [
      "              precision    recall  f1-score   support\n",
      "\n",
      "        Left       0.60      0.41      0.49       140\n",
      "     Neutral       0.52      0.86      0.65       172\n",
      "       Right       0.52      0.16      0.25        97\n",
      "\n",
      "    accuracy                           0.54       409\n",
      "   macro avg       0.55      0.48      0.46       409\n",
      "weighted avg       0.55      0.54      0.50       409\n",
      "\n"
     ]
    }
   ],
   "source": [
    "print(classification_report(y_test, y_pred, target_names=['Left', 'Neutral', 'Right']))"
   ]
  },
  {
   "cell_type": "code",
   "execution_count": null,
   "id": "28d48a1c",
   "metadata": {},
   "outputs": [],
   "source": []
  },
  {
   "cell_type": "code",
   "execution_count": null,
   "id": "4f0407f8",
   "metadata": {},
   "outputs": [],
   "source": []
  },
  {
   "cell_type": "markdown",
   "id": "f8921fc5",
   "metadata": {},
   "source": [
    "## Ensembled Model"
   ]
  },
  {
   "cell_type": "code",
   "execution_count": 531,
   "id": "8bb33ab4",
   "metadata": {},
   "outputs": [],
   "source": [
    "# y_tfidf_ch = y_pred  # char_wb tfidf with 2, 5 n_grams\n",
    "# y_tfidf_ch2 = y_pred  # char tfidf with 2, 10? n_grams\n",
    "# y_tfidf_w = y_pred\n",
    "# y_bert = y_pred\n",
    "# y_pca = y_pred"
   ]
  },
  {
   "cell_type": "code",
   "execution_count": 475,
   "id": "0d05643a",
   "metadata": {},
   "outputs": [],
   "source": [
    "def ensemble(pred_list):\n",
    "    # pred_list should be in decreasing order of confidence for tie breaks\n",
    "    pred_size = len(pred_list[0])\n",
    "    ens_pred = []\n",
    "    for i in range(pred_size):\n",
    "        temp = [x[i] for x in pred_list]\n",
    "        ens_pred.append(Counter(temp).most_common(1)[0][0])\n",
    "    return ens_pred"
   ]
  },
  {
   "cell_type": "code",
   "execution_count": 543,
   "id": "b38a5681",
   "metadata": {},
   "outputs": [],
   "source": [
    "y_pred = ensemble([y_tfidf_w, y_tfidf_ch, y_tfidf_ch2, y_bert])"
   ]
  },
  {
   "cell_type": "code",
   "execution_count": 544,
   "id": "19bed5cf",
   "metadata": {},
   "outputs": [
    {
     "data": {
      "text/plain": [
       "0.5574572127139364"
      ]
     },
     "execution_count": 544,
     "metadata": {},
     "output_type": "execute_result"
    }
   ],
   "source": [
    "np.mean([int(y_test[i]==y_pred[i]) for i in range(len(y_test))])"
   ]
  },
  {
   "cell_type": "code",
   "execution_count": 545,
   "id": "c0b1514e",
   "metadata": {},
   "outputs": [
    {
     "data": {
      "text/plain": [
       "array([[ 58,  74,   8],\n",
       "       [ 15, 149,   8],\n",
       "       [ 21,  55,  21]], dtype=int64)"
      ]
     },
     "execution_count": 545,
     "metadata": {},
     "output_type": "execute_result"
    }
   ],
   "source": [
    "confusion_matrix(y_test, y_pred)"
   ]
  },
  {
   "cell_type": "code",
   "execution_count": 546,
   "id": "937c0641",
   "metadata": {},
   "outputs": [
    {
     "name": "stdout",
     "output_type": "stream",
     "text": [
      "              precision    recall  f1-score   support\n",
      "\n",
      "        Left       0.62      0.41      0.50       140\n",
      "     Neutral       0.54      0.87      0.66       172\n",
      "       Right       0.57      0.22      0.31        97\n",
      "\n",
      "    accuracy                           0.56       409\n",
      "   macro avg       0.57      0.50      0.49       409\n",
      "weighted avg       0.57      0.56      0.52       409\n",
      "\n"
     ]
    }
   ],
   "source": [
    "print(classification_report(y_test, y_pred, target_names=['Left', 'Neutral', 'Right']))"
   ]
  },
  {
   "cell_type": "code",
   "execution_count": 552,
   "id": "792c75ce",
   "metadata": {},
   "outputs": [
    {
     "data": {
      "text/plain": [
       "<AxesSubplot:ylabel='Density'>"
      ]
     },
     "execution_count": 552,
     "metadata": {},
     "output_type": "execute_result"
    },
    {
     "data": {
      "image/png": "[encoded data removed]",
      "text/plain": [
       "<Figure size 432x288 with 1 Axes>"
      ]
     },
     "metadata": {
      "needs_background": "light"
     },
     "output_type": "display_data"
    }
   ],
   "source": [
    "clean_df['avg_score'].plot.kde()"
   ]
  },
  {
   "cell_type": "code",
   "execution_count": null,
   "id": "902e920d",
   "metadata": {},
   "outputs": [],
   "source": []
  },
  {
   "cell_type": "markdown",
   "id": "23c2a238",
   "metadata": {},
   "source": [
    "## With BERT Embeddings"
   ]
  },
  {
   "cell_type": "code",
   "execution_count": 480,
   "id": "f1dbcac7",
   "metadata": {},
   "outputs": [
    {
     "data": {
      "text/plain": [
       "device(type='cuda')"
      ]
     },
     "execution_count": 480,
     "metadata": {},
     "output_type": "execute_result"
    }
   ],
   "source": [
    "import torch\n",
    "from torch import nn\n",
    "device = torch.device('cuda' if torch.cuda.is_available() else 'cpu')\n",
    "device"
   ]
  },
  {
   "cell_type": "code",
   "execution_count": 481,
   "id": "b12b6dc8",
   "metadata": {},
   "outputs": [],
   "source": [
    "from transformers import AutoModelForSequenceClassification, AutoTokenizer, AutoModel"
   ]
  },
  {
   "cell_type": "code",
   "execution_count": 482,
   "id": "c93dccc3",
   "metadata": {},
   "outputs": [],
   "source": [
    "# model_name = 'bert-base-cased'\n",
    "# model_name = \"google/muril-base-cased\"\n",
    "model_name = \"meedan/indian-sbert\""
   ]
  },
  {
   "cell_type": "code",
   "execution_count": 499,
   "id": "3d254456",
   "metadata": {},
   "outputs": [],
   "source": [
    "tokenizer = AutoTokenizer.from_pretrained(model_name)\n",
    "model = AutoModel.from_pretrained(model_name).to(device)"
   ]
  },
  {
   "cell_type": "code",
   "execution_count": 500,
   "id": "4d6bb7f1",
   "metadata": {},
   "outputs": [],
   "source": [
    "# freezing everything\n",
    "modules = [model.embeddings, *model.encoder.layer]\n",
    "for module in modules:\n",
    "    for param in module.parameters():\n",
    "        param.requires_grad = False"
   ]
  },
  {
   "cell_type": "code",
   "execution_count": 502,
   "id": "9daeef52",
   "metadata": {},
   "outputs": [
    {
     "data": {
      "text/plain": [
       "2044"
      ]
     },
     "execution_count": 502,
     "metadata": {},
     "output_type": "execute_result"
    }
   ],
   "source": [
    "# getting embeddings from model\n",
    "with torch.no_grad():\n",
    "    model.eval()\n",
    "    bert_embs = []\n",
    "    batch_size = 16\n",
    "    for i in range(0, len(clean_df), batch_size):\n",
    "        temp = tokenizer(list(clean_df['clean_comment'][i:i+batch_size]), padding='max_length', max_length = 256, truncation=True, return_tensors=\"pt\")\n",
    "        bert_embs.extend(model(temp['input_ids'].to(device), temp['attention_mask'].to(device)).pooler_output.cpu().detach().numpy().tolist())\n",
    "len(bert_embs)"
   ]
  },
  {
   "cell_type": "code",
   "execution_count": null,
   "id": "3982c223",
   "metadata": {},
   "outputs": [],
   "source": []
  },
  {
   "cell_type": "code",
   "execution_count": 510,
   "id": "849cba68",
   "metadata": {},
   "outputs": [
    {
     "data": {
      "text/plain": [
       "0.4963325183374083"
      ]
     },
     "execution_count": 510,
     "metadata": {},
     "output_type": "execute_result"
    }
   ],
   "source": [
    "X_train, X_test, y_train, y_test = train_test_split(bert_embs, [np.sign(x)+1 for x in list(clean_df['target'])], test_size = 0.2, random_state = 123)\n",
    "xgb = xg.XGBClassifier(n_estimators=100, max_depth=4, learning_rate=0.05)\n",
    "xgb.fit(X_train, y_train)\n",
    "y_pred = xgb.predict(X_test)\n",
    "np.mean([int(y_test[i]==y_pred[i]) for i in range(len(y_test))])"
   ]
  },
  {
   "cell_type": "code",
   "execution_count": 511,
   "id": "e32a4cbf",
   "metadata": {},
   "outputs": [
    {
     "data": {
      "text/plain": [
       "array([[ 60,  65,  15],\n",
       "       [ 41, 121,  10],\n",
       "       [ 35,  40,  22]], dtype=int64)"
      ]
     },
     "execution_count": 511,
     "metadata": {},
     "output_type": "execute_result"
    }
   ],
   "source": [
    "confusion_matrix(y_test, y_pred)"
   ]
  },
  {
   "cell_type": "code",
   "execution_count": 512,
   "id": "fcedab0a",
   "metadata": {},
   "outputs": [
    {
     "name": "stdout",
     "output_type": "stream",
     "text": [
      "              precision    recall  f1-score   support\n",
      "\n",
      "        Left       0.44      0.43      0.43       140\n",
      "     Neutral       0.54      0.70      0.61       172\n",
      "       Right       0.47      0.23      0.31        97\n",
      "\n",
      "    accuracy                           0.50       409\n",
      "   macro avg       0.48      0.45      0.45       409\n",
      "weighted avg       0.49      0.50      0.48       409\n",
      "\n"
     ]
    }
   ],
   "source": [
    "print(classification_report(y_test, y_pred, target_names=['Left', 'Neutral', 'Right']))"
   ]
  },
  {
   "cell_type": "code",
   "execution_count": 554,
   "id": "8fc7eb39",
   "metadata": {},
   "outputs": [
    {
     "data": {
      "text/plain": [
       " 0.00    851\n",
       "-0.50    315\n",
       " 0.50    231\n",
       "-0.25    200\n",
       " 0.25    155\n",
       "-1.00     84\n",
       "-0.75     76\n",
       " 0.75     70\n",
       " 1.00     62\n",
       "Name: target, dtype: int64"
      ]
     },
     "execution_count": 554,
     "metadata": {},
     "output_type": "execute_result"
    }
   ],
   "source": [
    "clean_df['target'].value_counts()"
   ]
  },
  {
   "cell_type": "code",
   "execution_count": null,
   "id": "c0f7e815",
   "metadata": {},
   "outputs": [],
   "source": []
  },
  {
   "cell_type": "markdown",
   "id": "f3c76835",
   "metadata": {},
   "source": [
    "### PCA on BERT embeddings"
   ]
  },
  {
   "cell_type": "code",
   "execution_count": 518,
   "id": "9434bae1",
   "metadata": {},
   "outputs": [
    {
     "name": "stdout",
     "output_type": "stream",
     "text": [
      "(2044, 200)\n"
     ]
    }
   ],
   "source": [
    "pca = PCA(n_components=200)\n",
    "feat = pca.fit_transform(bert_embs)\n",
    "print(feat.shape)"
   ]
  },
  {
   "cell_type": "code",
   "execution_count": 523,
   "id": "ee7b325a",
   "metadata": {},
   "outputs": [
    {
     "data": {
      "text/plain": [
       "0.4841075794621027"
      ]
     },
     "execution_count": 523,
     "metadata": {},
     "output_type": "execute_result"
    }
   ],
   "source": [
    "X_train, X_test, y_train, y_test = train_test_split(feat, [np.sign(x)+1 for x in list(clean_df['target'])], test_size = 0.2, random_state = 123)\n",
    "xgb = xg.XGBClassifier(n_estimators=100, max_depth=4, learning_rate=0.05)\n",
    "xgb.fit(X_train, y_train)\n",
    "y_pred = xgb.predict(X_test)\n",
    "np.mean([int(y_test[i]==y_pred[i]) for i in range(len(y_test))])"
   ]
  },
  {
   "cell_type": "code",
   "execution_count": null,
   "id": "f0544a47",
   "metadata": {},
   "outputs": [],
   "source": []
  },
  {
   "cell_type": "code",
   "execution_count": 553,
   "id": "2c1924e4",
   "metadata": {},
   "outputs": [
    {
     "name": "stdout",
     "output_type": "stream",
     "text": [
      "|===========================================================================|\n",
      "|                  PyTorch CUDA memory summary, device ID 0                 |\n",
      "|---------------------------------------------------------------------------|\n",
      "|            CUDA OOMs: 0            |        cudaMalloc retries: 0         |\n",
      "|===========================================================================|\n",
      "|        Metric         | Cur Usage  | Peak Usage | Tot Alloc  | Tot Freed  |\n",
      "|---------------------------------------------------------------------------|\n",
      "| Allocated memory      |    1060 MB |    1240 MB |  707927 MB |  706867 MB |\n",
      "|       from large pool |    1060 MB |    1240 MB |  707773 MB |  706713 MB |\n",
      "|       from small pool |       0 MB |       0 MB |     154 MB |     154 MB |\n",
      "|---------------------------------------------------------------------------|\n",
      "| Active memory         |    1060 MB |    1240 MB |  707927 MB |  706867 MB |\n",
      "|       from large pool |    1060 MB |    1240 MB |  707773 MB |  706713 MB |\n",
      "|       from small pool |       0 MB |       0 MB |     154 MB |     154 MB |\n",
      "|---------------------------------------------------------------------------|\n",
      "| GPU reserved memory   |    1284 MB |    1284 MB |    1284 MB |       0 B  |\n",
      "|       from large pool |    1282 MB |    1282 MB |    1282 MB |       0 B  |\n",
      "|       from small pool |       2 MB |       2 MB |       2 MB |       0 B  |\n",
      "|---------------------------------------------------------------------------|\n",
      "| Non-releasable memory |   56599 KB |  124123 KB |   36311 MB |   36255 MB |\n",
      "|       from large pool |   55040 KB |  122624 KB |   36152 MB |   36099 MB |\n",
      "|       from small pool |    1559 KB |    2045 KB |     158 MB |     156 MB |\n",
      "|---------------------------------------------------------------------------|\n",
      "| Allocations           |     201    |     213    |   40151    |   39950    |\n",
      "|       from large pool |      75    |      84    |   31435    |   31360    |\n",
      "|       from small pool |     126    |     133    |    8716    |    8590    |\n",
      "|---------------------------------------------------------------------------|\n",
      "| Active allocs         |     201    |     213    |   40151    |   39950    |\n",
      "|       from large pool |      75    |      84    |   31435    |   31360    |\n",
      "|       from small pool |     126    |     133    |    8716    |    8590    |\n",
      "|---------------------------------------------------------------------------|\n",
      "| GPU reserved segments |      29    |      29    |      29    |       0    |\n",
      "|       from large pool |      28    |      28    |      28    |       0    |\n",
      "|       from small pool |       1    |       1    |       1    |       0    |\n",
      "|---------------------------------------------------------------------------|\n",
      "| Non-releasable allocs |      20    |      29    |    4345    |    4325    |\n",
      "|       from large pool |      19    |      27    |     242    |     223    |\n",
      "|       from small pool |       1    |       5    |    4103    |    4102    |\n",
      "|---------------------------------------------------------------------------|\n",
      "| Oversize allocations  |       0    |       0    |       0    |       0    |\n",
      "|---------------------------------------------------------------------------|\n",
      "| Oversize GPU segments |       0    |       0    |       0    |       0    |\n",
      "|===========================================================================|\n",
      "\n"
     ]
    }
   ],
   "source": [
    "# torch.cuda.empty_cache()\n",
    "print(torch.cuda.memory_summary(device=None, abbreviated=False))"
   ]
  },
  {
   "cell_type": "code",
   "execution_count": null,
   "id": "0ef0f295",
   "metadata": {},
   "outputs": [],
   "source": []
  },
  {
   "cell_type": "markdown",
   "id": "edf06781",
   "metadata": {},
   "source": [
    "## Binary classification"
   ]
  },
  {
   "cell_type": "code",
   "execution_count": 591,
   "id": "8a3a4ebd",
   "metadata": {},
   "outputs": [
    {
     "data": {
      "text/html": [
       "<div>\n",
       "<style scoped>\n",
       "    .dataframe tbody tr th:only-of-type {\n",
       "        vertical-align: middle;\n",
       "    }\n",
       "\n",
       "    .dataframe tbody tr th {\n",
       "        vertical-align: top;\n",
       "    }\n",
       "\n",
       "    .dataframe thead th {\n",
       "        text-align: right;\n",
       "    }\n",
       "</style>\n",
       "<table border=\"1\" class=\"dataframe\">\n",
       "  <thead>\n",
       "    <tr style=\"text-align: right;\">\n",
       "      <th></th>\n",
       "      <th>clean_title</th>\n",
       "      <th>clean_comment</th>\n",
       "      <th>url</th>\n",
       "      <th>avg_score</th>\n",
       "      <th>target</th>\n",
       "      <th>extracted_features</th>\n",
       "      <th>pca_features</th>\n",
       "      <th>final_features</th>\n",
       "    </tr>\n",
       "  </thead>\n",
       "  <tbody>\n",
       "    <tr>\n",
       "      <th>0</th>\n",
       "      <td>Shashi Tharoor Set To Run For Congress Preside...</td>\n",
       "      <td>Extremely valid points but I believe he has th...</td>\n",
       "      <td>/r/india/comments/xif8wm/shashi_tharoor_set_to...</td>\n",
       "      <td>-1.0</td>\n",
       "      <td>-0.50</td>\n",
       "      <td>[0, 0, 0, 0, 0, 1, 0, 0, 0, 0, 0, 0, 0, 0, 0, ...</td>\n",
       "      <td>[-0.32363568075889, -0.15353927788846694, -0.0...</td>\n",
       "      <td>[-0.32363568075889, -0.15353927788846694, -0.0...</td>\n",
       "    </tr>\n",
       "    <tr>\n",
       "      <th>1</th>\n",
       "      <td>Yogi government puts Kolkata's image as part o...</td>\n",
       "      <td>Even if the ad was designed by the newspaper t...</td>\n",
       "      <td>/r/india/comments/pmn9o3/yogi_government_puts_...</td>\n",
       "      <td>-1.0</td>\n",
       "      <td>-0.50</td>\n",
       "      <td>[0, 0, 0, 0, 0, 0, 0, 0, 0, 0, 0, 0, 0, 0, 0, ...</td>\n",
       "      <td>[-0.32107817152084256, -0.14967493772672005, -...</td>\n",
       "      <td>[-0.32107817152084256, -0.14967493772672005, -...</td>\n",
       "    </tr>\n",
       "    <tr>\n",
       "      <th>2</th>\n",
       "      <td>An attempt to address the list of \"simplified\"...</td>\n",
       "      <td>Diverse population including Muslims. Welcomin...</td>\n",
       "      <td>/r/india/comments/ebdeup/an_attempt_to_address...</td>\n",
       "      <td>-1.5</td>\n",
       "      <td>-0.75</td>\n",
       "      <td>[0, 0, 0, 0, 0, 0, 0, 0, 0, 0, 0, 0, 0, 0, 0, ...</td>\n",
       "      <td>[-0.3048079754748911, -0.0773935407959237, 0.0...</td>\n",
       "      <td>[-0.3048079754748911, -0.0773935407959237, 0.0...</td>\n",
       "    </tr>\n",
       "    <tr>\n",
       "      <th>3</th>\n",
       "      <td>Just got abused on the train by a hyper nation...</td>\n",
       "      <td>Ohoo bahut bura laga ye sunke ki aap Undergarm...</td>\n",
       "      <td>/r/india/comments/rh2kcs/just_got_abused_on_th...</td>\n",
       "      <td>-2.0</td>\n",
       "      <td>-1.00</td>\n",
       "      <td>[0, 0, 0, 0, 0, 0, 0, 0, 0, 0, 0, 0, 0, 0, 0, ...</td>\n",
       "      <td>[-0.2416230086099659, -0.1861235931453066, -0....</td>\n",
       "      <td>[-0.2416230086099659, -0.1861235931453066, -0....</td>\n",
       "    </tr>\n",
       "    <tr>\n",
       "      <th>4</th>\n",
       "      <td>Defeat BJP Mission Uttar Pradesh,' Farmers to ...</td>\n",
       "      <td>Not really. As the country has seen for the la...</td>\n",
       "      <td>/r/india/comments/nmyqu4/defeat_bjp_mission_ut...</td>\n",
       "      <td>-2.0</td>\n",
       "      <td>-1.00</td>\n",
       "      <td>[0, 0, 0, 0, 0, 0, 0, 0, 0, 0, 0, 0, 0, 0, 0, ...</td>\n",
       "      <td>[0.5871359003061455, -0.3890972559305514, 0.24...</td>\n",
       "      <td>[0.5871359003061455, -0.3890972559305514, 0.24...</td>\n",
       "    </tr>\n",
       "    <tr>\n",
       "      <th>...</th>\n",
       "      <td>...</td>\n",
       "      <td>...</td>\n",
       "      <td>...</td>\n",
       "      <td>...</td>\n",
       "      <td>...</td>\n",
       "      <td>...</td>\n",
       "      <td>...</td>\n",
       "      <td>...</td>\n",
       "    </tr>\n",
       "    <tr>\n",
       "      <th>1188</th>\n",
       "      <td>BJP Gujarat 2022 Manifesto.</td>\n",
       "      <td>this is why bjp wins and would keep winning, r...</td>\n",
       "      <td>/r/IndiaSpeaks/comments/z5u6kf/bjp_gujarat_202...</td>\n",
       "      <td>2.0</td>\n",
       "      <td>1.00</td>\n",
       "      <td>[0, 0, 0, 0, 0, 0, 0, 0, 0, 0, 0, 0, 0, 0, 0, ...</td>\n",
       "      <td>[0.949176822028394, 0.09387855953069509, -0.30...</td>\n",
       "      <td>[0.949176822028394, 0.09387855953069509, -0.30...</td>\n",
       "    </tr>\n",
       "    <tr>\n",
       "      <th>1189</th>\n",
       "      <td>Kejriwal says The Kashmir Files is a jhoothi f...</td>\n",
       "      <td>Mujhe ghanta fark nahi padta. Ghabrana tujhe h...</td>\n",
       "      <td>/r/IndiaSpeaks/comments/tmhqqg/kejriwal_says_t...</td>\n",
       "      <td>1.5</td>\n",
       "      <td>0.75</td>\n",
       "      <td>[0, 0, 0, 0, 0, 0, 0, 0, 0, 0, 0, 0, 0, 0, 0, ...</td>\n",
       "      <td>[-0.3210781715208424, -0.1496749377267125, -0....</td>\n",
       "      <td>[-0.3210781715208424, -0.1496749377267125, -0....</td>\n",
       "    </tr>\n",
       "    <tr>\n",
       "      <th>1190</th>\n",
       "      <td>ResignModi trending in India on 1 with 200k tw...</td>\n",
       "      <td>Both parties are busy in just fighting and win...</td>\n",
       "      <td>/r/india/comments/n11sqc/resignmodi_trending_i...</td>\n",
       "      <td>1.0</td>\n",
       "      <td>0.50</td>\n",
       "      <td>[0, 0, 0, 0, 0, 0, 0, 0, 0, 0, 0, 0, 0, 0, 0, ...</td>\n",
       "      <td>[0.6198238961149848, -0.42189667711926293, 0.2...</td>\n",
       "      <td>[0.6198238961149848, -0.42189667711926293, 0.2...</td>\n",
       "    </tr>\n",
       "    <tr>\n",
       "      <th>1191</th>\n",
       "      <td>Suresh Chavanke Not a Dalit Sikh but a Christi...</td>\n",
       "      <td>My main point is that separatist movement isn'...</td>\n",
       "      <td>/r/IndiaSpeaks/comments/prtiwo/suresh_chavanke...</td>\n",
       "      <td>-1.0</td>\n",
       "      <td>-0.50</td>\n",
       "      <td>[0, 0, 0, 0, 0, 0, 0, 0, 0, 0, 0, 1, 0, 0, 0, ...</td>\n",
       "      <td>[-0.3674675478881404, 0.4480058220213268, 0.45...</td>\n",
       "      <td>[-0.3674675478881404, 0.4480058220213268, 0.45...</td>\n",
       "    </tr>\n",
       "    <tr>\n",
       "      <th>1192</th>\n",
       "      <td>Bahut jagah hai arey nahin jagah hai.. ft. CON...</td>\n",
       "      <td>when the opposition become so incompetent...Mo...</td>\n",
       "      <td>/r/IndiaSpeaks/comments/w8ib4s/bahut_jagah_hai...</td>\n",
       "      <td>1.5</td>\n",
       "      <td>0.75</td>\n",
       "      <td>[0, 0, 0, 0, 0, 0, 0, 0, 0, 0, 0, 0, 0, 0, 0, ...</td>\n",
       "      <td>[0.8477506649668328, 0.0013795525724525479, -0...</td>\n",
       "      <td>[0.8477506649668328, 0.0013795525724525479, -0...</td>\n",
       "    </tr>\n",
       "  </tbody>\n",
       "</table>\n",
       "<p>1193 rows × 8 columns</p>\n",
       "</div>"
      ],
      "text/plain": [
       "                                            clean_title  \\\n",
       "0     Shashi Tharoor Set To Run For Congress Preside...   \n",
       "1     Yogi government puts Kolkata's image as part o...   \n",
       "2     An attempt to address the list of \"simplified\"...   \n",
       "3     Just got abused on the train by a hyper nation...   \n",
       "4     Defeat BJP Mission Uttar Pradesh,' Farmers to ...   \n",
       "...                                                 ...   \n",
       "1188                        BJP Gujarat 2022 Manifesto.   \n",
       "1189  Kejriwal says The Kashmir Files is a jhoothi f...   \n",
       "1190  ResignModi trending in India on 1 with 200k tw...   \n",
       "1191  Suresh Chavanke Not a Dalit Sikh but a Christi...   \n",
       "1192  Bahut jagah hai arey nahin jagah hai.. ft. CON...   \n",
       "\n",
       "                                          clean_comment  \\\n",
       "0     Extremely valid points but I believe he has th...   \n",
       "1     Even if the ad was designed by the newspaper t...   \n",
       "2     Diverse population including Muslims. Welcomin...   \n",
       "3     Ohoo bahut bura laga ye sunke ki aap Undergarm...   \n",
       "4     Not really. As the country has seen for the la...   \n",
       "...                                                 ...   \n",
       "1188  this is why bjp wins and would keep winning, r...   \n",
       "1189  Mujhe ghanta fark nahi padta. Ghabrana tujhe h...   \n",
       "1190  Both parties are busy in just fighting and win...   \n",
       "1191  My main point is that separatist movement isn'...   \n",
       "1192  when the opposition become so incompetent...Mo...   \n",
       "\n",
       "                                                    url  avg_score  target  \\\n",
       "0     /r/india/comments/xif8wm/shashi_tharoor_set_to...       -1.0   -0.50   \n",
       "1     /r/india/comments/pmn9o3/yogi_government_puts_...       -1.0   -0.50   \n",
       "2     /r/india/comments/ebdeup/an_attempt_to_address...       -1.5   -0.75   \n",
       "3     /r/india/comments/rh2kcs/just_got_abused_on_th...       -2.0   -1.00   \n",
       "4     /r/india/comments/nmyqu4/defeat_bjp_mission_ut...       -2.0   -1.00   \n",
       "...                                                 ...        ...     ...   \n",
       "1188  /r/IndiaSpeaks/comments/z5u6kf/bjp_gujarat_202...        2.0    1.00   \n",
       "1189  /r/IndiaSpeaks/comments/tmhqqg/kejriwal_says_t...        1.5    0.75   \n",
       "1190  /r/india/comments/n11sqc/resignmodi_trending_i...        1.0    0.50   \n",
       "1191  /r/IndiaSpeaks/comments/prtiwo/suresh_chavanke...       -1.0   -0.50   \n",
       "1192  /r/IndiaSpeaks/comments/w8ib4s/bahut_jagah_hai...        1.5    0.75   \n",
       "\n",
       "                                     extracted_features  \\\n",
       "0     [0, 0, 0, 0, 0, 1, 0, 0, 0, 0, 0, 0, 0, 0, 0, ...   \n",
       "1     [0, 0, 0, 0, 0, 0, 0, 0, 0, 0, 0, 0, 0, 0, 0, ...   \n",
       "2     [0, 0, 0, 0, 0, 0, 0, 0, 0, 0, 0, 0, 0, 0, 0, ...   \n",
       "3     [0, 0, 0, 0, 0, 0, 0, 0, 0, 0, 0, 0, 0, 0, 0, ...   \n",
       "4     [0, 0, 0, 0, 0, 0, 0, 0, 0, 0, 0, 0, 0, 0, 0, ...   \n",
       "...                                                 ...   \n",
       "1188  [0, 0, 0, 0, 0, 0, 0, 0, 0, 0, 0, 0, 0, 0, 0, ...   \n",
       "1189  [0, 0, 0, 0, 0, 0, 0, 0, 0, 0, 0, 0, 0, 0, 0, ...   \n",
       "1190  [0, 0, 0, 0, 0, 0, 0, 0, 0, 0, 0, 0, 0, 0, 0, ...   \n",
       "1191  [0, 0, 0, 0, 0, 0, 0, 0, 0, 0, 0, 1, 0, 0, 0, ...   \n",
       "1192  [0, 0, 0, 0, 0, 0, 0, 0, 0, 0, 0, 0, 0, 0, 0, ...   \n",
       "\n",
       "                                           pca_features  \\\n",
       "0     [-0.32363568075889, -0.15353927788846694, -0.0...   \n",
       "1     [-0.32107817152084256, -0.14967493772672005, -...   \n",
       "2     [-0.3048079754748911, -0.0773935407959237, 0.0...   \n",
       "3     [-0.2416230086099659, -0.1861235931453066, -0....   \n",
       "4     [0.5871359003061455, -0.3890972559305514, 0.24...   \n",
       "...                                                 ...   \n",
       "1188  [0.949176822028394, 0.09387855953069509, -0.30...   \n",
       "1189  [-0.3210781715208424, -0.1496749377267125, -0....   \n",
       "1190  [0.6198238961149848, -0.42189667711926293, 0.2...   \n",
       "1191  [-0.3674675478881404, 0.4480058220213268, 0.45...   \n",
       "1192  [0.8477506649668328, 0.0013795525724525479, -0...   \n",
       "\n",
       "                                         final_features  \n",
       "0     [-0.32363568075889, -0.15353927788846694, -0.0...  \n",
       "1     [-0.32107817152084256, -0.14967493772672005, -...  \n",
       "2     [-0.3048079754748911, -0.0773935407959237, 0.0...  \n",
       "3     [-0.2416230086099659, -0.1861235931453066, -0....  \n",
       "4     [0.5871359003061455, -0.3890972559305514, 0.24...  \n",
       "...                                                 ...  \n",
       "1188  [0.949176822028394, 0.09387855953069509, -0.30...  \n",
       "1189  [-0.3210781715208424, -0.1496749377267125, -0....  \n",
       "1190  [0.6198238961149848, -0.42189667711926293, 0.2...  \n",
       "1191  [-0.3674675478881404, 0.4480058220213268, 0.45...  \n",
       "1192  [0.8477506649668328, 0.0013795525724525479, -0...  \n",
       "\n",
       "[1193 rows x 8 columns]"
      ]
     },
     "execution_count": 591,
     "metadata": {},
     "output_type": "execute_result"
    }
   ],
   "source": [
    "pca = PCA(n_components=8, random_state=123)\n",
    "feature_df = clean_df[clean_df['target']!=0].copy()\n",
    "feature_df.reset_index(inplace=True, drop=True)\n",
    "feature_df['extracted_features'] = feature_df.apply(lambda x: feature_extraction(x['clean_comment']), axis=1)\n",
    "feature_df['pca_features'] = pca.fit_transform(list(feature_df['extracted_features'])).tolist()\n",
    "feature_df['final_features'] = feature_df.apply(lambda x: add_sentiment_features(x['clean_comment'], x['pca_features']), axis=1)\n",
    "feature_df"
   ]
  },
  {
   "cell_type": "code",
   "execution_count": 592,
   "id": "fa0e9e8d",
   "metadata": {},
   "outputs": [
    {
     "data": {
      "text/plain": [
       "0.5564853556485355"
      ]
     },
     "execution_count": 592,
     "metadata": {},
     "output_type": "execute_result"
    }
   ],
   "source": [
    "X_train, X_test, y_train, y_test = train_test_split(list(feature_df['final_features']), [1 if x>0 else 0 for x in list(feature_df['target'])], test_size = 0.2, random_state = 123)\n",
    "xgb = xg.XGBClassifier(n_estimators=100, max_depth=10, learning_rate=0.1)\n",
    "xgb.fit(X_train, y_train)\n",
    "y_pred = xgb.predict(X_test)\n",
    "np.mean([int(y_test[i]==y_pred[i]) for i in range(len(y_test))])"
   ]
  },
  {
   "cell_type": "code",
   "execution_count": 593,
   "id": "2a7a5f41",
   "metadata": {},
   "outputs": [
    {
     "data": {
      "text/plain": [
       "array([[88, 34],\n",
       "       [72, 45]], dtype=int64)"
      ]
     },
     "execution_count": 593,
     "metadata": {},
     "output_type": "execute_result"
    }
   ],
   "source": [
    "confusion_matrix(y_test, y_pred)"
   ]
  },
  {
   "cell_type": "code",
   "execution_count": 594,
   "id": "c473c82d",
   "metadata": {},
   "outputs": [
    {
     "name": "stdout",
     "output_type": "stream",
     "text": [
      "              precision    recall  f1-score   support\n",
      "\n",
      "        Left       0.55      0.72      0.62       122\n",
      "       Right       0.57      0.38      0.46       117\n",
      "\n",
      "    accuracy                           0.56       239\n",
      "   macro avg       0.56      0.55      0.54       239\n",
      "weighted avg       0.56      0.56      0.54       239\n",
      "\n"
     ]
    }
   ],
   "source": [
    "print(classification_report(y_test, y_pred, target_names=['Left', 'Right']))"
   ]
  },
  {
   "cell_type": "code",
   "execution_count": null,
   "id": "d9607432",
   "metadata": {},
   "outputs": [],
   "source": []
  },
  {
   "cell_type": "code",
   "execution_count": null,
   "id": "b1b90629",
   "metadata": {},
   "outputs": [],
   "source": []
  },
  {
   "cell_type": "code",
   "execution_count": 603,
   "id": "2d095a9d",
   "metadata": {},
   "outputs": [
    {
     "name": "stdout",
     "output_type": "stream",
     "text": [
      "(1193, 142173)\n"
     ]
    }
   ],
   "source": [
    "feature_df = clean_df[clean_df['target']!=0].copy()\n",
    "feature_df.reset_index(inplace=True, drop=True)\n",
    "vectorizer = TfidfVectorizer(ngram_range=(2, 8), analyzer='char_wb')\n",
    "temp = vectorizer.fit_transform(list(feature_df['clean_comment']))\n",
    "print(temp.shape)"
   ]
  },
  {
   "cell_type": "code",
   "execution_count": 631,
   "id": "75e2a0ac",
   "metadata": {},
   "outputs": [
    {
     "data": {
      "text/plain": [
       "0.6317991631799164"
      ]
     },
     "execution_count": 631,
     "metadata": {},
     "output_type": "execute_result"
    }
   ],
   "source": [
    "X_train, X_test, y_train, y_test = train_test_split(temp, [(np.sign(x)+1)//2 for x in list(feature_df['target'])], test_size = 0.2, random_state = 123)\n",
    "xgb = xg.XGBClassifier(n_estimators=100, max_depth=4, learning_rate=0.5)\n",
    "xgb.fit(X_train, y_train)\n",
    "y_pred = xgb.predict(X_test)\n",
    "np.mean([int(y_test[i]==y_pred[i]) for i in range(len(y_test))])"
   ]
  },
  {
   "cell_type": "code",
   "execution_count": 611,
   "id": "9936322b",
   "metadata": {},
   "outputs": [
    {
     "data": {
      "text/plain": [
       "array([[93, 29],\n",
       "       [59, 58]], dtype=int64)"
      ]
     },
     "execution_count": 611,
     "metadata": {},
     "output_type": "execute_result"
    }
   ],
   "source": [
    "confusion_matrix(y_test, y_pred)"
   ]
  },
  {
   "cell_type": "code",
   "execution_count": 612,
   "id": "8aaa0a26",
   "metadata": {},
   "outputs": [
    {
     "name": "stdout",
     "output_type": "stream",
     "text": [
      "              precision    recall  f1-score   support\n",
      "\n",
      "        Left       0.61      0.76      0.68       122\n",
      "       Right       0.67      0.50      0.57       117\n",
      "\n",
      "    accuracy                           0.63       239\n",
      "   macro avg       0.64      0.63      0.62       239\n",
      "weighted avg       0.64      0.63      0.62       239\n",
      "\n"
     ]
    }
   ],
   "source": [
    "print(classification_report(y_test, y_pred, target_names=['Left', 'Right']))"
   ]
  },
  {
   "cell_type": "code",
   "execution_count": null,
   "id": "b11df7a8",
   "metadata": {},
   "outputs": [],
   "source": []
  },
  {
   "cell_type": "code",
   "execution_count": 613,
   "id": "1335e46f",
   "metadata": {},
   "outputs": [],
   "source": [
    "# y_bin1 = y_pred\n",
    "# y_bin2 = y_pred\n",
    "# y_bin3 = y_pred"
   ]
  },
  {
   "cell_type": "code",
   "execution_count": 614,
   "id": "24ff1bf1",
   "metadata": {},
   "outputs": [
    {
     "data": {
      "text/plain": [
       "0.5941422594142259"
      ]
     },
     "execution_count": 614,
     "metadata": {},
     "output_type": "execute_result"
    }
   ],
   "source": [
    "y_pred = ensemble([y_bin3, y_bin1, y_bin2])\n",
    "np.mean([int(y_test[i]==y_pred[i]) for i in range(len(y_test))])"
   ]
  },
  {
   "cell_type": "code",
   "execution_count": 615,
   "id": "7923cd60",
   "metadata": {},
   "outputs": [
    {
     "data": {
      "text/plain": [
       "array([[106,  16],\n",
       "       [ 81,  36]], dtype=int64)"
      ]
     },
     "execution_count": 615,
     "metadata": {},
     "output_type": "execute_result"
    }
   ],
   "source": [
    "confusion_matrix(y_test, y_pred)"
   ]
  },
  {
   "cell_type": "code",
   "execution_count": 616,
   "id": "6ce45dde",
   "metadata": {},
   "outputs": [
    {
     "name": "stdout",
     "output_type": "stream",
     "text": [
      "              precision    recall  f1-score   support\n",
      "\n",
      "        Left       0.57      0.87      0.69       122\n",
      "       Right       0.69      0.31      0.43       117\n",
      "\n",
      "    accuracy                           0.59       239\n",
      "   macro avg       0.63      0.59      0.56       239\n",
      "weighted avg       0.63      0.59      0.56       239\n",
      "\n"
     ]
    }
   ],
   "source": [
    "print(classification_report(y_test, y_pred, target_names=['Left', 'Right']))"
   ]
  },
  {
   "cell_type": "code",
   "execution_count": null,
   "id": "29164946",
   "metadata": {},
   "outputs": [],
   "source": []
  },
  {
   "cell_type": "markdown",
   "id": "e6516960",
   "metadata": {},
   "source": [
    "## Data Augmentation"
   ]
  },
  {
   "cell_type": "code",
   "execution_count": 741,
   "id": "b8f26117",
   "metadata": {},
   "outputs": [
    {
     "data": {
      "text/plain": [
       "({'adani',\n",
       "  'aiadmk',\n",
       "  'amit',\n",
       "  'authority',\n",
       "  'bhajpa',\n",
       "  'bhakt',\n",
       "  'bharatiya',\n",
       "  'bjp',\n",
       "  'brahman',\n",
       "  'brahmin',\n",
       "  'caa',\n",
       "  'conservative',\n",
       "  'death penalty',\n",
       "  'democratic alliance',\n",
       "  'dharm',\n",
       "  'duty',\n",
       "  'fascist',\n",
       "  'hierarchy',\n",
       "  'hindu',\n",
       "  'hindu majority',\n",
       "  'hindu pride',\n",
       "  'hindu rashtra',\n",
       "  'hindu unity',\n",
       "  'hindutva',\n",
       "  'imperialist',\n",
       "  'islamophobia',\n",
       "  'jai shri ram',\n",
       "  'janata',\n",
       "  'janta dal',\n",
       "  'mandir',\n",
       "  'mns',\n",
       "  'modi',\n",
       "  'monarchist',\n",
       "  'narendra',\n",
       "  'nationalism',\n",
       "  'nationalist',\n",
       "  'nda',\n",
       "  'neoconservative',\n",
       "  'nrc',\n",
       "  'order',\n",
       "  'pm cares',\n",
       "  'pmcares',\n",
       "  'ram',\n",
       "  'ramayan',\n",
       "  'reaction',\n",
       "  'reactionaries',\n",
       "  'religion',\n",
       "  'right wing',\n",
       "  'right-libertarian',\n",
       "  'rss',\n",
       "  'rw',\n",
       "  'sanatan',\n",
       "  'sangh',\n",
       "  'sanghi',\n",
       "  'shah',\n",
       "  'shiv sena',\n",
       "  'smriti irani',\n",
       "  'tradition',\n",
       "  'traditional',\n",
       "  'traditionalist',\n",
       "  'valmiki',\n",
       "  'yogi'},\n",
       " {'aadmi',\n",
       "  'aam',\n",
       "  'aap',\n",
       "  'abrahamic',\n",
       "  'anarchist',\n",
       "  'arvind',\n",
       "  'christian',\n",
       "  'commies',\n",
       "  'communist',\n",
       "  'congress',\n",
       "  'cpi',\n",
       "  'democratic socialist',\n",
       "  'equality',\n",
       "  'fraternity',\n",
       "  'freedom',\n",
       "  'gandhi',\n",
       "  'gay',\n",
       "  'hinduphobia',\n",
       "  'inclusivity',\n",
       "  'indira',\n",
       "  'internationalism',\n",
       "  'kejriwal',\n",
       "  'left wing',\n",
       "  'left-libertarian',\n",
       "  'leftists',\n",
       "  'lesbian',\n",
       "  'lgbtq',\n",
       "  'libbies',\n",
       "  'libby',\n",
       "  'liberal',\n",
       "  'libtard',\n",
       "  'lw',\n",
       "  'mamata',\n",
       "  'masjid',\n",
       "  'minorities',\n",
       "  'minority',\n",
       "  'muslim',\n",
       "  'pappu',\n",
       "  'progress',\n",
       "  'progressive',\n",
       "  'protectionism',\n",
       "  'rahul',\n",
       "  'reform',\n",
       "  'reservation',\n",
       "  'rg',\n",
       "  'rights',\n",
       "  'secular',\n",
       "  'shashi',\n",
       "  'sjw',\n",
       "  'social',\n",
       "  'social democrat',\n",
       "  'socialist',\n",
       "  'tharoor',\n",
       "  'trans',\n",
       "  'transgender',\n",
       "  'upa',\n",
       "  'welfare',\n",
       "  'western',\n",
       "  'yatra'})"
      ]
     },
     "execution_count": 741,
     "metadata": {},
     "output_type": "execute_result"
    }
   ],
   "source": [
    "right_terms, left_terms"
   ]
  },
  {
   "cell_type": "code",
   "execution_count": 742,
   "id": "1589c939",
   "metadata": {},
   "outputs": [],
   "source": [
    "list_right_terms = list(right_terms)\n",
    "list_left_terms = list(left_terms)\n",
    "full_terms = left_terms.union(right_terms)"
   ]
  },
  {
   "cell_type": "code",
   "execution_count": 803,
   "id": "58dcbe6e",
   "metadata": {},
   "outputs": [],
   "source": [
    "# idea is to find all occurences of RW terms and swap them with random LW ones and vice versa to improve tf-idf detection\n",
    "\n",
    "def random_swap(term):\n",
    "    if term in left_terms:\n",
    "        # LW term being swapped\n",
    "        return np.random.choice(list_right_terms)\n",
    "    elif term in right_terms:\n",
    "        # RW term being swapped\n",
    "        return np.random.choice(list_left_terms)\n",
    "    print(f\"Error with: {term}\")\n",
    "\n",
    "def swap_terms(text):\n",
    "    term_match = re.compile('|'.join([r'\\b'+t for t in full_terms]))\n",
    "    \n",
    "    temp = term_match.sub(lambda m: random_swap(m.group()), text.lower())\n",
    "    return temp"
   ]
  },
  {
   "cell_type": "code",
   "execution_count": 687,
   "id": "9c63f2a3",
   "metadata": {},
   "outputs": [
    {
     "data": {
      "text/plain": [
       "'National Register of Citizens for Assam The National Register of Citizens NRC is a registry maintained by the Government of India containing names certain relevant information for identification of Indian citizens of the Assam state. The register was specifically made for Assam state. However, on 20th November 2019, Home Minister Amit Shah declared during a parliamentary session that the register would be extended to the entire country. The register was first prepared after the 1951 Census of India and since then it has not been updated until recently.The North East Indian state of Assam has become the first state in India where the updating of the NRC is being taken up to include the names of those persons whose names appeared in the NRC of 1951 and are still alive and or of their presently living descendants who have permanent residence within the state. PM Exclude me Exclude from subreddit FAQ Information Source Downvote to remove v0.28'"
      ]
     },
     "execution_count": 687,
     "metadata": {},
     "output_type": "execute_result"
    }
   ],
   "source": [
    "clean_df['clean_comment'][837]"
   ]
  },
  {
   "cell_type": "code",
   "execution_count": 804,
   "id": "be6dccd4",
   "metadata": {},
   "outputs": [
    {
     "data": {
      "text/plain": [
       "'national register of citizens for assam the national register of citizens cpi is a registry maintained by the government of india containing names certain relevant information for identification of indian citizens of the assam state. the register was specifically made for assam state. however, on 20th november 2019, home minister minorities freedom declared during a parliamentary session that the register would be extended to the entire country. the register was first prepared after the 1951 census of india and since then it has not been updated until recently.the north east indian state of assam has become the first state in india where the updating of the equality is being taken up to include the names of those persons whose names appeared in the welfare of 1951 and are still alive and or of their presently living descendants who have permanent residence within the state. pm exclude me exclude from subreddit faq information source downvote to remove v0.28'"
      ]
     },
     "execution_count": 804,
     "metadata": {},
     "output_type": "execute_result"
    }
   ],
   "source": [
    "swap_terms(clean_df['clean_comment'][837])"
   ]
  },
  {
   "cell_type": "code",
   "execution_count": null,
   "id": "f735b538",
   "metadata": {},
   "outputs": [],
   "source": []
  },
  {
   "cell_type": "code",
   "execution_count": 805,
   "id": "bb76c8a1",
   "metadata": {},
   "outputs": [
    {
     "data": {
      "text/html": [
       "<div>\n",
       "<style scoped>\n",
       "    .dataframe tbody tr th:only-of-type {\n",
       "        vertical-align: middle;\n",
       "    }\n",
       "\n",
       "    .dataframe tbody tr th {\n",
       "        vertical-align: top;\n",
       "    }\n",
       "\n",
       "    .dataframe thead th {\n",
       "        text-align: right;\n",
       "    }\n",
       "</style>\n",
       "<table border=\"1\" class=\"dataframe\">\n",
       "  <thead>\n",
       "    <tr style=\"text-align: right;\">\n",
       "      <th></th>\n",
       "      <th>clean_comment</th>\n",
       "      <th>target</th>\n",
       "    </tr>\n",
       "  </thead>\n",
       "  <tbody>\n",
       "    <tr>\n",
       "      <th>0</th>\n",
       "      <td>extremely valid points but i believe he has th...</td>\n",
       "      <td>-0.50</td>\n",
       "    </tr>\n",
       "    <tr>\n",
       "      <th>1</th>\n",
       "      <td>extremely valid points but i believe he has th...</td>\n",
       "      <td>-0.50</td>\n",
       "    </tr>\n",
       "    <tr>\n",
       "      <th>2</th>\n",
       "      <td>even if the ad was designed by the newspaper t...</td>\n",
       "      <td>-0.50</td>\n",
       "    </tr>\n",
       "    <tr>\n",
       "      <th>3</th>\n",
       "      <td>even if the ad was designed by the newspaper t...</td>\n",
       "      <td>-0.50</td>\n",
       "    </tr>\n",
       "    <tr>\n",
       "      <th>4</th>\n",
       "      <td>diverse population including muslims. welcomin...</td>\n",
       "      <td>-0.75</td>\n",
       "    </tr>\n",
       "    <tr>\n",
       "      <th>5</th>\n",
       "      <td>diverse population including bhakts. welcoming...</td>\n",
       "      <td>-0.75</td>\n",
       "    </tr>\n",
       "    <tr>\n",
       "      <th>6</th>\n",
       "      <td>what a joke. they didn't create any propaganda...</td>\n",
       "      <td>0.00</td>\n",
       "    </tr>\n",
       "    <tr>\n",
       "      <th>7</th>\n",
       "      <td>what a joke. they didn't create any propaganda...</td>\n",
       "      <td>0.00</td>\n",
       "    </tr>\n",
       "    <tr>\n",
       "      <th>8</th>\n",
       "      <td>ohoo bahut bura laga ye sunke ki aap undergarm...</td>\n",
       "      <td>-1.00</td>\n",
       "    </tr>\n",
       "    <tr>\n",
       "      <th>9</th>\n",
       "      <td>ohoo bahut bura laga ye sunke ki right wing un...</td>\n",
       "      <td>-1.00</td>\n",
       "    </tr>\n",
       "  </tbody>\n",
       "</table>\n",
       "</div>"
      ],
      "text/plain": [
       "                                       clean_comment  target\n",
       "0  extremely valid points but i believe he has th...   -0.50\n",
       "1  extremely valid points but i believe he has th...   -0.50\n",
       "2  even if the ad was designed by the newspaper t...   -0.50\n",
       "3  even if the ad was designed by the newspaper t...   -0.50\n",
       "4  diverse population including muslims. welcomin...   -0.75\n",
       "5  diverse population including bhakts. welcoming...   -0.75\n",
       "6  what a joke. they didn't create any propaganda...    0.00\n",
       "7  what a joke. they didn't create any propaganda...    0.00\n",
       "8  ohoo bahut bura laga ye sunke ki aap undergarm...   -1.00\n",
       "9  ohoo bahut bura laga ye sunke ki right wing un...   -1.00"
      ]
     },
     "execution_count": 805,
     "metadata": {},
     "output_type": "execute_result"
    }
   ],
   "source": [
    "aug_records = []\n",
    "for i, row in clean_df.iterrows():\n",
    "    aug_records.append({'clean_comment':row['clean_comment'].lower(), 'target':row['target']})\n",
    "    # adding in record with swapped terms and opposite score\n",
    "    aug_records.append({'clean_comment':swap_terms(row['clean_comment']), 'target':row['target']})\n",
    "aug_df = pd.DataFrame.from_records(aug_records)\n",
    "aug_df[:10]"
   ]
  },
  {
   "cell_type": "code",
   "execution_count": 835,
   "id": "c98be805",
   "metadata": {},
   "outputs": [
    {
     "name": "stdout",
     "output_type": "stream",
     "text": [
      "(4088, 100281)\n"
     ]
    }
   ],
   "source": [
    "vectorizer = TfidfVectorizer(ngram_range=(1, 2), analyzer='word')\n",
    "temp = vectorizer.fit_transform(list(aug_df['clean_comment']))\n",
    "print(temp.shape)"
   ]
  },
  {
   "cell_type": "code",
   "execution_count": 836,
   "id": "23e1cbe5",
   "metadata": {},
   "outputs": [
    {
     "data": {
      "text/plain": [
       "0.4706601466992665"
      ]
     },
     "execution_count": 836,
     "metadata": {},
     "output_type": "execute_result"
    }
   ],
   "source": [
    "# X_train, X_test, y_train, y_test = train_test_split(temp, [np.sign(x)+1 for x in list(aug_df['target'])], test_size = 0.2, random_state = 123)\n",
    "X_train, X_test, y_train, y_test = train_test_split(temp, [np.sign(x)+1 for x in list(aug_df['target'])], test_size = 0.2, shuffle=False)\n",
    "xgb = xg.XGBClassifier(n_estimators=100, max_depth=6, learning_rate=0.1)\n",
    "xgb.fit(X_train, y_train)\n",
    "y_pred = xgb.predict(X_test)\n",
    "np.mean([int(y_test[i]==y_pred[i]) for i in range(len(y_test))])"
   ]
  },
  {
   "cell_type": "code",
   "execution_count": 827,
   "id": "1118dc48",
   "metadata": {},
   "outputs": [
    {
     "data": {
      "text/plain": [
       "array([[ 96, 170,  50],\n",
       "       [ 53, 236,  39],\n",
       "       [ 45,  76,  53]], dtype=int64)"
      ]
     },
     "execution_count": 827,
     "metadata": {},
     "output_type": "execute_result"
    }
   ],
   "source": [
    "confusion_matrix(y_test, y_pred)"
   ]
  },
  {
   "cell_type": "code",
   "execution_count": 828,
   "id": "35155518",
   "metadata": {},
   "outputs": [
    {
     "name": "stdout",
     "output_type": "stream",
     "text": [
      "              precision    recall  f1-score   support\n",
      "\n",
      "        Left       0.49      0.30      0.38       316\n",
      "     Neutral       0.49      0.72      0.58       328\n",
      "       Right       0.37      0.30      0.34       174\n",
      "\n",
      "    accuracy                           0.47       818\n",
      "   macro avg       0.45      0.44      0.43       818\n",
      "weighted avg       0.47      0.47      0.45       818\n",
      "\n"
     ]
    }
   ],
   "source": [
    "print(classification_report(y_test, y_pred, target_names=['Left', 'Neutral', 'Right']))"
   ]
  },
  {
   "cell_type": "code",
   "execution_count": null,
   "id": "6f298539",
   "metadata": {},
   "outputs": [],
   "source": []
  }
 ],
 "metadata": {
  "kernelspec": {
   "display_name": "Python 3",
   "language": "python",
   "name": "python3"
  },
  "language_info": {
   "codemirror_mode": {
    "name": "ipython",
    "version": 3
   },
   "file_extension": ".py",
   "mimetype": "text/x-python",
   "name": "python",
   "nbconvert_exporter": "python",
   "pygments_lexer": "ipython3",
   "version": "3.8.8"
  }
 },
 "nbformat": 4,
 "nbformat_minor": 5
}
