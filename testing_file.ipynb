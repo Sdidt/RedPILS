{
 "cells": [
  {
   "cell_type": "code",
   "execution_count": 4,
   "metadata": {},
   "outputs": [],
   "source": [
    "import pickle\n",
    "import json"
   ]
  },
  {
   "cell_type": "code",
   "execution_count": 5,
   "metadata": {},
   "outputs": [],
   "source": [
    "def read_data(output_filename):\n",
    "    try:\n",
    "        print(\"File exists!\")\n",
    "        with open(\"outputs/{}.txt\".format(output_filename), \"rb\") as f:\n",
    "            sub_data = pickle.load(f)\n",
    "    except: \n",
    "        sub_data = {}\n",
    "    return sub_data"
   ]
  },
  {
   "cell_type": "code",
   "execution_count": 7,
   "metadata": {},
   "outputs": [
    {
     "name": "stdout",
     "output_type": "stream",
     "text": [
      "File exists!\n"
     ]
    }
   ],
   "source": [
    "data_dict = read_data(\"solr_integration_test\")"
   ]
  },
  {
   "cell_type": "code",
   "execution_count": 5,
   "metadata": {},
   "outputs": [
    {
     "data": {
      "text/plain": [
       "dict_keys(['10ebws9', '1157g5q', '115b77f', '113k70i', '10lnp4e', 'zpre2v', '1100quq', '114u6ta', 'zb6gwd', '105e5re', '10xzzzz', '10loenb', '10bpft8', 'zeuath', 'zc09r1', '108dtcv', '1123bva', '10o3thw', '114an53', '112kmg2', '10o933z', '10qtwfo', '10bkl47', 'zw9bvz'])"
      ]
     },
     "execution_count": 5,
     "metadata": {},
     "output_type": "execute_result"
    }
   ],
   "source": [
    "data_dict['indiaspeaks'].keys()"
   ]
  },
  {
   "cell_type": "code",
   "execution_count": 8,
   "metadata": {},
   "outputs": [
    {
     "data": {
      "text/plain": [
       "dict_keys(['title', 'comments'])"
      ]
     },
     "execution_count": 8,
     "metadata": {},
     "output_type": "execute_result"
    }
   ],
   "source": [
    "data_dict['indiaspeaks']['10ebws9'].keys()"
   ]
  },
  {
   "cell_type": "code",
   "execution_count": 14,
   "metadata": {},
   "outputs": [
    {
     "data": {
      "text/plain": [
       "{'id': 'j4pxdar',\n",
       " 'comment': b'Namaskaram /u/EclecticIndividual99, Thank you for your submission. Please provide a source for the image / video (if not a direct link submission). We would really appreciate it if you could mention the source as a reply to this comment! If you have already provided the source or if it is an OC post, please ignore this message.  Thank you.\\n\\n\\n*I am a bot, and this action was performed automatically. Please [contact the moderators of this subreddit](/message/compose/?to=/r/IndiaSpeaks) if you have any questions or concerns.*',\n",
       " 'timestamp': 1673961138.0,\n",
       " 'url': '/r/IndiaSpeaks/comments/10ebws9/old_2010_shahrukh_khan_srk_on_pakistan_its_a/j4pxdar/',\n",
       " 'score': 1,\n",
       " 'redditor_id': '6l4z3'}"
      ]
     },
     "execution_count": 14,
     "metadata": {},
     "output_type": "execute_result"
    }
   ],
   "source": [
    "data_dict['indiaspeaks']['10ebws9']['comments'][0].__dict__"
   ]
  },
  {
   "cell_type": "code",
   "execution_count": 17,
   "metadata": {},
   "outputs": [
    {
     "data": {
      "text/plain": [
       "{'id': '',\n",
       " 'comment': '',\n",
       " 'timestamp': '',\n",
       " 'url': '',\n",
       " 'score': '',\n",
       " 'redditor_id': ''}"
      ]
     },
     "execution_count": 17,
     "metadata": {},
     "output_type": "execute_result"
    }
   ],
   "source": [
    "from models.comment import Comment\n",
    "\n",
    "new_comment = Comment('','','','','','')\n",
    "new_comment.__dict__"
   ]
  },
  {
   "cell_type": "code",
   "execution_count": 18,
   "metadata": {},
   "outputs": [
    {
     "name": "stdout",
     "output_type": "stream",
     "text": [
      "File exists!\n"
     ]
    }
   ],
   "source": [
    "output_test = read_data('output_test')"
   ]
  },
  {
   "cell_type": "code",
   "execution_count": 23,
   "metadata": {},
   "outputs": [
    {
     "data": {
      "text/plain": [
       "{'id': 'hhw48tl',\n",
       " 'comment': b'Namaskaram /u/StarsAtLadakh, Thank you for your submission. Please provide a source for the image / video (if not a direct link submission). We would really appreciate it if you could mention the source as a reply to this comment! If you have already provided the source or if it is an OC post, please ignore this message.  Thank you.\\n\\n\\n*I am a bot, and this action was performed automatically. Please [contact the moderators of this subreddit](/message/compose/?to=/r/IndiaSpeaks) if you have any questions or concerns.*',\n",
       " 'timestamp': 1635100433.0,\n",
       " 'url': '/r/IndiaSpeaks/comments/qey3ba/pak_defeated_india_kuffar_to_toot_gaya_yes_its/hhw48tl/',\n",
       " 'score': 1,\n",
       " 'redditor_id': '6l4z3'}"
      ]
     },
     "execution_count": 23,
     "metadata": {},
     "output_type": "execute_result"
    }
   ],
   "source": [
    "output_test['indiaspeaks']['qey3ba']['comments'][0].__dict__"
   ]
  },
  {
   "cell_type": "code",
   "execution_count": 37,
   "metadata": {},
   "outputs": [],
   "source": [
    "import datetime\n",
    "def convert_to_datetine(timestamp):\n",
    "    dt_object = datetime.datetime.fromtimestamp(timestamp)\n",
    "    iso_format = dt_object.isoformat()\n",
    "    return iso_format"
   ]
  },
  {
   "cell_type": "code",
   "execution_count": 41,
   "metadata": {},
   "outputs": [],
   "source": [
    "json_ex = []\n",
    "\n",
    "for key in data_dict:\n",
    "    new_dict = {'subreddit':key}\n",
    "    for post_key in data_dict[key]:\n",
    "        new_dict['post_id'] = post_key\n",
    "        for comments in data_dict[key][post_key]['comments']:\n",
    "            new_dict.update(comments.__dict__)\n",
    "            new_dict['comment'] = new_dict['comment'].decode('utf-8')\n",
    "            new_dict['timestamp'] = convert_to_datetine(new_dict['timestamp'])\n",
    "            new_dict['comment_id'] = new_dict.pop('id')\n",
    "            json_ex.append(new_dict)"
   ]
  },
  {
   "cell_type": "code",
   "execution_count": 42,
   "metadata": {},
   "outputs": [
    {
     "data": {
      "text/plain": [
       "{'subreddit': 'indiaspeaks',\n",
       " 'post_id': 'zw9bvz',\n",
       " 'comment': 'Part of the reason why Twitter will never be banned by the current administration. Its a tool of the US state and any obstruction to it will be seen as an attack on the US security apparatus.',\n",
       " 'timestamp': '2022-12-28T02:54:45',\n",
       " 'url': '/r/IndiaSpeaks/comments/zw9bvz/twitter_files_90_reveals_a_web_of_social_media/j1vkv1r/',\n",
       " 'score': 5,\n",
       " 'redditor_id': 'j88y0',\n",
       " 'comment_id': 'j1vkv1r'}"
      ]
     },
     "execution_count": 42,
     "metadata": {},
     "output_type": "execute_result"
    }
   ],
   "source": [
    "json_ex[0]"
   ]
  },
  {
   "cell_type": "code",
   "execution_count": 43,
   "metadata": {},
   "outputs": [],
   "source": [
    "with open('./outputs/test3_json.json', 'w') as f:\n",
    "    json.dump(json_ex , f)"
   ]
  },
  {
   "cell_type": "code",
   "execution_count": 1,
   "metadata": {},
   "outputs": [],
   "source": [
    "keywords_dict = [{'keyword':'BJP'}]"
   ]
  },
  {
   "cell_type": "code",
   "execution_count": null,
   "metadata": {},
   "outputs": [],
   "source": []
  }
 ],
 "metadata": {
  "kernelspec": {
   "display_name": "redpils",
   "language": "python",
   "name": "python3"
  },
  "language_info": {
   "codemirror_mode": {
    "name": "ipython",
    "version": 3
   },
   "file_extension": ".py",
   "mimetype": "text/x-python",
   "name": "python",
   "nbconvert_exporter": "python",
   "pygments_lexer": "ipython3",
   "version": "3.9.6"
  },
  "orig_nbformat": 4,
  "vscode": {
   "interpreter": {
    "hash": "f653be1f9dc44d4a1bed5de5858474e8d621ba26ea74c72bb6394113d9406342"
   }
  }
 },
 "nbformat": 4,
 "nbformat_minor": 2
}
